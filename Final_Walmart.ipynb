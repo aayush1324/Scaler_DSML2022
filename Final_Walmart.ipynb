{
  "nbformat": 4,
  "nbformat_minor": 0,
  "metadata": {
    "colab": {
      "provenance": [],
      "collapsed_sections": [
        "E203uuvefGuu",
        "669rppxciBM7",
        "xMv58Qs7vWiT",
        "rPMlaDEUv7eF",
        "AM2JxletD5bT",
        "3z6bIL6LrAMM",
        "pbdFA8Q4wXJs",
        "EfsZQlGc5-6c",
        "bk_6JKeE7Y4j",
        "JgD3c7LPfKR-",
        "Ve5DMHf_JEb4",
        "codWgGlB-TX8",
        "ackfyVxr-7vK",
        "4yJMS-TJwrtK",
        "xvbt5l63xTSP",
        "0HhRFVUEAdW3",
        "vdbyfaVe6ob5",
        "YVd7ZbCH7Rtw",
        "hNWWULhv7vNe",
        "4Y1ZHhFZ8LAH",
        "CUdzXeDO-uiK",
        "YHnQULtGQh0O",
        "AzdoIq-dmnyd",
        "lX0BwmWSmqBa",
        "qbpZWMH9cDU6"
      ],
      "authorship_tag": "ABX9TyMYlklLQRgzo/s+vvh8OAiV",
      "include_colab_link": true
    },
    "kernelspec": {
      "name": "python3",
      "display_name": "Python 3"
    },
    "language_info": {
      "name": "python"
    }
  },
  "cells": [
    {
      "cell_type": "markdown",
      "metadata": {
        "id": "view-in-github",
        "colab_type": "text"
      },
      "source": [
        "<a href=\"https://colab.research.google.com/github/aayush1324/Scaler_DSML2022/blob/main/Final_Walmart.ipynb\" target=\"_parent\"><img src=\"https://colab.research.google.com/assets/colab-badge.svg\" alt=\"Open In Colab\"/></a>"
      ]
    },
    {
      "cell_type": "code",
      "execution_count": 2,
      "metadata": {
        "id": "g0v1AxCZepk0"
      },
      "outputs": [],
      "source": [
        "from scipy.stats import binom,norm,expon,poisson"
      ]
    },
    {
      "cell_type": "code",
      "execution_count": 3,
      "metadata": {
        "id": "3C9P5e4xCVyT"
      },
      "outputs": [],
      "source": [
        "import numpy as np\n",
        "import pandas as pd\n",
        "import seaborn as sns\n",
        "import matplotlib.pyplot as plt"
      ]
    },
    {
      "cell_type": "code",
      "source": [
        "! wget \"https://d2beiqkhq929f0.cloudfront.net/public_assets/assets/000/001/293/original/walmart_data.csv?1641285094\" -O Walmart.csv"
      ],
      "metadata": {
        "colab": {
          "base_uri": "https://localhost:8080/"
        },
        "id": "qJeIM0l2eseC",
        "outputId": "f36a898f-d26c-462b-d9f2-6c6fdaee031b"
      },
      "execution_count": 4,
      "outputs": [
        {
          "output_type": "stream",
          "name": "stdout",
          "text": [
            "--2022-10-31 06:21:38--  https://d2beiqkhq929f0.cloudfront.net/public_assets/assets/000/001/293/original/walmart_data.csv?1641285094\n",
            "Resolving d2beiqkhq929f0.cloudfront.net (d2beiqkhq929f0.cloudfront.net)... 13.226.251.17, 13.226.251.107, 13.226.251.24, ...\n",
            "Connecting to d2beiqkhq929f0.cloudfront.net (d2beiqkhq929f0.cloudfront.net)|13.226.251.17|:443... connected.\n",
            "HTTP request sent, awaiting response... 200 OK\n",
            "Length: 23027994 (22M) [text/plain]\n",
            "Saving to: ‘Walmart.csv’\n",
            "\n",
            "Walmart.csv         100%[===================>]  21.96M  69.0MB/s    in 0.3s    \n",
            "\n",
            "2022-10-31 06:21:39 (69.0 MB/s) - ‘Walmart.csv’ saved [23027994/23027994]\n",
            "\n"
          ]
        }
      ]
    },
    {
      "cell_type": "code",
      "source": [
        "df = pd.read_csv(\"Walmart.csv\")"
      ],
      "metadata": {
        "id": "6LYXIXMOeyu0"
      },
      "execution_count": 5,
      "outputs": []
    },
    {
      "cell_type": "code",
      "source": [
        "df.head()"
      ],
      "metadata": {
        "colab": {
          "base_uri": "https://localhost:8080/",
          "height": 206
        },
        "id": "gpWvzB-2e1p8",
        "outputId": "c666cf1f-88d0-47bb-d67b-1d8102f175d8"
      },
      "execution_count": 6,
      "outputs": [
        {
          "output_type": "execute_result",
          "data": {
            "text/plain": [
              "   User_ID Product_ID Gender   Age  Occupation City_Category  \\\n",
              "0  1000001  P00069042      F  0-17          10             A   \n",
              "1  1000001  P00248942      F  0-17          10             A   \n",
              "2  1000001  P00087842      F  0-17          10             A   \n",
              "3  1000001  P00085442      F  0-17          10             A   \n",
              "4  1000002  P00285442      M   55+          16             C   \n",
              "\n",
              "  Stay_In_Current_City_Years  Marital_Status  Product_Category  Purchase  \n",
              "0                          2               0                 3      8370  \n",
              "1                          2               0                 1     15200  \n",
              "2                          2               0                12      1422  \n",
              "3                          2               0                12      1057  \n",
              "4                         4+               0                 8      7969  "
            ],
            "text/html": [
              "\n",
              "  <div id=\"df-baf743e3-c2fb-4943-9ad1-bf778498b0ef\">\n",
              "    <div class=\"colab-df-container\">\n",
              "      <div>\n",
              "<style scoped>\n",
              "    .dataframe tbody tr th:only-of-type {\n",
              "        vertical-align: middle;\n",
              "    }\n",
              "\n",
              "    .dataframe tbody tr th {\n",
              "        vertical-align: top;\n",
              "    }\n",
              "\n",
              "    .dataframe thead th {\n",
              "        text-align: right;\n",
              "    }\n",
              "</style>\n",
              "<table border=\"1\" class=\"dataframe\">\n",
              "  <thead>\n",
              "    <tr style=\"text-align: right;\">\n",
              "      <th></th>\n",
              "      <th>User_ID</th>\n",
              "      <th>Product_ID</th>\n",
              "      <th>Gender</th>\n",
              "      <th>Age</th>\n",
              "      <th>Occupation</th>\n",
              "      <th>City_Category</th>\n",
              "      <th>Stay_In_Current_City_Years</th>\n",
              "      <th>Marital_Status</th>\n",
              "      <th>Product_Category</th>\n",
              "      <th>Purchase</th>\n",
              "    </tr>\n",
              "  </thead>\n",
              "  <tbody>\n",
              "    <tr>\n",
              "      <th>0</th>\n",
              "      <td>1000001</td>\n",
              "      <td>P00069042</td>\n",
              "      <td>F</td>\n",
              "      <td>0-17</td>\n",
              "      <td>10</td>\n",
              "      <td>A</td>\n",
              "      <td>2</td>\n",
              "      <td>0</td>\n",
              "      <td>3</td>\n",
              "      <td>8370</td>\n",
              "    </tr>\n",
              "    <tr>\n",
              "      <th>1</th>\n",
              "      <td>1000001</td>\n",
              "      <td>P00248942</td>\n",
              "      <td>F</td>\n",
              "      <td>0-17</td>\n",
              "      <td>10</td>\n",
              "      <td>A</td>\n",
              "      <td>2</td>\n",
              "      <td>0</td>\n",
              "      <td>1</td>\n",
              "      <td>15200</td>\n",
              "    </tr>\n",
              "    <tr>\n",
              "      <th>2</th>\n",
              "      <td>1000001</td>\n",
              "      <td>P00087842</td>\n",
              "      <td>F</td>\n",
              "      <td>0-17</td>\n",
              "      <td>10</td>\n",
              "      <td>A</td>\n",
              "      <td>2</td>\n",
              "      <td>0</td>\n",
              "      <td>12</td>\n",
              "      <td>1422</td>\n",
              "    </tr>\n",
              "    <tr>\n",
              "      <th>3</th>\n",
              "      <td>1000001</td>\n",
              "      <td>P00085442</td>\n",
              "      <td>F</td>\n",
              "      <td>0-17</td>\n",
              "      <td>10</td>\n",
              "      <td>A</td>\n",
              "      <td>2</td>\n",
              "      <td>0</td>\n",
              "      <td>12</td>\n",
              "      <td>1057</td>\n",
              "    </tr>\n",
              "    <tr>\n",
              "      <th>4</th>\n",
              "      <td>1000002</td>\n",
              "      <td>P00285442</td>\n",
              "      <td>M</td>\n",
              "      <td>55+</td>\n",
              "      <td>16</td>\n",
              "      <td>C</td>\n",
              "      <td>4+</td>\n",
              "      <td>0</td>\n",
              "      <td>8</td>\n",
              "      <td>7969</td>\n",
              "    </tr>\n",
              "  </tbody>\n",
              "</table>\n",
              "</div>\n",
              "      <button class=\"colab-df-convert\" onclick=\"convertToInteractive('df-baf743e3-c2fb-4943-9ad1-bf778498b0ef')\"\n",
              "              title=\"Convert this dataframe to an interactive table.\"\n",
              "              style=\"display:none;\">\n",
              "        \n",
              "  <svg xmlns=\"http://www.w3.org/2000/svg\" height=\"24px\"viewBox=\"0 0 24 24\"\n",
              "       width=\"24px\">\n",
              "    <path d=\"M0 0h24v24H0V0z\" fill=\"none\"/>\n",
              "    <path d=\"M18.56 5.44l.94 2.06.94-2.06 2.06-.94-2.06-.94-.94-2.06-.94 2.06-2.06.94zm-11 1L8.5 8.5l.94-2.06 2.06-.94-2.06-.94L8.5 2.5l-.94 2.06-2.06.94zm10 10l.94 2.06.94-2.06 2.06-.94-2.06-.94-.94-2.06-.94 2.06-2.06.94z\"/><path d=\"M17.41 7.96l-1.37-1.37c-.4-.4-.92-.59-1.43-.59-.52 0-1.04.2-1.43.59L10.3 9.45l-7.72 7.72c-.78.78-.78 2.05 0 2.83L4 21.41c.39.39.9.59 1.41.59.51 0 1.02-.2 1.41-.59l7.78-7.78 2.81-2.81c.8-.78.8-2.07 0-2.86zM5.41 20L4 18.59l7.72-7.72 1.47 1.35L5.41 20z\"/>\n",
              "  </svg>\n",
              "      </button>\n",
              "      \n",
              "  <style>\n",
              "    .colab-df-container {\n",
              "      display:flex;\n",
              "      flex-wrap:wrap;\n",
              "      gap: 12px;\n",
              "    }\n",
              "\n",
              "    .colab-df-convert {\n",
              "      background-color: #E8F0FE;\n",
              "      border: none;\n",
              "      border-radius: 50%;\n",
              "      cursor: pointer;\n",
              "      display: none;\n",
              "      fill: #1967D2;\n",
              "      height: 32px;\n",
              "      padding: 0 0 0 0;\n",
              "      width: 32px;\n",
              "    }\n",
              "\n",
              "    .colab-df-convert:hover {\n",
              "      background-color: #E2EBFA;\n",
              "      box-shadow: 0px 1px 2px rgba(60, 64, 67, 0.3), 0px 1px 3px 1px rgba(60, 64, 67, 0.15);\n",
              "      fill: #174EA6;\n",
              "    }\n",
              "\n",
              "    [theme=dark] .colab-df-convert {\n",
              "      background-color: #3B4455;\n",
              "      fill: #D2E3FC;\n",
              "    }\n",
              "\n",
              "    [theme=dark] .colab-df-convert:hover {\n",
              "      background-color: #434B5C;\n",
              "      box-shadow: 0px 1px 3px 1px rgba(0, 0, 0, 0.15);\n",
              "      filter: drop-shadow(0px 1px 2px rgba(0, 0, 0, 0.3));\n",
              "      fill: #FFFFFF;\n",
              "    }\n",
              "  </style>\n",
              "\n",
              "      <script>\n",
              "        const buttonEl =\n",
              "          document.querySelector('#df-baf743e3-c2fb-4943-9ad1-bf778498b0ef button.colab-df-convert');\n",
              "        buttonEl.style.display =\n",
              "          google.colab.kernel.accessAllowed ? 'block' : 'none';\n",
              "\n",
              "        async function convertToInteractive(key) {\n",
              "          const element = document.querySelector('#df-baf743e3-c2fb-4943-9ad1-bf778498b0ef');\n",
              "          const dataTable =\n",
              "            await google.colab.kernel.invokeFunction('convertToInteractive',\n",
              "                                                     [key], {});\n",
              "          if (!dataTable) return;\n",
              "\n",
              "          const docLinkHtml = 'Like what you see? Visit the ' +\n",
              "            '<a target=\"_blank\" href=https://colab.research.google.com/notebooks/data_table.ipynb>data table notebook</a>'\n",
              "            + ' to learn more about interactive tables.';\n",
              "          element.innerHTML = '';\n",
              "          dataTable['output_type'] = 'display_data';\n",
              "          await google.colab.output.renderOutput(dataTable, element);\n",
              "          const docLink = document.createElement('div');\n",
              "          docLink.innerHTML = docLinkHtml;\n",
              "          element.appendChild(docLink);\n",
              "        }\n",
              "      </script>\n",
              "    </div>\n",
              "  </div>\n",
              "  "
            ]
          },
          "metadata": {},
          "execution_count": 6
        }
      ]
    },
    {
      "cell_type": "code",
      "source": [
        "df.info()"
      ],
      "metadata": {
        "colab": {
          "base_uri": "https://localhost:8080/"
        },
        "id": "T3Q4jeF1e2PV",
        "outputId": "0fd24b1e-a679-4a1c-8a42-5c775fa5e433"
      },
      "execution_count": 7,
      "outputs": [
        {
          "output_type": "stream",
          "name": "stdout",
          "text": [
            "<class 'pandas.core.frame.DataFrame'>\n",
            "RangeIndex: 550068 entries, 0 to 550067\n",
            "Data columns (total 10 columns):\n",
            " #   Column                      Non-Null Count   Dtype \n",
            "---  ------                      --------------   ----- \n",
            " 0   User_ID                     550068 non-null  int64 \n",
            " 1   Product_ID                  550068 non-null  object\n",
            " 2   Gender                      550068 non-null  object\n",
            " 3   Age                         550068 non-null  object\n",
            " 4   Occupation                  550068 non-null  int64 \n",
            " 5   City_Category               550068 non-null  object\n",
            " 6   Stay_In_Current_City_Years  550068 non-null  object\n",
            " 7   Marital_Status              550068 non-null  int64 \n",
            " 8   Product_Category            550068 non-null  int64 \n",
            " 9   Purchase                    550068 non-null  int64 \n",
            "dtypes: int64(5), object(5)\n",
            "memory usage: 42.0+ MB\n"
          ]
        }
      ]
    },
    {
      "cell_type": "code",
      "source": [
        "df.describe()"
      ],
      "metadata": {
        "colab": {
          "base_uri": "https://localhost:8080/",
          "height": 300
        },
        "id": "j7Mltu5Le9SP",
        "outputId": "fdd903d2-d3bd-4cc2-82de-e9fafa944895"
      },
      "execution_count": 8,
      "outputs": [
        {
          "output_type": "execute_result",
          "data": {
            "text/plain": [
              "            User_ID     Occupation  Marital_Status  Product_Category  \\\n",
              "count  5.500680e+05  550068.000000   550068.000000     550068.000000   \n",
              "mean   1.003029e+06       8.076707        0.409653          5.404270   \n",
              "std    1.727592e+03       6.522660        0.491770          3.936211   \n",
              "min    1.000001e+06       0.000000        0.000000          1.000000   \n",
              "25%    1.001516e+06       2.000000        0.000000          1.000000   \n",
              "50%    1.003077e+06       7.000000        0.000000          5.000000   \n",
              "75%    1.004478e+06      14.000000        1.000000          8.000000   \n",
              "max    1.006040e+06      20.000000        1.000000         20.000000   \n",
              "\n",
              "            Purchase  \n",
              "count  550068.000000  \n",
              "mean     9263.968713  \n",
              "std      5023.065394  \n",
              "min        12.000000  \n",
              "25%      5823.000000  \n",
              "50%      8047.000000  \n",
              "75%     12054.000000  \n",
              "max     23961.000000  "
            ],
            "text/html": [
              "\n",
              "  <div id=\"df-3c994fd5-d4ba-49ac-b053-d0f0c7e42900\">\n",
              "    <div class=\"colab-df-container\">\n",
              "      <div>\n",
              "<style scoped>\n",
              "    .dataframe tbody tr th:only-of-type {\n",
              "        vertical-align: middle;\n",
              "    }\n",
              "\n",
              "    .dataframe tbody tr th {\n",
              "        vertical-align: top;\n",
              "    }\n",
              "\n",
              "    .dataframe thead th {\n",
              "        text-align: right;\n",
              "    }\n",
              "</style>\n",
              "<table border=\"1\" class=\"dataframe\">\n",
              "  <thead>\n",
              "    <tr style=\"text-align: right;\">\n",
              "      <th></th>\n",
              "      <th>User_ID</th>\n",
              "      <th>Occupation</th>\n",
              "      <th>Marital_Status</th>\n",
              "      <th>Product_Category</th>\n",
              "      <th>Purchase</th>\n",
              "    </tr>\n",
              "  </thead>\n",
              "  <tbody>\n",
              "    <tr>\n",
              "      <th>count</th>\n",
              "      <td>5.500680e+05</td>\n",
              "      <td>550068.000000</td>\n",
              "      <td>550068.000000</td>\n",
              "      <td>550068.000000</td>\n",
              "      <td>550068.000000</td>\n",
              "    </tr>\n",
              "    <tr>\n",
              "      <th>mean</th>\n",
              "      <td>1.003029e+06</td>\n",
              "      <td>8.076707</td>\n",
              "      <td>0.409653</td>\n",
              "      <td>5.404270</td>\n",
              "      <td>9263.968713</td>\n",
              "    </tr>\n",
              "    <tr>\n",
              "      <th>std</th>\n",
              "      <td>1.727592e+03</td>\n",
              "      <td>6.522660</td>\n",
              "      <td>0.491770</td>\n",
              "      <td>3.936211</td>\n",
              "      <td>5023.065394</td>\n",
              "    </tr>\n",
              "    <tr>\n",
              "      <th>min</th>\n",
              "      <td>1.000001e+06</td>\n",
              "      <td>0.000000</td>\n",
              "      <td>0.000000</td>\n",
              "      <td>1.000000</td>\n",
              "      <td>12.000000</td>\n",
              "    </tr>\n",
              "    <tr>\n",
              "      <th>25%</th>\n",
              "      <td>1.001516e+06</td>\n",
              "      <td>2.000000</td>\n",
              "      <td>0.000000</td>\n",
              "      <td>1.000000</td>\n",
              "      <td>5823.000000</td>\n",
              "    </tr>\n",
              "    <tr>\n",
              "      <th>50%</th>\n",
              "      <td>1.003077e+06</td>\n",
              "      <td>7.000000</td>\n",
              "      <td>0.000000</td>\n",
              "      <td>5.000000</td>\n",
              "      <td>8047.000000</td>\n",
              "    </tr>\n",
              "    <tr>\n",
              "      <th>75%</th>\n",
              "      <td>1.004478e+06</td>\n",
              "      <td>14.000000</td>\n",
              "      <td>1.000000</td>\n",
              "      <td>8.000000</td>\n",
              "      <td>12054.000000</td>\n",
              "    </tr>\n",
              "    <tr>\n",
              "      <th>max</th>\n",
              "      <td>1.006040e+06</td>\n",
              "      <td>20.000000</td>\n",
              "      <td>1.000000</td>\n",
              "      <td>20.000000</td>\n",
              "      <td>23961.000000</td>\n",
              "    </tr>\n",
              "  </tbody>\n",
              "</table>\n",
              "</div>\n",
              "      <button class=\"colab-df-convert\" onclick=\"convertToInteractive('df-3c994fd5-d4ba-49ac-b053-d0f0c7e42900')\"\n",
              "              title=\"Convert this dataframe to an interactive table.\"\n",
              "              style=\"display:none;\">\n",
              "        \n",
              "  <svg xmlns=\"http://www.w3.org/2000/svg\" height=\"24px\"viewBox=\"0 0 24 24\"\n",
              "       width=\"24px\">\n",
              "    <path d=\"M0 0h24v24H0V0z\" fill=\"none\"/>\n",
              "    <path d=\"M18.56 5.44l.94 2.06.94-2.06 2.06-.94-2.06-.94-.94-2.06-.94 2.06-2.06.94zm-11 1L8.5 8.5l.94-2.06 2.06-.94-2.06-.94L8.5 2.5l-.94 2.06-2.06.94zm10 10l.94 2.06.94-2.06 2.06-.94-2.06-.94-.94-2.06-.94 2.06-2.06.94z\"/><path d=\"M17.41 7.96l-1.37-1.37c-.4-.4-.92-.59-1.43-.59-.52 0-1.04.2-1.43.59L10.3 9.45l-7.72 7.72c-.78.78-.78 2.05 0 2.83L4 21.41c.39.39.9.59 1.41.59.51 0 1.02-.2 1.41-.59l7.78-7.78 2.81-2.81c.8-.78.8-2.07 0-2.86zM5.41 20L4 18.59l7.72-7.72 1.47 1.35L5.41 20z\"/>\n",
              "  </svg>\n",
              "      </button>\n",
              "      \n",
              "  <style>\n",
              "    .colab-df-container {\n",
              "      display:flex;\n",
              "      flex-wrap:wrap;\n",
              "      gap: 12px;\n",
              "    }\n",
              "\n",
              "    .colab-df-convert {\n",
              "      background-color: #E8F0FE;\n",
              "      border: none;\n",
              "      border-radius: 50%;\n",
              "      cursor: pointer;\n",
              "      display: none;\n",
              "      fill: #1967D2;\n",
              "      height: 32px;\n",
              "      padding: 0 0 0 0;\n",
              "      width: 32px;\n",
              "    }\n",
              "\n",
              "    .colab-df-convert:hover {\n",
              "      background-color: #E2EBFA;\n",
              "      box-shadow: 0px 1px 2px rgba(60, 64, 67, 0.3), 0px 1px 3px 1px rgba(60, 64, 67, 0.15);\n",
              "      fill: #174EA6;\n",
              "    }\n",
              "\n",
              "    [theme=dark] .colab-df-convert {\n",
              "      background-color: #3B4455;\n",
              "      fill: #D2E3FC;\n",
              "    }\n",
              "\n",
              "    [theme=dark] .colab-df-convert:hover {\n",
              "      background-color: #434B5C;\n",
              "      box-shadow: 0px 1px 3px 1px rgba(0, 0, 0, 0.15);\n",
              "      filter: drop-shadow(0px 1px 2px rgba(0, 0, 0, 0.3));\n",
              "      fill: #FFFFFF;\n",
              "    }\n",
              "  </style>\n",
              "\n",
              "      <script>\n",
              "        const buttonEl =\n",
              "          document.querySelector('#df-3c994fd5-d4ba-49ac-b053-d0f0c7e42900 button.colab-df-convert');\n",
              "        buttonEl.style.display =\n",
              "          google.colab.kernel.accessAllowed ? 'block' : 'none';\n",
              "\n",
              "        async function convertToInteractive(key) {\n",
              "          const element = document.querySelector('#df-3c994fd5-d4ba-49ac-b053-d0f0c7e42900');\n",
              "          const dataTable =\n",
              "            await google.colab.kernel.invokeFunction('convertToInteractive',\n",
              "                                                     [key], {});\n",
              "          if (!dataTable) return;\n",
              "\n",
              "          const docLinkHtml = 'Like what you see? Visit the ' +\n",
              "            '<a target=\"_blank\" href=https://colab.research.google.com/notebooks/data_table.ipynb>data table notebook</a>'\n",
              "            + ' to learn more about interactive tables.';\n",
              "          element.innerHTML = '';\n",
              "          dataTable['output_type'] = 'display_data';\n",
              "          await google.colab.output.renderOutput(dataTable, element);\n",
              "          const docLink = document.createElement('div');\n",
              "          docLink.innerHTML = docLinkHtml;\n",
              "          element.appendChild(docLink);\n",
              "        }\n",
              "      </script>\n",
              "    </div>\n",
              "  </div>\n",
              "  "
            ]
          },
          "metadata": {},
          "execution_count": 8
        }
      ]
    },
    {
      "cell_type": "code",
      "source": [
        "df.describe(include = object)"
      ],
      "metadata": {
        "colab": {
          "base_uri": "https://localhost:8080/",
          "height": 175
        },
        "id": "awCnL3cDfAm8",
        "outputId": "abe39f89-420f-4798-eeba-e98fb14c46be"
      },
      "execution_count": 9,
      "outputs": [
        {
          "output_type": "execute_result",
          "data": {
            "text/plain": [
              "       Product_ID  Gender     Age City_Category Stay_In_Current_City_Years\n",
              "count      550068  550068  550068        550068                     550068\n",
              "unique       3631       2       7             3                          5\n",
              "top     P00265242       M   26-35             B                          1\n",
              "freq         1880  414259  219587        231173                     193821"
            ],
            "text/html": [
              "\n",
              "  <div id=\"df-07c57259-26be-4db5-b12d-45524a875874\">\n",
              "    <div class=\"colab-df-container\">\n",
              "      <div>\n",
              "<style scoped>\n",
              "    .dataframe tbody tr th:only-of-type {\n",
              "        vertical-align: middle;\n",
              "    }\n",
              "\n",
              "    .dataframe tbody tr th {\n",
              "        vertical-align: top;\n",
              "    }\n",
              "\n",
              "    .dataframe thead th {\n",
              "        text-align: right;\n",
              "    }\n",
              "</style>\n",
              "<table border=\"1\" class=\"dataframe\">\n",
              "  <thead>\n",
              "    <tr style=\"text-align: right;\">\n",
              "      <th></th>\n",
              "      <th>Product_ID</th>\n",
              "      <th>Gender</th>\n",
              "      <th>Age</th>\n",
              "      <th>City_Category</th>\n",
              "      <th>Stay_In_Current_City_Years</th>\n",
              "    </tr>\n",
              "  </thead>\n",
              "  <tbody>\n",
              "    <tr>\n",
              "      <th>count</th>\n",
              "      <td>550068</td>\n",
              "      <td>550068</td>\n",
              "      <td>550068</td>\n",
              "      <td>550068</td>\n",
              "      <td>550068</td>\n",
              "    </tr>\n",
              "    <tr>\n",
              "      <th>unique</th>\n",
              "      <td>3631</td>\n",
              "      <td>2</td>\n",
              "      <td>7</td>\n",
              "      <td>3</td>\n",
              "      <td>5</td>\n",
              "    </tr>\n",
              "    <tr>\n",
              "      <th>top</th>\n",
              "      <td>P00265242</td>\n",
              "      <td>M</td>\n",
              "      <td>26-35</td>\n",
              "      <td>B</td>\n",
              "      <td>1</td>\n",
              "    </tr>\n",
              "    <tr>\n",
              "      <th>freq</th>\n",
              "      <td>1880</td>\n",
              "      <td>414259</td>\n",
              "      <td>219587</td>\n",
              "      <td>231173</td>\n",
              "      <td>193821</td>\n",
              "    </tr>\n",
              "  </tbody>\n",
              "</table>\n",
              "</div>\n",
              "      <button class=\"colab-df-convert\" onclick=\"convertToInteractive('df-07c57259-26be-4db5-b12d-45524a875874')\"\n",
              "              title=\"Convert this dataframe to an interactive table.\"\n",
              "              style=\"display:none;\">\n",
              "        \n",
              "  <svg xmlns=\"http://www.w3.org/2000/svg\" height=\"24px\"viewBox=\"0 0 24 24\"\n",
              "       width=\"24px\">\n",
              "    <path d=\"M0 0h24v24H0V0z\" fill=\"none\"/>\n",
              "    <path d=\"M18.56 5.44l.94 2.06.94-2.06 2.06-.94-2.06-.94-.94-2.06-.94 2.06-2.06.94zm-11 1L8.5 8.5l.94-2.06 2.06-.94-2.06-.94L8.5 2.5l-.94 2.06-2.06.94zm10 10l.94 2.06.94-2.06 2.06-.94-2.06-.94-.94-2.06-.94 2.06-2.06.94z\"/><path d=\"M17.41 7.96l-1.37-1.37c-.4-.4-.92-.59-1.43-.59-.52 0-1.04.2-1.43.59L10.3 9.45l-7.72 7.72c-.78.78-.78 2.05 0 2.83L4 21.41c.39.39.9.59 1.41.59.51 0 1.02-.2 1.41-.59l7.78-7.78 2.81-2.81c.8-.78.8-2.07 0-2.86zM5.41 20L4 18.59l7.72-7.72 1.47 1.35L5.41 20z\"/>\n",
              "  </svg>\n",
              "      </button>\n",
              "      \n",
              "  <style>\n",
              "    .colab-df-container {\n",
              "      display:flex;\n",
              "      flex-wrap:wrap;\n",
              "      gap: 12px;\n",
              "    }\n",
              "\n",
              "    .colab-df-convert {\n",
              "      background-color: #E8F0FE;\n",
              "      border: none;\n",
              "      border-radius: 50%;\n",
              "      cursor: pointer;\n",
              "      display: none;\n",
              "      fill: #1967D2;\n",
              "      height: 32px;\n",
              "      padding: 0 0 0 0;\n",
              "      width: 32px;\n",
              "    }\n",
              "\n",
              "    .colab-df-convert:hover {\n",
              "      background-color: #E2EBFA;\n",
              "      box-shadow: 0px 1px 2px rgba(60, 64, 67, 0.3), 0px 1px 3px 1px rgba(60, 64, 67, 0.15);\n",
              "      fill: #174EA6;\n",
              "    }\n",
              "\n",
              "    [theme=dark] .colab-df-convert {\n",
              "      background-color: #3B4455;\n",
              "      fill: #D2E3FC;\n",
              "    }\n",
              "\n",
              "    [theme=dark] .colab-df-convert:hover {\n",
              "      background-color: #434B5C;\n",
              "      box-shadow: 0px 1px 3px 1px rgba(0, 0, 0, 0.15);\n",
              "      filter: drop-shadow(0px 1px 2px rgba(0, 0, 0, 0.3));\n",
              "      fill: #FFFFFF;\n",
              "    }\n",
              "  </style>\n",
              "\n",
              "      <script>\n",
              "        const buttonEl =\n",
              "          document.querySelector('#df-07c57259-26be-4db5-b12d-45524a875874 button.colab-df-convert');\n",
              "        buttonEl.style.display =\n",
              "          google.colab.kernel.accessAllowed ? 'block' : 'none';\n",
              "\n",
              "        async function convertToInteractive(key) {\n",
              "          const element = document.querySelector('#df-07c57259-26be-4db5-b12d-45524a875874');\n",
              "          const dataTable =\n",
              "            await google.colab.kernel.invokeFunction('convertToInteractive',\n",
              "                                                     [key], {});\n",
              "          if (!dataTable) return;\n",
              "\n",
              "          const docLinkHtml = 'Like what you see? Visit the ' +\n",
              "            '<a target=\"_blank\" href=https://colab.research.google.com/notebooks/data_table.ipynb>data table notebook</a>'\n",
              "            + ' to learn more about interactive tables.';\n",
              "          element.innerHTML = '';\n",
              "          dataTable['output_type'] = 'display_data';\n",
              "          await google.colab.output.renderOutput(dataTable, element);\n",
              "          const docLink = document.createElement('div');\n",
              "          docLink.innerHTML = docLinkHtml;\n",
              "          element.appendChild(docLink);\n",
              "        }\n",
              "      </script>\n",
              "    </div>\n",
              "  </div>\n",
              "  "
            ]
          },
          "metadata": {},
          "execution_count": 9
        }
      ]
    },
    {
      "cell_type": "markdown",
      "source": [
        "# **1.1** "
      ],
      "metadata": {
        "id": "E203uuvefGuu"
      }
    },
    {
      "cell_type": "code",
      "source": [
        "df.shape"
      ],
      "metadata": {
        "colab": {
          "base_uri": "https://localhost:8080/"
        },
        "id": "-tHnd_jPfCvu",
        "outputId": "c9bfbcec-f91b-4a88-9b15-93cf818ca985"
      },
      "execution_count": 10,
      "outputs": [
        {
          "output_type": "execute_result",
          "data": {
            "text/plain": [
              "(550068, 10)"
            ]
          },
          "metadata": {},
          "execution_count": 10
        }
      ]
    },
    {
      "cell_type": "code",
      "source": [
        "len(df)"
      ],
      "metadata": {
        "colab": {
          "base_uri": "https://localhost:8080/"
        },
        "id": "x9GLr4__flui",
        "outputId": "3214122b-d723-4888-a93a-1db2973139ae"
      },
      "execution_count": 11,
      "outputs": [
        {
          "output_type": "execute_result",
          "data": {
            "text/plain": [
              "550068"
            ]
          },
          "metadata": {},
          "execution_count": 11
        }
      ]
    },
    {
      "cell_type": "code",
      "source": [
        "df.dtypes"
      ],
      "metadata": {
        "colab": {
          "base_uri": "https://localhost:8080/"
        },
        "id": "pndB7xzXfnso",
        "outputId": "b18ff9bd-69be-45a5-f094-e5b1ee4bfec3"
      },
      "execution_count": 12,
      "outputs": [
        {
          "output_type": "execute_result",
          "data": {
            "text/plain": [
              "User_ID                        int64\n",
              "Product_ID                    object\n",
              "Gender                        object\n",
              "Age                           object\n",
              "Occupation                     int64\n",
              "City_Category                 object\n",
              "Stay_In_Current_City_Years    object\n",
              "Marital_Status                 int64\n",
              "Product_Category               int64\n",
              "Purchase                       int64\n",
              "dtype: object"
            ]
          },
          "metadata": {},
          "execution_count": 12
        }
      ]
    },
    {
      "cell_type": "markdown",
      "source": [
        "**Observations** \n",
        "\n",
        "1. Shape of the data is 550068 Rows and 10 Columns.\n",
        "2. In this given data the Datatypes of 5 columns is INTEGER as *User_ID , Occupation ,Marital_Status , Product_Category , Purchase *\n",
        "3. In this given data the Datatypes of 5 columns is OBJECT as *Product_ID , Gender , Age , City_Category , Stay_In_Current_City_Years*"
      ],
      "metadata": {
        "id": "K85olYeWgV5C"
      }
    },
    {
      "cell_type": "code",
      "source": [],
      "metadata": {
        "id": "BcbiTW2OfsCL"
      },
      "execution_count": 12,
      "outputs": []
    },
    {
      "cell_type": "markdown",
      "source": [
        "# **1.2**"
      ],
      "metadata": {
        "id": "669rppxciBM7"
      }
    },
    {
      "cell_type": "code",
      "source": [
        "df[\"User_ID\"].nunique()"
      ],
      "metadata": {
        "colab": {
          "base_uri": "https://localhost:8080/"
        },
        "id": "WmmjoG2fiOHT",
        "outputId": "1160f99c-862c-4fa1-dd6c-cfecf329687c"
      },
      "execution_count": 13,
      "outputs": [
        {
          "output_type": "execute_result",
          "data": {
            "text/plain": [
              "5891"
            ]
          },
          "metadata": {},
          "execution_count": 13
        }
      ]
    },
    {
      "cell_type": "code",
      "source": [
        "df[\"Product_ID\"].nunique()"
      ],
      "metadata": {
        "colab": {
          "base_uri": "https://localhost:8080/"
        },
        "id": "Lkwh0GxUiUgJ",
        "outputId": "8b50b3f4-b333-4ba7-954d-da743db4fc13"
      },
      "execution_count": 14,
      "outputs": [
        {
          "output_type": "execute_result",
          "data": {
            "text/plain": [
              "3631"
            ]
          },
          "metadata": {},
          "execution_count": 14
        }
      ]
    },
    {
      "cell_type": "code",
      "source": [
        "df[\"Gender\"].nunique()\n"
      ],
      "metadata": {
        "colab": {
          "base_uri": "https://localhost:8080/"
        },
        "id": "RNTh6W2-iU7q",
        "outputId": "1c3e2fc8-dcf4-4f76-888d-ec2d0487e2d4"
      },
      "execution_count": 15,
      "outputs": [
        {
          "output_type": "execute_result",
          "data": {
            "text/plain": [
              "2"
            ]
          },
          "metadata": {},
          "execution_count": 15
        }
      ]
    },
    {
      "cell_type": "code",
      "source": [
        "df[\"Age\"].nunique()"
      ],
      "metadata": {
        "colab": {
          "base_uri": "https://localhost:8080/"
        },
        "id": "0BecMploiVxv",
        "outputId": "0aa9ba5a-75d4-4c8f-af1a-3c46283f955a"
      },
      "execution_count": 16,
      "outputs": [
        {
          "output_type": "execute_result",
          "data": {
            "text/plain": [
              "7"
            ]
          },
          "metadata": {},
          "execution_count": 16
        }
      ]
    },
    {
      "cell_type": "code",
      "source": [
        "df[\"Occupation\"].nunique()"
      ],
      "metadata": {
        "colab": {
          "base_uri": "https://localhost:8080/"
        },
        "id": "7sKmi844iWHP",
        "outputId": "d324f4fe-b1b5-4a16-e200-d9252e4a29dc"
      },
      "execution_count": 17,
      "outputs": [
        {
          "output_type": "execute_result",
          "data": {
            "text/plain": [
              "21"
            ]
          },
          "metadata": {},
          "execution_count": 17
        }
      ]
    },
    {
      "cell_type": "code",
      "source": [
        "df[\"City_Category\"].nunique()"
      ],
      "metadata": {
        "colab": {
          "base_uri": "https://localhost:8080/"
        },
        "id": "xDHyzT_2iYrU",
        "outputId": "2c4db3e4-3356-4dba-d425-56c224286a75"
      },
      "execution_count": 18,
      "outputs": [
        {
          "output_type": "execute_result",
          "data": {
            "text/plain": [
              "3"
            ]
          },
          "metadata": {},
          "execution_count": 18
        }
      ]
    },
    {
      "cell_type": "code",
      "source": [
        "df[\"Stay_In_Current_City_Years\"].nunique()"
      ],
      "metadata": {
        "colab": {
          "base_uri": "https://localhost:8080/"
        },
        "id": "Jsvbv4wBiZG7",
        "outputId": "960a192d-c4b4-4396-9c72-86cd8e5b0d7b"
      },
      "execution_count": 19,
      "outputs": [
        {
          "output_type": "execute_result",
          "data": {
            "text/plain": [
              "5"
            ]
          },
          "metadata": {},
          "execution_count": 19
        }
      ]
    },
    {
      "cell_type": "code",
      "source": [
        "df[\"Marital_Status\"].nunique()"
      ],
      "metadata": {
        "colab": {
          "base_uri": "https://localhost:8080/"
        },
        "id": "dxQ8e4fJiZcc",
        "outputId": "7895201e-3377-40b5-d3bb-19248b64f07b"
      },
      "execution_count": 20,
      "outputs": [
        {
          "output_type": "execute_result",
          "data": {
            "text/plain": [
              "2"
            ]
          },
          "metadata": {},
          "execution_count": 20
        }
      ]
    },
    {
      "cell_type": "code",
      "source": [
        "df[\"Product_Category\"].nunique()"
      ],
      "metadata": {
        "colab": {
          "base_uri": "https://localhost:8080/"
        },
        "id": "HHqbH3Bhix0f",
        "outputId": "f6ba0d2c-a403-4d12-af6c-f0f87583cb04"
      },
      "execution_count": 21,
      "outputs": [
        {
          "output_type": "execute_result",
          "data": {
            "text/plain": [
              "20"
            ]
          },
          "metadata": {},
          "execution_count": 21
        }
      ]
    },
    {
      "cell_type": "code",
      "source": [
        "df[\"Purchase\"].nunique()"
      ],
      "metadata": {
        "colab": {
          "base_uri": "https://localhost:8080/"
        },
        "id": "jecg1VBgiy3k",
        "outputId": "42c4a639-db1a-465d-f3b2-f705a1efade7"
      },
      "execution_count": 22,
      "outputs": [
        {
          "output_type": "execute_result",
          "data": {
            "text/plain": [
              "18105"
            ]
          },
          "metadata": {},
          "execution_count": 22
        }
      ]
    },
    {
      "cell_type": "code",
      "source": [
        "df[\"Gender\"].value_counts()"
      ],
      "metadata": {
        "colab": {
          "base_uri": "https://localhost:8080/"
        },
        "id": "3DlsmmdLizeP",
        "outputId": "3bd9043c-6c45-439a-909d-6755ecf34dad"
      },
      "execution_count": 23,
      "outputs": [
        {
          "output_type": "execute_result",
          "data": {
            "text/plain": [
              "M    414259\n",
              "F    135809\n",
              "Name: Gender, dtype: int64"
            ]
          },
          "metadata": {},
          "execution_count": 23
        }
      ]
    },
    {
      "cell_type": "code",
      "source": [
        "df[\"Age\"].value_counts()"
      ],
      "metadata": {
        "colab": {
          "base_uri": "https://localhost:8080/"
        },
        "id": "8r2IKpewjPQN",
        "outputId": "a794a087-dba1-4a1a-f23e-92e538a4bef4"
      },
      "execution_count": 24,
      "outputs": [
        {
          "output_type": "execute_result",
          "data": {
            "text/plain": [
              "26-35    219587\n",
              "36-45    110013\n",
              "18-25     99660\n",
              "46-50     45701\n",
              "51-55     38501\n",
              "55+       21504\n",
              "0-17      15102\n",
              "Name: Age, dtype: int64"
            ]
          },
          "metadata": {},
          "execution_count": 24
        }
      ]
    },
    {
      "cell_type": "code",
      "source": [
        "df[\"Occupation\"].value_counts()"
      ],
      "metadata": {
        "colab": {
          "base_uri": "https://localhost:8080/"
        },
        "id": "oxJm86OIjUUE",
        "outputId": "4d3a254b-66f3-46bb-be5f-5b4043de4a17"
      },
      "execution_count": 25,
      "outputs": [
        {
          "output_type": "execute_result",
          "data": {
            "text/plain": [
              "4     72308\n",
              "0     69638\n",
              "7     59133\n",
              "1     47426\n",
              "17    40043\n",
              "20    33562\n",
              "12    31179\n",
              "14    27309\n",
              "2     26588\n",
              "16    25371\n",
              "6     20355\n",
              "3     17650\n",
              "10    12930\n",
              "5     12177\n",
              "15    12165\n",
              "11    11586\n",
              "19     8461\n",
              "13     7728\n",
              "18     6622\n",
              "9      6291\n",
              "8      1546\n",
              "Name: Occupation, dtype: int64"
            ]
          },
          "metadata": {},
          "execution_count": 25
        }
      ]
    },
    {
      "cell_type": "code",
      "source": [
        "df[\"City_Category\"].value_counts()"
      ],
      "metadata": {
        "colab": {
          "base_uri": "https://localhost:8080/"
        },
        "id": "reSwXlTUjVsd",
        "outputId": "aefac8c3-53d6-4c01-e101-7edfafd3ca06"
      },
      "execution_count": 26,
      "outputs": [
        {
          "output_type": "execute_result",
          "data": {
            "text/plain": [
              "B    231173\n",
              "C    171175\n",
              "A    147720\n",
              "Name: City_Category, dtype: int64"
            ]
          },
          "metadata": {},
          "execution_count": 26
        }
      ]
    },
    {
      "cell_type": "code",
      "source": [
        "df[\"Stay_In_Current_City_Years\"].value_counts()"
      ],
      "metadata": {
        "colab": {
          "base_uri": "https://localhost:8080/"
        },
        "id": "Fie7necejcWL",
        "outputId": "f497cdcc-8a3c-4918-88cb-d79866bc9598"
      },
      "execution_count": 27,
      "outputs": [
        {
          "output_type": "execute_result",
          "data": {
            "text/plain": [
              "1     193821\n",
              "2     101838\n",
              "3      95285\n",
              "4+     84726\n",
              "0      74398\n",
              "Name: Stay_In_Current_City_Years, dtype: int64"
            ]
          },
          "metadata": {},
          "execution_count": 27
        }
      ]
    },
    {
      "cell_type": "code",
      "source": [
        "df[\"Marital_Status\"].value_counts()"
      ],
      "metadata": {
        "colab": {
          "base_uri": "https://localhost:8080/"
        },
        "id": "crXQwRSkjiWy",
        "outputId": "ae109332-c8f7-48a3-e56d-1ae3c8589a09"
      },
      "execution_count": 28,
      "outputs": [
        {
          "output_type": "execute_result",
          "data": {
            "text/plain": [
              "0    324731\n",
              "1    225337\n",
              "Name: Marital_Status, dtype: int64"
            ]
          },
          "metadata": {},
          "execution_count": 28
        }
      ]
    },
    {
      "cell_type": "code",
      "source": [
        "df[\"Product_Category\"].value_counts()"
      ],
      "metadata": {
        "colab": {
          "base_uri": "https://localhost:8080/"
        },
        "id": "Hf1UIq7djivA",
        "outputId": "a4ea9db2-bac3-41ca-d3f4-59770b43405a"
      },
      "execution_count": 29,
      "outputs": [
        {
          "output_type": "execute_result",
          "data": {
            "text/plain": [
              "5     150933\n",
              "1     140378\n",
              "8     113925\n",
              "11     24287\n",
              "2      23864\n",
              "6      20466\n",
              "3      20213\n",
              "4      11753\n",
              "16      9828\n",
              "15      6290\n",
              "13      5549\n",
              "10      5125\n",
              "12      3947\n",
              "7       3721\n",
              "18      3125\n",
              "20      2550\n",
              "19      1603\n",
              "14      1523\n",
              "17       578\n",
              "9        410\n",
              "Name: Product_Category, dtype: int64"
            ]
          },
          "metadata": {},
          "execution_count": 29
        }
      ]
    },
    {
      "cell_type": "markdown",
      "source": [
        "***Observations***\n",
        "\n",
        "UNIQUE VALUES \n",
        "\n",
        "1.  5891  unique values for attribute *User_ID*\n",
        "2.  3631  unique values for attribute *Product_ID*\n",
        "3.  2  unique values for attribute *Gender*\n",
        "4.  7  unique values for attribute *Age*\n",
        "5.  21 unique values for attribute *Occupation*\n",
        "6.  3  unique values for attribute *City_Category*\n",
        "7.  5  unique values for attribute *Stay_In_Current_City_Years*\n",
        "8.  2  unique values for attribute *Marital_Status*\n",
        "9.  20 unique values for attribute *Product_Category*\n",
        "10. 18105 unique values for attribute *Purchase*\n",
        "\n",
        "VALUE COUNTS\n",
        "\n",
        "1. Purchase by Male is 414259 times while Female is 135809 times i.e. approx 3 times.\n",
        "\n",
        "\n",
        "2. Purchase by Age of \"26-35\" is 219587 times i.e. Maximum time among all age group.\n",
        "3. Purchase by Age of \"0-17\" is 15102 times i.e. Minimum time among all age group.\n",
        "\n",
        "\n",
        "4. Purchase by \"B\" type of City Category is 231173 times i.e. Maximum times\n",
        "5. Purchase by \"A\" type of City Category is 147720 times i.e. Minimum times\n",
        "\n",
        "\n",
        "6. Purchase by People Stay from atleast 1 year is 193821 times i.e. Maximum times\n",
        "7. Purchase by People Stay from less than 1 year  is 74398 times i.e. Minimum times\n",
        "\n",
        "\n",
        "8. Purchase by Unmarried Person is 324731 times while Married Person is 225337 times i.e. approx 1.44 times.\n"
      ],
      "metadata": {
        "id": "A-ZYZ4Ugj6_q"
      }
    },
    {
      "cell_type": "code",
      "source": [],
      "metadata": {
        "id": "-MNZdZtLjjP6"
      },
      "execution_count": 29,
      "outputs": []
    },
    {
      "cell_type": "markdown",
      "source": [
        "# **1.3**"
      ],
      "metadata": {
        "id": "xMv58Qs7vWiT"
      }
    },
    {
      "cell_type": "markdown",
      "source": [
        "**UNIVARIATE**"
      ],
      "metadata": {
        "id": "PivC4dFuwx4m"
      }
    },
    {
      "cell_type": "code",
      "source": [
        "sns.countplot(x = \"Gender\" , data=df)\n",
        "plt.show()"
      ],
      "metadata": {
        "colab": {
          "base_uri": "https://localhost:8080/",
          "height": 279
        },
        "id": "Aj8smLhBvY5u",
        "outputId": "da2e720e-7d4d-42b2-d35c-2084858683f2"
      },
      "execution_count": 30,
      "outputs": [
        {
          "output_type": "display_data",
          "data": {
            "text/plain": [
              "<Figure size 432x288 with 1 Axes>"
            ],
            "image/png": "[encoded data removed]"
          },
          "metadata": {
            "needs_background": "light"
          }
        }
      ]
    },
    {
      "cell_type": "code",
      "source": [
        "sns.countplot(x = \"Age\" , data=df)\n",
        "plt.show()"
      ],
      "metadata": {
        "colab": {
          "base_uri": "https://localhost:8080/",
          "height": 279
        },
        "id": "IAm18DvnvzZI",
        "outputId": "33279c45-6b5e-473b-afea-76452b3a7eeb"
      },
      "execution_count": 31,
      "outputs": [
        {
          "output_type": "display_data",
          "data": {
            "text/plain": [
              "<Figure size 432x288 with 1 Axes>"
            ],
            "image/png": "[encoded data removed]"
          },
          "metadata": {
            "needs_background": "light"
          }
        }
      ]
    },
    {
      "cell_type": "code",
      "source": [
        "sns.countplot(x = \"City_Category\" , data=df)\n",
        "plt.show()"
      ],
      "metadata": {
        "colab": {
          "base_uri": "https://localhost:8080/",
          "height": 280
        },
        "id": "c819Z_p-xYBN",
        "outputId": "28ed600e-16cb-4822-c086-c40f05a19e8a"
      },
      "execution_count": 32,
      "outputs": [
        {
          "output_type": "display_data",
          "data": {
            "text/plain": [
              "<Figure size 432x288 with 1 Axes>"
            ],
            "image/png": "[encoded data removed]"
          },
          "metadata": {
            "needs_background": "light"
          }
        }
      ]
    },
    {
      "cell_type": "code",
      "source": [
        "sns.countplot(x = \"Stay_In_Current_City_Years\" , data=df)\n",
        "plt.show()"
      ],
      "metadata": {
        "colab": {
          "base_uri": "https://localhost:8080/",
          "height": 280
        },
        "id": "492Y-TxkxfB-",
        "outputId": "8a0e1879-5b22-4b0d-c360-dc2ce4153624"
      },
      "execution_count": 33,
      "outputs": [
        {
          "output_type": "display_data",
          "data": {
            "text/plain": [
              "<Figure size 432x288 with 1 Axes>"
            ],
            "image/png": "[encoded data removed]"
          },
          "metadata": {
            "needs_background": "light"
          }
        }
      ]
    },
    {
      "cell_type": "code",
      "source": [
        "sns.countplot(x = \"Marital_Status\" , data=df)\n",
        "plt.show()"
      ],
      "metadata": {
        "colab": {
          "base_uri": "https://localhost:8080/",
          "height": 280
        },
        "id": "G_dwks-Wxloj",
        "outputId": "68bd0549-4976-4290-949e-83bb2d4272dc"
      },
      "execution_count": 34,
      "outputs": [
        {
          "output_type": "display_data",
          "data": {
            "text/plain": [
              "<Figure size 432x288 with 1 Axes>"
            ],
            "image/png": "[encoded data removed]"
          },
          "metadata": {
            "needs_background": "light"
          }
        }
      ]
    },
    {
      "cell_type": "code",
      "source": [
        "sns.countplot(x = \"Product_Category\" , data=df)\n",
        "plt.show()"
      ],
      "metadata": {
        "colab": {
          "base_uri": "https://localhost:8080/",
          "height": 280
        },
        "id": "d7rQckL-xvOj",
        "outputId": "7635be80-f1cf-4767-a60f-e6e679de057f"
      },
      "execution_count": 35,
      "outputs": [
        {
          "output_type": "display_data",
          "data": {
            "text/plain": [
              "<Figure size 432x288 with 1 Axes>"
            ],
            "image/png": "[encoded data removed]"
          },
          "metadata": {
            "needs_background": "light"
          }
        }
      ]
    },
    {
      "cell_type": "code",
      "source": [
        "sns.countplot(x = \"Occupation\" , data=df)\n",
        "plt.show()"
      ],
      "metadata": {
        "colab": {
          "base_uri": "https://localhost:8080/",
          "height": 279
        },
        "id": "Q4_rELThx15d",
        "outputId": "e5e268a4-0db9-4ef0-9131-313d41fbf39e"
      },
      "execution_count": 36,
      "outputs": [
        {
          "output_type": "display_data",
          "data": {
            "text/plain": [
              "<Figure size 432x288 with 1 Axes>"
            ],
            "image/png": "[encoded data removed]"
          },
          "metadata": {
            "needs_background": "light"
          }
        }
      ]
    },
    {
      "cell_type": "code",
      "source": [
        "sns.histplot(x = \"Purchase\" , data=df)\n",
        "plt.show()"
      ],
      "metadata": {
        "colab": {
          "base_uri": "https://localhost:8080/",
          "height": 279
        },
        "id": "RFyNmKClyLkw",
        "outputId": "daf0ea9e-e62d-45a0-f64e-ccb9b3e7d3a4"
      },
      "execution_count": 37,
      "outputs": [
        {
          "output_type": "display_data",
          "data": {
            "text/plain": [
              "<Figure size 432x288 with 1 Axes>"
            ],
            "image/png": "[encoded data removed]"
          },
          "metadata": {
            "needs_background": "light"
          }
        }
      ]
    },
    {
      "cell_type": "code",
      "source": [],
      "metadata": {
        "id": "ufdHAuHazQh9"
      },
      "execution_count": 37,
      "outputs": []
    },
    {
      "cell_type": "markdown",
      "source": [
        "**BIVARIATE**"
      ],
      "metadata": {
        "id": "oF8C6soz2OfF"
      }
    },
    {
      "cell_type": "code",
      "source": [
        "sns.boxplot(x= \"Gender\" , y = \"Purchase\" , data=df)\n",
        "plt.show()"
      ],
      "metadata": {
        "colab": {
          "base_uri": "https://localhost:8080/",
          "height": 282
        },
        "id": "3t8t2IzO2Sxd",
        "outputId": "14496b18-3328-4367-f4c1-72f4186e4ea3"
      },
      "execution_count": 38,
      "outputs": [
        {
          "output_type": "display_data",
          "data": {
            "text/plain": [
              "<Figure size 432x288 with 1 Axes>"
            ],
            "image/png": "[encoded data removed]"
          },
          "metadata": {
            "needs_background": "light"
          }
        }
      ]
    },
    {
      "cell_type": "code",
      "source": [
        "sns.boxplot(x= \"Age\" , y = \"Purchase\" , data=df)\n",
        "plt.show()"
      ],
      "metadata": {
        "colab": {
          "base_uri": "https://localhost:8080/",
          "height": 282
        },
        "id": "3ZZfHMxQ2nvV",
        "outputId": "a70699ad-dfe0-407d-892f-8a9da38b3136"
      },
      "execution_count": 39,
      "outputs": [
        {
          "output_type": "display_data",
          "data": {
            "text/plain": [
              "<Figure size 432x288 with 1 Axes>"
            ],
            "image/png": "[encoded data removed]"
          },
          "metadata": {
            "needs_background": "light"
          }
        }
      ]
    },
    {
      "cell_type": "code",
      "source": [
        "sns.boxplot(x= \"Marital_Status\" , y = \"Purchase\" , data=df)\n",
        "plt.show()"
      ],
      "metadata": {
        "colab": {
          "base_uri": "https://localhost:8080/",
          "height": 283
        },
        "id": "KgB3OmQB2rgt",
        "outputId": "bf0ee90d-3271-4f9f-bb8a-f20f0c14493f"
      },
      "execution_count": 40,
      "outputs": [
        {
          "output_type": "display_data",
          "data": {
            "text/plain": [
              "<Figure size 432x288 with 1 Axes>"
            ],
            "image/png": "[encoded data removed]"
          },
          "metadata": {
            "needs_background": "light"
          }
        }
      ]
    },
    {
      "cell_type": "code",
      "source": [
        "sns.boxplot(x= \"City_Category\" , y = \"Purchase\" , data=df)\n",
        "plt.show()"
      ],
      "metadata": {
        "colab": {
          "base_uri": "https://localhost:8080/",
          "height": 283
        },
        "id": "1EqhRsuR2sA8",
        "outputId": "5eaae104-da75-4b97-dd7a-83a3800977e5"
      },
      "execution_count": 41,
      "outputs": [
        {
          "output_type": "display_data",
          "data": {
            "text/plain": [
              "<Figure size 432x288 with 1 Axes>"
            ],
            "image/png": "[encoded data removed]"
          },
          "metadata": {
            "needs_background": "light"
          }
        }
      ]
    },
    {
      "cell_type": "code",
      "source": [
        "sns.boxplot(x= \"Stay_In_Current_City_Years\" , y = \"Purchase\" , data=df)\n",
        "plt.show()"
      ],
      "metadata": {
        "colab": {
          "base_uri": "https://localhost:8080/",
          "height": 283
        },
        "id": "JUZyo6NW2sKj",
        "outputId": "3219fca1-d717-4d35-9f3f-7a59786edda5"
      },
      "execution_count": 42,
      "outputs": [
        {
          "output_type": "display_data",
          "data": {
            "text/plain": [
              "<Figure size 432x288 with 1 Axes>"
            ],
            "image/png": "[encoded data removed]"
          },
          "metadata": {
            "needs_background": "light"
          }
        }
      ]
    },
    {
      "cell_type": "code",
      "source": [
        "sns.boxplot(x= \"Occupation\" , y = \"Purchase\" , data=df)\n",
        "plt.show()"
      ],
      "metadata": {
        "colab": {
          "base_uri": "https://localhost:8080/",
          "height": 282
        },
        "id": "j7z0_0cM3GMu",
        "outputId": "549e16a6-043e-4ea6-bbeb-418167d3b3c4"
      },
      "execution_count": 43,
      "outputs": [
        {
          "output_type": "display_data",
          "data": {
            "text/plain": [
              "<Figure size 432x288 with 1 Axes>"
            ],
            "image/png": "[encoded data removed]"
          },
          "metadata": {
            "needs_background": "light"
          }
        }
      ]
    },
    {
      "cell_type": "code",
      "source": [
        "sns.boxplot(x= \"Product_Category\" , y = \"Purchase\" , data=df)\n",
        "plt.show()"
      ],
      "metadata": {
        "colab": {
          "base_uri": "https://localhost:8080/",
          "height": 283
        },
        "id": "1x8JhYQ13Gbd",
        "outputId": "d263b2f7-b0b5-4ab4-a3d2-a4946cf104c0"
      },
      "execution_count": 44,
      "outputs": [
        {
          "output_type": "display_data",
          "data": {
            "text/plain": [
              "<Figure size 432x288 with 1 Axes>"
            ],
            "image/png": "[encoded data removed]"
          },
          "metadata": {
            "needs_background": "light"
          }
        }
      ]
    },
    {
      "cell_type": "code",
      "source": [],
      "metadata": {
        "id": "vNeRQlNy3Vt6"
      },
      "execution_count": 44,
      "outputs": []
    },
    {
      "cell_type": "markdown",
      "source": [
        "**MULTIVARIATE**"
      ],
      "metadata": {
        "id": "qA1T-b1K4AZE"
      }
    },
    {
      "cell_type": "code",
      "source": [
        "sns.boxplot(x= \"Marital_Status\" , y = \"Purchase\" , data=df , hue = \"Gender\")\n",
        "plt.show()"
      ],
      "metadata": {
        "colab": {
          "base_uri": "https://localhost:8080/",
          "height": 283
        },
        "id": "wp9wArFN4Das",
        "outputId": "71f8d6b7-274d-47ad-b0a8-07799cf63143"
      },
      "execution_count": 45,
      "outputs": [
        {
          "output_type": "display_data",
          "data": {
            "text/plain": [
              "<Figure size 432x288 with 1 Axes>"
            ],
            "image/png": "[encoded data removed]"
          },
          "metadata": {
            "needs_background": "light"
          }
        }
      ]
    },
    {
      "cell_type": "code",
      "source": [
        "sns.boxplot(x= \"City_Category\" , y = \"Purchase\" , data=df , hue = \"Gender\")\n",
        "plt.show()"
      ],
      "metadata": {
        "colab": {
          "base_uri": "https://localhost:8080/",
          "height": 283
        },
        "id": "S5VhTz5W4Dh9",
        "outputId": "45b40548-ca67-4832-98e3-0a5b83526957"
      },
      "execution_count": 46,
      "outputs": [
        {
          "output_type": "display_data",
          "data": {
            "text/plain": [
              "<Figure size 432x288 with 1 Axes>"
            ],
            "image/png": "[encoded data removed]"
          },
          "metadata": {
            "needs_background": "light"
          }
        }
      ]
    },
    {
      "cell_type": "code",
      "source": [
        "sns.boxplot(x= \"Age\" , y = \"Purchase\" , data=df , hue = \"Gender\")\n",
        "plt.show()"
      ],
      "metadata": {
        "colab": {
          "base_uri": "https://localhost:8080/",
          "height": 282
        },
        "id": "aEtMoLf94DoC",
        "outputId": "7c58a28a-5eb8-457c-ce87-1d295ff85af4"
      },
      "execution_count": 47,
      "outputs": [
        {
          "output_type": "display_data",
          "data": {
            "text/plain": [
              "<Figure size 432x288 with 1 Axes>"
            ],
            "image/png": "[encoded data removed]"
          },
          "metadata": {
            "needs_background": "light"
          }
        }
      ]
    },
    {
      "cell_type": "code",
      "source": [
        "sns.boxplot(x= \"Stay_In_Current_City_Years\" , y = \"Purchase\" , data=df , hue = \"Gender\")\n",
        "plt.show()"
      ],
      "metadata": {
        "colab": {
          "base_uri": "https://localhost:8080/",
          "height": 283
        },
        "id": "sI1t_Jm04gcE",
        "outputId": "cb452519-b709-4c7d-fc17-c24ad46a2b89"
      },
      "execution_count": 48,
      "outputs": [
        {
          "output_type": "display_data",
          "data": {
            "text/plain": [
              "<Figure size 432x288 with 1 Axes>"
            ],
            "image/png": "[encoded data removed]"
          },
          "metadata": {
            "needs_background": "light"
          }
        }
      ]
    },
    {
      "cell_type": "code",
      "source": [],
      "metadata": {
        "id": "j3uUui1e45xl"
      },
      "execution_count": null,
      "outputs": []
    },
    {
      "cell_type": "code",
      "source": [
        "sns.boxplot(x= \"Gender\" , y = \"Purchase\" , data=df , hue = \"Marital_Status\")\n",
        "plt.show()"
      ],
      "metadata": {
        "colab": {
          "base_uri": "https://localhost:8080/",
          "height": 282
        },
        "id": "rEAYblmr33tV",
        "outputId": "bd53350d-3a10-44ba-af81-1f1813897de3"
      },
      "execution_count": 57,
      "outputs": [
        {
          "output_type": "display_data",
          "data": {
            "text/plain": [
              "<Figure size 432x288 with 1 Axes>"
            ],
            "image/png": "[encoded data removed]"
          },
          "metadata": {
            "needs_background": "light"
          }
        }
      ]
    },
    {
      "cell_type": "code",
      "source": [
        "sns.boxplot(x= \"City_Category\" , y = \"Purchase\" , data=df , hue = \"Marital_Status\")\n",
        "plt.show()"
      ],
      "metadata": {
        "colab": {
          "base_uri": "https://localhost:8080/",
          "height": 283
        },
        "id": "y5ENzV1_4E0C",
        "outputId": "4c2079bf-6161-4bcb-8793-85eaafcdd8ed"
      },
      "execution_count": 58,
      "outputs": [
        {
          "output_type": "display_data",
          "data": {
            "text/plain": [
              "<Figure size 432x288 with 1 Axes>"
            ],
            "image/png": "[encoded data removed]"
          },
          "metadata": {
            "needs_background": "light"
          }
        }
      ]
    },
    {
      "cell_type": "code",
      "source": [
        "sns.boxplot(x= \"Age\" , y = \"Purchase\" , data=df , hue = \"Marital_Status\")\n",
        "plt.show()"
      ],
      "metadata": {
        "colab": {
          "base_uri": "https://localhost:8080/",
          "height": 282
        },
        "id": "hp5-vimd4E9a",
        "outputId": "f23e9c71-cc38-483f-adfb-6873dd56c267"
      },
      "execution_count": 59,
      "outputs": [
        {
          "output_type": "display_data",
          "data": {
            "text/plain": [
              "<Figure size 432x288 with 1 Axes>"
            ],
            "image/png": "[encoded data removed]"
          },
          "metadata": {
            "needs_background": "light"
          }
        }
      ]
    },
    {
      "cell_type": "code",
      "source": [
        "sns.boxplot(x= \"Stay_In_Current_City_Years\" , y = \"Purchase\" , data=df , hue = \"Marital_Status\")\n",
        "plt.show()"
      ],
      "metadata": {
        "colab": {
          "base_uri": "https://localhost:8080/",
          "height": 283
        },
        "id": "yKUmdtzm4FFJ",
        "outputId": "31473d21-5cf4-4df3-8300-c184c68dc0b7"
      },
      "execution_count": 60,
      "outputs": [
        {
          "output_type": "display_data",
          "data": {
            "text/plain": [
              "<Figure size 432x288 with 1 Axes>"
            ],
            "image/png": "[encoded data removed]"
          },
          "metadata": {
            "needs_background": "light"
          }
        }
      ]
    },
    {
      "cell_type": "code",
      "source": [],
      "metadata": {
        "id": "Ub7O2Qpj44AI"
      },
      "execution_count": null,
      "outputs": []
    },
    {
      "cell_type": "code",
      "source": [
        "sns.boxplot(x= \"Gender\" , y = \"Purchase\" , data=df , hue = \"City_Category\")\n",
        "plt.show()"
      ],
      "metadata": {
        "colab": {
          "base_uri": "https://localhost:8080/",
          "height": 282
        },
        "id": "Rp4AhdHN4FJH",
        "outputId": "9b26b74d-efc7-40ea-9efc-671a363c5b2d"
      },
      "execution_count": 61,
      "outputs": [
        {
          "output_type": "display_data",
          "data": {
            "text/plain": [
              "<Figure size 432x288 with 1 Axes>"
            ],
            "image/png": "[encoded data removed]"
          },
          "metadata": {
            "needs_background": "light"
          }
        }
      ]
    },
    {
      "cell_type": "code",
      "source": [
        "sns.boxplot(x= \"Marital_Status\" , y = \"Purchase\" , data=df , hue = \"City_Category\")\n",
        "plt.show()"
      ],
      "metadata": {
        "colab": {
          "base_uri": "https://localhost:8080/",
          "height": 283
        },
        "id": "8cxnp5mt4FNq",
        "outputId": "f67f4668-7c40-487d-b990-765c58411857"
      },
      "execution_count": 64,
      "outputs": [
        {
          "output_type": "display_data",
          "data": {
            "text/plain": [
              "<Figure size 432x288 with 1 Axes>"
            ],
            "image/png": "[encoded data removed]"
          },
          "metadata": {
            "needs_background": "light"
          }
        }
      ]
    },
    {
      "cell_type": "code",
      "source": [
        "sns.boxplot(x= \"Age\" , y = \"Purchase\" , data=df , hue = \"City_Category\")\n",
        "plt.show()"
      ],
      "metadata": {
        "colab": {
          "base_uri": "https://localhost:8080/",
          "height": 282
        },
        "id": "JswdIqpH4oB4",
        "outputId": "a9fbf5ce-e9b1-48f8-ac93-191d6f2b6cb4"
      },
      "execution_count": 65,
      "outputs": [
        {
          "output_type": "display_data",
          "data": {
            "text/plain": [
              "<Figure size 432x288 with 1 Axes>"
            ],
            "image/png": "[encoded data removed]"
          },
          "metadata": {
            "needs_background": "light"
          }
        }
      ]
    },
    {
      "cell_type": "code",
      "source": [
        "sns.boxplot(x= \"Stay_In_Current_City_Years\" , y = \"Purchase\" , data=df , hue = \"City_Category\")\n",
        "plt.show()"
      ],
      "metadata": {
        "colab": {
          "base_uri": "https://localhost:8080/",
          "height": 283
        },
        "id": "47DB_An44oJk",
        "outputId": "d411dcd9-b589-45ff-b3d4-921c3600a721"
      },
      "execution_count": 66,
      "outputs": [
        {
          "output_type": "display_data",
          "data": {
            "text/plain": [
              "<Figure size 432x288 with 1 Axes>"
            ],
            "image/png": "[encoded data removed]"
          },
          "metadata": {
            "needs_background": "light"
          }
        }
      ]
    },
    {
      "cell_type": "code",
      "source": [],
      "metadata": {
        "id": "I5RIEsvQ4FUk"
      },
      "execution_count": 62,
      "outputs": []
    },
    {
      "cell_type": "code",
      "source": [
        "sns.heatmap(data = df.corr() , annot=True)\n",
        "plt.show()"
      ],
      "metadata": {
        "colab": {
          "base_uri": "https://localhost:8080/",
          "height": 348
        },
        "id": "T8EPLVVi4sZ0",
        "outputId": "8dbf6ac3-87b1-4018-a863-17adb8b30d4f"
      },
      "execution_count": 67,
      "outputs": [
        {
          "output_type": "display_data",
          "data": {
            "text/plain": [
              "<Figure size 432x288 with 2 Axes>"
            ],
            "image/png": "[encoded data removed]"
          },
          "metadata": {
            "needs_background": "light"
          }
        }
      ]
    },
    {
      "cell_type": "markdown",
      "source": [
        "# **2.0**"
      ],
      "metadata": {
        "id": "rPMlaDEUv7eF"
      }
    },
    {
      "cell_type": "markdown",
      "source": [
        "**Missing** **Value**"
      ],
      "metadata": {
        "id": "hEU88ujA6Xx8"
      }
    },
    {
      "cell_type": "code",
      "source": [
        "df.isnull().sum()"
      ],
      "metadata": {
        "colab": {
          "base_uri": "https://localhost:8080/"
        },
        "id": "nqZdo3iYv-Yy",
        "outputId": "d0056c1c-aec2-4b39-b56c-bcf3aca7a417"
      },
      "execution_count": 50,
      "outputs": [
        {
          "output_type": "execute_result",
          "data": {
            "text/plain": [
              "User_ID                       0\n",
              "Product_ID                    0\n",
              "Gender                        0\n",
              "Age                           0\n",
              "Occupation                    0\n",
              "City_Category                 0\n",
              "Stay_In_Current_City_Years    0\n",
              "Marital_Status                0\n",
              "Product_Category              0\n",
              "Purchase                      0\n",
              "dtype: int64"
            ]
          },
          "metadata": {},
          "execution_count": 50
        }
      ]
    },
    {
      "cell_type": "markdown",
      "source": [
        "Observation \n",
        "\n",
        "As we can see there is no NULL value in any column of the data i.e  missing value % = 0"
      ],
      "metadata": {
        "id": "kYwsLDSF6hvF"
      }
    },
    {
      "cell_type": "markdown",
      "source": [
        "**Outlier Detection**"
      ],
      "metadata": {
        "id": "n1N3mS5l7C8U"
      }
    },
    {
      "cell_type": "code",
      "source": [
        "sns.boxplot(y=\"Purchase\" , data=df)"
      ],
      "metadata": {
        "colab": {
          "base_uri": "https://localhost:8080/",
          "height": 273
        },
        "id": "HHCo8T7u6WGM",
        "outputId": "d5ee5936-4951-4ca0-d0fa-daa46eab4b25"
      },
      "execution_count": 51,
      "outputs": [
        {
          "output_type": "execute_result",
          "data": {
            "text/plain": [
              "<matplotlib.axes._subplots.AxesSubplot at 0x7f4603377690>"
            ]
          },
          "metadata": {},
          "execution_count": 51
        },
        {
          "output_type": "display_data",
          "data": {
            "text/plain": [
              "<Figure size 432x288 with 1 Axes>"
            ],
            "image/png": "[encoded data removed]"
          },
          "metadata": {
            "needs_background": "light"
          }
        }
      ]
    },
    {
      "cell_type": "code",
      "source": [
        "q1 = df[\"Purchase\"].quantile(0.25)\n",
        "print(q1)\n",
        "q2 = df[\"Purchase\"].quantile(0.5)\n",
        "print(q2)\n",
        "q3 = df[\"Purchase\"].quantile(0.75)\n",
        "print(q3)"
      ],
      "metadata": {
        "colab": {
          "base_uri": "https://localhost:8080/"
        },
        "id": "HDQxST457OFr",
        "outputId": "cebc5376-68c6-4885-cca0-39ffda481dba"
      },
      "execution_count": 52,
      "outputs": [
        {
          "output_type": "stream",
          "name": "stdout",
          "text": [
            "5823.0\n",
            "8047.0\n",
            "12054.0\n"
          ]
        }
      ]
    },
    {
      "cell_type": "code",
      "source": [
        "IQR = q3-q1\n",
        "IQR"
      ],
      "metadata": {
        "colab": {
          "base_uri": "https://localhost:8080/"
        },
        "id": "xSnkyUun7iW4",
        "outputId": "4ac8b631-d301-4a28-ed9f-0e253f1a050c"
      },
      "execution_count": 53,
      "outputs": [
        {
          "output_type": "execute_result",
          "data": {
            "text/plain": [
              "6231.0"
            ]
          },
          "metadata": {},
          "execution_count": 53
        }
      ]
    },
    {
      "cell_type": "code",
      "source": [
        "(df[\"Purchase\"] < (q1 - 1.5*iqr)).value_counts()"
      ],
      "metadata": {
        "colab": {
          "base_uri": "https://localhost:8080/",
          "height": 171
        },
        "id": "tzUmHBBO72Ct",
        "outputId": "54e0111e-5bdf-4897-d71a-4ee0cdd9c73e"
      },
      "execution_count": 54,
      "outputs": [
        {
          "output_type": "error",
          "ename": "NameError",
          "evalue": "ignored",
          "traceback": [
            "\u001b[0;31m---------------------------------------------------------------------------\u001b[0m",
            "\u001b[0;31mNameError\u001b[0m                                 Traceback (most recent call last)",
            "\u001b[0;32m<ipython-input-54-a1dcd696776a>\u001b[0m in \u001b[0;36m<module>\u001b[0;34m\u001b[0m\n\u001b[0;32m----> 1\u001b[0;31m \u001b[0;34m(\u001b[0m\u001b[0mdf\u001b[0m\u001b[0;34m[\u001b[0m\u001b[0;34m\"Purchase\"\u001b[0m\u001b[0;34m]\u001b[0m \u001b[0;34m<\u001b[0m \u001b[0;34m(\u001b[0m\u001b[0mq1\u001b[0m \u001b[0;34m-\u001b[0m \u001b[0;36m1.5\u001b[0m\u001b[0;34m*\u001b[0m\u001b[0miqr\u001b[0m\u001b[0;34m)\u001b[0m\u001b[0;34m)\u001b[0m\u001b[0;34m.\u001b[0m\u001b[0mvalue_counts\u001b[0m\u001b[0;34m(\u001b[0m\u001b[0;34m)\u001b[0m\u001b[0;34m\u001b[0m\u001b[0;34m\u001b[0m\u001b[0m\n\u001b[0m",
            "\u001b[0;31mNameError\u001b[0m: name 'iqr' is not defined"
          ]
        }
      ]
    },
    {
      "cell_type": "code",
      "source": [
        "(df[\"Purchase\"] > (q3 + 1.5*iqr)).value_counts()"
      ],
      "metadata": {
        "id": "bnB5CnMH7nW3"
      },
      "execution_count": null,
      "outputs": []
    },
    {
      "cell_type": "code",
      "source": [
        "X = (2677/550068)*100\n",
        "X"
      ],
      "metadata": {
        "id": "u8xTLbna7uA3"
      },
      "execution_count": null,
      "outputs": []
    },
    {
      "cell_type": "markdown",
      "source": [
        "Observation\n",
        "\n",
        "So we can see here the total Outlier in purchase is 2677 out of 550068 i.e 0.5% because Mean of Purchase is 9264 while Median of Purchase is 8047\n"
      ],
      "metadata": {
        "id": "lWaj63_i8FFr"
      }
    },
    {
      "cell_type": "code",
      "source": [],
      "metadata": {
        "id": "PAwXAmwX7uhB"
      },
      "execution_count": null,
      "outputs": []
    },
    {
      "cell_type": "markdown",
      "source": [
        "# **3.1**"
      ],
      "metadata": {
        "id": "AM2JxletD5bT"
      }
    },
    {
      "cell_type": "markdown",
      "source": [
        "**Range of Attributes**\n",
        "\n",
        "1. Minimum Purchase amount is 12.\n",
        "2. Maximum Purchase amount is 23961.\n",
        "3. Average Purchase amount is 9264.\n",
        "4. Total Purchase amount is nearly 5096 Million.\n",
        "\n",
        "\n",
        "1. Minimum Purchase amount by Male and Female is 12.\n",
        "2. Maximum Purchase amount by Male and Female is 23961.\n",
        "3. Average Purchase amount by Male is 9438 while by Female is 8734\n",
        "4. Total Purchase amount by Male is 3910 Million while by Female is 1186 Million.\n",
        "\n",
        "\n",
        "\n",
        "1. Minimum Purchase amount by Unmarried and Married is 12.\n",
        "2. Maximum Purchase amount by Unmarried and Married is 23961.\n",
        "3. Average Purchase amount by Unmarried is 9266 while by Married is 9261\n",
        "4. Total Purchase amount by Unmarried is 3009 Million while by Married is 2087 Million.\n",
        "\n",
        "\n",
        "\n",
        "1. Minimum Purchase amount by City_Category of    \n",
        "[\"A\" = 12] ,    [\"B\" = 12] ,     [\"C\" = 12]\n",
        "2. Maximum Purchase amount by City Category of    \n",
        "[\"A\" = 23961] , [\"B\" = 23960] , [\"C\" = 23961]\n",
        "3. Average Purchase amount by City Category of     \n",
        "[\"A\" = 8912] ,  [\"B\" = 9151] ,  [\"C\" = 9720]\n",
        "4. Total Purchase amount by City Category of       \n",
        "[\"A\" = 1316] ,  [\"B\" = 2116] ,  [\"C\" = 1664]\n",
        "\n",
        "\n",
        "\n",
        "1. Minimum Purchase amount by Stay_In_Current_City_Years of    \n",
        "[\"0\" = 12],  [\"1\" = 12],    [\"2\" = 12],    [\"3\" = 12],    [\"4+\" = 12]\n",
        "2. Maximum Purchase amount by Stay_In_Current_City_Years of    \n",
        "[\"0\" = 23960] , [\"1\" = 23961] , [\"2\" = 23961] , [\"3\" = 23961] , [\"4+\" = 23958]\n",
        "3. Average Purchase amount by Stay_In_Current_City_Years of     \n",
        "[\"0\" = 9180] ,  [\"1\" = 9250] ,  [\"2\" = 9320],  [\"3\" = 9287] ,  [\"4+\" = 9276]\n",
        "4. Total Purchase amount by Stay_In_Current_City_Years of       \n",
        "[\"0\" = 683] ,   [\"1\" = 1793] ,  [\"2\" = 949] ,   [\"3\" = 885] ,   [\"4+\" = 786]\n",
        "\n",
        "\n",
        "\n",
        "1. Minimum Purchase amount by Age group of    \n",
        "[\"0-17\" = 12] ,     [\"18-25\" = 12] ,    [\"26-35\" = 12] ,    [\"36-45\" = 12] ,    [\"46-50\" = 12] ,    [\"51-55\" = 12] ,    [\"55+\" = 12]\n",
        "2. Maximum Purchase amount by Stay_In_Current_City_Years of    \n",
        "[\"0-17\" = 23955] ,  [\"18-25\" = 23958] , [\"26-35\" = 23961] , [\"36-45\" = 23960] , [\"46-50\" = 23960], [\"51-55\" = 23960] , [\"55+\" = 23960]\n",
        "3. Average Purchase amount by Stay_In_Current_City_Years of     \n",
        "[\"0-17\" = 8933] ,   [\"18-25\" = 9170],  [\"26-35\" = 9253] ,  [\"36-45\" = 9331] ,  [\"46-50\" = 9209] ,  [\"51-55\" = 9535] ,  [\"55+\" = 9336]\n",
        "4. Total Purchase amount by Stay_In_Current_City_Years of       \n",
        "[\"0-17\" = 135] ,    [\"18-25\" = 914] ,   [\"26-35\" = 2032] ,  [\"36-45\" = 1027],  [\"46-50\" = 421],   [\"51-55\" = 367],   [\"55+\" = 200]"
      ],
      "metadata": {
        "id": "GxIJCo6IEDEz"
      }
    },
    {
      "cell_type": "code",
      "source": [],
      "metadata": {
        "id": "ORoMWJG4D9vb"
      },
      "execution_count": null,
      "outputs": []
    },
    {
      "cell_type": "markdown",
      "source": [
        "# **3.2**"
      ],
      "metadata": {
        "id": "3z6bIL6LrAMM"
      }
    },
    {
      "cell_type": "code",
      "source": [
        "sns.histplot(x = \"Purchase\" , data=df)\n",
        "plt.show()"
      ],
      "metadata": {
        "id": "hPtuk5C5rCAI",
        "colab": {
          "base_uri": "https://localhost:8080/",
          "height": 279
        },
        "outputId": "67333e5d-f439-4ec0-b74f-5219ffde176c"
      },
      "execution_count": 55,
      "outputs": [
        {
          "output_type": "display_data",
          "data": {
            "text/plain": [
              "<Figure size 432x288 with 1 Axes>"
            ],
            "image/png": "[encoded data removed]"
          },
          "metadata": {
            "needs_background": "light"
          }
        }
      ]
    },
    {
      "cell_type": "markdown",
      "source": [
        "The distribution of the \"Purchase\" variable is Normal Distribution in which the Firstly increasing till 8000 then decreasing till 250000.\n",
        "\n",
        "1. Purchase amount of 0 to 5000 is approximate 8000 times \n",
        "2. Purchase amount of 5000 to 10000 is approximate 20000 times \n",
        "3. Purchase amount of 10000 to 20000 is approximate 10000 times\n",
        "4. Purchase amount of 20000 to 25000 is approximate 2000 times  "
      ],
      "metadata": {
        "id": "oEbIWxLVs2s9"
      }
    },
    {
      "cell_type": "code",
      "source": [
        "sns.heatmap(data = df.corr() , annot=True)\n",
        "plt.show()"
      ],
      "metadata": {
        "colab": {
          "base_uri": "https://localhost:8080/",
          "height": 348
        },
        "outputId": "aa981b1b-ee0a-4f7c-d630-04282af94dd3",
        "id": "2kQvXmvYubvw"
      },
      "execution_count": 56,
      "outputs": [
        {
          "output_type": "display_data",
          "data": {
            "text/plain": [
              "<Figure size 432x288 with 2 Axes>"
            ],
            "image/png": "[encoded data removed]"
          },
          "metadata": {
            "needs_background": "light"
          }
        }
      ]
    },
    {
      "cell_type": "markdown",
      "source": [
        "There is Negative Relationship between the following variables such as:\n",
        "\n",
        "1. User_ID and Occupation\n",
        "2. Occupation and Product_Category\n",
        "3. Marital_Status and Purchase\n",
        "4. Product_Category and Purchase\n",
        "\n",
        "\n",
        "There is Positive Relationship between the following variables such as:\n",
        "\n",
        "1. User_ID and Marital_Status \n",
        "2. User_ID and Product_Category\n",
        "3. User_ID and Purchase\n",
        "4. Occupation and Marital_Status\n",
        "5. Occupation and Purchase\n",
        "6. Marital_Status and Product_Category\n",
        "\n"
      ],
      "metadata": {
        "id": "7kK3oH0Hud6U"
      }
    },
    {
      "cell_type": "code",
      "source": [],
      "metadata": {
        "id": "uakVyGUewVhc"
      },
      "execution_count": null,
      "outputs": []
    },
    {
      "cell_type": "markdown",
      "source": [
        "# **3.3**"
      ],
      "metadata": {
        "id": "pbdFA8Q4wXJs"
      }
    },
    {
      "cell_type": "markdown",
      "source": [
        "**UNIVARIATE** Observations\n",
        "\n",
        "1. In all transactions, 75% users are Male and 25% are Female.\n",
        "2. 78 % Users are in Age range of 18-45 years while from Age range of 26-35 is Maximum.\n",
        "3. Top 3 Occupation of Buyers is 0, 4, 7 (masked) in which 4 is Maximum and 8 is Minimum.\n",
        "4. Most Buyers lie in City_Category B.\n",
        "5. Unmarried Users are 60% and Married Users are 40%.\n",
        "6. Users who are staying since 1 year are purchasing mostly while staying less than 1 year are purchasing Minimum times\n",
        "7. Product category 1, 5 and 8 is purchased mainly."
      ],
      "metadata": {
        "id": "mVrP7KI1w3Ol"
      }
    },
    {
      "cell_type": "markdown",
      "source": [
        "**BIVARIATE** Observations\n",
        "\n",
        "1. Average Purchase amount by Male is relatively much higher than Female.\n",
        "2. Average Purchase amount by Unmarried and Married is nearly equal.\n",
        "3. Average Purchase amount for Product_Category \"10\" is relatively much higher.\n",
        "4. Average Purchase amount for Users residing in City_Category \"C\" is higher while residing in City_Category \"A\" is lower.\n",
        "5. Average Purchase amount for Users whose Age range of \"51-55\" is higher while Age range of \"0-17\" is lower\n",
        " "
      ],
      "metadata": {
        "id": "ABGSV3jl00pF"
      }
    },
    {
      "cell_type": "markdown",
      "source": [
        "**MULTIVARIATE** Observations\n",
        "\n",
        "1. Males from City_Category \"C\" are much active\n",
        "2. In City_Category \"B\"  senior citizens spends more than other age groups\n",
        "3. Other than these no significant observation from multivariate analysis"
      ],
      "metadata": {
        "id": "2AL-3iI33OFK"
      }
    },
    {
      "cell_type": "code",
      "source": [],
      "metadata": {
        "id": "UuLLX5-_wZNU"
      },
      "execution_count": null,
      "outputs": []
    },
    {
      "cell_type": "markdown",
      "source": [
        "# **4.1**"
      ],
      "metadata": {
        "id": "EfsZQlGc5-6c"
      }
    },
    {
      "cell_type": "markdown",
      "source": [
        "Women spending less money per transaction than Men because Average Purchase amount by Male is 9438 while by Female is 8734."
      ],
      "metadata": {
        "id": "mFbpa6nH6xcO"
      }
    },
    {
      "cell_type": "code",
      "source": [],
      "metadata": {
        "id": "X7NGtiCo6BZC"
      },
      "execution_count": null,
      "outputs": []
    },
    {
      "cell_type": "markdown",
      "source": [
        "# **4.2**"
      ],
      "metadata": {
        "id": "bk_6JKeE7Y4j"
      }
    },
    {
      "cell_type": "markdown",
      "source": [
        "Sample size - 100 , 2500 , 10000\n",
        "\n",
        "Distribution = 68% , 95.5% , 99.7%\n",
        "\n",
        "Confidence Interval = 90% , 95% , 99%"
      ],
      "metadata": {
        "id": "KP0Xeasa7a3s"
      }
    },
    {
      "cell_type": "code",
      "source": [
        "p68  = norm.ppf(.15)\n",
        "p90  = norm.ppf(.05)\n",
        "p95  = norm.ppf(.025)\n",
        "p955 = norm.ppf(.0225)\n",
        "p99  = norm.ppf(.005)\n",
        "p997 = norm.ppf(.0013)\n",
        "\n",
        "print(p68)\n",
        "print(p90)\n",
        "print(p95)\n",
        "print(p955)\n",
        "print(p99)\n",
        "print(p997)"
      ],
      "metadata": {
        "colab": {
          "base_uri": "https://localhost:8080/"
        },
        "id": "VVROOt0r8B38",
        "outputId": "dcc8d126-4c30-4ab4-b30e-06ef423a4d7b"
      },
      "execution_count": 77,
      "outputs": [
        {
          "output_type": "stream",
          "name": "stdout",
          "text": [
            "-1.0364333894937898\n",
            "-1.6448536269514729\n",
            "-1.9599639845400545\n",
            "-2.004654461765096\n",
            "-2.575829303548901\n",
            "-3.0114537584997843\n"
          ]
        }
      ]
    },
    {
      "cell_type": "code",
      "source": [],
      "metadata": {
        "id": "Gy0SdO9E8PaM"
      },
      "execution_count": 77,
      "outputs": []
    },
    {
      "cell_type": "markdown",
      "source": [
        "# **4.2** Female"
      ],
      "metadata": {
        "id": "JgD3c7LPfKR-"
      }
    },
    {
      "cell_type": "code",
      "source": [
        "b = df[df[\"Gender\"] == \"F\"]\n"
      ],
      "metadata": {
        "id": "NsT1_BLAccVV"
      },
      "execution_count": 78,
      "outputs": []
    },
    {
      "cell_type": "code",
      "source": [
        "b[\"Purchase\"].max()"
      ],
      "metadata": {
        "colab": {
          "base_uri": "https://localhost:8080/"
        },
        "id": "keoW2_Kjcf7v",
        "outputId": "4715dfa7-5914-4b92-f450-01772730d121"
      },
      "execution_count": 79,
      "outputs": [
        {
          "output_type": "execute_result",
          "data": {
            "text/plain": [
              "23959"
            ]
          },
          "metadata": {},
          "execution_count": 79
        }
      ]
    },
    {
      "cell_type": "code",
      "source": [
        "b[\"Purchase\"].min()"
      ],
      "metadata": {
        "colab": {
          "base_uri": "https://localhost:8080/"
        },
        "id": "RwUXBlCWcjYH",
        "outputId": "23e6b06a-b949-4e3b-a9ef-f971e88f7beb"
      },
      "execution_count": 80,
      "outputs": [
        {
          "output_type": "execute_result",
          "data": {
            "text/plain": [
              "12"
            ]
          },
          "metadata": {},
          "execution_count": 80
        }
      ]
    },
    {
      "cell_type": "code",
      "source": [
        "meanf = b[\"Purchase\"].mean()\n",
        "meanf"
      ],
      "metadata": {
        "colab": {
          "base_uri": "https://localhost:8080/"
        },
        "id": "bOJEv3P7clep",
        "outputId": "202af7d5-bc4a-4662-c150-1e0623a16fb4"
      },
      "execution_count": 81,
      "outputs": [
        {
          "output_type": "execute_result",
          "data": {
            "text/plain": [
              "8734.565765155476"
            ]
          },
          "metadata": {},
          "execution_count": 81
        }
      ]
    },
    {
      "cell_type": "code",
      "source": [
        "b[\"Purchase\"].median()"
      ],
      "metadata": {
        "colab": {
          "base_uri": "https://localhost:8080/"
        },
        "id": "JKPktzwQe2ih",
        "outputId": "150ccb19-9155-43eb-81d9-6edb69fe9f04"
      },
      "execution_count": 82,
      "outputs": [
        {
          "output_type": "execute_result",
          "data": {
            "text/plain": [
              "7914.0"
            ]
          },
          "metadata": {},
          "execution_count": 82
        }
      ]
    },
    {
      "cell_type": "code",
      "source": [
        "stdf = b[\"Purchase\"].std()\n",
        "stdf"
      ],
      "metadata": {
        "colab": {
          "base_uri": "https://localhost:8080/"
        },
        "id": "oyCiOqmxgfJD",
        "outputId": "e6f9804b-4169-48be-c790-02156d44becc"
      },
      "execution_count": 83,
      "outputs": [
        {
          "output_type": "execute_result",
          "data": {
            "text/plain": [
              "4767.233289291458"
            ]
          },
          "metadata": {},
          "execution_count": 83
        }
      ]
    },
    {
      "cell_type": "code",
      "source": [
        "y = b[\"Purchase\"].sum()/10**6\n",
        "y"
      ],
      "metadata": {
        "colab": {
          "base_uri": "https://localhost:8080/"
        },
        "id": "-aCgyaFOdxO2",
        "outputId": "7a6ef22b-6e5f-4d54-cbe5-1c37cd66e627"
      },
      "execution_count": 84,
      "outputs": [
        {
          "output_type": "execute_result",
          "data": {
            "text/plain": [
              "1186.232642"
            ]
          },
          "metadata": {},
          "execution_count": 84
        }
      ]
    },
    {
      "cell_type": "markdown",
      "source": [
        "***Size = 100***"
      ],
      "metadata": {
        "id": "sLaVvn2tfQD8"
      }
    },
    {
      "cell_type": "code",
      "source": [
        "fx = []\n",
        "\n",
        "for i in range (100):\n",
        "  x = b[\"Purchase\"].sample(100)\n",
        "  fx.append(np.mean(x))\n",
        "\n",
        "fmx = np.mean(fx)\n",
        "fmx"
      ],
      "metadata": {
        "colab": {
          "base_uri": "https://localhost:8080/"
        },
        "outputId": "580122ef-5505-4b8c-f4d1-d237c5e2f433",
        "id": "pATHZNv4fQD8"
      },
      "execution_count": 85,
      "outputs": [
        {
          "output_type": "execute_result",
          "data": {
            "text/plain": [
              "8721.001899999997"
            ]
          },
          "metadata": {},
          "execution_count": 85
        }
      ]
    },
    {
      "cell_type": "code",
      "source": [
        "x680 = [(fmx-1*(stdf/100**.5)) , (fmx+1*(stdf/100**.5))]\n",
        "x955 = [(fmx-2*(stdf/100**.5)) , (fmx+2*(stdf/100**.5))]\n",
        "x997 = [(fmx-3*(stdf/100**.5)) , (fmx+3*(stdf/100**.5))]\n",
        "\n",
        "print(x680)\n",
        "print(x955)\n",
        "print(x997)"
      ],
      "metadata": {
        "colab": {
          "base_uri": "https://localhost:8080/"
        },
        "outputId": "8470012d-3386-4344-a1da-da1273afae85",
        "id": "GCbtG1qEfQD9"
      },
      "execution_count": 86,
      "outputs": [
        {
          "output_type": "stream",
          "name": "stdout",
          "text": [
            "[8244.278571070852, 9197.725228929143]\n",
            "[7767.555242141706, 9674.44855785829]\n",
            "[7290.83191321256, 10151.171886787435]\n"
          ]
        }
      ]
    },
    {
      "cell_type": "code",
      "source": [
        "x90 = [(fmx - 1.64*(stdf/100**.5)) , (fmx + 1.64*(stdf/100**.5))]\n",
        "x95 = [(fmx - 1.96*(stdf/100**.5)) , (fmx + 1.96*(stdf/100**.5))]\n",
        "x99 = [(fmx - 2.58*(stdf/100**.5)) , (fmx + 2.58*(stdf/100**.5))]\n",
        "\n",
        "print(x90)\n",
        "print(x95)\n",
        "print(x99)"
      ],
      "metadata": {
        "colab": {
          "base_uri": "https://localhost:8080/"
        },
        "outputId": "956e2a14-c35a-494f-e202-0eba9825834c",
        "id": "0N2KXmAxfQD9"
      },
      "execution_count": 87,
      "outputs": [
        {
          "output_type": "stream",
          "name": "stdout",
          "text": [
            "[7939.175640556198, 9502.828159443796]\n",
            "[7786.624175298872, 9655.379624701123]\n",
            "[7491.055711362801, 9950.948088637193]\n"
          ]
        }
      ]
    },
    {
      "cell_type": "markdown",
      "source": [
        "***Size 2500***"
      ],
      "metadata": {
        "id": "HmP1kze1fQD9"
      }
    },
    {
      "cell_type": "code",
      "source": [
        "fy = []\n",
        "\n",
        "for i in range (2500):\n",
        "  y = b[\"Purchase\"].sample(2500)\n",
        "  fy.append(np.mean(y))\n",
        "\n",
        "fmy = np.mean(fy)\n",
        "fmy"
      ],
      "metadata": {
        "colab": {
          "base_uri": "https://localhost:8080/"
        },
        "outputId": "f81fc3e6-de2c-4439-ec0e-773d9f0bc2d0",
        "id": "dV0DNS0OfQD9"
      },
      "execution_count": 88,
      "outputs": [
        {
          "output_type": "execute_result",
          "data": {
            "text/plain": [
              "8734.2644256"
            ]
          },
          "metadata": {},
          "execution_count": 88
        }
      ]
    },
    {
      "cell_type": "code",
      "source": [
        "y680 = [(fmy-1*(stdf/2500**.5)) , (fmy+1*(stdf/2500**.5))]\n",
        "y955 = [(fmy-2*(stdf/2500**.5)) , (fmy+2*(stdf/2500**.5))]\n",
        "y997 = [(fmy-3*(stdf/2500**.5)) , (fmy+3*(stdf/2500**.5))]\n",
        "\n",
        "print(y680)\n",
        "print(y955)\n",
        "print(y997)"
      ],
      "metadata": {
        "colab": {
          "base_uri": "https://localhost:8080/"
        },
        "outputId": "329af0a9-3bbe-4a71-d61b-9369eaee6ebb",
        "id": "Uuqo8YygfQD-"
      },
      "execution_count": 89,
      "outputs": [
        {
          "output_type": "stream",
          "name": "stdout",
          "text": [
            "[8638.91975981417, 8829.60909138583]\n",
            "[8543.575094028341, 8924.95375717166]\n",
            "[8448.230428242512, 9020.298422957489]\n"
          ]
        }
      ]
    },
    {
      "cell_type": "code",
      "source": [
        "y90 = [(fmy - 1.64*(stdf/2500**.5)) , (fmy + 1.64*(stdf/2500**.5))]\n",
        "y95 = [(fmy - 1.96*(stdf/2500**.5)) , (fmy + 1.96*(stdf/2500**.5))]\n",
        "y99 = [(fmy - 2.58*(stdf/2500**.5)) , (fmy + 2.58*(stdf/2500**.5))]\n",
        "\n",
        "print(y90)\n",
        "print(y95)\n",
        "print(y99)"
      ],
      "metadata": {
        "colab": {
          "base_uri": "https://localhost:8080/"
        },
        "outputId": "960157b9-30f8-4576-cb0e-c39ed5a58e86",
        "id": "sLDgV4QQfQD-"
      },
      "execution_count": 90,
      "outputs": [
        {
          "output_type": "stream",
          "name": "stdout",
          "text": [
            "[8577.899173711241, 8890.62967748876]\n",
            "[8547.388880659775, 8921.139970540225]\n",
            "[8488.275187872561, 8980.25366332744]\n"
          ]
        }
      ]
    },
    {
      "cell_type": "markdown",
      "source": [
        "***Size 10000***"
      ],
      "metadata": {
        "id": "grx-louqfQD-"
      }
    },
    {
      "cell_type": "code",
      "source": [
        "fz = []\n",
        "\n",
        "for i in range (10000):\n",
        "  z = b[\"Purchase\"].sample(10000)\n",
        "  fz.append(np.mean(z))\n",
        "\n",
        "fmz = np.mean(fz)\n",
        "fmz"
      ],
      "metadata": {
        "colab": {
          "base_uri": "https://localhost:8080/"
        },
        "outputId": "d4c672bd-7391-47bc-f559-f6f5c28f4d23",
        "id": "IJ4yD9ZHfQD_"
      },
      "execution_count": 91,
      "outputs": [
        {
          "output_type": "execute_result",
          "data": {
            "text/plain": [
              "8734.494270199999"
            ]
          },
          "metadata": {},
          "execution_count": 91
        }
      ]
    },
    {
      "cell_type": "code",
      "source": [
        "z680 = [(fmz-1*(stdf/10000**.5)) , (fmz+1*(stdf/10000**.5))]\n",
        "z955 = [(fmz-2*(stdf/10000**.5)) , (fmz+2*(stdf/10000**.5))]\n",
        "z997 = [(fmz-3*(stdf/10000**.5)) , (fmz+3*(stdf/10000**.5))]\n",
        "\n",
        "print(z680)\n",
        "print(z955)\n",
        "print(z997)"
      ],
      "metadata": {
        "colab": {
          "base_uri": "https://localhost:8080/"
        },
        "outputId": "810cc19a-655e-439a-8678-3324e4955217",
        "id": "e_-0j5ESfQD_"
      },
      "execution_count": 92,
      "outputs": [
        {
          "output_type": "stream",
          "name": "stdout",
          "text": [
            "[8686.821937307084, 8782.166603092914]\n",
            "[8639.14960441417, 8829.838935985828]\n",
            "[8591.477271521255, 8877.511268878743]\n"
          ]
        }
      ]
    },
    {
      "cell_type": "code",
      "source": [
        "z90 = [(fmz - 1.64*(stdm/10000**.5)) , (fmz + 1.64*(stdm/10000**.5))]\n",
        "z95 = [(fmz - 1.96*(stdm/10000**.5)) , (fmz + 1.96*(stdm/10000**.5))]\n",
        "z99 = [(fmz - 2.58*(stdm/10000**.5)) , (fmz + 2.58*(stdm/10000**.5))]\n",
        "\n",
        "print(z90)\n",
        "print(z95)\n",
        "print(z99)"
      ],
      "metadata": {
        "colab": {
          "base_uri": "https://localhost:8080/"
        },
        "outputId": "c336ce86-fe07-40d3-fb22-2b26fd4b3447",
        "id": "jwrsSl8OfQD_"
      },
      "execution_count": 93,
      "outputs": [
        {
          "output_type": "stream",
          "name": "stdout",
          "text": [
            "[8650.98241635964, 8818.006124040357]\n",
            "[8634.687420488352, 8834.301119911646]\n",
            "[8603.115865987727, 8865.87267441227]\n"
          ]
        }
      ]
    },
    {
      "cell_type": "code",
      "source": [],
      "metadata": {
        "id": "P_DqyW2xfQD_"
      },
      "execution_count": 93,
      "outputs": []
    },
    {
      "cell_type": "markdown",
      "source": [
        "# **4.2** Male"
      ],
      "metadata": {
        "id": "Ve5DMHf_JEb4"
      }
    },
    {
      "cell_type": "code",
      "source": [
        "a = df[df[\"Gender\"] == \"M\"]"
      ],
      "metadata": {
        "id": "rjc8Fns2a9vl"
      },
      "execution_count": 94,
      "outputs": []
    },
    {
      "cell_type": "code",
      "source": [
        "a[\"Purchase\"].max()"
      ],
      "metadata": {
        "colab": {
          "base_uri": "https://localhost:8080/"
        },
        "id": "YI5xvBzJbfyA",
        "outputId": "5de76538-aa63-4f45-d8b3-782dac99f233"
      },
      "execution_count": 95,
      "outputs": [
        {
          "output_type": "execute_result",
          "data": {
            "text/plain": [
              "23961"
            ]
          },
          "metadata": {},
          "execution_count": 95
        }
      ]
    },
    {
      "cell_type": "code",
      "source": [
        "a[\"Purchase\"].min()"
      ],
      "metadata": {
        "colab": {
          "base_uri": "https://localhost:8080/"
        },
        "id": "PcjpzXo9bjBL",
        "outputId": "ef0b7628-34c9-4952-9045-56826f3aa712"
      },
      "execution_count": 96,
      "outputs": [
        {
          "output_type": "execute_result",
          "data": {
            "text/plain": [
              "12"
            ]
          },
          "metadata": {},
          "execution_count": 96
        }
      ]
    },
    {
      "cell_type": "code",
      "source": [
        "meanm =a[\"Purchase\"].mean()\n",
        "meanm"
      ],
      "metadata": {
        "colab": {
          "base_uri": "https://localhost:8080/"
        },
        "id": "3mLKN_czcZ7o",
        "outputId": "8a1fa2e3-4889-416d-b104-f7ca6daa4a36"
      },
      "execution_count": 97,
      "outputs": [
        {
          "output_type": "execute_result",
          "data": {
            "text/plain": [
              "9437.526040472265"
            ]
          },
          "metadata": {},
          "execution_count": 97
        }
      ]
    },
    {
      "cell_type": "code",
      "source": [
        "a[\"Purchase\"].median()"
      ],
      "metadata": {
        "colab": {
          "base_uri": "https://localhost:8080/"
        },
        "id": "hgMMErOte6qI",
        "outputId": "bd7d8f7f-b38e-48fb-eb22-5dfb9ff9f5cf"
      },
      "execution_count": 98,
      "outputs": [
        {
          "output_type": "execute_result",
          "data": {
            "text/plain": [
              "8098.0"
            ]
          },
          "metadata": {},
          "execution_count": 98
        }
      ]
    },
    {
      "cell_type": "code",
      "source": [
        "stdm = a[\"Purchase\"].std()\n",
        "stdm"
      ],
      "metadata": {
        "colab": {
          "base_uri": "https://localhost:8080/"
        },
        "id": "2fbgrQ8QgkLQ",
        "outputId": "5b160f26-07ec-47e4-9fe0-2125bede1b9f"
      },
      "execution_count": 99,
      "outputs": [
        {
          "output_type": "execute_result",
          "data": {
            "text/plain": [
              "5092.18620977797"
            ]
          },
          "metadata": {},
          "execution_count": 99
        }
      ]
    },
    {
      "cell_type": "code",
      "source": [
        "x = a[\"Purchase\"].sum()/10**6\n",
        "x"
      ],
      "metadata": {
        "colab": {
          "base_uri": "https://localhost:8080/"
        },
        "id": "XJc7qCaFd78P",
        "outputId": "828a37f9-47ac-467f-fb00-f6f9550fb6bc"
      },
      "execution_count": 100,
      "outputs": [
        {
          "output_type": "execute_result",
          "data": {
            "text/plain": [
              "3909.5801"
            ]
          },
          "metadata": {},
          "execution_count": 100
        }
      ]
    },
    {
      "cell_type": "code",
      "source": [],
      "metadata": {
        "id": "vhfLYV2_pIin"
      },
      "execution_count": 100,
      "outputs": []
    },
    {
      "cell_type": "markdown",
      "source": [
        "***Size = 100***"
      ],
      "metadata": {
        "id": "blrGhihSRe5-"
      }
    },
    {
      "cell_type": "code",
      "source": [
        "mx = []\n",
        "\n",
        "for i in range (100):\n",
        "  x = a[\"Purchase\"].sample(100)\n",
        "  mx.append(np.mean(x))\n",
        "\n",
        "mmx = np.mean(mx)\n",
        "mmx"
      ],
      "metadata": {
        "colab": {
          "base_uri": "https://localhost:8080/"
        },
        "id": "5vxga5PmMk9q",
        "outputId": "9afcdc3e-67cb-4b82-840f-2492aeb4e7c1"
      },
      "execution_count": 101,
      "outputs": [
        {
          "output_type": "execute_result",
          "data": {
            "text/plain": [
              "9420.8186"
            ]
          },
          "metadata": {},
          "execution_count": 101
        }
      ]
    },
    {
      "cell_type": "code",
      "source": [
        "x680 = [(mmx-1*(stdm/100**.5)) , (mmx+1*(stdm/100**.5))]\n",
        "x955 = [(mmx-2*(stdm/100**.5)) , (mmx+2*(stdm/100**.5))]\n",
        "x997 = [(mmx-3*(stdm/100**.5)) , (mmx+3*(stdm/100**.5))]\n",
        "\n",
        "print(x680)\n",
        "print(x955)\n",
        "print(x997)"
      ],
      "metadata": {
        "colab": {
          "base_uri": "https://localhost:8080/"
        },
        "id": "asI1zTw8S68A",
        "outputId": "3b62fa09-305d-4f0e-aa0b-e1c2acadae7f"
      },
      "execution_count": 102,
      "outputs": [
        {
          "output_type": "stream",
          "name": "stdout",
          "text": [
            "[8911.599979022203, 9930.037220977798]\n",
            "[8402.381358044406, 10439.255841955595]\n",
            "[7893.162737066609, 10948.47446293339]\n"
          ]
        }
      ]
    },
    {
      "cell_type": "code",
      "source": [
        "x90 = [(mmx - 1.64*(stdm/100**.5)) , (mmx + 1.64*(stdm/100**.5))]\n",
        "x95 = [(mmx - 1.96*(stdm/100**.5)) , (mmx + 1.96*(stdm/100**.5))]\n",
        "x99 = [(mmx - 2.58*(stdm/100**.5)) , (mmx + 2.58*(stdm/100**.5))]\n",
        "\n",
        "print(x90)\n",
        "print(x95)\n",
        "print(x99)"
      ],
      "metadata": {
        "colab": {
          "base_uri": "https://localhost:8080/"
        },
        "id": "Hktaoq-PVL6I",
        "outputId": "e17b3a7a-4276-4db5-8a5b-ed9fe7cb0f58"
      },
      "execution_count": 103,
      "outputs": [
        {
          "output_type": "stream",
          "name": "stdout",
          "text": [
            "[8585.700061596413, 10255.937138403588]\n",
            "[8422.750102883518, 10418.887097116483]\n",
            "[8107.034557877284, 10734.602642122718]\n"
          ]
        }
      ]
    },
    {
      "cell_type": "markdown",
      "source": [
        "***Size 2500***"
      ],
      "metadata": {
        "id": "08m7UjUtYE6i"
      }
    },
    {
      "cell_type": "code",
      "source": [
        "my = []\n",
        "\n",
        "for i in range (2500):\n",
        "  y = a[\"Purchase\"].sample(2500)\n",
        "  my.append(np.mean(y))\n",
        "\n",
        "mmy = np.mean(my)\n",
        "mmy"
      ],
      "metadata": {
        "colab": {
          "base_uri": "https://localhost:8080/"
        },
        "id": "DGe11knyYHqE",
        "outputId": "a9560b47-d862-41f9-d6e5-cf7a5af19e01"
      },
      "execution_count": 104,
      "outputs": [
        {
          "output_type": "execute_result",
          "data": {
            "text/plain": [
              "9437.145908"
            ]
          },
          "metadata": {},
          "execution_count": 104
        }
      ]
    },
    {
      "cell_type": "code",
      "source": [
        "y680 = [(mmy-1*(stdm/2500**.5)) , (mmy+1*(stdm/2500**.5))]\n",
        "y955 = [(mmy-2*(stdm/2500**.5)) , (mmy+2*(stdm/2500**.5))]\n",
        "y997 = [(mmy-3*(stdm/2500**.5)) , (mmy+3*(stdm/2500**.5))]\n",
        "\n",
        "print(y680)\n",
        "print(y955)\n",
        "print(y997)"
      ],
      "metadata": {
        "colab": {
          "base_uri": "https://localhost:8080/"
        },
        "id": "BYCiFfnkYsml",
        "outputId": "fb5ab098-ae85-46c6-86bc-52f019412ec9"
      },
      "execution_count": 105,
      "outputs": [
        {
          "output_type": "stream",
          "name": "stdout",
          "text": [
            "[9335.30218380444, 9538.98963219556]\n",
            "[9233.45845960888, 9640.83335639112]\n",
            "[9131.614735413323, 9742.677080586678]\n"
          ]
        }
      ]
    },
    {
      "cell_type": "code",
      "source": [
        "y90 = [(mmy - 1.64*(stdm/2500**.5)) , (mmy + 1.64*(stdm/2500**.5))]\n",
        "y95 = [(mmy - 1.96*(stdm/2500**.5)) , (mmy + 1.96*(stdm/2500**.5))]\n",
        "y99 = [(mmy - 2.58*(stdm/2500**.5)) , (mmy + 2.58*(stdm/2500**.5))]\n",
        "\n",
        "print(y90)\n",
        "print(y95)\n",
        "print(y99)"
      ],
      "metadata": {
        "colab": {
          "base_uri": "https://localhost:8080/"
        },
        "id": "6TzdMIL8bI_1",
        "outputId": "86bbd4c9-1130-4ed2-c65c-119d3d1e3a07"
      },
      "execution_count": 106,
      "outputs": [
        {
          "output_type": "stream",
          "name": "stdout",
          "text": [
            "[9270.122200319283, 9604.169615680717]\n",
            "[9237.532208576704, 9636.759607423297]\n",
            "[9174.389099575457, 9699.902716424544]\n"
          ]
        }
      ]
    },
    {
      "cell_type": "markdown",
      "source": [
        "***Size 10000***"
      ],
      "metadata": {
        "id": "GPp3IA60b3c3"
      }
    },
    {
      "cell_type": "code",
      "source": [
        "mz = []\n",
        "\n",
        "for i in range (10000):\n",
        "  z = a[\"Purchase\"].sample(10000)\n",
        "  mz.append(np.mean(z))\n",
        "\n",
        "mmz = np.mean(mz)\n",
        "mmz"
      ],
      "metadata": {
        "colab": {
          "base_uri": "https://localhost:8080/"
        },
        "id": "F5Pi7bjbbw_q",
        "outputId": "47d38311-a48e-45d8-cfac-b90693b471af"
      },
      "execution_count": 107,
      "outputs": [
        {
          "output_type": "execute_result",
          "data": {
            "text/plain": [
              "9437.62072846"
            ]
          },
          "metadata": {},
          "execution_count": 107
        }
      ]
    },
    {
      "cell_type": "code",
      "source": [
        "z680 = [(mmz-1*(stdm/10000**.5)) , (mmz+1*(stdm/10000**.5))]\n",
        "z955 = [(mmz-2*(stdm/10000**.5)) , (mmz+2*(stdm/10000**.5))]\n",
        "z997 = [(mmz-3*(stdm/10000**.5)) , (mmz+3*(stdm/10000**.5))]\n",
        "\n",
        "print(z680)\n",
        "print(z955)\n",
        "print(z997)"
      ],
      "metadata": {
        "colab": {
          "base_uri": "https://localhost:8080/"
        },
        "id": "4Uu7Zuc5cHNb",
        "outputId": "11447aa2-359d-4ff8-d634-a751b87bc436"
      },
      "execution_count": 108,
      "outputs": [
        {
          "output_type": "stream",
          "name": "stdout",
          "text": [
            "[9386.698866362221, 9488.54259055778]\n",
            "[9335.77700426444, 9539.46445265556]\n",
            "[9284.855142166662, 9590.38631475334]\n"
          ]
        }
      ]
    },
    {
      "cell_type": "code",
      "source": [
        "z90 = [(mmz - 1.64*(stdm/10000**.5)) , (mmz + 1.64*(stdm/10000**.5))]\n",
        "z95 = [(mmz - 1.96*(stdm/10000**.5)) , (mmz + 1.96*(stdm/10000**.5))]\n",
        "z99 = [(mmz - 2.58*(stdm/10000**.5)) , (mmz + 2.58*(stdm/10000**.5))]\n",
        "\n",
        "print(z90)\n",
        "print(z95)\n",
        "print(z99)"
      ],
      "metadata": {
        "colab": {
          "base_uri": "https://localhost:8080/"
        },
        "id": "WxgA_mlWeanJ",
        "outputId": "b4704ec1-47fa-443a-8e9f-b3bf32f99b33"
      },
      "execution_count": 109,
      "outputs": [
        {
          "output_type": "stream",
          "name": "stdout",
          "text": [
            "[9354.108874619642, 9521.132582300359]\n",
            "[9337.813878748353, 9537.427578171648]\n",
            "[9306.242324247729, 9568.999132672272]\n"
          ]
        }
      ]
    },
    {
      "cell_type": "code",
      "source": [],
      "metadata": {
        "id": "h7uM2pEOeo8x"
      },
      "execution_count": 109,
      "outputs": []
    },
    {
      "cell_type": "markdown",
      "source": [
        "# **4.3**"
      ],
      "metadata": {
        "id": "codWgGlB-TX8"
      }
    },
    {
      "cell_type": "markdown",
      "source": [
        "✅***`Sample Size = 100`***\n",
        "✅\n",
        "\n",
        "\n",
        "***68%***\n",
        "\n",
        "Male =  [ 8919.44 , 9937.87 ]\n",
        "\n",
        "Female = [ 8270.75 , 9224.20 ]\n",
        "\n",
        "Overlapping \n",
        "\n",
        "\n",
        "***95.5%***\n",
        "\n",
        "Male = [ 8410.22 , 10447.09 ]\n",
        "\n",
        "Female = [ 7794.03 , 9700.92 ]\n",
        "\n",
        "Overlapping \n",
        "\n",
        "\n",
        "***99.7%***\n",
        "\n",
        "Male = [ 7901.00 , 10956.31 ]\n",
        "\n",
        "Female = [ 7317.30 , 10177.64 ]\n",
        "\n",
        "Overlapping\n",
        "\n",
        "\n",
        "***90%***\n",
        "\n",
        "Male = [ 8593.54 , 10263.77 ]\n",
        "\n",
        "Female = [ 7965.65, 9529.30 ]\n",
        "\n",
        "Overlapping\n",
        "\n",
        "***95%***\n",
        "\n",
        "Male = [ 8430.59 , 10426.72 ]\n",
        "\n",
        "Female = [ 7813.09 , 9681.85 ]\n",
        "\n",
        "Overlapping\n",
        "\n",
        "***99%***\n",
        "\n",
        "Male = [ 8114.87 , 10742.44 ]\n",
        "\n",
        "Female = [ 7517.53 , 9977.423 ]\n",
        "\n",
        "Overlapping\n",
        "\n",
        "\n",
        "\n",
        "**Note** :- In All Confidence Intervals of average Male and Female spending Overlapping occur."
      ],
      "metadata": {
        "id": "WPPEND9IjlA-"
      }
    },
    {
      "cell_type": "markdown",
      "source": [
        "✅***`Sample Size = 2500`***\n",
        "✅\n",
        "\n",
        "\n",
        "***68%***\n",
        "\n",
        "Male = [9338.41 , 9542.10 ]\n",
        "\n",
        "Female = [8640.46 , 8831.15 ]\n",
        "\n",
        "Not Overlapping\n",
        "\n",
        "\n",
        "\n",
        "***95.5%***\n",
        "\n",
        "Male = [9236.57 , 9643.94822519112]\n",
        "\n",
        "Female = [8545.12 , 8926.50]\n",
        "\n",
        "Not Overlapping\n",
        "\n",
        "\n",
        "***99.7%***\n",
        "\n",
        "Male = [9134.72 , 9745.79 ]\n",
        "\n",
        "Female = [8449.77 , 9021.84 ]\n",
        "\n",
        "Not Overlapping\n",
        "\n",
        "\n",
        "\n",
        "***90%***\n",
        "\n",
        "Male = [9273.23 , 9607.28]\n",
        "\n",
        "Female = [8579.44 , 8892.17 ]\n",
        "\n",
        "Not Overlapping\n",
        "\n",
        "\n",
        "\n",
        "***95%***\n",
        "\n",
        "Male = [9240.64 , 9639.87 ]\n",
        "\n",
        "Female = [8548.93 , 8922.68]\n",
        "\n",
        "Not Overlapping\n",
        "\n",
        "\n",
        "\n",
        "***99%***\n",
        "\n",
        "Male = [9177.50 , 9703.01 ]\n",
        "\n",
        "Female = [8489.82 , 8981.80 ]\n",
        "\n",
        "Not Overlapping\n",
        "\n",
        "\n",
        "**Note** :- In All Confidence Intervals of average Male and Female spending NOT Overlapping occur."
      ],
      "metadata": {
        "id": "vwa3NfIvI2lx"
      }
    },
    {
      "cell_type": "markdown",
      "source": [
        "✅***`Sample Size = 10000`***\n",
        "✅\n",
        "\n",
        "\n",
        "***68%***\n",
        "\n",
        "Male   = [9387.17 , 9489.01]\n",
        "\n",
        "Female = [8686.90 , 8782.24]\n",
        "\n",
        "Not Overlapping\n",
        "\n",
        "\n",
        "\n",
        "***95.5%***\n",
        "\n",
        "Male   = [9336.25 , 9539.94]\n",
        "\n",
        "Female = [8639.22 , 8829.91]\n",
        "\n",
        "Not Overlapping\n",
        "\n",
        "\n",
        "\n",
        "***99.7%***\n",
        "\n",
        "Male = [9285.33 , 9590.86]\n",
        "\n",
        "Female = [8591.55 , 8877.59]\n",
        "\n",
        "Not Overlapping\n",
        "\n",
        "\n",
        "\n",
        "***90%***\n",
        "\n",
        "Male = [9354.58  , 9521.60]\n",
        "\n",
        "Female = [8651.06 , 8818.08]\n",
        "\n",
        "Not Overlapping\n",
        "\n",
        "\n",
        "\n",
        "\n",
        "***95%***\n",
        "\n",
        "Male = [9338.29 , 9537.90]\n",
        "\n",
        "Female = [8634.76 ,  8834.38]\n",
        "\n",
        "Not Overlapping\n",
        "\n",
        "\n",
        "\n",
        "***99%***\n",
        "\n",
        "Male = [9306.71 , 9569.47]\n",
        "\n",
        "Female = [8603.19 , 8865.95]\n",
        "\n",
        "Not Overlapping\n",
        "\n",
        "\n",
        "\n",
        "**Note** :- In All Confidence Intervals of average Male and Female spending NOT Overlapping occur."
      ],
      "metadata": {
        "id": "CEARMlkXJrTo"
      }
    },
    {
      "cell_type": "markdown",
      "source": [
        "# **Important Note** :- As we can say from the given Data *the Overlapping will occur when the sample size is less i.e. less than 1000* But when the sample size is large i.e greater than 1000 then Overlapping will not occur"
      ],
      "metadata": {
        "id": "B9r3Sm7cbMMt"
      }
    },
    {
      "cell_type": "markdown",
      "source": [
        "# **4.4**"
      ],
      "metadata": {
        "id": "ackfyVxr-7vK"
      }
    },
    {
      "cell_type": "markdown",
      "source": [
        "Sample size - 100 , 2500 , 10000\n",
        "\n",
        "Distribution = 68% , 95.5% , 99.7%\n",
        "\n",
        "Confidence Interval = 90% , 95% , 99%"
      ],
      "metadata": {
        "id": "24X7hTUN_GTt"
      }
    },
    {
      "cell_type": "code",
      "source": [
        "p68  = norm.ppf(.15)\n",
        "p90  = norm.ppf(.05)\n",
        "p95  = norm.ppf(.025)\n",
        "p955 = norm.ppf(.0225)\n",
        "p99  = norm.ppf(.005)\n",
        "p997 = norm.ppf(.0013)\n",
        "\n",
        "print(p68)\n",
        "print(p90)\n",
        "print(p95)\n",
        "print(p955)\n",
        "print(p99)\n",
        "print(p997)"
      ],
      "metadata": {
        "colab": {
          "base_uri": "https://localhost:8080/"
        },
        "outputId": "841a18b2-40a5-4b4a-895e-972864ee466a",
        "id": "AWfXHnjj_K4j"
      },
      "execution_count": 110,
      "outputs": [
        {
          "output_type": "stream",
          "name": "stdout",
          "text": [
            "-1.0364333894937898\n",
            "-1.6448536269514729\n",
            "-1.9599639845400545\n",
            "-2.004654461765096\n",
            "-2.575829303548901\n",
            "-3.0114537584997843\n"
          ]
        }
      ]
    },
    {
      "cell_type": "markdown",
      "source": [
        "# **4.4** Unmarried"
      ],
      "metadata": {
        "id": "4yJMS-TJwrtK"
      }
    },
    {
      "cell_type": "code",
      "source": [
        "s[\"Purchase\"].min()"
      ],
      "metadata": {
        "colab": {
          "base_uri": "https://localhost:8080/"
        },
        "id": "00RDAfFswo-m",
        "outputId": "4d98508c-8300-46ab-fbf9-f990127a97c4"
      },
      "execution_count": null,
      "outputs": [
        {
          "output_type": "execute_result",
          "data": {
            "text/plain": [
              "12"
            ]
          },
          "metadata": {},
          "execution_count": 287
        }
      ]
    },
    {
      "cell_type": "code",
      "source": [
        "s[\"Purchase\"].max()"
      ],
      "metadata": {
        "colab": {
          "base_uri": "https://localhost:8080/"
        },
        "id": "GZ8aow-xwivE",
        "outputId": "0ebbad66-f539-4a0e-c44b-9dc5df59e8d0"
      },
      "execution_count": null,
      "outputs": [
        {
          "output_type": "execute_result",
          "data": {
            "text/plain": [
              "23961"
            ]
          },
          "metadata": {},
          "execution_count": 290
        }
      ]
    },
    {
      "cell_type": "code",
      "source": [
        "s[\"Purchase\"].median()"
      ],
      "metadata": {
        "colab": {
          "base_uri": "https://localhost:8080/"
        },
        "id": "9ywKL-S7w8Go",
        "outputId": "51a73e8e-060e-49dd-ad06-f3e924f23068"
      },
      "execution_count": null,
      "outputs": [
        {
          "output_type": "execute_result",
          "data": {
            "text/plain": [
              "8044.0"
            ]
          },
          "metadata": {},
          "execution_count": 293
        }
      ]
    },
    {
      "cell_type": "code",
      "source": [
        "smean = s[\"Purchase\"].mean()\n",
        "smean"
      ],
      "metadata": {
        "colab": {
          "base_uri": "https://localhost:8080/"
        },
        "id": "aNaIyKnYw2LL",
        "outputId": "1c19ebb3-71e6-4371-9f4e-5a3372bc3018"
      },
      "execution_count": null,
      "outputs": [
        {
          "output_type": "execute_result",
          "data": {
            "text/plain": [
              "9265.907618921507"
            ]
          },
          "metadata": {},
          "execution_count": 302
        }
      ]
    },
    {
      "cell_type": "code",
      "source": [
        "sstd = s[\"Purchase\"].std()\n",
        "sstd"
      ],
      "metadata": {
        "colab": {
          "base_uri": "https://localhost:8080/"
        },
        "id": "CXOKAWE9w2iK",
        "outputId": "fd0258f3-0787-4c0e-c91d-da861f274606"
      },
      "execution_count": null,
      "outputs": [
        {
          "output_type": "execute_result",
          "data": {
            "text/plain": [
              "5027.347858674449"
            ]
          },
          "metadata": {},
          "execution_count": 301
        }
      ]
    },
    {
      "cell_type": "code",
      "source": [
        "s[\"Purchase\"].sum()/10**6"
      ],
      "metadata": {
        "colab": {
          "base_uri": "https://localhost:8080/"
        },
        "id": "x-6isL0dyEOf",
        "outputId": "67d89e8e-71e3-4012-e7b3-ca51c641508b"
      },
      "execution_count": null,
      "outputs": [
        {
          "output_type": "execute_result",
          "data": {
            "text/plain": [
              "3008.927447"
            ]
          },
          "metadata": {},
          "execution_count": 304
        }
      ]
    },
    {
      "cell_type": "markdown",
      "source": [
        "***Size = 100***"
      ],
      "metadata": {
        "id": "TBlUZbjCyljs"
      }
    },
    {
      "cell_type": "code",
      "source": [
        "sx = []\n",
        "\n",
        "for i in range (100):\n",
        "  x = s[\"Purchase\"].sample(100)\n",
        "  sx.append(np.mean(x))\n",
        "\n",
        "smx = np.mean(sx)\n",
        "smx"
      ],
      "metadata": {
        "colab": {
          "base_uri": "https://localhost:8080/"
        },
        "outputId": "589909e9-383d-4d2f-f4cd-907e786970d6",
        "id": "zkSaoKw5yljs"
      },
      "execution_count": null,
      "outputs": [
        {
          "output_type": "execute_result",
          "data": {
            "text/plain": [
              "9226.022900000002"
            ]
          },
          "metadata": {},
          "execution_count": 306
        }
      ]
    },
    {
      "cell_type": "code",
      "source": [
        "x680 = [(smx-1*(sstd/100**.5)) , (smx+1*(sstd/100**.5))]\n",
        "x955 = [(smx-2*(sstd/100**.5)) , (smx+2*(sstd/100**.5))]\n",
        "x997 = [(smx-3*(sstd/100**.5)) , (smx+3*(sstd/100**.5))]\n",
        "\n",
        "print(x680)\n",
        "print(x955)\n",
        "print(x997)"
      ],
      "metadata": {
        "colab": {
          "base_uri": "https://localhost:8080/"
        },
        "outputId": "e4451491-de07-4eab-c1f7-27b8df7662f5",
        "id": "Lc9K2tNbyljs"
      },
      "execution_count": null,
      "outputs": [
        {
          "output_type": "stream",
          "name": "stdout",
          "text": [
            "[8723.288114132556, 9728.757685867447]\n",
            "[8220.553328265112, 10231.492471734891]\n",
            "[7717.8185423976665, 10734.227257602337]\n"
          ]
        }
      ]
    },
    {
      "cell_type": "code",
      "source": [
        "x90 = [(smx - 1.64*(sstd/100**.5)) , (smx + 1.64*(sstd/100**.5))]\n",
        "x95 = [(smx - 1.96*(sstd/100**.5)) , (smx + 1.96*(sstd/100**.5))]\n",
        "x99 = [(smx - 2.58*(sstd/100**.5)) , (smx + 2.58*(sstd/100**.5))]\n",
        "\n",
        "print(x90)\n",
        "print(x95)\n",
        "print(x99)"
      ],
      "metadata": {
        "colab": {
          "base_uri": "https://localhost:8080/"
        },
        "outputId": "5f0645a0-8855-4784-d957-0d1023bfb076",
        "id": "N7sft8kXyljt"
      },
      "execution_count": null,
      "outputs": [
        {
          "output_type": "stream",
          "name": "stdout",
          "text": [
            "[8401.537851177392, 10050.507948822611]\n",
            "[8240.66271969981, 10211.383080300193]\n",
            "[7928.9671524619935, 10523.07864753801]\n"
          ]
        }
      ]
    },
    {
      "cell_type": "markdown",
      "source": [
        "***Size 2500***"
      ],
      "metadata": {
        "id": "5OJpzJf9yljt"
      }
    },
    {
      "cell_type": "code",
      "source": [
        "sy = []\n",
        "\n",
        "for i in range (2500):\n",
        "  y = s[\"Purchase\"].sample(2500)\n",
        "  sy.append(np.mean(y))\n",
        "\n",
        "smy = np.mean(sy)\n",
        "smy"
      ],
      "metadata": {
        "colab": {
          "base_uri": "https://localhost:8080/"
        },
        "outputId": "795ddbaa-5fa4-4f33-91a7-7fa023a9ab6a",
        "id": "Wxs8vw_Pyljt"
      },
      "execution_count": null,
      "outputs": [
        {
          "output_type": "execute_result",
          "data": {
            "text/plain": [
              "9265.32174576"
            ]
          },
          "metadata": {},
          "execution_count": 309
        }
      ]
    },
    {
      "cell_type": "code",
      "source": [
        "y680 = [(smy-1*(sstd/2500**.5)) , (smy+1*(sstd/2500**.5))]\n",
        "y955 = [(smy-2*(sstd/2500**.5)) , (smy+2*(sstd/2500**.5))]\n",
        "y997 = [(smy-3*(sstd/2500**.5)) , (smy+3*(sstd/2500**.5))]\n",
        "\n",
        "print(y680)\n",
        "print(y955)\n",
        "print(y997)"
      ],
      "metadata": {
        "colab": {
          "base_uri": "https://localhost:8080/"
        },
        "outputId": "5d31b3cf-f2a6-44dd-bbbd-87e5f9691540",
        "id": "7X41rGu5yljt"
      },
      "execution_count": null,
      "outputs": [
        {
          "output_type": "stream",
          "name": "stdout",
          "text": [
            "[9164.774788586512, 9365.868702933489]\n",
            "[9064.227831413022, 9466.415660106979]\n",
            "[8963.680874239533, 9566.962617280467]\n"
          ]
        }
      ]
    },
    {
      "cell_type": "code",
      "source": [
        "y90 = [(smy - 1.64*(sstd/2500**.5)) , (smy + 1.64*(sstd/2500**.5))]\n",
        "y95 = [(smy - 1.96*(sstd/2500**.5)) , (smy + 1.96*(sstd/2500**.5))]\n",
        "y99 = [(smy - 2.58*(sstd/2500**.5)) , (smy + 2.58*(sstd/2500**.5))]\n",
        "\n",
        "print(y90)\n",
        "print(y95)\n",
        "print(y99)"
      ],
      "metadata": {
        "colab": {
          "base_uri": "https://localhost:8080/"
        },
        "outputId": "aaf942f4-67df-40a7-be90-df05c11891a1",
        "id": "-O0eTdwbyljt"
      },
      "execution_count": null,
      "outputs": [
        {
          "output_type": "stream",
          "name": "stdout",
          "text": [
            "[9100.424735995479, 9430.218755524522]\n",
            "[9068.249709699961, 9462.39378182004]\n",
            "[9005.910596252399, 9524.732895267602]\n"
          ]
        }
      ]
    },
    {
      "cell_type": "markdown",
      "source": [
        "***Size 10000***"
      ],
      "metadata": {
        "id": "yG79C1r8ylju"
      }
    },
    {
      "cell_type": "code",
      "source": [
        "sz = []\n",
        "\n",
        "for i in range (10000):\n",
        "  z = s[\"Purchase\"].sample(10000)\n",
        "  sz.append(np.mean(z))\n",
        "\n",
        "smz = np.mean(sz)\n",
        "smz"
      ],
      "metadata": {
        "colab": {
          "base_uri": "https://localhost:8080/"
        },
        "outputId": "1c7377fa-f1b3-430a-ece0-4b9e48f3f3eb",
        "id": "9Igf89TBylju"
      },
      "execution_count": null,
      "outputs": [
        {
          "output_type": "execute_result",
          "data": {
            "text/plain": [
              "9266.05268277"
            ]
          },
          "metadata": {},
          "execution_count": 312
        }
      ]
    },
    {
      "cell_type": "code",
      "source": [
        "z680 = [(smz-1*(sstd/10000**.5)) , (smz+1*(sstd/10000**.5))]\n",
        "z955 = [(smz-2*(sstd/10000**.5)) , (smz+2*(sstd/10000**.5))]\n",
        "z997 = [(smz-3*(sstd/10000**.5)) , (smz+3*(sstd/10000**.5))]\n",
        "\n",
        "print(z680)\n",
        "print(z955)\n",
        "print(z997)"
      ],
      "metadata": {
        "colab": {
          "base_uri": "https://localhost:8080/"
        },
        "outputId": "7776be72-8759-447e-9815-9474af3cb6e6",
        "id": "q58RTimRylju"
      },
      "execution_count": null,
      "outputs": [
        {
          "output_type": "stream",
          "name": "stdout",
          "text": [
            "[9215.779204183254, 9316.326161356745]\n",
            "[9165.505725596511, 9366.599639943488]\n",
            "[9115.232247009766, 9416.873118530233]\n"
          ]
        }
      ]
    },
    {
      "cell_type": "code",
      "source": [
        "z90 = [(smz - 1.64*(sstd/10000**.5)) , (smz + 1.64*(sstd/10000**.5))]\n",
        "z95 = [(smz - 1.96*(sstd/10000**.5)) , (smz + 1.96*(sstd/10000**.5))]\n",
        "z99 = [(smz - 2.58*(sstd/10000**.5)) , (smz + 2.58*(sstd/10000**.5))]\n",
        "\n",
        "print(z90)\n",
        "print(z95)\n",
        "print(z99)"
      ],
      "metadata": {
        "colab": {
          "base_uri": "https://localhost:8080/"
        },
        "outputId": "68c918e1-ab2e-4de3-c1c4-f49f0112fb8f",
        "id": "qEjkJHgrylju"
      },
      "execution_count": null,
      "outputs": [
        {
          "output_type": "stream",
          "name": "stdout",
          "text": [
            "[9183.604177887739, 9348.50118765226]\n",
            "[9167.51666473998, 9364.588700800019]\n",
            "[9136.347108016198, 9395.758257523801]\n"
          ]
        }
      ]
    },
    {
      "cell_type": "code",
      "source": [],
      "metadata": {
        "id": "WcTnONcCyljv"
      },
      "execution_count": null,
      "outputs": []
    },
    {
      "cell_type": "markdown",
      "source": [
        "# **4.4** Married"
      ],
      "metadata": {
        "id": "xvbt5l63xTSP"
      }
    },
    {
      "cell_type": "code",
      "source": [
        "p[\"Purchase\"].min()"
      ],
      "metadata": {
        "colab": {
          "base_uri": "https://localhost:8080/"
        },
        "id": "JjyIGoYuw7ZJ",
        "outputId": "74dd062d-9605-4b6e-baf0-18d151818e15"
      },
      "execution_count": null,
      "outputs": [
        {
          "output_type": "execute_result",
          "data": {
            "text/plain": [
              "12"
            ]
          },
          "metadata": {},
          "execution_count": 317
        }
      ]
    },
    {
      "cell_type": "code",
      "source": [
        "p[\"Purchase\"].max()"
      ],
      "metadata": {
        "colab": {
          "base_uri": "https://localhost:8080/"
        },
        "id": "AqmKnSx6xa9L",
        "outputId": "d5b906a7-2664-492c-f93d-b7e2160a2529"
      },
      "execution_count": null,
      "outputs": [
        {
          "output_type": "execute_result",
          "data": {
            "text/plain": [
              "23961"
            ]
          },
          "metadata": {},
          "execution_count": 318
        }
      ]
    },
    {
      "cell_type": "code",
      "source": [
        "p[\"Purchase\"].median()"
      ],
      "metadata": {
        "colab": {
          "base_uri": "https://localhost:8080/"
        },
        "id": "bKZBTWaYxcbK",
        "outputId": "c186ed72-86d3-4410-b621-0f5dfc084a0b"
      },
      "execution_count": null,
      "outputs": [
        {
          "output_type": "execute_result",
          "data": {
            "text/plain": [
              "8051.0"
            ]
          },
          "metadata": {},
          "execution_count": 319
        }
      ]
    },
    {
      "cell_type": "code",
      "source": [
        "pmean = p[\"Purchase\"].mean()\n",
        "pmean"
      ],
      "metadata": {
        "colab": {
          "base_uri": "https://localhost:8080/"
        },
        "id": "eCzxiggtxdvC",
        "outputId": "cb836038-a799-495b-f810-b89c53c964a0"
      },
      "execution_count": null,
      "outputs": [
        {
          "output_type": "execute_result",
          "data": {
            "text/plain": [
              "9261.174574082374"
            ]
          },
          "metadata": {},
          "execution_count": 321
        }
      ]
    },
    {
      "cell_type": "code",
      "source": [
        "pstd = p[\"Purchase\"].std()\n",
        "pstd"
      ],
      "metadata": {
        "colab": {
          "base_uri": "https://localhost:8080/"
        },
        "id": "r7k_fpIWxlH7",
        "outputId": "4d305106-a4b3-4801-f8a8-79f6d32fdf6f"
      },
      "execution_count": null,
      "outputs": [
        {
          "output_type": "execute_result",
          "data": {
            "text/plain": [
              "5016.897377793055"
            ]
          },
          "metadata": {},
          "execution_count": 322
        }
      ]
    },
    {
      "cell_type": "code",
      "source": [
        "p[\"Purchase\"].sum()/10**6"
      ],
      "metadata": {
        "colab": {
          "base_uri": "https://localhost:8080/"
        },
        "id": "7XZok3fWxp_1",
        "outputId": "98ba8a4e-b00b-441f-f56b-7808a513fbc4"
      },
      "execution_count": null,
      "outputs": [
        {
          "output_type": "execute_result",
          "data": {
            "text/plain": [
              "2086.885295"
            ]
          },
          "metadata": {},
          "execution_count": 323
        }
      ]
    },
    {
      "cell_type": "markdown",
      "source": [
        "***Size = 100***"
      ],
      "metadata": {
        "id": "RzmtqKXx09wn"
      }
    },
    {
      "cell_type": "code",
      "source": [
        "px = []\n",
        "\n",
        "for i in range (100):\n",
        "  x = p[\"Purchase\"].sample(100)\n",
        "  px.append(np.mean(x))\n",
        "\n",
        "pmx = np.mean(px)\n",
        "pmx"
      ],
      "metadata": {
        "colab": {
          "base_uri": "https://localhost:8080/"
        },
        "outputId": "679f1736-0a77-41b5-ad4d-38ef4909dd37",
        "id": "5jFp8i5F09wn"
      },
      "execution_count": null,
      "outputs": [
        {
          "output_type": "execute_result",
          "data": {
            "text/plain": [
              "9210.8023"
            ]
          },
          "metadata": {},
          "execution_count": 331
        }
      ]
    },
    {
      "cell_type": "code",
      "source": [
        "x680 = [(pmx-1*(pstd/100**.5)) , (pmx+1*(pstd/100**.5))]\n",
        "x955 = [(pmx-2*(pstd/100**.5)) , (pmx+2*(pstd/100**.5))]\n",
        "x997 = [(pmx-3*(pstd/100**.5)) , (pmx+3*(pstd/100**.5))]\n",
        "\n",
        "print(x680)\n",
        "print(x955)\n",
        "print(x997)"
      ],
      "metadata": {
        "colab": {
          "base_uri": "https://localhost:8080/"
        },
        "outputId": "f6d26d0f-68e2-4009-eddc-edee3ace6b86",
        "id": "BgnclFtz09wo"
      },
      "execution_count": null,
      "outputs": [
        {
          "output_type": "stream",
          "name": "stdout",
          "text": [
            "[8709.112562220695, 9712.492037779304]\n",
            "[8207.422824441388, 10214.18177555861]\n",
            "[7705.733086662083, 10715.871513337916]\n"
          ]
        }
      ]
    },
    {
      "cell_type": "code",
      "source": [
        "x90 = [(pmx - 1.64*(pstd/100**.5)) , (pmx + 1.64*(pstd/100**.5))]\n",
        "x95 = [(pmx - 1.96*(pstd/100**.5)) , (pmx + 1.96*(pstd/100**.5))]\n",
        "x99 = [(pmx - 2.58*(pstd/100**.5)) , (pmx + 2.58*(pstd/100**.5))]\n",
        "\n",
        "print(x90)\n",
        "print(x95)\n",
        "print(x99)"
      ],
      "metadata": {
        "colab": {
          "base_uri": "https://localhost:8080/"
        },
        "outputId": "abcecada-b685-4380-b2fb-561dc8e5ea5c",
        "id": "Csqb__qN09wo"
      },
      "execution_count": null,
      "outputs": [
        {
          "output_type": "stream",
          "name": "stdout",
          "text": [
            "[8388.031130041938, 10033.57346995806]\n",
            "[8227.49041395256, 10194.114186047438]\n",
            "[7916.442776529391, 10505.161823470607]\n"
          ]
        }
      ]
    },
    {
      "cell_type": "markdown",
      "source": [
        "***Size 2500***"
      ],
      "metadata": {
        "id": "i4uardXM09wp"
      }
    },
    {
      "cell_type": "code",
      "source": [
        "py = []\n",
        "\n",
        "for i in range (2500):\n",
        "  y = p[\"Purchase\"].sample(2500)\n",
        "  py.append(np.mean(y))\n",
        "\n",
        "pmy = np.mean(py)\n",
        "pmy"
      ],
      "metadata": {
        "colab": {
          "base_uri": "https://localhost:8080/"
        },
        "outputId": "cf635135-8ae0-4684-918f-cf01121f2d65",
        "id": "6bthQT7w09wp"
      },
      "execution_count": null,
      "outputs": [
        {
          "output_type": "execute_result",
          "data": {
            "text/plain": [
              "9261.31497904"
            ]
          },
          "metadata": {},
          "execution_count": 334
        }
      ]
    },
    {
      "cell_type": "code",
      "source": [
        "y680 = [(pmy-1*(pstd/2500**.5)) , (pmy+1*(pstd/2500**.5))]\n",
        "y955 = [(pmy-2*(pstd/2500**.5)) , (pmy+2*(pstd/2500**.5))]\n",
        "y997 = [(pmy-3*(pstd/2500**.5)) , (pmy+3*(pstd/2500**.5))]\n",
        "\n",
        "print(y680)\n",
        "print(y955)\n",
        "print(y997)"
      ],
      "metadata": {
        "colab": {
          "base_uri": "https://localhost:8080/"
        },
        "outputId": "3b1a0cb1-6629-4dd6-c211-d74c9385858a",
        "id": "ugw3a9Au09wq"
      },
      "execution_count": null,
      "outputs": [
        {
          "output_type": "stream",
          "name": "stdout",
          "text": [
            "[9160.977031484139, 9361.652926595862]\n",
            "[9060.639083928278, 9461.990874151723]\n",
            "[8960.301136372416, 9562.328821707584]\n"
          ]
        }
      ]
    },
    {
      "cell_type": "code",
      "source": [
        "y90 = [(pmy - 1.64*(pstd/2500**.5)) , (pmy + 1.64*(pstd/2500**.5))]\n",
        "y95 = [(pmy - 1.96*(pstd/2500**.5)) , (pmy + 1.96*(pstd/2500**.5))]\n",
        "y99 = [(pmy - 2.58*(pstd/2500**.5)) , (pmy + 2.58*(pstd/2500**.5))]\n",
        "\n",
        "print(y90)\n",
        "print(y95)\n",
        "print(y99)"
      ],
      "metadata": {
        "colab": {
          "base_uri": "https://localhost:8080/"
        },
        "outputId": "81afc3a2-0b22-42f4-d685-130b48c40086",
        "id": "irIgkWPf09wq"
      },
      "execution_count": null,
      "outputs": [
        {
          "output_type": "stream",
          "name": "stdout",
          "text": [
            "[9096.760745048388, 9425.869213031612]\n",
            "[9064.652601830512, 9457.977356249488]\n",
            "[9002.443074345878, 9520.186883734123]\n"
          ]
        }
      ]
    },
    {
      "cell_type": "markdown",
      "source": [
        "***Size 10000***"
      ],
      "metadata": {
        "id": "IOYWJ5Zw09wq"
      }
    },
    {
      "cell_type": "code",
      "source": [
        "pz = []\n",
        "\n",
        "for i in range (10000):\n",
        "  z = p[\"Purchase\"].sample(10000)\n",
        "  pz.append(np.mean(z))\n",
        "\n",
        "pmz = np.mean(pz)\n",
        "pmz"
      ],
      "metadata": {
        "colab": {
          "base_uri": "https://localhost:8080/"
        },
        "outputId": "a3f139ce-55b7-48d3-ee40-62cdcf74016e",
        "id": "QQmreV4U09wr"
      },
      "execution_count": null,
      "outputs": [
        {
          "output_type": "execute_result",
          "data": {
            "text/plain": [
              "9260.75853942"
            ]
          },
          "metadata": {},
          "execution_count": 337
        }
      ]
    },
    {
      "cell_type": "code",
      "source": [
        "z680 = [(pmz-1*(pstd/10000**.5)) , (pmz+1*(pstd/10000**.5))]\n",
        "z955 = [(pmz-2*(pstd/10000**.5)) , (pmz+2*(pstd/10000**.5))]\n",
        "z997 = [(pmz-3*(pstd/10000**.5)) , (pmz+3*(pstd/10000**.5))]\n",
        "\n",
        "print(z680)\n",
        "print(z955)\n",
        "print(z997)"
      ],
      "metadata": {
        "colab": {
          "base_uri": "https://localhost:8080/"
        },
        "outputId": "711dd2fd-1d32-413c-ac73-d5005da2145c",
        "id": "A_hpGe2109wr"
      },
      "execution_count": null,
      "outputs": [
        {
          "output_type": "stream",
          "name": "stdout",
          "text": [
            "[9210.589565642069, 9310.92751319793]\n",
            "[9160.420591864138, 9361.09648697586]\n",
            "[9110.251618086208, 9411.265460753792]\n"
          ]
        }
      ]
    },
    {
      "cell_type": "code",
      "source": [
        "z90 = [(pmz - 1.64*(pstd/10000**.5)) , (pmz + 1.64*(pstd/10000**.5))]\n",
        "z95 = [(pmz - 1.96*(pstd/10000**.5)) , (pmz + 1.96*(pstd/10000**.5))]\n",
        "z99 = [(pmz - 2.58*(pstd/10000**.5)) , (pmz + 2.58*(pstd/10000**.5))]\n",
        "\n",
        "print(z90)\n",
        "print(z95)\n",
        "print(z99)"
      ],
      "metadata": {
        "colab": {
          "base_uri": "https://localhost:8080/"
        },
        "outputId": "0e068774-b9c0-41c4-f560-6c69105ecfb2",
        "id": "K8ZLbXET09ws"
      },
      "execution_count": null,
      "outputs": [
        {
          "output_type": "stream",
          "name": "stdout",
          "text": [
            "[9178.481422424193, 9343.035656415806]\n",
            "[9162.427350815256, 9359.089728024743]\n",
            "[9131.322587072938, 9390.19449176706]\n"
          ]
        }
      ]
    },
    {
      "cell_type": "code",
      "source": [],
      "metadata": {
        "id": "ln2hCotP09ws"
      },
      "execution_count": null,
      "outputs": []
    },
    {
      "cell_type": "code",
      "source": [],
      "metadata": {
        "id": "vHg0oi9O5kC-"
      },
      "execution_count": null,
      "outputs": []
    },
    {
      "cell_type": "markdown",
      "source": [
        "# **4.5**"
      ],
      "metadata": {
        "id": "0HhRFVUEAdW3"
      }
    },
    {
      "cell_type": "markdown",
      "source": [
        "Sample size - 100 , 2500 , 10000\n",
        "\n",
        "Distribution = 68% , 95.5% , 99.7%\n",
        "\n",
        "Confidence Interval = 90% , 95% , 99%"
      ],
      "metadata": {
        "id": "8pKt9v-FAgSR"
      }
    },
    {
      "cell_type": "code",
      "source": [
        "p68  = norm.ppf(.15)\n",
        "p90  = norm.ppf(.05)\n",
        "p95  = norm.ppf(.025)\n",
        "p955 = norm.ppf(.0225)\n",
        "p99  = norm.ppf(.005)\n",
        "p997 = norm.ppf(.0013)\n",
        "\n",
        "print(p68)\n",
        "print(p90)\n",
        "print(p95)\n",
        "print(p955)\n",
        "print(p99)\n",
        "print(p997)"
      ],
      "metadata": {
        "colab": {
          "base_uri": "https://localhost:8080/"
        },
        "outputId": "6ff2046f-cdcc-4bf0-e4bd-1f93500c5543",
        "id": "MaBb5uiiAkPX"
      },
      "execution_count": 111,
      "outputs": [
        {
          "output_type": "stream",
          "name": "stdout",
          "text": [
            "-1.0364333894937898\n",
            "-1.6448536269514729\n",
            "-1.9599639845400545\n",
            "-2.004654461765096\n",
            "-2.575829303548901\n",
            "-3.0114537584997843\n"
          ]
        }
      ]
    },
    {
      "cell_type": "markdown",
      "source": [
        "# **4.5**  Age range \"0-17\" = A"
      ],
      "metadata": {
        "id": "vdbyfaVe6ob5"
      }
    },
    {
      "cell_type": "code",
      "source": [
        "a = df[df[\"Age\"] == \"0-17\"]"
      ],
      "metadata": {
        "id": "aSlbmReu5zVA"
      },
      "execution_count": 112,
      "outputs": []
    },
    {
      "cell_type": "code",
      "source": [
        "a[\"Purchase\"].min()"
      ],
      "metadata": {
        "colab": {
          "base_uri": "https://localhost:8080/"
        },
        "id": "kAfNRgVo6f5H",
        "outputId": "7dcfe77d-3823-4064-bab9-861837261d1f"
      },
      "execution_count": 113,
      "outputs": [
        {
          "output_type": "execute_result",
          "data": {
            "text/plain": [
              "12"
            ]
          },
          "metadata": {},
          "execution_count": 113
        }
      ]
    },
    {
      "cell_type": "code",
      "source": [
        "a[\"Purchase\"].max()"
      ],
      "metadata": {
        "colab": {
          "base_uri": "https://localhost:8080/"
        },
        "id": "qQ953t0y6y5_",
        "outputId": "0538089e-d77d-43a7-e227-40107c02317b"
      },
      "execution_count": 114,
      "outputs": [
        {
          "output_type": "execute_result",
          "data": {
            "text/plain": [
              "23955"
            ]
          },
          "metadata": {},
          "execution_count": 114
        }
      ]
    },
    {
      "cell_type": "code",
      "source": [
        "a[\"Purchase\"].median()"
      ],
      "metadata": {
        "colab": {
          "base_uri": "https://localhost:8080/"
        },
        "id": "YZPoyGdv60ya",
        "outputId": "b6cdb7ee-7d1e-49f9-e995-d40c64c30bd1"
      },
      "execution_count": 115,
      "outputs": [
        {
          "output_type": "execute_result",
          "data": {
            "text/plain": [
              "7986.0"
            ]
          },
          "metadata": {},
          "execution_count": 115
        }
      ]
    },
    {
      "cell_type": "code",
      "source": [
        " amean = a[\"Purchase\"].mean()\n",
        " amean"
      ],
      "metadata": {
        "colab": {
          "base_uri": "https://localhost:8080/"
        },
        "id": "ZbJQHVZG61DG",
        "outputId": "56fd04d0-d13a-44f7-ec5e-5a1a74a529e7"
      },
      "execution_count": 116,
      "outputs": [
        {
          "output_type": "execute_result",
          "data": {
            "text/plain": [
              "8933.464640444974"
            ]
          },
          "metadata": {},
          "execution_count": 116
        }
      ]
    },
    {
      "cell_type": "code",
      "source": [
        "astd = a[\"Purchase\"].std()\n",
        "astd"
      ],
      "metadata": {
        "colab": {
          "base_uri": "https://localhost:8080/"
        },
        "id": "QtmtSvQV61XC",
        "outputId": "c6e39e87-7528-4d3d-d8b7-f4fb2b8e47be"
      },
      "execution_count": 117,
      "outputs": [
        {
          "output_type": "execute_result",
          "data": {
            "text/plain": [
              "5111.11404600277"
            ]
          },
          "metadata": {},
          "execution_count": 117
        }
      ]
    },
    {
      "cell_type": "code",
      "source": [
        "a[\"Purchase\"].sum()/10**6"
      ],
      "metadata": {
        "colab": {
          "base_uri": "https://localhost:8080/"
        },
        "id": "B0WUNTrn62Gh",
        "outputId": "162f6690-2e0c-49bb-96bb-b842ec11340a"
      },
      "execution_count": 118,
      "outputs": [
        {
          "output_type": "execute_result",
          "data": {
            "text/plain": [
              "134.913183"
            ]
          },
          "metadata": {},
          "execution_count": 118
        }
      ]
    },
    {
      "cell_type": "markdown",
      "source": [
        "***Size = 100***"
      ],
      "metadata": {
        "id": "O4VoO9VeC5Zv"
      }
    },
    {
      "cell_type": "code",
      "source": [
        "ax = []\n",
        "\n",
        "for i in range (100):\n",
        "  x = a[\"Purchase\"].sample(100)\n",
        "  ax.append(np.mean(x))\n",
        "\n",
        "amx = np.mean(ax)\n",
        "amx"
      ],
      "metadata": {
        "colab": {
          "base_uri": "https://localhost:8080/"
        },
        "outputId": "b5a03eb0-f238-4aa2-971f-a3b6f87d9982",
        "id": "y2JneiRkC5Zv"
      },
      "execution_count": null,
      "outputs": [
        {
          "output_type": "execute_result",
          "data": {
            "text/plain": [
              "8963.9807"
            ]
          },
          "metadata": {},
          "execution_count": 453
        }
      ]
    },
    {
      "cell_type": "code",
      "source": [
        "x680 = [(amx-1*(astd/100**.5)) , (amx+1*(astd/100**.5))]\n",
        "x955 = [(amx-2*(astd/100**.5)) , (amx+2*(astd/100**.5))]\n",
        "x997 = [(amx-3*(astd/100**.5)) , (amx+3*(astd/100**.5))]\n",
        "\n",
        "print(x680)\n",
        "print(x955)\n",
        "print(x997)"
      ],
      "metadata": {
        "colab": {
          "base_uri": "https://localhost:8080/"
        },
        "outputId": "dabf0186-bc42-460f-e9f2-d99c5bf08c4e",
        "id": "1hIKYc4lC5Zw"
      },
      "execution_count": null,
      "outputs": [
        {
          "output_type": "stream",
          "name": "stdout",
          "text": [
            "[8452.869295399723, 9475.092104600277]\n",
            "[7941.757890799446, 9986.203509200554]\n",
            "[7430.646486199169, 10497.31491380083]\n"
          ]
        }
      ]
    },
    {
      "cell_type": "code",
      "source": [
        "x90 = [(amx - 1.64*(astd/100**.5)) , (amx + 1.64*(astd/100**.5))]\n",
        "x95 = [(amx - 1.96*(astd/100**.5)) , (amx + 1.96*(astd/100**.5))]\n",
        "x99 = [(amx - 2.58*(astd/100**.5)) , (amx + 2.58*(astd/100**.5))]\n",
        "\n",
        "print(x90)\n",
        "print(x95)\n",
        "print(x99)"
      ],
      "metadata": {
        "colab": {
          "base_uri": "https://localhost:8080/"
        },
        "outputId": "fc3cf088-1567-4007-eb25-e015d86208e2",
        "id": "PXHraGnMC5Zw"
      },
      "execution_count": null,
      "outputs": [
        {
          "output_type": "stream",
          "name": "stdout",
          "text": [
            "[8125.757996455546, 9802.203403544454]\n",
            "[7962.202346983457, 9965.759053016543]\n",
            "[7645.313276131285, 10282.648123868716]\n"
          ]
        }
      ]
    },
    {
      "cell_type": "markdown",
      "source": [
        "***Size 2500***"
      ],
      "metadata": {
        "id": "v5JLQCUHC5Zx"
      }
    },
    {
      "cell_type": "code",
      "source": [
        "ay = []\n",
        "\n",
        "for i in range (2500):\n",
        "  y = a[\"Purchase\"].sample(2500)\n",
        "  ay.append(np.mean(y))\n",
        "\n",
        "amy = np.mean(ay)\n",
        "amy"
      ],
      "metadata": {
        "colab": {
          "base_uri": "https://localhost:8080/"
        },
        "outputId": "b43b5ad4-adba-48cf-96d8-f08bf3e2a414",
        "id": "PpKri6ECC5Zx"
      },
      "execution_count": null,
      "outputs": [
        {
          "output_type": "execute_result",
          "data": {
            "text/plain": [
              "8933.68475472"
            ]
          },
          "metadata": {},
          "execution_count": 456
        }
      ]
    },
    {
      "cell_type": "code",
      "source": [
        "y680 = [(amy-1*(astd/2500**.5)) , (amy+1*(astd/2500**.5))]\n",
        "y955 = [(amy-2*(astd/2500**.5)) , (amy+2*(astd/2500**.5))]\n",
        "y997 = [(amy-3*(astd/2500**.5)) , (amy+3*(astd/2500**.5))]\n",
        "\n",
        "print(y680)\n",
        "print(y955)\n",
        "print(y997)"
      ],
      "metadata": {
        "colab": {
          "base_uri": "https://localhost:8080/"
        },
        "outputId": "9196e17a-2bfa-4b31-de41-0e13643225e5",
        "id": "FIVee--_C5Zx"
      },
      "execution_count": null,
      "outputs": [
        {
          "output_type": "stream",
          "name": "stdout",
          "text": [
            "[8831.462473799944, 9035.907035640055]\n",
            "[8729.240192879888, 9138.129316560111]\n",
            "[8627.017911959832, 9240.351597480167]\n"
          ]
        }
      ]
    },
    {
      "cell_type": "code",
      "source": [
        "y90 = [(amy - 1.64*(astd/2500**.5)) , (amy + 1.64*(astd/2500**.5))]\n",
        "y95 = [(amy - 1.96*(astd/2500**.5)) , (amy + 1.96*(astd/2500**.5))]\n",
        "y99 = [(amy - 2.58*(astd/2500**.5)) , (amy + 2.58*(astd/2500**.5))]\n",
        "\n",
        "print(y90)\n",
        "print(y95)\n",
        "print(y99)"
      ],
      "metadata": {
        "colab": {
          "base_uri": "https://localhost:8080/"
        },
        "outputId": "a1cf85e0-eb72-4638-e873-1154b3a7e475",
        "id": "SwgSy3-ZC5Zy"
      },
      "execution_count": null,
      "outputs": [
        {
          "output_type": "stream",
          "name": "stdout",
          "text": [
            "[8766.04021401111, 9101.32929542889]\n",
            "[8733.32908411669, 9134.040425323308]\n",
            "[8669.951269946258, 9197.418239493742]\n"
          ]
        }
      ]
    },
    {
      "cell_type": "markdown",
      "source": [
        "***Size 10000***"
      ],
      "metadata": {
        "id": "cRk_sceAC5Zy"
      }
    },
    {
      "cell_type": "code",
      "source": [
        "az = []\n",
        "\n",
        "for i in range (10000):\n",
        "  z = a[\"Purchase\"].sample(10000)\n",
        "  az.append(np.mean(z))\n",
        "\n",
        "amz = np.mean(az)\n",
        "amz"
      ],
      "metadata": {
        "colab": {
          "base_uri": "https://localhost:8080/"
        },
        "outputId": "1a6e993b-3451-4d0f-ddc7-fd061d29f160",
        "id": "4Trh_gS7C5Zy"
      },
      "execution_count": null,
      "outputs": [
        {
          "output_type": "execute_result",
          "data": {
            "text/plain": [
              "8933.52290192"
            ]
          },
          "metadata": {},
          "execution_count": 460
        }
      ]
    },
    {
      "cell_type": "code",
      "source": [
        "z680 = [(amz-1*(astd/10000**.5)) , (amz+1*(astd/10000**.5))]\n",
        "z955 = [(amz-2*(astd/10000**.5)) , (amz+2*(astd/10000**.5))]\n",
        "z997 = [(amz-3*(astd/10000**.5)) , (amz+3*(astd/10000**.5))]\n",
        "\n",
        "print(z680)\n",
        "print(z955)\n",
        "print(z997)"
      ],
      "metadata": {
        "colab": {
          "base_uri": "https://localhost:8080/"
        },
        "outputId": "8eed0647-2f9e-47f9-c45c-7d7163f4294d",
        "id": "rcbDlJutC5Zz"
      },
      "execution_count": null,
      "outputs": [
        {
          "output_type": "stream",
          "name": "stdout",
          "text": [
            "[8882.411761459973, 8984.634042380027]\n",
            "[8831.300620999944, 9035.745182840055]\n",
            "[8780.189480539917, 9086.856323300082]\n"
          ]
        }
      ]
    },
    {
      "cell_type": "code",
      "source": [
        "z90 = [(amz - 1.64*(astd/10000**.5)) , (amz + 1.64*(astd/10000**.5))]\n",
        "z95 = [(amz - 1.96*(astd/10000**.5)) , (amz + 1.96*(astd/10000**.5))]\n",
        "z99 = [(amz - 2.58*(astd/10000**.5)) , (amz + 2.58*(astd/10000**.5))]\n",
        "\n",
        "print(z90)\n",
        "print(z95)\n",
        "print(z99)"
      ],
      "metadata": {
        "colab": {
          "base_uri": "https://localhost:8080/"
        },
        "outputId": "e1cb757f-6ec2-441b-bb38-21da42867b6e",
        "id": "iUihPpjzC5Z0"
      },
      "execution_count": null,
      "outputs": [
        {
          "output_type": "stream",
          "name": "stdout",
          "text": [
            "[8849.700631565554, 9017.345172274445]\n",
            "[8833.345066618345, 9033.700737221654]\n",
            "[8801.656159533128, 9065.389644306872]\n"
          ]
        }
      ]
    },
    {
      "cell_type": "code",
      "source": [],
      "metadata": {
        "id": "aHvQFAjjC5Z1"
      },
      "execution_count": null,
      "outputs": []
    },
    {
      "cell_type": "code",
      "source": [],
      "metadata": {
        "id": "HP0yVngUAkee"
      },
      "execution_count": 118,
      "outputs": []
    },
    {
      "cell_type": "markdown",
      "source": [
        "# **4.5** Age range \"18-25\" = B"
      ],
      "metadata": {
        "id": "YVd7ZbCH7Rtw"
      }
    },
    {
      "cell_type": "code",
      "source": [
        "b = df[df[\"Age\"] == \"18-25\"]"
      ],
      "metadata": {
        "id": "k-MQNfFT598c"
      },
      "execution_count": 119,
      "outputs": []
    },
    {
      "cell_type": "code",
      "source": [
        "b[\"Purchase\"].min()"
      ],
      "metadata": {
        "colab": {
          "base_uri": "https://localhost:8080/"
        },
        "id": "4FT-gVWc7Ljl",
        "outputId": "3cdb27ba-6f00-4ca9-b03f-b4be0fe647df"
      },
      "execution_count": 120,
      "outputs": [
        {
          "output_type": "execute_result",
          "data": {
            "text/plain": [
              "12"
            ]
          },
          "metadata": {},
          "execution_count": 120
        }
      ]
    },
    {
      "cell_type": "code",
      "source": [
        "b[\"Purchase\"].max()"
      ],
      "metadata": {
        "colab": {
          "base_uri": "https://localhost:8080/"
        },
        "id": "iFqAdqk97ZTJ",
        "outputId": "52c2efb3-9ae3-469e-fe3d-007479970857"
      },
      "execution_count": 121,
      "outputs": [
        {
          "output_type": "execute_result",
          "data": {
            "text/plain": [
              "23958"
            ]
          },
          "metadata": {},
          "execution_count": 121
        }
      ]
    },
    {
      "cell_type": "code",
      "source": [
        "b[\"Purchase\"].median()"
      ],
      "metadata": {
        "colab": {
          "base_uri": "https://localhost:8080/"
        },
        "id": "2iL-WU3i7cCI",
        "outputId": "4e7076f4-4c21-4dea-bb14-0c71d007b77c"
      },
      "execution_count": 122,
      "outputs": [
        {
          "output_type": "execute_result",
          "data": {
            "text/plain": [
              "8027.0"
            ]
          },
          "metadata": {},
          "execution_count": 122
        }
      ]
    },
    {
      "cell_type": "code",
      "source": [
        "bmean = b[\"Purchase\"].mean()\n",
        "bmean"
      ],
      "metadata": {
        "colab": {
          "base_uri": "https://localhost:8080/"
        },
        "id": "CWaS5zJz7eMF",
        "outputId": "03f1d0b6-1992-4092-e21b-05f56bf9c56e"
      },
      "execution_count": 123,
      "outputs": [
        {
          "output_type": "execute_result",
          "data": {
            "text/plain": [
              "9169.663606261289"
            ]
          },
          "metadata": {},
          "execution_count": 123
        }
      ]
    },
    {
      "cell_type": "code",
      "source": [
        "bstd = b[\"Purchase\"].std()\n",
        "bstd"
      ],
      "metadata": {
        "colab": {
          "base_uri": "https://localhost:8080/"
        },
        "id": "J5GmtqDc7mLn",
        "outputId": "1063acad-e3e5-43b0-d9e9-b6010e0b8b88"
      },
      "execution_count": 124,
      "outputs": [
        {
          "output_type": "execute_result",
          "data": {
            "text/plain": [
              "5034.32199717658"
            ]
          },
          "metadata": {},
          "execution_count": 124
        }
      ]
    },
    {
      "cell_type": "code",
      "source": [
        "b[\"Purchase\"].sum()/10**6"
      ],
      "metadata": {
        "colab": {
          "base_uri": "https://localhost:8080/"
        },
        "id": "Kxbb_PX87p3N",
        "outputId": "7c822642-a8a0-4dda-fa81-963a25b8528c"
      },
      "execution_count": 125,
      "outputs": [
        {
          "output_type": "execute_result",
          "data": {
            "text/plain": [
              "913.848675"
            ]
          },
          "metadata": {},
          "execution_count": 125
        }
      ]
    },
    {
      "cell_type": "code",
      "source": [],
      "metadata": {
        "id": "R1Iv_uMABth0"
      },
      "execution_count": null,
      "outputs": []
    },
    {
      "cell_type": "markdown",
      "source": [
        "***Size = 100***"
      ],
      "metadata": {
        "id": "OpeFRLQvEORG"
      }
    },
    {
      "cell_type": "code",
      "source": [
        "bx = []\n",
        "\n",
        "for i in range (100):\n",
        "  x = b[\"Purchase\"].sample(100)\n",
        "  bx.append(np.mean(x))\n",
        "\n",
        "bmx = np.mean(bx)\n",
        "bmx"
      ],
      "metadata": {
        "colab": {
          "base_uri": "https://localhost:8080/"
        },
        "outputId": "4dbef971-f4e3-4aaf-d632-fc1bf4de95b8",
        "id": "C4IME4UlEORH"
      },
      "execution_count": null,
      "outputs": [
        {
          "output_type": "execute_result",
          "data": {
            "text/plain": [
              "9054.521999999999"
            ]
          },
          "metadata": {},
          "execution_count": 468
        }
      ]
    },
    {
      "cell_type": "code",
      "source": [
        "x680 = [(bmx-1*(bstd/100**.5)) , (bmx+1*(bstd/100**.5))]\n",
        "x955 = [(bmx-2*(bstd/100**.5)) , (bmx+2*(bstd/100**.5))]\n",
        "x997 = [(bmx-3*(bstd/100**.5)) , (bmx+3*(bstd/100**.5))]\n",
        "\n",
        "print(x680)\n",
        "print(x955)\n",
        "print(x997)"
      ],
      "metadata": {
        "colab": {
          "base_uri": "https://localhost:8080/"
        },
        "outputId": "bdac278e-ee51-4892-c2bf-8d902ceac4e9",
        "id": "7JvjvWaQEORH"
      },
      "execution_count": null,
      "outputs": [
        {
          "output_type": "stream",
          "name": "stdout",
          "text": [
            "[8551.089800282341, 9557.954199717657]\n",
            "[8047.657600564683, 10061.386399435316]\n",
            "[7544.2254008470245, 10564.818599152974]\n"
          ]
        }
      ]
    },
    {
      "cell_type": "code",
      "source": [
        "x90 = [(bmx - 1.64*(bstd/100**.5)) , (bmx + 1.64*(bstd/100**.5))]\n",
        "x95 = [(bmx - 1.96*(bstd/100**.5)) , (bmx + 1.96*(bstd/100**.5))]\n",
        "x99 = [(bmx - 2.58*(bstd/100**.5)) , (bmx + 2.58*(bstd/100**.5))]\n",
        "\n",
        "print(x90)\n",
        "print(x95)\n",
        "print(x99)"
      ],
      "metadata": {
        "colab": {
          "base_uri": "https://localhost:8080/"
        },
        "outputId": "66fd9e6c-7ca3-4655-bd19-f88967a3e263",
        "id": "2hnadZCaEORH"
      },
      "execution_count": null,
      "outputs": [
        {
          "output_type": "stream",
          "name": "stdout",
          "text": [
            "[8228.89319246304, 9880.150807536958]\n",
            "[8067.79488855339, 10041.249111446608]\n",
            "[7755.666924728441, 10353.377075271557]\n"
          ]
        }
      ]
    },
    {
      "cell_type": "markdown",
      "source": [
        "***Size 2500***"
      ],
      "metadata": {
        "id": "DmY2jjNPEORH"
      }
    },
    {
      "cell_type": "code",
      "source": [
        "by = []\n",
        "\n",
        "for i in range (2500):\n",
        "  y = b[\"Purchase\"].sample(2500)\n",
        "  by.append(np.mean(y))\n",
        "\n",
        "bmy = np.mean(by)\n",
        "bmy"
      ],
      "metadata": {
        "colab": {
          "base_uri": "https://localhost:8080/"
        },
        "outputId": "9a88f827-c94a-432b-9acc-38b47f441c2d",
        "id": "M5TUVxFwEORI"
      },
      "execution_count": null,
      "outputs": [
        {
          "output_type": "execute_result",
          "data": {
            "text/plain": [
              "9171.29593696"
            ]
          },
          "metadata": {},
          "execution_count": 472
        }
      ]
    },
    {
      "cell_type": "code",
      "source": [
        "y680 = [(bmy-1*(bstd/2500**.5)) , (bmy+1*(bstd/2500**.5))]\n",
        "y955 = [(bmy-2*(bstd/2500**.5)) , (bmy+2*(bstd/2500**.5))]\n",
        "y997 = [(bmy-3*(bstd/2500**.5)) , (bmy+3*(bstd/2500**.5))]\n",
        "\n",
        "print(y680)\n",
        "print(y955)\n",
        "print(y997)"
      ],
      "metadata": {
        "colab": {
          "base_uri": "https://localhost:8080/"
        },
        "outputId": "34b7861a-409a-47ef-ee2a-efe9b5c0a3ee",
        "id": "sMzRRL5vEORI"
      },
      "execution_count": null,
      "outputs": [
        {
          "output_type": "stream",
          "name": "stdout",
          "text": [
            "[9070.609497016469, 9271.98237690353]\n",
            "[8969.923057072936, 9372.668816847063]\n",
            "[8869.236617129405, 9473.355256790594]\n"
          ]
        }
      ]
    },
    {
      "cell_type": "code",
      "source": [
        "y90 = [(bmy - 1.64*(bstd/2500**.5)) , (bmy + 1.64*(bstd/2500**.5))]\n",
        "y95 = [(bmy - 1.96*(bstd/2500**.5)) , (bmy + 1.96*(bstd/2500**.5))]\n",
        "y99 = [(bmy - 2.58*(bstd/2500**.5)) , (bmy + 2.58*(bstd/2500**.5))]\n",
        "\n",
        "print(y90)\n",
        "print(y95)\n",
        "print(y99)"
      ],
      "metadata": {
        "colab": {
          "base_uri": "https://localhost:8080/"
        },
        "outputId": "de0e697a-27ef-43f2-f27c-06c5090aacbd",
        "id": "2OgDZ7-uEORI"
      },
      "execution_count": null,
      "outputs": [
        {
          "output_type": "stream",
          "name": "stdout",
          "text": [
            "[9006.170175452608, 9336.421698467391]\n",
            "[8973.950514670678, 9368.64135924932]\n",
            "[8911.524921905688, 9431.066952014311]\n"
          ]
        }
      ]
    },
    {
      "cell_type": "markdown",
      "source": [
        "***Size 10000***"
      ],
      "metadata": {
        "id": "KiKGwSi5EORJ"
      }
    },
    {
      "cell_type": "code",
      "source": [
        "bz = []\n",
        "\n",
        "for i in range (10000):\n",
        "  z = b[\"Purchase\"].sample(10000)\n",
        "  bz.append(np.mean(z))\n",
        "\n",
        "bmz = np.mean(bz)\n",
        "bmz"
      ],
      "metadata": {
        "colab": {
          "base_uri": "https://localhost:8080/"
        },
        "outputId": "b5fd7e26-dd45-42e2-ee45-b4b0e326909f",
        "id": "L5XaStH0EORJ"
      },
      "execution_count": null,
      "outputs": [
        {
          "output_type": "execute_result",
          "data": {
            "text/plain": [
              "9169.01775664"
            ]
          },
          "metadata": {},
          "execution_count": 476
        }
      ]
    },
    {
      "cell_type": "code",
      "source": [
        "z680 = [(bmz-1*(bstd/10000**.5)) , (bmz+1*(bstd/10000**.5))]\n",
        "z955 = [(bmz-2*(bstd/10000**.5)) , (bmz+2*(bstd/10000**.5))]\n",
        "z997 = [(bmz-3*(bstd/10000**.5)) , (bmz+3*(bstd/10000**.5))]\n",
        "\n",
        "print(z680)\n",
        "print(z955)\n",
        "print(z997)"
      ],
      "metadata": {
        "colab": {
          "base_uri": "https://localhost:8080/"
        },
        "outputId": "8fad8da8-649d-4de4-d17f-8b5891467c20",
        "id": "gfW-Xh6gEORJ"
      },
      "execution_count": null,
      "outputs": [
        {
          "output_type": "stream",
          "name": "stdout",
          "text": [
            "[9118.674536668233, 9219.360976611766]\n",
            "[9068.331316696469, 9269.70419658353]\n",
            "[9017.988096724703, 9320.047416555297]\n"
          ]
        }
      ]
    },
    {
      "cell_type": "code",
      "source": [
        "z90 = [(bmz - 1.64*(bstd/10000**.5)) , (bmz + 1.64*(bstd/10000**.5))]\n",
        "z95 = [(bmz - 1.96*(bstd/10000**.5)) , (bmz + 1.96*(bstd/10000**.5))]\n",
        "z99 = [(bmz - 2.58*(bstd/10000**.5)) , (bmz + 2.58*(bstd/10000**.5))]\n",
        "\n",
        "print(z90)\n",
        "print(z95)\n",
        "print(z99)"
      ],
      "metadata": {
        "colab": {
          "base_uri": "https://localhost:8080/"
        },
        "outputId": "77b39131-6791-456c-a603-31c8dab3c670",
        "id": "7EAG7dJsEORK"
      },
      "execution_count": null,
      "outputs": [
        {
          "output_type": "stream",
          "name": "stdout",
          "text": [
            "[9086.454875886304, 9251.580637393696]\n",
            "[9070.345045495338, 9267.690467784661]\n",
            "[9039.132249112845, 9298.903264167155]\n"
          ]
        }
      ]
    },
    {
      "cell_type": "code",
      "source": [],
      "metadata": {
        "id": "SUVTaKg2EORK"
      },
      "execution_count": null,
      "outputs": []
    },
    {
      "cell_type": "markdown",
      "source": [
        "# **4.5** Age Range \"26-35\" = C"
      ],
      "metadata": {
        "id": "hNWWULhv7vNe"
      }
    },
    {
      "cell_type": "code",
      "source": [
        "c = df[df[\"Age\"] == \"26-35\"]"
      ],
      "metadata": {
        "id": "UGPzQRZC5-hb"
      },
      "execution_count": 126,
      "outputs": []
    },
    {
      "cell_type": "code",
      "source": [
        "c[\"Purchase\"].min()"
      ],
      "metadata": {
        "colab": {
          "base_uri": "https://localhost:8080/"
        },
        "id": "rgKce8sH7tVB",
        "outputId": "5c1d6cc2-9cb9-4c89-9c34-c2b9674d20fb"
      },
      "execution_count": 127,
      "outputs": [
        {
          "output_type": "execute_result",
          "data": {
            "text/plain": [
              "12"
            ]
          },
          "metadata": {},
          "execution_count": 127
        }
      ]
    },
    {
      "cell_type": "code",
      "source": [
        "c[\"Purchase\"].max()"
      ],
      "metadata": {
        "colab": {
          "base_uri": "https://localhost:8080/"
        },
        "id": "XnZQnKZR72gK",
        "outputId": "e234adb9-684e-4066-a719-9d56f371ae5f"
      },
      "execution_count": 128,
      "outputs": [
        {
          "output_type": "execute_result",
          "data": {
            "text/plain": [
              "23961"
            ]
          },
          "metadata": {},
          "execution_count": 128
        }
      ]
    },
    {
      "cell_type": "code",
      "source": [
        "c[\"Purchase\"].median()"
      ],
      "metadata": {
        "colab": {
          "base_uri": "https://localhost:8080/"
        },
        "id": "gCq-ugl275Y8",
        "outputId": "1bc5a5b3-fdf5-4e48-8619-215262f4196c"
      },
      "execution_count": 129,
      "outputs": [
        {
          "output_type": "execute_result",
          "data": {
            "text/plain": [
              "8030.0"
            ]
          },
          "metadata": {},
          "execution_count": 129
        }
      ]
    },
    {
      "cell_type": "code",
      "source": [
        "cmean = c[\"Purchase\"].mean()\n",
        "cmean"
      ],
      "metadata": {
        "colab": {
          "base_uri": "https://localhost:8080/"
        },
        "id": "cbuI7Ijn76zD",
        "outputId": "369361d0-7189-49b5-e7b1-c2d9a302ac2b"
      },
      "execution_count": 130,
      "outputs": [
        {
          "output_type": "execute_result",
          "data": {
            "text/plain": [
              "9252.690632869888"
            ]
          },
          "metadata": {},
          "execution_count": 130
        }
      ]
    },
    {
      "cell_type": "code",
      "source": [
        "cstd = c[\"Purchase\"].std()\n",
        "cstd"
      ],
      "metadata": {
        "colab": {
          "base_uri": "https://localhost:8080/"
        },
        "id": "C0zDwCrG7-Zr",
        "outputId": "387dad7d-fd41-4228-aac1-2a8dd2f30df7"
      },
      "execution_count": 131,
      "outputs": [
        {
          "output_type": "execute_result",
          "data": {
            "text/plain": [
              "5010.527303002956"
            ]
          },
          "metadata": {},
          "execution_count": 131
        }
      ]
    },
    {
      "cell_type": "code",
      "source": [
        "c[\"Purchase\"].sum()/10**6"
      ],
      "metadata": {
        "colab": {
          "base_uri": "https://localhost:8080/"
        },
        "id": "ipO7FCCI8ELk",
        "outputId": "c339818a-1f83-49da-b771-5e6840b61ab1"
      },
      "execution_count": 132,
      "outputs": [
        {
          "output_type": "execute_result",
          "data": {
            "text/plain": [
              "2031.770578"
            ]
          },
          "metadata": {},
          "execution_count": 132
        }
      ]
    },
    {
      "cell_type": "code",
      "source": [],
      "metadata": {
        "id": "f-K_ABOWB--Z"
      },
      "execution_count": null,
      "outputs": []
    },
    {
      "cell_type": "markdown",
      "source": [
        "***Size = 100***"
      ],
      "metadata": {
        "id": "wqSiAXLtF6qo"
      }
    },
    {
      "cell_type": "code",
      "source": [
        "cx = []\n",
        "\n",
        "for i in range (100):\n",
        "  x = c[\"Purchase\"].sample(100)\n",
        "  cx.append(np.mean(x))\n",
        "\n",
        "cmx = np.mean(cx)\n",
        "cmx"
      ],
      "metadata": {
        "colab": {
          "base_uri": "https://localhost:8080/"
        },
        "outputId": "4dbef971-f4e3-4aaf-d632-fc1bf4de95b8",
        "id": "H3whe6CnF6qo"
      },
      "execution_count": null,
      "outputs": [
        {
          "output_type": "execute_result",
          "data": {
            "text/plain": [
              "9054.521999999999"
            ]
          },
          "metadata": {},
          "execution_count": 468
        }
      ]
    },
    {
      "cell_type": "code",
      "source": [
        "x680 = [(cmx-1*(cstd/100**.5)) , (cmx+1*(cstd/100**.5))]\n",
        "x955 = [(cmx-2*(cstd/100**.5)) , (cmx+2*(cstd/100**.5))]\n",
        "x997 = [(cmx-3*(cstd/100**.5)) , (cmx+3*(cstd/100**.5))]\n",
        "\n",
        "print(x680)\n",
        "print(x955)\n",
        "print(x997)"
      ],
      "metadata": {
        "colab": {
          "base_uri": "https://localhost:8080/"
        },
        "outputId": "bdac278e-ee51-4892-c2bf-8d902ceac4e9",
        "id": "UlAPfLZbF6qp"
      },
      "execution_count": null,
      "outputs": [
        {
          "output_type": "stream",
          "name": "stdout",
          "text": [
            "[8551.089800282341, 9557.954199717657]\n",
            "[8047.657600564683, 10061.386399435316]\n",
            "[7544.2254008470245, 10564.818599152974]\n"
          ]
        }
      ]
    },
    {
      "cell_type": "code",
      "source": [
        "x90 = [(cmx - 1.64*(cstd/100**.5)) , (cmx + 1.64*(cstd/100**.5))]\n",
        "x95 = [(cmx - 1.96*(cstd/100**.5)) , (cmx + 1.96*(cstd/100**.5))]\n",
        "x99 = [(cmx - 2.58*(cstd/100**.5)) , (cmx + 2.58*(cstd/100**.5))]\n",
        "\n",
        "print(x90)\n",
        "print(x95)\n",
        "print(x99)"
      ],
      "metadata": {
        "colab": {
          "base_uri": "https://localhost:8080/"
        },
        "outputId": "66fd9e6c-7ca3-4655-bd19-f88967a3e263",
        "id": "rovDeanPF6qp"
      },
      "execution_count": null,
      "outputs": [
        {
          "output_type": "stream",
          "name": "stdout",
          "text": [
            "[8228.89319246304, 9880.150807536958]\n",
            "[8067.79488855339, 10041.249111446608]\n",
            "[7755.666924728441, 10353.377075271557]\n"
          ]
        }
      ]
    },
    {
      "cell_type": "markdown",
      "source": [
        "***Size 2500***"
      ],
      "metadata": {
        "id": "rD5XDRdfF6qq"
      }
    },
    {
      "cell_type": "code",
      "source": [
        "cy = []\n",
        "\n",
        "for i in range (2500):\n",
        "  y = c[\"Purchase\"].sample(2500)\n",
        "  cy.append(np.mean(y))\n",
        "\n",
        "cmy = np.mean(cy)\n",
        "cmy"
      ],
      "metadata": {
        "colab": {
          "base_uri": "https://localhost:8080/"
        },
        "outputId": "9a88f827-c94a-432b-9acc-38b47f441c2d",
        "id": "Qs37XYnUF6qq"
      },
      "execution_count": null,
      "outputs": [
        {
          "output_type": "execute_result",
          "data": {
            "text/plain": [
              "9171.29593696"
            ]
          },
          "metadata": {},
          "execution_count": 472
        }
      ]
    },
    {
      "cell_type": "code",
      "source": [
        "y680 = [(cmy-1*(cstd/2500**.5)) , (cmy+1*(cstd/2500**.5))]\n",
        "y955 = [(cmy-2*(cstd/2500**.5)) , (cmy+2*(cstd/2500**.5))]\n",
        "y997 = [(cmy-3*(cstd/2500**.5)) , (cmy+3*(cstd/2500**.5))]\n",
        "\n",
        "print(y680)\n",
        "print(y955)\n",
        "print(y997)"
      ],
      "metadata": {
        "colab": {
          "base_uri": "https://localhost:8080/"
        },
        "outputId": "34b7861a-409a-47ef-ee2a-efe9b5c0a3ee",
        "id": "lK7YRS8XF6qq"
      },
      "execution_count": null,
      "outputs": [
        {
          "output_type": "stream",
          "name": "stdout",
          "text": [
            "[9070.609497016469, 9271.98237690353]\n",
            "[8969.923057072936, 9372.668816847063]\n",
            "[8869.236617129405, 9473.355256790594]\n"
          ]
        }
      ]
    },
    {
      "cell_type": "code",
      "source": [
        "y90 = [(cmy - 1.64*(cstd/2500**.5)) , (cmy + 1.64*(cstd/2500**.5))]\n",
        "y95 = [(cmy - 1.96*(cstd/2500**.5)) , (cmy + 1.96*(cstd/2500**.5))]\n",
        "y99 = [(cmy - 2.58*(cstd/2500**.5)) , (cmy + 2.58*(cstd/2500**.5))]\n",
        "\n",
        "print(y90)\n",
        "print(y95)\n",
        "print(y99)"
      ],
      "metadata": {
        "colab": {
          "base_uri": "https://localhost:8080/"
        },
        "outputId": "de0e697a-27ef-43f2-f27c-06c5090aacbd",
        "id": "7b52ZhMLF6qr"
      },
      "execution_count": null,
      "outputs": [
        {
          "output_type": "stream",
          "name": "stdout",
          "text": [
            "[9006.170175452608, 9336.421698467391]\n",
            "[8973.950514670678, 9368.64135924932]\n",
            "[8911.524921905688, 9431.066952014311]\n"
          ]
        }
      ]
    },
    {
      "cell_type": "markdown",
      "source": [
        "***Size 10000***"
      ],
      "metadata": {
        "id": "0cXmOOjiF6qr"
      }
    },
    {
      "cell_type": "code",
      "source": [
        "cz = []\n",
        "\n",
        "for i in range (10000):\n",
        "  z = c[\"Purchase\"].sample(10000)\n",
        "  cz.append(np.mean(z))\n",
        "\n",
        "cmz = np.mean(cz)\n",
        "cmz"
      ],
      "metadata": {
        "colab": {
          "base_uri": "https://localhost:8080/"
        },
        "outputId": "b5fd7e26-dd45-42e2-ee45-b4b0e326909f",
        "id": "Psjd8UzFF6qs"
      },
      "execution_count": null,
      "outputs": [
        {
          "output_type": "execute_result",
          "data": {
            "text/plain": [
              "9169.01775664"
            ]
          },
          "metadata": {},
          "execution_count": 476
        }
      ]
    },
    {
      "cell_type": "code",
      "source": [
        "z680 = [(cmz-1*(cstd/10000**.5)) , (cmz+1*(cstd/10000**.5))]\n",
        "z955 = [(cmz-2*(cstd/10000**.5)) , (cmz+2*(cstd/10000**.5))]\n",
        "z997 = [(cmz-3*(cstd/10000**.5)) , (cmz+3*(cstd/10000**.5))]\n",
        "\n",
        "print(z680)\n",
        "print(z955)\n",
        "print(z997)"
      ],
      "metadata": {
        "colab": {
          "base_uri": "https://localhost:8080/"
        },
        "outputId": "8fad8da8-649d-4de4-d17f-8b5891467c20",
        "id": "3ytlUAQbF6qs"
      },
      "execution_count": null,
      "outputs": [
        {
          "output_type": "stream",
          "name": "stdout",
          "text": [
            "[9118.674536668233, 9219.360976611766]\n",
            "[9068.331316696469, 9269.70419658353]\n",
            "[9017.988096724703, 9320.047416555297]\n"
          ]
        }
      ]
    },
    {
      "cell_type": "code",
      "source": [
        "z90 = [(cmz - 1.64*(cstd/10000**.5)) , (cmz + 1.64*(cstd/10000**.5))]\n",
        "z95 = [(cmz - 1.96*(cstd/10000**.5)) , (cmz + 1.96*(cstd/10000**.5))]\n",
        "z99 = [(cmz - 2.58*(cstd/10000**.5)) , (cmz + 2.58*(cstd/10000**.5))]\n",
        "\n",
        "print(z90)\n",
        "print(z95)\n",
        "print(z99)"
      ],
      "metadata": {
        "colab": {
          "base_uri": "https://localhost:8080/"
        },
        "outputId": "77b39131-6791-456c-a603-31c8dab3c670",
        "id": "Z4zZpNxVF6qt"
      },
      "execution_count": null,
      "outputs": [
        {
          "output_type": "stream",
          "name": "stdout",
          "text": [
            "[9086.454875886304, 9251.580637393696]\n",
            "[9070.345045495338, 9267.690467784661]\n",
            "[9039.132249112845, 9298.903264167155]\n"
          ]
        }
      ]
    },
    {
      "cell_type": "code",
      "source": [],
      "metadata": {
        "id": "mx4Mf2M8F6qu"
      },
      "execution_count": null,
      "outputs": []
    },
    {
      "cell_type": "code",
      "source": [],
      "metadata": {
        "id": "wN_9GZkdHJip"
      },
      "execution_count": null,
      "outputs": []
    },
    {
      "cell_type": "markdown",
      "source": [
        "# **4.5** Age range \"36-50\" = D"
      ],
      "metadata": {
        "id": "4Y1ZHhFZ8LAH"
      }
    },
    {
      "cell_type": "code",
      "source": [
        "d = df[(df[\"Age\"] == \"36-45\") | (df[\"Age\"] == \"46-50\")]"
      ],
      "metadata": {
        "id": "1yfBsitL6LZ1"
      },
      "execution_count": 133,
      "outputs": []
    },
    {
      "cell_type": "code",
      "source": [
        "d[\"Purchase\"].min()"
      ],
      "metadata": {
        "colab": {
          "base_uri": "https://localhost:8080/"
        },
        "id": "DtTBMrE88H0X",
        "outputId": "2002a473-7bf5-44b1-e686-3a1cc18bd13f"
      },
      "execution_count": 134,
      "outputs": [
        {
          "output_type": "execute_result",
          "data": {
            "text/plain": [
              "12"
            ]
          },
          "metadata": {},
          "execution_count": 134
        }
      ]
    },
    {
      "cell_type": "code",
      "source": [
        "d[\"Purchase\"].max()"
      ],
      "metadata": {
        "colab": {
          "base_uri": "https://localhost:8080/"
        },
        "id": "ztbVKk_O8WDx",
        "outputId": "feeb7286-5999-4ee5-9504-879378d49aa9"
      },
      "execution_count": 135,
      "outputs": [
        {
          "output_type": "execute_result",
          "data": {
            "text/plain": [
              "23960"
            ]
          },
          "metadata": {},
          "execution_count": 135
        }
      ]
    },
    {
      "cell_type": "code",
      "source": [
        "d[\"Purchase\"].median()"
      ],
      "metadata": {
        "colab": {
          "base_uri": "https://localhost:8080/"
        },
        "id": "s1OemvP38YU2",
        "outputId": "e856bb3b-42dc-4c1c-a7fe-31695fdae00d"
      },
      "execution_count": 136,
      "outputs": [
        {
          "output_type": "execute_result",
          "data": {
            "text/plain": [
              "8053.0"
            ]
          },
          "metadata": {},
          "execution_count": 136
        }
      ]
    },
    {
      "cell_type": "code",
      "source": [
        "dmean = d[\"Purchase\"].mean()\n",
        "dmean"
      ],
      "metadata": {
        "colab": {
          "base_uri": "https://localhost:8080/"
        },
        "id": "LnEZ_3ev-hMs",
        "outputId": "77c54823-88ae-4351-d429-f0f9cd3dfdc2"
      },
      "execution_count": 137,
      "outputs": [
        {
          "output_type": "execute_result",
          "data": {
            "text/plain": [
              "9295.331742810537"
            ]
          },
          "metadata": {},
          "execution_count": 137
        }
      ]
    },
    {
      "cell_type": "code",
      "source": [
        "dstd = d[\"Purchase\"].std()\n",
        "dstd"
      ],
      "metadata": {
        "colab": {
          "base_uri": "https://localhost:8080/"
        },
        "id": "9_fSovh0-k6z",
        "outputId": "3b5c476b-dad7-403c-f01d-bbcc54ae19e6"
      },
      "execution_count": 138,
      "outputs": [
        {
          "output_type": "execute_result",
          "data": {
            "text/plain": [
              "5006.934323562555"
            ]
          },
          "metadata": {},
          "execution_count": 138
        }
      ]
    },
    {
      "cell_type": "code",
      "source": [
        "d[\"Purchase\"].sum()/10**6"
      ],
      "metadata": {
        "colab": {
          "base_uri": "https://localhost:8080/"
        },
        "id": "vExQKL3a-obS",
        "outputId": "c0e50a64-4cf6-4c83-f9fc-abdf91fee5b3"
      },
      "execution_count": 139,
      "outputs": [
        {
          "output_type": "execute_result",
          "data": {
            "text/plain": [
              "1447.413287"
            ]
          },
          "metadata": {},
          "execution_count": 139
        }
      ]
    },
    {
      "cell_type": "code",
      "source": [],
      "metadata": {
        "id": "RC7z7DvRCVLy"
      },
      "execution_count": null,
      "outputs": []
    },
    {
      "cell_type": "markdown",
      "source": [
        "***Size = 100***"
      ],
      "metadata": {
        "id": "XjK5ZboLGQjS"
      }
    },
    {
      "cell_type": "code",
      "source": [
        "dx = []\n",
        "\n",
        "for i in range (100):\n",
        "  x = d[\"Purchase\"].sample(100)\n",
        "  dx.append(np.mean(x))\n",
        "\n",
        "dmx = np.mean(dx)\n",
        "dmx"
      ],
      "metadata": {
        "colab": {
          "base_uri": "https://localhost:8080/"
        },
        "outputId": "4dbef971-f4e3-4aaf-d632-fc1bf4de95b8",
        "id": "VFVcbVCDGQjS"
      },
      "execution_count": null,
      "outputs": [
        {
          "output_type": "execute_result",
          "data": {
            "text/plain": [
              "9054.521999999999"
            ]
          },
          "metadata": {},
          "execution_count": 468
        }
      ]
    },
    {
      "cell_type": "code",
      "source": [
        "x680 = [(dmx-1*(dstd/100**.5)) , (dmx+1*(dstd/100**.5))]\n",
        "x955 = [(dmx-2*(dstd/100**.5)) , (dmx+2*(dstd/100**.5))]\n",
        "x997 = [(dmx-3*(dstd/100**.5)) , (dmx+3*(dstd/100**.5))]\n",
        "\n",
        "print(x680)\n",
        "print(x955)\n",
        "print(x997)"
      ],
      "metadata": {
        "colab": {
          "base_uri": "https://localhost:8080/"
        },
        "outputId": "bdac278e-ee51-4892-c2bf-8d902ceac4e9",
        "id": "UAzQ6AFnGQjT"
      },
      "execution_count": null,
      "outputs": [
        {
          "output_type": "stream",
          "name": "stdout",
          "text": [
            "[8551.089800282341, 9557.954199717657]\n",
            "[8047.657600564683, 10061.386399435316]\n",
            "[7544.2254008470245, 10564.818599152974]\n"
          ]
        }
      ]
    },
    {
      "cell_type": "code",
      "source": [
        "x90 = [(dmx - 1.64*(dstd/100**.5)) , (dmx + 1.64*(dstd/100**.5))]\n",
        "x95 = [(dmx - 1.96*(dstd/100**.5)) , (dmx + 1.96*(dstd/100**.5))]\n",
        "x99 = [(dmx - 2.58*(dstd/100**.5)) , (dmx + 2.58*(dstd/100**.5))]\n",
        "\n",
        "print(x90)\n",
        "print(x95)\n",
        "print(x99)"
      ],
      "metadata": {
        "colab": {
          "base_uri": "https://localhost:8080/"
        },
        "outputId": "66fd9e6c-7ca3-4655-bd19-f88967a3e263",
        "id": "wB65ftJ9GQjT"
      },
      "execution_count": null,
      "outputs": [
        {
          "output_type": "stream",
          "name": "stdout",
          "text": [
            "[8228.89319246304, 9880.150807536958]\n",
            "[8067.79488855339, 10041.249111446608]\n",
            "[7755.666924728441, 10353.377075271557]\n"
          ]
        }
      ]
    },
    {
      "cell_type": "markdown",
      "source": [
        "***Size 2500***"
      ],
      "metadata": {
        "id": "7aqRjR-SGQjU"
      }
    },
    {
      "cell_type": "code",
      "source": [
        "dy = []\n",
        "\n",
        "for i in range (2500):\n",
        "  y = d[\"Purchase\"].sample(2500)\n",
        "  dy.append(np.mean(y))\n",
        "\n",
        "dmy = np.mean(dy)\n",
        "dmy"
      ],
      "metadata": {
        "colab": {
          "base_uri": "https://localhost:8080/"
        },
        "outputId": "9a88f827-c94a-432b-9acc-38b47f441c2d",
        "id": "4WPplRDxGQjU"
      },
      "execution_count": null,
      "outputs": [
        {
          "output_type": "execute_result",
          "data": {
            "text/plain": [
              "9171.29593696"
            ]
          },
          "metadata": {},
          "execution_count": 472
        }
      ]
    },
    {
      "cell_type": "code",
      "source": [
        "y680 = [(dmy-1*(dstd/2500**.5)) , (dmy+1*(dstd/2500**.5))]\n",
        "y955 = [(dmy-2*(dstd/2500**.5)) , (dmy+2*(dstd/2500**.5))]\n",
        "y997 = [(dmy-3*(dstd/2500**.5)) , (dmy+3*(dstd/2500**.5))]\n",
        "\n",
        "print(y680)\n",
        "print(y955)\n",
        "print(y997)"
      ],
      "metadata": {
        "colab": {
          "base_uri": "https://localhost:8080/"
        },
        "outputId": "34b7861a-409a-47ef-ee2a-efe9b5c0a3ee",
        "id": "gAM6y9J2GQjU"
      },
      "execution_count": null,
      "outputs": [
        {
          "output_type": "stream",
          "name": "stdout",
          "text": [
            "[9070.609497016469, 9271.98237690353]\n",
            "[8969.923057072936, 9372.668816847063]\n",
            "[8869.236617129405, 9473.355256790594]\n"
          ]
        }
      ]
    },
    {
      "cell_type": "code",
      "source": [
        "y90 = [(dmy - 1.64*(dstd/2500**.5)) , (dmy + 1.64*(dstd/2500**.5))]\n",
        "y95 = [(dmy - 1.96*(dstd/2500**.5)) , (dmy + 1.96*(dstd/2500**.5))]\n",
        "y99 = [(dmy - 2.58*(dstd/2500**.5)) , (dmy + 2.58*(dstd/2500**.5))]\n",
        "\n",
        "print(y90)\n",
        "print(y95)\n",
        "print(y99)"
      ],
      "metadata": {
        "colab": {
          "base_uri": "https://localhost:8080/"
        },
        "outputId": "de0e697a-27ef-43f2-f27c-06c5090aacbd",
        "id": "MhRaPuC6GQjV"
      },
      "execution_count": null,
      "outputs": [
        {
          "output_type": "stream",
          "name": "stdout",
          "text": [
            "[9006.170175452608, 9336.421698467391]\n",
            "[8973.950514670678, 9368.64135924932]\n",
            "[8911.524921905688, 9431.066952014311]\n"
          ]
        }
      ]
    },
    {
      "cell_type": "markdown",
      "source": [
        "***Size 10000***"
      ],
      "metadata": {
        "id": "G5uUWYxWGQjV"
      }
    },
    {
      "cell_type": "code",
      "source": [
        "dz = []\n",
        "\n",
        "for i in range (10000):\n",
        "  z = d[\"Purchase\"].sample(10000)\n",
        "  dz.append(np.mean(z))\n",
        "\n",
        "dmz = np.mean(dz)\n",
        "dmz"
      ],
      "metadata": {
        "colab": {
          "base_uri": "https://localhost:8080/"
        },
        "outputId": "b5fd7e26-dd45-42e2-ee45-b4b0e326909f",
        "id": "EiDjw39mGQjV"
      },
      "execution_count": null,
      "outputs": [
        {
          "output_type": "execute_result",
          "data": {
            "text/plain": [
              "9169.01775664"
            ]
          },
          "metadata": {},
          "execution_count": 476
        }
      ]
    },
    {
      "cell_type": "code",
      "source": [
        "z680 = [(dmz-1*(dstd/10000**.5)) , (dmz+1*(dstd/10000**.5))]\n",
        "z955 = [(dmz-2*(dstd/10000**.5)) , (dmz+2*(dstd/10000**.5))]\n",
        "z997 = [(dmz-3*(dstd/10000**.5)) , (dmz+3*(dstd/10000**.5))]\n",
        "\n",
        "print(z680)\n",
        "print(z955)\n",
        "print(z997)"
      ],
      "metadata": {
        "colab": {
          "base_uri": "https://localhost:8080/"
        },
        "outputId": "8fad8da8-649d-4de4-d17f-8b5891467c20",
        "id": "dimaWYEVGQjW"
      },
      "execution_count": null,
      "outputs": [
        {
          "output_type": "stream",
          "name": "stdout",
          "text": [
            "[9118.674536668233, 9219.360976611766]\n",
            "[9068.331316696469, 9269.70419658353]\n",
            "[9017.988096724703, 9320.047416555297]\n"
          ]
        }
      ]
    },
    {
      "cell_type": "code",
      "source": [
        "z90 = [(dmz - 1.64*(dstd/10000**.5)) , (dmz + 1.64*(dstd/10000**.5))]\n",
        "z95 = [(dmz - 1.96*(dstd/10000**.5)) , (dmz + 1.96*(dstd/10000**.5))]\n",
        "z99 = [(dmz - 2.58*(dstd/10000**.5)) , (dmz + 2.58*(dstd/10000**.5))]\n",
        "\n",
        "print(z90)\n",
        "print(z95)\n",
        "print(z99)"
      ],
      "metadata": {
        "colab": {
          "base_uri": "https://localhost:8080/"
        },
        "outputId": "77b39131-6791-456c-a603-31c8dab3c670",
        "id": "HWZLe1o6GQjW"
      },
      "execution_count": null,
      "outputs": [
        {
          "output_type": "stream",
          "name": "stdout",
          "text": [
            "[9086.454875886304, 9251.580637393696]\n",
            "[9070.345045495338, 9267.690467784661]\n",
            "[9039.132249112845, 9298.903264167155]\n"
          ]
        }
      ]
    },
    {
      "cell_type": "code",
      "source": [],
      "metadata": {
        "id": "LFPXVbKvGQjX"
      },
      "execution_count": null,
      "outputs": []
    },
    {
      "cell_type": "markdown",
      "source": [
        "# **4.5** Age range \"51+\" = E "
      ],
      "metadata": {
        "id": "CUdzXeDO-uiK"
      }
    },
    {
      "cell_type": "code",
      "source": [
        "e = df[(df[\"Age\"] == \"51-55\") | (df[\"Age\"] == \"55+\")]\n"
      ],
      "metadata": {
        "id": "kgvV_P2g6Ny-"
      },
      "execution_count": 140,
      "outputs": []
    },
    {
      "cell_type": "code",
      "source": [
        "e[\"Purchase\"].min()"
      ],
      "metadata": {
        "colab": {
          "base_uri": "https://localhost:8080/"
        },
        "id": "KgYNWH3u-rLl",
        "outputId": "8d69905a-bfd2-413b-9889-4371aedf0473"
      },
      "execution_count": 141,
      "outputs": [
        {
          "output_type": "execute_result",
          "data": {
            "text/plain": [
              "12"
            ]
          },
          "metadata": {},
          "execution_count": 141
        }
      ]
    },
    {
      "cell_type": "code",
      "source": [
        "e[\"Purchase\"].max()"
      ],
      "metadata": {
        "colab": {
          "base_uri": "https://localhost:8080/"
        },
        "id": "ddG1sDUo-9dm",
        "outputId": "ba7157eb-1afa-4878-b9aa-a0afbe99bc07"
      },
      "execution_count": 142,
      "outputs": [
        {
          "output_type": "execute_result",
          "data": {
            "text/plain": [
              "23960"
            ]
          },
          "metadata": {},
          "execution_count": 142
        }
      ]
    },
    {
      "cell_type": "code",
      "source": [
        "e[\"Purchase\"].median()"
      ],
      "metadata": {
        "colab": {
          "base_uri": "https://localhost:8080/"
        },
        "id": "00gRaYZn-_Rl",
        "outputId": "cd63d9f3-27fe-41bf-c7e1-daaf0437674e"
      },
      "execution_count": 143,
      "outputs": [
        {
          "output_type": "execute_result",
          "data": {
            "text/plain": [
              "8122.0"
            ]
          },
          "metadata": {},
          "execution_count": 143
        }
      ]
    },
    {
      "cell_type": "code",
      "source": [
        "emean = e[\"Purchase\"].mean()\n",
        "emean"
      ],
      "metadata": {
        "colab": {
          "base_uri": "https://localhost:8080/"
        },
        "id": "11wIlAu1_AhU",
        "outputId": "0554807d-f83a-492a-8617-7db15bc917f1"
      },
      "execution_count": 144,
      "outputs": [
        {
          "output_type": "execute_result",
          "data": {
            "text/plain": [
              "9463.661678193484"
            ]
          },
          "metadata": {},
          "execution_count": 144
        }
      ]
    },
    {
      "cell_type": "code",
      "source": [
        "estd = e[\"Purchase\"].std()\n",
        "estd"
      ],
      "metadata": {
        "colab": {
          "base_uri": "https://localhost:8080/"
        },
        "id": "WGz5PVm-_Ejf",
        "outputId": "19950ba7-dc11-429c-ec1a-d4f9683fdaef"
      },
      "execution_count": 145,
      "outputs": [
        {
          "output_type": "execute_result",
          "data": {
            "text/plain": [
              "5061.1614761251185"
            ]
          },
          "metadata": {},
          "execution_count": 145
        }
      ]
    },
    {
      "cell_type": "code",
      "source": [
        "e[\"Purchase\"].sum()/10**6"
      ],
      "metadata": {
        "colab": {
          "base_uri": "https://localhost:8080/"
        },
        "id": "jCDF2t1o_KRC",
        "outputId": "446d6786-0ec8-43f0-f3c0-43dc00dc712d"
      },
      "execution_count": 146,
      "outputs": [
        {
          "output_type": "execute_result",
          "data": {
            "text/plain": [
              "567.867019"
            ]
          },
          "metadata": {},
          "execution_count": 146
        }
      ]
    },
    {
      "cell_type": "code",
      "source": [],
      "metadata": {
        "id": "rMhPMLuWChOC"
      },
      "execution_count": null,
      "outputs": []
    },
    {
      "cell_type": "markdown",
      "source": [
        "***Size = 100***"
      ],
      "metadata": {
        "id": "t9-6xHHgGgvz"
      }
    },
    {
      "cell_type": "code",
      "source": [
        "ex = []\n",
        "\n",
        "for i in range (100):\n",
        "  x = e[\"Purchase\"].sample(100)\n",
        "  ex.append(np.mean(x))\n",
        "\n",
        "emx = np.mean(ex)\n",
        "emx"
      ],
      "metadata": {
        "colab": {
          "base_uri": "https://localhost:8080/"
        },
        "outputId": "4dbef971-f4e3-4aaf-d632-fc1bf4de95b8",
        "id": "UQZxo_iHGgv0"
      },
      "execution_count": null,
      "outputs": [
        {
          "output_type": "execute_result",
          "data": {
            "text/plain": [
              "9054.521999999999"
            ]
          },
          "metadata": {},
          "execution_count": 468
        }
      ]
    },
    {
      "cell_type": "code",
      "source": [
        "x680 = [(emx-1*(estd/100**.5)) , (emx+1*(estd/100**.5))]\n",
        "x955 = [(emx-2*(estd/100**.5)) , (emx+2*(estd/100**.5))]\n",
        "x997 = [(emx-3*(estd/100**.5)) , (emx+3*(estd/100**.5))]\n",
        "\n",
        "print(x680)\n",
        "print(x955)\n",
        "print(x997)"
      ],
      "metadata": {
        "colab": {
          "base_uri": "https://localhost:8080/"
        },
        "outputId": "bdac278e-ee51-4892-c2bf-8d902ceac4e9",
        "id": "hpsiBORbGgv1"
      },
      "execution_count": null,
      "outputs": [
        {
          "output_type": "stream",
          "name": "stdout",
          "text": [
            "[8551.089800282341, 9557.954199717657]\n",
            "[8047.657600564683, 10061.386399435316]\n",
            "[7544.2254008470245, 10564.818599152974]\n"
          ]
        }
      ]
    },
    {
      "cell_type": "code",
      "source": [
        "x90 = [(emx - 1.64*(estd/100**.5)) , (emx + 1.64*(estd/100**.5))]\n",
        "x95 = [(emx - 1.96*(estd/100**.5)) , (emx + 1.96*(estd/100**.5))]\n",
        "x99 = [(emx - 2.58*(estd/100**.5)) , (emx + 2.58*(estd/100**.5))]\n",
        "\n",
        "print(x90)\n",
        "print(x95)\n",
        "print(x99)"
      ],
      "metadata": {
        "colab": {
          "base_uri": "https://localhost:8080/"
        },
        "outputId": "66fd9e6c-7ca3-4655-bd19-f88967a3e263",
        "id": "UOFi8PILGgv1"
      },
      "execution_count": null,
      "outputs": [
        {
          "output_type": "stream",
          "name": "stdout",
          "text": [
            "[8228.89319246304, 9880.150807536958]\n",
            "[8067.79488855339, 10041.249111446608]\n",
            "[7755.666924728441, 10353.377075271557]\n"
          ]
        }
      ]
    },
    {
      "cell_type": "markdown",
      "source": [
        "***Size 2500***"
      ],
      "metadata": {
        "id": "7AzDrjr4Ggv2"
      }
    },
    {
      "cell_type": "code",
      "source": [
        "ey = []\n",
        "\n",
        "for i in range (2500):\n",
        "  y = e[\"Purchase\"].sample(2500)\n",
        "  ey.append(np.mean(y))\n",
        "\n",
        "emy = np.mean(ey)\n",
        "emy"
      ],
      "metadata": {
        "colab": {
          "base_uri": "https://localhost:8080/"
        },
        "outputId": "9a88f827-c94a-432b-9acc-38b47f441c2d",
        "id": "z1bzfsvsGgv2"
      },
      "execution_count": null,
      "outputs": [
        {
          "output_type": "execute_result",
          "data": {
            "text/plain": [
              "9171.29593696"
            ]
          },
          "metadata": {},
          "execution_count": 472
        }
      ]
    },
    {
      "cell_type": "code",
      "source": [
        "y680 = [(emy-1*(estd/2500**.5)) , (emy+1*(estd/2500**.5))]\n",
        "y955 = [(emy-2*(estd/2500**.5)) , (emy+2*(estd/2500**.5))]\n",
        "y997 = [(emy-3*(estd/2500**.5)) , (emy+3*(estd/2500**.5))]\n",
        "\n",
        "print(y680)\n",
        "print(y955)\n",
        "print(y997)"
      ],
      "metadata": {
        "colab": {
          "base_uri": "https://localhost:8080/"
        },
        "outputId": "34b7861a-409a-47ef-ee2a-efe9b5c0a3ee",
        "id": "pLXhMGUpGgv3"
      },
      "execution_count": null,
      "outputs": [
        {
          "output_type": "stream",
          "name": "stdout",
          "text": [
            "[9070.609497016469, 9271.98237690353]\n",
            "[8969.923057072936, 9372.668816847063]\n",
            "[8869.236617129405, 9473.355256790594]\n"
          ]
        }
      ]
    },
    {
      "cell_type": "code",
      "source": [
        "y90 = [(emy - 1.64*(estd/2500**.5)) , (emy + 1.64*(estd/2500**.5))]\n",
        "y95 = [(emy - 1.96*(estd/2500**.5)) , (emy + 1.96*(estd/2500**.5))]\n",
        "y99 = [(emy - 2.58*(estd/2500**.5)) , (emy + 2.58*(estd/2500**.5))]\n",
        "\n",
        "print(y90)\n",
        "print(y95)\n",
        "print(y99)"
      ],
      "metadata": {
        "colab": {
          "base_uri": "https://localhost:8080/"
        },
        "outputId": "de0e697a-27ef-43f2-f27c-06c5090aacbd",
        "id": "PaG4vKu-Ggv3"
      },
      "execution_count": null,
      "outputs": [
        {
          "output_type": "stream",
          "name": "stdout",
          "text": [
            "[9006.170175452608, 9336.421698467391]\n",
            "[8973.950514670678, 9368.64135924932]\n",
            "[8911.524921905688, 9431.066952014311]\n"
          ]
        }
      ]
    },
    {
      "cell_type": "markdown",
      "source": [
        "***Size 10000***"
      ],
      "metadata": {
        "id": "PK9ZhTmJGgv4"
      }
    },
    {
      "cell_type": "code",
      "source": [
        "ez = []\n",
        "\n",
        "for i in range (10000):\n",
        "  z = e[\"Purchase\"].sample(10000)\n",
        "  ez.append(np.mean(z))\n",
        "\n",
        "emz = np.mean(ez)\n",
        "emz"
      ],
      "metadata": {
        "colab": {
          "base_uri": "https://localhost:8080/"
        },
        "outputId": "b5fd7e26-dd45-42e2-ee45-b4b0e326909f",
        "id": "7lKcNtC0Ggv4"
      },
      "execution_count": null,
      "outputs": [
        {
          "output_type": "execute_result",
          "data": {
            "text/plain": [
              "9169.01775664"
            ]
          },
          "metadata": {},
          "execution_count": 476
        }
      ]
    },
    {
      "cell_type": "code",
      "source": [
        "z680 = [(emz-1*(estd/10000**.5)) , (emz+1*(estd/10000**.5))]\n",
        "z955 = [(emz-2*(estd/10000**.5)) , (emz+2*(estd/10000**.5))]\n",
        "z997 = [(emz-3*(estd/10000**.5)) , (emz+3*(estd/10000**.5))]\n",
        "\n",
        "print(z680)\n",
        "print(z955)\n",
        "print(z997)"
      ],
      "metadata": {
        "colab": {
          "base_uri": "https://localhost:8080/"
        },
        "outputId": "8fad8da8-649d-4de4-d17f-8b5891467c20",
        "id": "WwdjzlqYGgv4"
      },
      "execution_count": null,
      "outputs": [
        {
          "output_type": "stream",
          "name": "stdout",
          "text": [
            "[9118.674536668233, 9219.360976611766]\n",
            "[9068.331316696469, 9269.70419658353]\n",
            "[9017.988096724703, 9320.047416555297]\n"
          ]
        }
      ]
    },
    {
      "cell_type": "code",
      "source": [
        "z90 = [(emz - 1.64*(estd/10000**.5)) , (emz + 1.64*(estd/10000**.5))]\n",
        "z95 = [(emz - 1.96*(estd/10000**.5)) , (emz + 1.96*(estd/10000**.5))]\n",
        "z99 = [(emz - 2.58*(estd/10000**.5)) , (emz + 2.58*(estd/10000**.5))]\n",
        "\n",
        "print(z90)\n",
        "print(z95)\n",
        "print(z99)"
      ],
      "metadata": {
        "colab": {
          "base_uri": "https://localhost:8080/"
        },
        "outputId": "77b39131-6791-456c-a603-31c8dab3c670",
        "id": "rBVqCTB-Ggv5"
      },
      "execution_count": null,
      "outputs": [
        {
          "output_type": "stream",
          "name": "stdout",
          "text": [
            "[9086.454875886304, 9251.580637393696]\n",
            "[9070.345045495338, 9267.690467784661]\n",
            "[9039.132249112845, 9298.903264167155]\n"
          ]
        }
      ]
    },
    {
      "cell_type": "code",
      "source": [],
      "metadata": {
        "id": "jtJTRkJaGgv5"
      },
      "execution_count": null,
      "outputs": []
    },
    {
      "cell_type": "code",
      "source": [],
      "metadata": {
        "id": "-gUyx4_rHAnE"
      },
      "execution_count": null,
      "outputs": []
    },
    {
      "cell_type": "markdown",
      "source": [
        "# **5.1**"
      ],
      "metadata": {
        "id": "YHnQULtGQh0O"
      }
    },
    {
      "cell_type": "markdown",
      "source": [
        "The distribution of the \"Purchase\" variable is Normal Distribution in which the Firstly increasing till 8000 then decreasing till 25000.\n",
        "\n",
        "1. Purchase amount of 0 to 5000 is approximate 8000 times \n",
        "2. Purchase amount of 5000 to 10000 is approximate 20000 times \n",
        "3. Purchase amount of 10000 to 20000 is approximate 10000 times\n",
        "4. Purchase amount of 20000 to 25000 is approximate 2000 times  "
      ],
      "metadata": {
        "id": "-2J6FmdVmgBb"
      }
    },
    {
      "cell_type": "markdown",
      "source": [
        "There is Negative Relationship between the following variables such as:\n",
        "\n",
        "1. User_ID and Occupation\n",
        "2. Occupation and Product_Category\n",
        "3. Marital_Status and Purchase\n",
        "4. Product_Category and Purchase\n",
        "\n",
        "\n",
        "There is Positive Relationship between the following variables such as:\n",
        "\n",
        "1. User_ID and Marital_Status \n",
        "2. User_ID and Product_Category\n",
        "3. User_ID and Purchase\n",
        "4. Occupation and Marital_Status\n",
        "5. Occupation and Purchase\n",
        "6. Marital_Status and Product_Category\n",
        "\n"
      ],
      "metadata": {
        "id": "OiBbE7pmm0GO"
      }
    },
    {
      "cell_type": "markdown",
      "source": [
        "# **5.2**"
      ],
      "metadata": {
        "id": "AzdoIq-dmnyd"
      }
    },
    {
      "cell_type": "markdown",
      "source": [
        "**UNIVARIATE** Insights\n",
        "\n",
        "1. In all transactions, 75% users are Male and 25% are Female.\n",
        "2. 78 % Users are in Age range of 18-45 years while from Age range of 26-35 is Maximum.\n",
        "3. Top 3 Occupation of Buyers is 0, 4, 7 (masked) in which 4 is Maximum and 8 is Minimum.\n",
        "4. Most Buyers lie in City_Category B.\n",
        "5. Unmarried Users are 60% and Married Users are 40%.\n",
        "6. Users who are staying since 1 year are purchasing mostly while staying less than 1 year are purchasing Minimum times\n",
        "7. Product category 1, 5 and 8 is purchased mainly."
      ],
      "metadata": {
        "id": "brFGo4f2m_aL"
      }
    },
    {
      "cell_type": "markdown",
      "source": [
        "**BIVARIATE** Insights\n",
        "\n",
        "1. Average Purchase amount by Male is relatively much higher than Female.\n",
        "2. Average Purchase amount by Unmarried and Married is nearly equal.\n",
        "3. Average Purchase amount for Product_Category \"10\" is relatively much higher.\n",
        "4. Average Purchase amount for Users residing in City_Category \"C\" is higher while residing in City_Category \"A\" is lower.\n",
        "5. Average Purchase amount for Users whose Age range of \"51-55\" is higher while Age range of \"0-17\" is lower\n",
        " "
      ],
      "metadata": {
        "id": "YpKkaXwynB6B"
      }
    },
    {
      "cell_type": "markdown",
      "source": [
        "# **5.3**"
      ],
      "metadata": {
        "id": "lX0BwmWSmqBa"
      }
    },
    {
      "cell_type": "markdown",
      "source": [
        "***Insights***\n",
        "\n",
        "1. Increasing only the sample size we get more converged and accurate confidence interval\n",
        "2. Increasing only the CI width we get broader interval which makes sense\n",
        "3. In most cases male-female, married-unmarried and age groups confidence intervals overlap\n",
        "4. Males from City_Category \"C\" are much active\n",
        "5. In City_Category \"B\"  senior citizens spends more than other age groups"
      ],
      "metadata": {
        "id": "cFmshvL4msF8"
      }
    },
    {
      "cell_type": "markdown",
      "source": [
        "# **6.0**"
      ],
      "metadata": {
        "id": "qbpZWMH9cDU6"
      }
    },
    {
      "cell_type": "markdown",
      "source": [
        "**Recommendations**\n",
        "\n",
        "1. Male spent more money than Female. So company should focus on retaining the Male customers and getting more Male customers.\n",
        "\n",
        "2. Product_Category - 1, 5, 8 have highest purchasing frequency. So , it means these are the products in these categories are liked more by customers. \n",
        "Company can focus on selling more of these products which are purchase more  or selling more of these products which are purchased less.\n",
        "\n",
        "4. Unmarried customers spent more money than Married customers. So , company should focus on acquisition of Unmarried customers.\n",
        "\n",
        "5. Customers in the Age range of \"18-45\" spent more money than the others. So , company should focus on acquisition of customers who are in the Age range of \"18-45\".\n",
        "\n",
        "6. Male customers living in City_Category \"C\" spend more money than other male customers living in A or B.  So , selling more products in the City_Category \"C\" will help the company increase the revenue."
      ],
      "metadata": {
        "id": "f2njZedNg9gi"
      }
    }
  ]
}