{
  "nbformat": 4,
  "nbformat_minor": 0,
  "metadata": {
    "colab": {
      "provenance": [],
      "authorship_tag": "ABX9TyPKZPT14ZUmI7f0PwNI8ynX",
      "include_colab_link": true
    },
    "kernelspec": {
      "name": "python3",
      "display_name": "Python 3"
    },
    "language_info": {
      "name": "python"
    }
  },
  "cells": [
    {
      "cell_type": "markdown",
      "metadata": {
        "id": "view-in-github",
        "colab_type": "text"
      },
      "source": [
        "<a href=\"https://colab.research.google.com/github/aayush1324/Scaler_DSML2022/blob/main/Apollo.ipynb\" target=\"_parent\"><img src=\"https://colab.research.google.com/assets/colab-badge.svg\" alt=\"Open In Colab\"/></a>"
      ]
    },
    {
      "cell_type": "code",
      "execution_count": null,
      "metadata": {
        "id": "TPI0cYrZHo66"
      },
      "outputs": [],
      "source": [
        "import numpy as np\n",
        "import pandas as pd\n",
        "import seaborn as sns\n",
        "import matplotlib.pyplot as plt"
      ]
    },
    {
      "cell_type": "code",
      "source": [
        "from scipy.stats import binom , norm , poisson , expon ,geom"
      ],
      "metadata": {
        "id": "iEP_TgsQICB3"
      },
      "execution_count": null,
      "outputs": []
    },
    {
      "cell_type": "code",
      "source": [
        "from scipy.stats import ttest_ind , ttest_rel , f_oneway , kruskal\n",
        "from scipy.stats import norm , chi2 , f\n",
        "from scipy.stats import chi2_contingency , chisquare\n",
        "from scipy.stats import pearsonr , spearmanr\n",
        "from scipy.stats import kstest"
      ],
      "metadata": {
        "id": "jJaXAzuSIEBr"
      },
      "execution_count": null,
      "outputs": []
    },
    {
      "cell_type": "code",
      "source": [
        "from sklearn.preprocessing import OneHotEncoder\n",
        "from sklearn.preprocessing import LabelEncoder\n",
        "from sklearn.preprocessing import StandardScaler\n",
        "from sklearn.preprocessing import MinMaxScaler"
      ],
      "metadata": {
        "id": "A8rfaJ-kIGJP"
      },
      "execution_count": null,
      "outputs": []
    },
    {
      "cell_type": "code",
      "source": [
        "! wget \"https://d2beiqkhq929f0.cloudfront.net/public_assets/assets/000/001/681/original/scaler_apollo_hospitals.csv\" -O apollo.csv"
      ],
      "metadata": {
        "colab": {
          "base_uri": "https://localhost:8080/"
        },
        "id": "JQMzDc3NIIFV",
        "outputId": "cdcf6ceb-5dd6-402d-d1d2-84be9d4c358f"
      },
      "execution_count": null,
      "outputs": [
        {
          "output_type": "stream",
          "name": "stdout",
          "text": [
            "--2022-12-18 06:55:24--  https://d2beiqkhq929f0.cloudfront.net/public_assets/assets/000/001/681/original/scaler_apollo_hospitals.csv\n",
            "Resolving d2beiqkhq929f0.cloudfront.net (d2beiqkhq929f0.cloudfront.net)... 99.84.178.172, 99.84.178.93, 99.84.178.226, ...\n",
            "Connecting to d2beiqkhq929f0.cloudfront.net (d2beiqkhq929f0.cloudfront.net)|99.84.178.172|:443... connected.\n",
            "HTTP request sent, awaiting response... 200 OK\n",
            "Length: 53047 (52K) [text/plain]\n",
            "Saving to: ‘apollo.csv’\n",
            "\n",
            "\rapollo.csv            0%[                    ]       0  --.-KB/s               \rapollo.csv          100%[===================>]  51.80K  --.-KB/s    in 0.002s  \n",
            "\n",
            "2022-12-18 06:55:24 (30.1 MB/s) - ‘apollo.csv’ saved [53047/53047]\n",
            "\n"
          ]
        }
      ]
    },
    {
      "cell_type": "code",
      "source": [
        "df = pd.read_csv(\"apollo.csv\")"
      ],
      "metadata": {
        "id": "tDyrRz8RIUcq"
      },
      "execution_count": null,
      "outputs": []
    },
    {
      "cell_type": "code",
      "source": [
        "df.head()"
      ],
      "metadata": {
        "colab": {
          "base_uri": "https://localhost:8080/",
          "height": 206
        },
        "id": "Q0sa9AxDIaYj",
        "outputId": "06a504bd-a94a-4bac-8374-a7d10e439a18"
      },
      "execution_count": null,
      "outputs": [
        {
          "output_type": "execute_result",
          "data": {
            "text/plain": [
              "   Unnamed: 0  age     sex smoker     region  viral load  severity level  \\\n",
              "0           0   19  female    yes  southwest        9.30               0   \n",
              "1           1   18    male     no  southeast       11.26               1   \n",
              "2           2   28    male     no  southeast       11.00               3   \n",
              "3           3   33    male     no  northwest        7.57               0   \n",
              "4           4   32    male     no  northwest        9.63               0   \n",
              "\n",
              "   hospitalization charges  \n",
              "0                    42212  \n",
              "1                     4314  \n",
              "2                    11124  \n",
              "3                    54961  \n",
              "4                     9667  "
            ],
            "text/html": [
              "\n",
              "  <div id=\"df-9f531886-0815-42d5-adcd-3a871f0e5cc0\">\n",
              "    <div class=\"colab-df-container\">\n",
              "      <div>\n",
              "<style scoped>\n",
              "    .dataframe tbody tr th:only-of-type {\n",
              "        vertical-align: middle;\n",
              "    }\n",
              "\n",
              "    .dataframe tbody tr th {\n",
              "        vertical-align: top;\n",
              "    }\n",
              "\n",
              "    .dataframe thead th {\n",
              "        text-align: right;\n",
              "    }\n",
              "</style>\n",
              "<table border=\"1\" class=\"dataframe\">\n",
              "  <thead>\n",
              "    <tr style=\"text-align: right;\">\n",
              "      <th></th>\n",
              "      <th>Unnamed: 0</th>\n",
              "      <th>age</th>\n",
              "      <th>sex</th>\n",
              "      <th>smoker</th>\n",
              "      <th>region</th>\n",
              "      <th>viral load</th>\n",
              "      <th>severity level</th>\n",
              "      <th>hospitalization charges</th>\n",
              "    </tr>\n",
              "  </thead>\n",
              "  <tbody>\n",
              "    <tr>\n",
              "      <th>0</th>\n",
              "      <td>0</td>\n",
              "      <td>19</td>\n",
              "      <td>female</td>\n",
              "      <td>yes</td>\n",
              "      <td>southwest</td>\n",
              "      <td>9.30</td>\n",
              "      <td>0</td>\n",
              "      <td>42212</td>\n",
              "    </tr>\n",
              "    <tr>\n",
              "      <th>1</th>\n",
              "      <td>1</td>\n",
              "      <td>18</td>\n",
              "      <td>male</td>\n",
              "      <td>no</td>\n",
              "      <td>southeast</td>\n",
              "      <td>11.26</td>\n",
              "      <td>1</td>\n",
              "      <td>4314</td>\n",
              "    </tr>\n",
              "    <tr>\n",
              "      <th>2</th>\n",
              "      <td>2</td>\n",
              "      <td>28</td>\n",
              "      <td>male</td>\n",
              "      <td>no</td>\n",
              "      <td>southeast</td>\n",
              "      <td>11.00</td>\n",
              "      <td>3</td>\n",
              "      <td>11124</td>\n",
              "    </tr>\n",
              "    <tr>\n",
              "      <th>3</th>\n",
              "      <td>3</td>\n",
              "      <td>33</td>\n",
              "      <td>male</td>\n",
              "      <td>no</td>\n",
              "      <td>northwest</td>\n",
              "      <td>7.57</td>\n",
              "      <td>0</td>\n",
              "      <td>54961</td>\n",
              "    </tr>\n",
              "    <tr>\n",
              "      <th>4</th>\n",
              "      <td>4</td>\n",
              "      <td>32</td>\n",
              "      <td>male</td>\n",
              "      <td>no</td>\n",
              "      <td>northwest</td>\n",
              "      <td>9.63</td>\n",
              "      <td>0</td>\n",
              "      <td>9667</td>\n",
              "    </tr>\n",
              "  </tbody>\n",
              "</table>\n",
              "</div>\n",
              "      <button class=\"colab-df-convert\" onclick=\"convertToInteractive('df-9f531886-0815-42d5-adcd-3a871f0e5cc0')\"\n",
              "              title=\"Convert this dataframe to an interactive table.\"\n",
              "              style=\"display:none;\">\n",
              "        \n",
              "  <svg xmlns=\"http://www.w3.org/2000/svg\" height=\"24px\"viewBox=\"0 0 24 24\"\n",
              "       width=\"24px\">\n",
              "    <path d=\"M0 0h24v24H0V0z\" fill=\"none\"/>\n",
              "    <path d=\"M18.56 5.44l.94 2.06.94-2.06 2.06-.94-2.06-.94-.94-2.06-.94 2.06-2.06.94zm-11 1L8.5 8.5l.94-2.06 2.06-.94-2.06-.94L8.5 2.5l-.94 2.06-2.06.94zm10 10l.94 2.06.94-2.06 2.06-.94-2.06-.94-.94-2.06-.94 2.06-2.06.94z\"/><path d=\"M17.41 7.96l-1.37-1.37c-.4-.4-.92-.59-1.43-.59-.52 0-1.04.2-1.43.59L10.3 9.45l-7.72 7.72c-.78.78-.78 2.05 0 2.83L4 21.41c.39.39.9.59 1.41.59.51 0 1.02-.2 1.41-.59l7.78-7.78 2.81-2.81c.8-.78.8-2.07 0-2.86zM5.41 20L4 18.59l7.72-7.72 1.47 1.35L5.41 20z\"/>\n",
              "  </svg>\n",
              "      </button>\n",
              "      \n",
              "  <style>\n",
              "    .colab-df-container {\n",
              "      display:flex;\n",
              "      flex-wrap:wrap;\n",
              "      gap: 12px;\n",
              "    }\n",
              "\n",
              "    .colab-df-convert {\n",
              "      background-color: #E8F0FE;\n",
              "      border: none;\n",
              "      border-radius: 50%;\n",
              "      cursor: pointer;\n",
              "      display: none;\n",
              "      fill: #1967D2;\n",
              "      height: 32px;\n",
              "      padding: 0 0 0 0;\n",
              "      width: 32px;\n",
              "    }\n",
              "\n",
              "    .colab-df-convert:hover {\n",
              "      background-color: #E2EBFA;\n",
              "      box-shadow: 0px 1px 2px rgba(60, 64, 67, 0.3), 0px 1px 3px 1px rgba(60, 64, 67, 0.15);\n",
              "      fill: #174EA6;\n",
              "    }\n",
              "\n",
              "    [theme=dark] .colab-df-convert {\n",
              "      background-color: #3B4455;\n",
              "      fill: #D2E3FC;\n",
              "    }\n",
              "\n",
              "    [theme=dark] .colab-df-convert:hover {\n",
              "      background-color: #434B5C;\n",
              "      box-shadow: 0px 1px 3px 1px rgba(0, 0, 0, 0.15);\n",
              "      filter: drop-shadow(0px 1px 2px rgba(0, 0, 0, 0.3));\n",
              "      fill: #FFFFFF;\n",
              "    }\n",
              "  </style>\n",
              "\n",
              "      <script>\n",
              "        const buttonEl =\n",
              "          document.querySelector('#df-9f531886-0815-42d5-adcd-3a871f0e5cc0 button.colab-df-convert');\n",
              "        buttonEl.style.display =\n",
              "          google.colab.kernel.accessAllowed ? 'block' : 'none';\n",
              "\n",
              "        async function convertToInteractive(key) {\n",
              "          const element = document.querySelector('#df-9f531886-0815-42d5-adcd-3a871f0e5cc0');\n",
              "          const dataTable =\n",
              "            await google.colab.kernel.invokeFunction('convertToInteractive',\n",
              "                                                     [key], {});\n",
              "          if (!dataTable) return;\n",
              "\n",
              "          const docLinkHtml = 'Like what you see? Visit the ' +\n",
              "            '<a target=\"_blank\" href=https://colab.research.google.com/notebooks/data_table.ipynb>data table notebook</a>'\n",
              "            + ' to learn more about interactive tables.';\n",
              "          element.innerHTML = '';\n",
              "          dataTable['output_type'] = 'display_data';\n",
              "          await google.colab.output.renderOutput(dataTable, element);\n",
              "          const docLink = document.createElement('div');\n",
              "          docLink.innerHTML = docLinkHtml;\n",
              "          element.appendChild(docLink);\n",
              "        }\n",
              "      </script>\n",
              "    </div>\n",
              "  </div>\n",
              "  "
            ]
          },
          "metadata": {},
          "execution_count": 7
        }
      ]
    },
    {
      "cell_type": "markdown",
      "source": [
        "# **Drop Column**"
      ],
      "metadata": {
        "id": "lISZ3JbcKQe-"
      }
    },
    {
      "cell_type": "code",
      "source": [
        "df.drop(\"Unnamed: 0\" , axis = 1 , inplace = True )"
      ],
      "metadata": {
        "id": "87HTff7AIeTy"
      },
      "execution_count": null,
      "outputs": []
    },
    {
      "cell_type": "code",
      "source": [
        "df.head()"
      ],
      "metadata": {
        "colab": {
          "base_uri": "https://localhost:8080/",
          "height": 206
        },
        "id": "uJKHeUMYIlQY",
        "outputId": "5c074a29-7bb6-4632-ebf3-008bd9c58d07"
      },
      "execution_count": null,
      "outputs": [
        {
          "output_type": "execute_result",
          "data": {
            "text/plain": [
              "   age     sex smoker     region  viral load  severity level  \\\n",
              "0   19  female    yes  southwest        9.30               0   \n",
              "1   18    male     no  southeast       11.26               1   \n",
              "2   28    male     no  southeast       11.00               3   \n",
              "3   33    male     no  northwest        7.57               0   \n",
              "4   32    male     no  northwest        9.63               0   \n",
              "\n",
              "   hospitalization charges  \n",
              "0                    42212  \n",
              "1                     4314  \n",
              "2                    11124  \n",
              "3                    54961  \n",
              "4                     9667  "
            ],
            "text/html": [
              "\n",
              "  <div id=\"df-f788e8c7-751d-4d01-8818-9eaec69d85b3\">\n",
              "    <div class=\"colab-df-container\">\n",
              "      <div>\n",
              "<style scoped>\n",
              "    .dataframe tbody tr th:only-of-type {\n",
              "        vertical-align: middle;\n",
              "    }\n",
              "\n",
              "    .dataframe tbody tr th {\n",
              "        vertical-align: top;\n",
              "    }\n",
              "\n",
              "    .dataframe thead th {\n",
              "        text-align: right;\n",
              "    }\n",
              "</style>\n",
              "<table border=\"1\" class=\"dataframe\">\n",
              "  <thead>\n",
              "    <tr style=\"text-align: right;\">\n",
              "      <th></th>\n",
              "      <th>age</th>\n",
              "      <th>sex</th>\n",
              "      <th>smoker</th>\n",
              "      <th>region</th>\n",
              "      <th>viral load</th>\n",
              "      <th>severity level</th>\n",
              "      <th>hospitalization charges</th>\n",
              "    </tr>\n",
              "  </thead>\n",
              "  <tbody>\n",
              "    <tr>\n",
              "      <th>0</th>\n",
              "      <td>19</td>\n",
              "      <td>female</td>\n",
              "      <td>yes</td>\n",
              "      <td>southwest</td>\n",
              "      <td>9.30</td>\n",
              "      <td>0</td>\n",
              "      <td>42212</td>\n",
              "    </tr>\n",
              "    <tr>\n",
              "      <th>1</th>\n",
              "      <td>18</td>\n",
              "      <td>male</td>\n",
              "      <td>no</td>\n",
              "      <td>southeast</td>\n",
              "      <td>11.26</td>\n",
              "      <td>1</td>\n",
              "      <td>4314</td>\n",
              "    </tr>\n",
              "    <tr>\n",
              "      <th>2</th>\n",
              "      <td>28</td>\n",
              "      <td>male</td>\n",
              "      <td>no</td>\n",
              "      <td>southeast</td>\n",
              "      <td>11.00</td>\n",
              "      <td>3</td>\n",
              "      <td>11124</td>\n",
              "    </tr>\n",
              "    <tr>\n",
              "      <th>3</th>\n",
              "      <td>33</td>\n",
              "      <td>male</td>\n",
              "      <td>no</td>\n",
              "      <td>northwest</td>\n",
              "      <td>7.57</td>\n",
              "      <td>0</td>\n",
              "      <td>54961</td>\n",
              "    </tr>\n",
              "    <tr>\n",
              "      <th>4</th>\n",
              "      <td>32</td>\n",
              "      <td>male</td>\n",
              "      <td>no</td>\n",
              "      <td>northwest</td>\n",
              "      <td>9.63</td>\n",
              "      <td>0</td>\n",
              "      <td>9667</td>\n",
              "    </tr>\n",
              "  </tbody>\n",
              "</table>\n",
              "</div>\n",
              "      <button class=\"colab-df-convert\" onclick=\"convertToInteractive('df-f788e8c7-751d-4d01-8818-9eaec69d85b3')\"\n",
              "              title=\"Convert this dataframe to an interactive table.\"\n",
              "              style=\"display:none;\">\n",
              "        \n",
              "  <svg xmlns=\"http://www.w3.org/2000/svg\" height=\"24px\"viewBox=\"0 0 24 24\"\n",
              "       width=\"24px\">\n",
              "    <path d=\"M0 0h24v24H0V0z\" fill=\"none\"/>\n",
              "    <path d=\"M18.56 5.44l.94 2.06.94-2.06 2.06-.94-2.06-.94-.94-2.06-.94 2.06-2.06.94zm-11 1L8.5 8.5l.94-2.06 2.06-.94-2.06-.94L8.5 2.5l-.94 2.06-2.06.94zm10 10l.94 2.06.94-2.06 2.06-.94-2.06-.94-.94-2.06-.94 2.06-2.06.94z\"/><path d=\"M17.41 7.96l-1.37-1.37c-.4-.4-.92-.59-1.43-.59-.52 0-1.04.2-1.43.59L10.3 9.45l-7.72 7.72c-.78.78-.78 2.05 0 2.83L4 21.41c.39.39.9.59 1.41.59.51 0 1.02-.2 1.41-.59l7.78-7.78 2.81-2.81c.8-.78.8-2.07 0-2.86zM5.41 20L4 18.59l7.72-7.72 1.47 1.35L5.41 20z\"/>\n",
              "  </svg>\n",
              "      </button>\n",
              "      \n",
              "  <style>\n",
              "    .colab-df-container {\n",
              "      display:flex;\n",
              "      flex-wrap:wrap;\n",
              "      gap: 12px;\n",
              "    }\n",
              "\n",
              "    .colab-df-convert {\n",
              "      background-color: #E8F0FE;\n",
              "      border: none;\n",
              "      border-radius: 50%;\n",
              "      cursor: pointer;\n",
              "      display: none;\n",
              "      fill: #1967D2;\n",
              "      height: 32px;\n",
              "      padding: 0 0 0 0;\n",
              "      width: 32px;\n",
              "    }\n",
              "\n",
              "    .colab-df-convert:hover {\n",
              "      background-color: #E2EBFA;\n",
              "      box-shadow: 0px 1px 2px rgba(60, 64, 67, 0.3), 0px 1px 3px 1px rgba(60, 64, 67, 0.15);\n",
              "      fill: #174EA6;\n",
              "    }\n",
              "\n",
              "    [theme=dark] .colab-df-convert {\n",
              "      background-color: #3B4455;\n",
              "      fill: #D2E3FC;\n",
              "    }\n",
              "\n",
              "    [theme=dark] .colab-df-convert:hover {\n",
              "      background-color: #434B5C;\n",
              "      box-shadow: 0px 1px 3px 1px rgba(0, 0, 0, 0.15);\n",
              "      filter: drop-shadow(0px 1px 2px rgba(0, 0, 0, 0.3));\n",
              "      fill: #FFFFFF;\n",
              "    }\n",
              "  </style>\n",
              "\n",
              "      <script>\n",
              "        const buttonEl =\n",
              "          document.querySelector('#df-f788e8c7-751d-4d01-8818-9eaec69d85b3 button.colab-df-convert');\n",
              "        buttonEl.style.display =\n",
              "          google.colab.kernel.accessAllowed ? 'block' : 'none';\n",
              "\n",
              "        async function convertToInteractive(key) {\n",
              "          const element = document.querySelector('#df-f788e8c7-751d-4d01-8818-9eaec69d85b3');\n",
              "          const dataTable =\n",
              "            await google.colab.kernel.invokeFunction('convertToInteractive',\n",
              "                                                     [key], {});\n",
              "          if (!dataTable) return;\n",
              "\n",
              "          const docLinkHtml = 'Like what you see? Visit the ' +\n",
              "            '<a target=\"_blank\" href=https://colab.research.google.com/notebooks/data_table.ipynb>data table notebook</a>'\n",
              "            + ' to learn more about interactive tables.';\n",
              "          element.innerHTML = '';\n",
              "          dataTable['output_type'] = 'display_data';\n",
              "          await google.colab.output.renderOutput(dataTable, element);\n",
              "          const docLink = document.createElement('div');\n",
              "          docLink.innerHTML = docLinkHtml;\n",
              "          element.appendChild(docLink);\n",
              "        }\n",
              "      </script>\n",
              "    </div>\n",
              "  </div>\n",
              "  "
            ]
          },
          "metadata": {},
          "execution_count": 9
        }
      ]
    },
    {
      "cell_type": "markdown",
      "source": [
        "# ***Unique Values***"
      ],
      "metadata": {
        "id": "tS9wXBY6RsJc"
      }
    },
    {
      "cell_type": "markdown",
      "source": [
        "***CATEGORY***"
      ],
      "metadata": {
        "id": "JxxfEZAvtbHB"
      }
    },
    {
      "cell_type": "code",
      "source": [
        "cat_col = (df.dtypes == \"object\")\n",
        "cat_col = list(cat_col[cat_col].index)\n",
        "cat_col"
      ],
      "metadata": {
        "colab": {
          "base_uri": "https://localhost:8080/"
        },
        "id": "s34DQVj3RN0j",
        "outputId": "bb9e4222-9bf7-4f93-9451-6b0e2dc579b0"
      },
      "execution_count": null,
      "outputs": [
        {
          "output_type": "execute_result",
          "data": {
            "text/plain": [
              "['sex', 'smoker', 'region']"
            ]
          },
          "metadata": {},
          "execution_count": 10
        }
      ]
    },
    {
      "cell_type": "code",
      "source": [
        "cat_col = (df.dtypes == \"object\")\n",
        "cat_col = list(cat_col[cat_col].index)\n",
        "\n",
        "for cat in cat_col:\n",
        "  print(cat)\n",
        "  print(df[cat].nunique())\n",
        "  print(\"\")\n",
        "  "
      ],
      "metadata": {
        "colab": {
          "base_uri": "https://localhost:8080/"
        },
        "id": "WeKqYNQ1IqgG",
        "outputId": "5e36dba5-a508-4bd5-df4a-635d9f070fa8"
      },
      "execution_count": null,
      "outputs": [
        {
          "output_type": "stream",
          "name": "stdout",
          "text": [
            "sex\n",
            "2\n",
            "\n",
            "smoker\n",
            "2\n",
            "\n",
            "region\n",
            "4\n",
            "\n"
          ]
        }
      ]
    },
    {
      "cell_type": "code",
      "source": [
        "len(cat_col)"
      ],
      "metadata": {
        "colab": {
          "base_uri": "https://localhost:8080/"
        },
        "id": "JhHWvJwWJuHK",
        "outputId": "6cfa2bc9-e685-482d-ebfe-2c3830fe92ef"
      },
      "execution_count": null,
      "outputs": [
        {
          "output_type": "execute_result",
          "data": {
            "text/plain": [
              "3"
            ]
          },
          "metadata": {},
          "execution_count": 12
        }
      ]
    },
    {
      "cell_type": "markdown",
      "source": [
        "***NUMERIC***"
      ],
      "metadata": {
        "id": "lnVUGQlBRv04"
      }
    },
    {
      "cell_type": "code",
      "source": [
        "num_col = (df.dtypes != \"object\")\n",
        "num_col = list(num_col[num_col].index)\n",
        "num_col"
      ],
      "metadata": {
        "colab": {
          "base_uri": "https://localhost:8080/"
        },
        "id": "1TDGcu_zRQHm",
        "outputId": "4f4b3aa9-fa6d-44a3-8b2d-637da6459fd1"
      },
      "execution_count": null,
      "outputs": [
        {
          "output_type": "execute_result",
          "data": {
            "text/plain": [
              "['age', 'viral load', 'severity level', 'hospitalization charges']"
            ]
          },
          "metadata": {},
          "execution_count": 13
        }
      ]
    },
    {
      "cell_type": "code",
      "source": [
        "num_col = (df.dtypes != \"object\")\n",
        "num_col = list(num_col[num_col].index)\n",
        "\n",
        "for num in num_col:\n",
        "  print(num)\n",
        "  print(df[num].nunique())\n",
        "  print(\"\")\n",
        "  "
      ],
      "metadata": {
        "colab": {
          "base_uri": "https://localhost:8080/"
        },
        "id": "8Ps8Ea8dJxsi",
        "outputId": "1d27ca0b-9691-4be1-b30b-68d87de8d4b4"
      },
      "execution_count": null,
      "outputs": [
        {
          "output_type": "stream",
          "name": "stdout",
          "text": [
            "age\n",
            "47\n",
            "\n",
            "viral load\n",
            "462\n",
            "\n",
            "severity level\n",
            "6\n",
            "\n",
            "hospitalization charges\n",
            "1320\n",
            "\n"
          ]
        }
      ]
    },
    {
      "cell_type": "code",
      "source": [
        "len(num_col)"
      ],
      "metadata": {
        "colab": {
          "base_uri": "https://localhost:8080/"
        },
        "outputId": "a994d705-a92d-42d3-9b93-c3090c50d7ab",
        "id": "oD6ZwOOwtSdu"
      },
      "execution_count": null,
      "outputs": [
        {
          "output_type": "execute_result",
          "data": {
            "text/plain": [
              "4"
            ]
          },
          "metadata": {},
          "execution_count": 15
        }
      ]
    },
    {
      "cell_type": "markdown",
      "source": [
        "# **Value Counts**"
      ],
      "metadata": {
        "id": "e9b0nU0FtTmf"
      }
    },
    {
      "cell_type": "markdown",
      "source": [
        "***CATEGORY*** "
      ],
      "metadata": {
        "id": "AoHb4vH1thI9"
      }
    },
    {
      "cell_type": "code",
      "source": [
        "cat_col = (df.dtypes == \"object\")\n",
        "cat_col = list(cat_col[cat_col].index)\n",
        "cat_col"
      ],
      "metadata": {
        "colab": {
          "base_uri": "https://localhost:8080/"
        },
        "outputId": "9297d8ac-316e-41c2-e26e-3f3be4a1ef29",
        "id": "1rmaKR92uGSD"
      },
      "execution_count": null,
      "outputs": [
        {
          "output_type": "execute_result",
          "data": {
            "text/plain": [
              "['sex', 'smoker', 'region']"
            ]
          },
          "metadata": {},
          "execution_count": 16
        }
      ]
    },
    {
      "cell_type": "code",
      "source": [
        "for cat in (cat_col):\n",
        "  print(df[cat].value_counts())\n",
        "  print(\"\")\n",
        "  print(\"\")"
      ],
      "metadata": {
        "colab": {
          "base_uri": "https://localhost:8080/"
        },
        "id": "qwgAUcE_Rapv",
        "outputId": "7564ced5-1382-4f74-ab08-65dec12758ab"
      },
      "execution_count": null,
      "outputs": [
        {
          "output_type": "stream",
          "name": "stdout",
          "text": [
            "male      676\n",
            "female    662\n",
            "Name: sex, dtype: int64\n",
            "\n",
            "\n",
            "no     1064\n",
            "yes     274\n",
            "Name: smoker, dtype: int64\n",
            "\n",
            "\n",
            "southeast    364\n",
            "southwest    325\n",
            "northwest    325\n",
            "northeast    324\n",
            "Name: region, dtype: int64\n",
            "\n",
            "\n"
          ]
        }
      ]
    },
    {
      "cell_type": "code",
      "source": [
        "len(cat_col)"
      ],
      "metadata": {
        "colab": {
          "base_uri": "https://localhost:8080/"
        },
        "outputId": "fe2c2bee-b29b-4c68-f886-264ab79bf9f5",
        "id": "5bnUQaPLtvpY"
      },
      "execution_count": null,
      "outputs": [
        {
          "output_type": "execute_result",
          "data": {
            "text/plain": [
              "3"
            ]
          },
          "metadata": {},
          "execution_count": 18
        }
      ]
    },
    {
      "cell_type": "markdown",
      "source": [
        "***NUMERIC***"
      ],
      "metadata": {
        "id": "qDxEcTVwt2S6"
      }
    },
    {
      "cell_type": "code",
      "source": [
        "num_col = (df.dtypes != \"object\")\n",
        "num_col = list(num_col[num_col].index)\n",
        "num_col"
      ],
      "metadata": {
        "colab": {
          "base_uri": "https://localhost:8080/"
        },
        "outputId": "d9f91560-ac53-49d4-9db5-61c463f81061",
        "id": "inmdKunIuJWr"
      },
      "execution_count": null,
      "outputs": [
        {
          "output_type": "execute_result",
          "data": {
            "text/plain": [
              "['age', 'viral load', 'severity level', 'hospitalization charges']"
            ]
          },
          "metadata": {},
          "execution_count": 19
        }
      ]
    },
    {
      "cell_type": "code",
      "source": [
        "for num in (num_col):\n",
        "  print(df[num].value_counts())\n",
        "  print(\"\")\n",
        "  print(\"\")"
      ],
      "metadata": {
        "colab": {
          "base_uri": "https://localhost:8080/"
        },
        "id": "7nNFX2UhRhPG",
        "outputId": "5bbb5c13-5d31-4502-a057-a0ebab6bf745"
      },
      "execution_count": null,
      "outputs": [
        {
          "output_type": "stream",
          "name": "stdout",
          "text": [
            "18    69\n",
            "19    68\n",
            "50    29\n",
            "51    29\n",
            "47    29\n",
            "46    29\n",
            "45    29\n",
            "20    29\n",
            "48    29\n",
            "52    29\n",
            "22    28\n",
            "49    28\n",
            "54    28\n",
            "53    28\n",
            "21    28\n",
            "26    28\n",
            "24    28\n",
            "25    28\n",
            "28    28\n",
            "27    28\n",
            "23    28\n",
            "43    27\n",
            "29    27\n",
            "30    27\n",
            "41    27\n",
            "42    27\n",
            "44    27\n",
            "31    27\n",
            "40    27\n",
            "32    26\n",
            "33    26\n",
            "56    26\n",
            "34    26\n",
            "55    26\n",
            "57    26\n",
            "37    25\n",
            "59    25\n",
            "58    25\n",
            "36    25\n",
            "38    25\n",
            "35    25\n",
            "39    25\n",
            "61    23\n",
            "60    23\n",
            "63    23\n",
            "62    23\n",
            "64    22\n",
            "Name: age, dtype: int64\n",
            "\n",
            "\n",
            "9.63     13\n",
            "10.77    13\n",
            "11.37    12\n",
            "10.17    12\n",
            "8.80     10\n",
            "         ..\n",
            "7.93      1\n",
            "10.71     1\n",
            "9.70      1\n",
            "14.37     1\n",
            "10.32     1\n",
            "Name: viral load, Length: 462, dtype: int64\n",
            "\n",
            "\n",
            "0    574\n",
            "1    324\n",
            "2    240\n",
            "3    157\n",
            "4     25\n",
            "5     18\n",
            "Name: severity level, dtype: int64\n",
            "\n",
            "\n",
            "4593     2\n",
            "35986    2\n",
            "4099     2\n",
            "23618    2\n",
            "35003    2\n",
            "        ..\n",
            "70720    1\n",
            "2873     1\n",
            "92698    1\n",
            "11846    1\n",
            "72853    1\n",
            "Name: hospitalization charges, Length: 1320, dtype: int64\n",
            "\n",
            "\n"
          ]
        }
      ]
    },
    {
      "cell_type": "code",
      "source": [
        "len(num_col)"
      ],
      "metadata": {
        "colab": {
          "base_uri": "https://localhost:8080/"
        },
        "id": "mbJJHp5RJ617",
        "outputId": "561a6f3a-997b-4651-8bcd-dbc448ea9776"
      },
      "execution_count": null,
      "outputs": [
        {
          "output_type": "execute_result",
          "data": {
            "text/plain": [
              "4"
            ]
          },
          "metadata": {},
          "execution_count": 21
        }
      ]
    },
    {
      "cell_type": "markdown",
      "source": [
        "# **Observations**"
      ],
      "metadata": {
        "id": "JJnf8vJtKHOH"
      }
    },
    {
      "cell_type": "code",
      "source": [
        "df.shape"
      ],
      "metadata": {
        "colab": {
          "base_uri": "https://localhost:8080/"
        },
        "id": "VRex6C_vKTui",
        "outputId": "48d3d7d3-304a-49fa-fdd1-4be200c786b9"
      },
      "execution_count": null,
      "outputs": [
        {
          "output_type": "execute_result",
          "data": {
            "text/plain": [
              "(1338, 7)"
            ]
          },
          "metadata": {},
          "execution_count": 22
        }
      ]
    },
    {
      "cell_type": "code",
      "source": [
        "len(df)"
      ],
      "metadata": {
        "colab": {
          "base_uri": "https://localhost:8080/"
        },
        "id": "wpGg1RHsKWZF",
        "outputId": "94c5683f-bb7f-41d9-cc87-d8bfd3cf405f"
      },
      "execution_count": null,
      "outputs": [
        {
          "output_type": "execute_result",
          "data": {
            "text/plain": [
              "1338"
            ]
          },
          "metadata": {},
          "execution_count": 23
        }
      ]
    },
    {
      "cell_type": "code",
      "source": [
        "df.dtypes"
      ],
      "metadata": {
        "colab": {
          "base_uri": "https://localhost:8080/"
        },
        "id": "NkDlEfFwKYps",
        "outputId": "b94a1db4-756c-458a-d0cf-768563ecf1a6"
      },
      "execution_count": null,
      "outputs": [
        {
          "output_type": "execute_result",
          "data": {
            "text/plain": [
              "age                          int64\n",
              "sex                         object\n",
              "smoker                      object\n",
              "region                      object\n",
              "viral load                 float64\n",
              "severity level               int64\n",
              "hospitalization charges      int64\n",
              "dtype: object"
            ]
          },
          "metadata": {},
          "execution_count": 24
        }
      ]
    },
    {
      "cell_type": "markdown",
      "source": [
        "# **Missing Value**"
      ],
      "metadata": {
        "id": "8bEiZyvlsY2q"
      }
    },
    {
      "cell_type": "code",
      "source": [
        "df.isnull().sum()"
      ],
      "metadata": {
        "colab": {
          "base_uri": "https://localhost:8080/"
        },
        "id": "FIsJTz93KpFG",
        "outputId": "735591bc-a702-472b-c3d8-4fad2705937e"
      },
      "execution_count": null,
      "outputs": [
        {
          "output_type": "execute_result",
          "data": {
            "text/plain": [
              "age                        0\n",
              "sex                        0\n",
              "smoker                     0\n",
              "region                     0\n",
              "viral load                 0\n",
              "severity level             0\n",
              "hospitalization charges    0\n",
              "dtype: int64"
            ]
          },
          "metadata": {},
          "execution_count": 25
        }
      ]
    },
    {
      "cell_type": "code",
      "source": [
        "percent_missing = (df.isnull().sum())/(len(df))\n",
        "percent_missing"
      ],
      "metadata": {
        "colab": {
          "base_uri": "https://localhost:8080/"
        },
        "id": "sQD6-4G_K8J-",
        "outputId": "b4e4c938-ae0b-4080-e51b-17d19fe2e0bd"
      },
      "execution_count": null,
      "outputs": [
        {
          "output_type": "execute_result",
          "data": {
            "text/plain": [
              "age                        0.0\n",
              "sex                        0.0\n",
              "smoker                     0.0\n",
              "region                     0.0\n",
              "viral load                 0.0\n",
              "severity level             0.0\n",
              "hospitalization charges    0.0\n",
              "dtype: float64"
            ]
          },
          "metadata": {},
          "execution_count": 26
        }
      ]
    },
    {
      "cell_type": "code",
      "source": [],
      "metadata": {
        "id": "vw0fZLENsklP"
      },
      "execution_count": null,
      "outputs": []
    },
    {
      "cell_type": "markdown",
      "source": [
        "# **Statistical Summary**"
      ],
      "metadata": {
        "id": "XuXj-Mf8slEe"
      }
    },
    {
      "cell_type": "code",
      "source": [
        "df.info()"
      ],
      "metadata": {
        "colab": {
          "base_uri": "https://localhost:8080/"
        },
        "id": "xA9VuQ_sQS0P",
        "outputId": "e1784fb6-c3fb-4da8-debc-4f8008efaf3f"
      },
      "execution_count": null,
      "outputs": [
        {
          "output_type": "stream",
          "name": "stdout",
          "text": [
            "<class 'pandas.core.frame.DataFrame'>\n",
            "RangeIndex: 1338 entries, 0 to 1337\n",
            "Data columns (total 7 columns):\n",
            " #   Column                   Non-Null Count  Dtype  \n",
            "---  ------                   --------------  -----  \n",
            " 0   age                      1338 non-null   int64  \n",
            " 1   sex                      1338 non-null   object \n",
            " 2   smoker                   1338 non-null   object \n",
            " 3   region                   1338 non-null   object \n",
            " 4   viral load               1338 non-null   float64\n",
            " 5   severity level           1338 non-null   int64  \n",
            " 6   hospitalization charges  1338 non-null   int64  \n",
            "dtypes: float64(1), int64(3), object(3)\n",
            "memory usage: 73.3+ KB\n"
          ]
        }
      ]
    },
    {
      "cell_type": "code",
      "source": [
        "df.describe()"
      ],
      "metadata": {
        "colab": {
          "base_uri": "https://localhost:8080/",
          "height": 300
        },
        "id": "IOUQu0WCLsgK",
        "outputId": "a76184f8-2196-41c7-ebf9-8aacfd19455e"
      },
      "execution_count": null,
      "outputs": [
        {
          "output_type": "execute_result",
          "data": {
            "text/plain": [
              "               age   viral load  severity level  hospitalization charges\n",
              "count  1338.000000  1338.000000     1338.000000              1338.000000\n",
              "mean     39.207025    10.221233        1.094918             33176.058296\n",
              "std      14.049960     2.032796        1.205493             30275.029296\n",
              "min      18.000000     5.320000        0.000000              2805.000000\n",
              "25%      27.000000     8.762500        0.000000             11851.000000\n",
              "50%      39.000000    10.130000        1.000000             23455.000000\n",
              "75%      51.000000    11.567500        2.000000             41599.500000\n",
              "max      64.000000    17.710000        5.000000            159426.000000"
            ],
            "text/html": [
              "\n",
              "  <div id=\"df-8e88149d-6e60-4850-97e0-b89d6dca65ab\">\n",
              "    <div class=\"colab-df-container\">\n",
              "      <div>\n",
              "<style scoped>\n",
              "    .dataframe tbody tr th:only-of-type {\n",
              "        vertical-align: middle;\n",
              "    }\n",
              "\n",
              "    .dataframe tbody tr th {\n",
              "        vertical-align: top;\n",
              "    }\n",
              "\n",
              "    .dataframe thead th {\n",
              "        text-align: right;\n",
              "    }\n",
              "</style>\n",
              "<table border=\"1\" class=\"dataframe\">\n",
              "  <thead>\n",
              "    <tr style=\"text-align: right;\">\n",
              "      <th></th>\n",
              "      <th>age</th>\n",
              "      <th>viral load</th>\n",
              "      <th>severity level</th>\n",
              "      <th>hospitalization charges</th>\n",
              "    </tr>\n",
              "  </thead>\n",
              "  <tbody>\n",
              "    <tr>\n",
              "      <th>count</th>\n",
              "      <td>1338.000000</td>\n",
              "      <td>1338.000000</td>\n",
              "      <td>1338.000000</td>\n",
              "      <td>1338.000000</td>\n",
              "    </tr>\n",
              "    <tr>\n",
              "      <th>mean</th>\n",
              "      <td>39.207025</td>\n",
              "      <td>10.221233</td>\n",
              "      <td>1.094918</td>\n",
              "      <td>33176.058296</td>\n",
              "    </tr>\n",
              "    <tr>\n",
              "      <th>std</th>\n",
              "      <td>14.049960</td>\n",
              "      <td>2.032796</td>\n",
              "      <td>1.205493</td>\n",
              "      <td>30275.029296</td>\n",
              "    </tr>\n",
              "    <tr>\n",
              "      <th>min</th>\n",
              "      <td>18.000000</td>\n",
              "      <td>5.320000</td>\n",
              "      <td>0.000000</td>\n",
              "      <td>2805.000000</td>\n",
              "    </tr>\n",
              "    <tr>\n",
              "      <th>25%</th>\n",
              "      <td>27.000000</td>\n",
              "      <td>8.762500</td>\n",
              "      <td>0.000000</td>\n",
              "      <td>11851.000000</td>\n",
              "    </tr>\n",
              "    <tr>\n",
              "      <th>50%</th>\n",
              "      <td>39.000000</td>\n",
              "      <td>10.130000</td>\n",
              "      <td>1.000000</td>\n",
              "      <td>23455.000000</td>\n",
              "    </tr>\n",
              "    <tr>\n",
              "      <th>75%</th>\n",
              "      <td>51.000000</td>\n",
              "      <td>11.567500</td>\n",
              "      <td>2.000000</td>\n",
              "      <td>41599.500000</td>\n",
              "    </tr>\n",
              "    <tr>\n",
              "      <th>max</th>\n",
              "      <td>64.000000</td>\n",
              "      <td>17.710000</td>\n",
              "      <td>5.000000</td>\n",
              "      <td>159426.000000</td>\n",
              "    </tr>\n",
              "  </tbody>\n",
              "</table>\n",
              "</div>\n",
              "      <button class=\"colab-df-convert\" onclick=\"convertToInteractive('df-8e88149d-6e60-4850-97e0-b89d6dca65ab')\"\n",
              "              title=\"Convert this dataframe to an interactive table.\"\n",
              "              style=\"display:none;\">\n",
              "        \n",
              "  <svg xmlns=\"http://www.w3.org/2000/svg\" height=\"24px\"viewBox=\"0 0 24 24\"\n",
              "       width=\"24px\">\n",
              "    <path d=\"M0 0h24v24H0V0z\" fill=\"none\"/>\n",
              "    <path d=\"M18.56 5.44l.94 2.06.94-2.06 2.06-.94-2.06-.94-.94-2.06-.94 2.06-2.06.94zm-11 1L8.5 8.5l.94-2.06 2.06-.94-2.06-.94L8.5 2.5l-.94 2.06-2.06.94zm10 10l.94 2.06.94-2.06 2.06-.94-2.06-.94-.94-2.06-.94 2.06-2.06.94z\"/><path d=\"M17.41 7.96l-1.37-1.37c-.4-.4-.92-.59-1.43-.59-.52 0-1.04.2-1.43.59L10.3 9.45l-7.72 7.72c-.78.78-.78 2.05 0 2.83L4 21.41c.39.39.9.59 1.41.59.51 0 1.02-.2 1.41-.59l7.78-7.78 2.81-2.81c.8-.78.8-2.07 0-2.86zM5.41 20L4 18.59l7.72-7.72 1.47 1.35L5.41 20z\"/>\n",
              "  </svg>\n",
              "      </button>\n",
              "      \n",
              "  <style>\n",
              "    .colab-df-container {\n",
              "      display:flex;\n",
              "      flex-wrap:wrap;\n",
              "      gap: 12px;\n",
              "    }\n",
              "\n",
              "    .colab-df-convert {\n",
              "      background-color: #E8F0FE;\n",
              "      border: none;\n",
              "      border-radius: 50%;\n",
              "      cursor: pointer;\n",
              "      display: none;\n",
              "      fill: #1967D2;\n",
              "      height: 32px;\n",
              "      padding: 0 0 0 0;\n",
              "      width: 32px;\n",
              "    }\n",
              "\n",
              "    .colab-df-convert:hover {\n",
              "      background-color: #E2EBFA;\n",
              "      box-shadow: 0px 1px 2px rgba(60, 64, 67, 0.3), 0px 1px 3px 1px rgba(60, 64, 67, 0.15);\n",
              "      fill: #174EA6;\n",
              "    }\n",
              "\n",
              "    [theme=dark] .colab-df-convert {\n",
              "      background-color: #3B4455;\n",
              "      fill: #D2E3FC;\n",
              "    }\n",
              "\n",
              "    [theme=dark] .colab-df-convert:hover {\n",
              "      background-color: #434B5C;\n",
              "      box-shadow: 0px 1px 3px 1px rgba(0, 0, 0, 0.15);\n",
              "      filter: drop-shadow(0px 1px 2px rgba(0, 0, 0, 0.3));\n",
              "      fill: #FFFFFF;\n",
              "    }\n",
              "  </style>\n",
              "\n",
              "      <script>\n",
              "        const buttonEl =\n",
              "          document.querySelector('#df-8e88149d-6e60-4850-97e0-b89d6dca65ab button.colab-df-convert');\n",
              "        buttonEl.style.display =\n",
              "          google.colab.kernel.accessAllowed ? 'block' : 'none';\n",
              "\n",
              "        async function convertToInteractive(key) {\n",
              "          const element = document.querySelector('#df-8e88149d-6e60-4850-97e0-b89d6dca65ab');\n",
              "          const dataTable =\n",
              "            await google.colab.kernel.invokeFunction('convertToInteractive',\n",
              "                                                     [key], {});\n",
              "          if (!dataTable) return;\n",
              "\n",
              "          const docLinkHtml = 'Like what you see? Visit the ' +\n",
              "            '<a target=\"_blank\" href=https://colab.research.google.com/notebooks/data_table.ipynb>data table notebook</a>'\n",
              "            + ' to learn more about interactive tables.';\n",
              "          element.innerHTML = '';\n",
              "          dataTable['output_type'] = 'display_data';\n",
              "          await google.colab.output.renderOutput(dataTable, element);\n",
              "          const docLink = document.createElement('div');\n",
              "          docLink.innerHTML = docLinkHtml;\n",
              "          element.appendChild(docLink);\n",
              "        }\n",
              "      </script>\n",
              "    </div>\n",
              "  </div>\n",
              "  "
            ]
          },
          "metadata": {},
          "execution_count": 28
        }
      ]
    },
    {
      "cell_type": "code",
      "source": [
        "df.describe(include = \"object\")"
      ],
      "metadata": {
        "colab": {
          "base_uri": "https://localhost:8080/",
          "height": 175
        },
        "id": "r4Jb9hchMKCm",
        "outputId": "fc6fbbd5-84c9-4b8c-9d14-25a495d0844a"
      },
      "execution_count": null,
      "outputs": [
        {
          "output_type": "execute_result",
          "data": {
            "text/plain": [
              "         sex smoker     region\n",
              "count   1338   1338       1338\n",
              "unique     2      2          4\n",
              "top     male     no  southeast\n",
              "freq     676   1064        364"
            ],
            "text/html": [
              "\n",
              "  <div id=\"df-62f4ca23-dcdf-42ad-adc0-a1a2c72058b2\">\n",
              "    <div class=\"colab-df-container\">\n",
              "      <div>\n",
              "<style scoped>\n",
              "    .dataframe tbody tr th:only-of-type {\n",
              "        vertical-align: middle;\n",
              "    }\n",
              "\n",
              "    .dataframe tbody tr th {\n",
              "        vertical-align: top;\n",
              "    }\n",
              "\n",
              "    .dataframe thead th {\n",
              "        text-align: right;\n",
              "    }\n",
              "</style>\n",
              "<table border=\"1\" class=\"dataframe\">\n",
              "  <thead>\n",
              "    <tr style=\"text-align: right;\">\n",
              "      <th></th>\n",
              "      <th>sex</th>\n",
              "      <th>smoker</th>\n",
              "      <th>region</th>\n",
              "    </tr>\n",
              "  </thead>\n",
              "  <tbody>\n",
              "    <tr>\n",
              "      <th>count</th>\n",
              "      <td>1338</td>\n",
              "      <td>1338</td>\n",
              "      <td>1338</td>\n",
              "    </tr>\n",
              "    <tr>\n",
              "      <th>unique</th>\n",
              "      <td>2</td>\n",
              "      <td>2</td>\n",
              "      <td>4</td>\n",
              "    </tr>\n",
              "    <tr>\n",
              "      <th>top</th>\n",
              "      <td>male</td>\n",
              "      <td>no</td>\n",
              "      <td>southeast</td>\n",
              "    </tr>\n",
              "    <tr>\n",
              "      <th>freq</th>\n",
              "      <td>676</td>\n",
              "      <td>1064</td>\n",
              "      <td>364</td>\n",
              "    </tr>\n",
              "  </tbody>\n",
              "</table>\n",
              "</div>\n",
              "      <button class=\"colab-df-convert\" onclick=\"convertToInteractive('df-62f4ca23-dcdf-42ad-adc0-a1a2c72058b2')\"\n",
              "              title=\"Convert this dataframe to an interactive table.\"\n",
              "              style=\"display:none;\">\n",
              "        \n",
              "  <svg xmlns=\"http://www.w3.org/2000/svg\" height=\"24px\"viewBox=\"0 0 24 24\"\n",
              "       width=\"24px\">\n",
              "    <path d=\"M0 0h24v24H0V0z\" fill=\"none\"/>\n",
              "    <path d=\"M18.56 5.44l.94 2.06.94-2.06 2.06-.94-2.06-.94-.94-2.06-.94 2.06-2.06.94zm-11 1L8.5 8.5l.94-2.06 2.06-.94-2.06-.94L8.5 2.5l-.94 2.06-2.06.94zm10 10l.94 2.06.94-2.06 2.06-.94-2.06-.94-.94-2.06-.94 2.06-2.06.94z\"/><path d=\"M17.41 7.96l-1.37-1.37c-.4-.4-.92-.59-1.43-.59-.52 0-1.04.2-1.43.59L10.3 9.45l-7.72 7.72c-.78.78-.78 2.05 0 2.83L4 21.41c.39.39.9.59 1.41.59.51 0 1.02-.2 1.41-.59l7.78-7.78 2.81-2.81c.8-.78.8-2.07 0-2.86zM5.41 20L4 18.59l7.72-7.72 1.47 1.35L5.41 20z\"/>\n",
              "  </svg>\n",
              "      </button>\n",
              "      \n",
              "  <style>\n",
              "    .colab-df-container {\n",
              "      display:flex;\n",
              "      flex-wrap:wrap;\n",
              "      gap: 12px;\n",
              "    }\n",
              "\n",
              "    .colab-df-convert {\n",
              "      background-color: #E8F0FE;\n",
              "      border: none;\n",
              "      border-radius: 50%;\n",
              "      cursor: pointer;\n",
              "      display: none;\n",
              "      fill: #1967D2;\n",
              "      height: 32px;\n",
              "      padding: 0 0 0 0;\n",
              "      width: 32px;\n",
              "    }\n",
              "\n",
              "    .colab-df-convert:hover {\n",
              "      background-color: #E2EBFA;\n",
              "      box-shadow: 0px 1px 2px rgba(60, 64, 67, 0.3), 0px 1px 3px 1px rgba(60, 64, 67, 0.15);\n",
              "      fill: #174EA6;\n",
              "    }\n",
              "\n",
              "    [theme=dark] .colab-df-convert {\n",
              "      background-color: #3B4455;\n",
              "      fill: #D2E3FC;\n",
              "    }\n",
              "\n",
              "    [theme=dark] .colab-df-convert:hover {\n",
              "      background-color: #434B5C;\n",
              "      box-shadow: 0px 1px 3px 1px rgba(0, 0, 0, 0.15);\n",
              "      filter: drop-shadow(0px 1px 2px rgba(0, 0, 0, 0.3));\n",
              "      fill: #FFFFFF;\n",
              "    }\n",
              "  </style>\n",
              "\n",
              "      <script>\n",
              "        const buttonEl =\n",
              "          document.querySelector('#df-62f4ca23-dcdf-42ad-adc0-a1a2c72058b2 button.colab-df-convert');\n",
              "        buttonEl.style.display =\n",
              "          google.colab.kernel.accessAllowed ? 'block' : 'none';\n",
              "\n",
              "        async function convertToInteractive(key) {\n",
              "          const element = document.querySelector('#df-62f4ca23-dcdf-42ad-adc0-a1a2c72058b2');\n",
              "          const dataTable =\n",
              "            await google.colab.kernel.invokeFunction('convertToInteractive',\n",
              "                                                     [key], {});\n",
              "          if (!dataTable) return;\n",
              "\n",
              "          const docLinkHtml = 'Like what you see? Visit the ' +\n",
              "            '<a target=\"_blank\" href=https://colab.research.google.com/notebooks/data_table.ipynb>data table notebook</a>'\n",
              "            + ' to learn more about interactive tables.';\n",
              "          element.innerHTML = '';\n",
              "          dataTable['output_type'] = 'display_data';\n",
              "          await google.colab.output.renderOutput(dataTable, element);\n",
              "          const docLink = document.createElement('div');\n",
              "          docLink.innerHTML = docLinkHtml;\n",
              "          element.appendChild(docLink);\n",
              "        }\n",
              "      </script>\n",
              "    </div>\n",
              "  </div>\n",
              "  "
            ]
          },
          "metadata": {},
          "execution_count": 29
        }
      ]
    },
    {
      "cell_type": "code",
      "source": [],
      "metadata": {
        "id": "VBZ5KBvMQNqg"
      },
      "execution_count": null,
      "outputs": []
    },
    {
      "cell_type": "markdown",
      "source": [
        "# ***Univariate Analysis***\n",
        "\n",
        ">\n",
        "\n"
      ],
      "metadata": {
        "id": "-V0U19TXMVu7"
      }
    },
    {
      "cell_type": "code",
      "source": [
        "sns.countplot(x = \"smoker\" , data = df )\n",
        "plt.show()"
      ],
      "metadata": {
        "colab": {
          "base_uri": "https://localhost:8080/",
          "height": 279
        },
        "id": "xJSSlO1qMZhO",
        "outputId": "b05068d5-7286-4d93-e7a9-e2d37bb643bd"
      },
      "execution_count": null,
      "outputs": [
        {
          "output_type": "display_data",
          "data": {
            "text/plain": [
              "<Figure size 432x288 with 1 Axes>"
            ],
            "image/png": "[encoded data removed]"
          },
          "metadata": {
            "needs_background": "light"
          }
        }
      ]
    },
    {
      "cell_type": "code",
      "source": [
        "sns.countplot(x = \"sex\" , data = df )\n",
        "plt.show()"
      ],
      "metadata": {
        "colab": {
          "base_uri": "https://localhost:8080/",
          "height": 280
        },
        "id": "yQVr5tzQMqMe",
        "outputId": "5222db53-d0f2-4433-a940-7862db47c39e"
      },
      "execution_count": null,
      "outputs": [
        {
          "output_type": "display_data",
          "data": {
            "text/plain": [
              "<Figure size 432x288 with 1 Axes>"
            ],
            "image/png": "[encoded data removed]"
          },
          "metadata": {
            "needs_background": "light"
          }
        }
      ]
    },
    {
      "cell_type": "code",
      "source": [
        "sns.countplot(x = \"region\" , data = df )\n",
        "plt.show()"
      ],
      "metadata": {
        "colab": {
          "base_uri": "https://localhost:8080/",
          "height": 279
        },
        "id": "vPvtZ1cgM52y",
        "outputId": "48aae864-f88c-4cee-93dc-36ed8a56a8b6"
      },
      "execution_count": null,
      "outputs": [
        {
          "output_type": "display_data",
          "data": {
            "text/plain": [
              "<Figure size 432x288 with 1 Axes>"
            ],
            "image/png": "[encoded data removed]"
          },
          "metadata": {
            "needs_background": "light"
          }
        }
      ]
    },
    {
      "cell_type": "code",
      "source": [
        "sns.countplot(x = \"severity level\" , data = df )\n",
        "plt.show()"
      ],
      "metadata": {
        "colab": {
          "base_uri": "https://localhost:8080/",
          "height": 282
        },
        "id": "7AWM9RODM-KK",
        "outputId": "d928641f-51b5-4966-c09e-5dc30c728a7b"
      },
      "execution_count": null,
      "outputs": [
        {
          "output_type": "display_data",
          "data": {
            "text/plain": [
              "<Figure size 432x288 with 1 Axes>"
            ],
            "image/png": "[encoded data removed]"
          },
          "metadata": {
            "needs_background": "light"
          }
        }
      ]
    },
    {
      "cell_type": "markdown",
      "source": [
        "***Viral Load***"
      ],
      "metadata": {
        "id": "jdQquJF5SqeG"
      }
    },
    {
      "cell_type": "code",
      "source": [
        "sns.boxplot(y = \"viral load\" , data = df )\n",
        "plt.show()"
      ],
      "metadata": {
        "colab": {
          "base_uri": "https://localhost:8080/",
          "height": 252
        },
        "id": "gCJ9eONwNnyV",
        "outputId": "fc54f694-0670-497d-ba4b-ef0d8cf941e4"
      },
      "execution_count": null,
      "outputs": [
        {
          "output_type": "display_data",
          "data": {
            "text/plain": [
              "<Figure size 432x288 with 1 Axes>"
            ],
            "image/png": "[encoded data removed]"
          },
          "metadata": {
            "needs_background": "light"
          }
        }
      ]
    },
    {
      "cell_type": "code",
      "source": [
        "sns.histplot(df[\"viral load\"] , bins = 25)\n",
        "plt.show()"
      ],
      "metadata": {
        "colab": {
          "base_uri": "https://localhost:8080/",
          "height": 282
        },
        "id": "L_aifEENOd4O",
        "outputId": "809c5442-be23-430e-d2c1-16b13a73ba6e"
      },
      "execution_count": null,
      "outputs": [
        {
          "output_type": "display_data",
          "data": {
            "text/plain": [
              "<Figure size 432x288 with 1 Axes>"
            ],
            "image/png": "[encoded data removed]"
          },
          "metadata": {
            "needs_background": "light"
          }
        }
      ]
    },
    {
      "cell_type": "code",
      "source": [
        "sns.distplot(df[\"viral load\"] , bins = 25)\n",
        "plt.show()"
      ],
      "metadata": {
        "colab": {
          "base_uri": "https://localhost:8080/",
          "height": 334
        },
        "id": "R0ozIYuOPFdo",
        "outputId": "3b59ce74-baca-4fa6-cd68-8dceecc5fb40"
      },
      "execution_count": null,
      "outputs": [
        {
          "output_type": "stream",
          "name": "stderr",
          "text": [
            "/usr/local/lib/python3.8/dist-packages/seaborn/distributions.py:2619: FutureWarning: `distplot` is a deprecated function and will be removed in a future version. Please adapt your code to use either `displot` (a figure-level function with similar flexibility) or `histplot` (an axes-level function for histograms).\n",
            "  warnings.warn(msg, FutureWarning)\n"
          ]
        },
        {
          "output_type": "display_data",
          "data": {
            "text/plain": [
              "<Figure size 432x288 with 1 Axes>"
            ],
            "image/png": "[encoded data removed]"
          },
          "metadata": {
            "needs_background": "light"
          }
        }
      ]
    },
    {
      "cell_type": "markdown",
      "source": [
        "***Age***"
      ],
      "metadata": {
        "id": "rBWxs9qAStMx"
      }
    },
    {
      "cell_type": "code",
      "source": [
        "sns.boxplot(y = \"age\" , data = df )\n",
        "plt.show()"
      ],
      "metadata": {
        "colab": {
          "base_uri": "https://localhost:8080/",
          "height": 252
        },
        "id": "INYMVJ79Nv1h",
        "outputId": "07edec1b-93dc-478d-b392-9f1f96f3afd5"
      },
      "execution_count": null,
      "outputs": [
        {
          "output_type": "display_data",
          "data": {
            "text/plain": [
              "<Figure size 432x288 with 1 Axes>"
            ],
            "image/png": "[encoded data removed]"
          },
          "metadata": {
            "needs_background": "light"
          }
        }
      ]
    },
    {
      "cell_type": "code",
      "source": [
        "sns.histplot(x = \"age\" , data = df , bins = 25)\n",
        "plt.show()"
      ],
      "metadata": {
        "colab": {
          "base_uri": "https://localhost:8080/",
          "height": 279
        },
        "id": "NjscZbGkPSGI",
        "outputId": "aeb5ce99-78de-4638-8a61-c62415b036f3"
      },
      "execution_count": null,
      "outputs": [
        {
          "output_type": "display_data",
          "data": {
            "text/plain": [
              "<Figure size 432x288 with 1 Axes>"
            ],
            "image/png": "[encoded data removed]"
          },
          "metadata": {
            "needs_background": "light"
          }
        }
      ]
    },
    {
      "cell_type": "code",
      "source": [
        "sns.distplot(df[\"age\"], bins = 25 )\n",
        "plt.show()"
      ],
      "metadata": {
        "colab": {
          "base_uri": "https://localhost:8080/",
          "height": 334
        },
        "id": "4Fzb1HoVPSJQ",
        "outputId": "0ac2977a-e937-40e2-8925-45b594f846c7"
      },
      "execution_count": null,
      "outputs": [
        {
          "output_type": "stream",
          "name": "stderr",
          "text": [
            "/usr/local/lib/python3.8/dist-packages/seaborn/distributions.py:2619: FutureWarning: `distplot` is a deprecated function and will be removed in a future version. Please adapt your code to use either `displot` (a figure-level function with similar flexibility) or `histplot` (an axes-level function for histograms).\n",
            "  warnings.warn(msg, FutureWarning)\n"
          ]
        },
        {
          "output_type": "display_data",
          "data": {
            "text/plain": [
              "<Figure size 432x288 with 1 Axes>"
            ],
            "image/png": "[encoded data removed]"
          },
          "metadata": {
            "needs_background": "light"
          }
        }
      ]
    },
    {
      "cell_type": "markdown",
      "source": [
        "***Hospitalization Charges***"
      ],
      "metadata": {
        "id": "NnDWxpzISvXH"
      }
    },
    {
      "cell_type": "code",
      "source": [
        "sns.boxplot(y = \"hospitalization charges\" , data = df )\n",
        "plt.show()"
      ],
      "metadata": {
        "colab": {
          "base_uri": "https://localhost:8080/",
          "height": 252
        },
        "id": "fNUYe0SdN-tc",
        "outputId": "af1cf42e-0ee8-4e05-8bc3-e786c53c4640"
      },
      "execution_count": null,
      "outputs": [
        {
          "output_type": "display_data",
          "data": {
            "text/plain": [
              "<Figure size 432x288 with 1 Axes>"
            ],
            "image/png": "[encoded data removed]"
          },
          "metadata": {
            "needs_background": "light"
          }
        }
      ]
    },
    {
      "cell_type": "code",
      "source": [
        "sns.histplot(x = \"hospitalization charges\" , data = df, bins = 25)\n",
        "plt.show()"
      ],
      "metadata": {
        "colab": {
          "base_uri": "https://localhost:8080/",
          "height": 280
        },
        "id": "-Y7rPMwoPqWV",
        "outputId": "031e62fc-ef29-48c2-ae55-1c62066baa88"
      },
      "execution_count": null,
      "outputs": [
        {
          "output_type": "display_data",
          "data": {
            "text/plain": [
              "<Figure size 432x288 with 1 Axes>"
            ],
            "image/png": "[encoded data removed]"
          },
          "metadata": {
            "needs_background": "light"
          }
        }
      ]
    },
    {
      "cell_type": "code",
      "source": [
        "sns.distplot(df[\"hospitalization charges\"], bins = 25)\n",
        "plt.show()"
      ],
      "metadata": {
        "colab": {
          "base_uri": "https://localhost:8080/",
          "height": 345
        },
        "id": "aE4mHIcNPqZU",
        "outputId": "6e10034d-35ce-4780-dbb9-e99efec579e4"
      },
      "execution_count": null,
      "outputs": [
        {
          "output_type": "stream",
          "name": "stderr",
          "text": [
            "/usr/local/lib/python3.8/dist-packages/seaborn/distributions.py:2619: FutureWarning: `distplot` is a deprecated function and will be removed in a future version. Please adapt your code to use either `displot` (a figure-level function with similar flexibility) or `histplot` (an axes-level function for histograms).\n",
            "  warnings.warn(msg, FutureWarning)\n"
          ]
        },
        {
          "output_type": "display_data",
          "data": {
            "text/plain": [
              "<Figure size 432x288 with 1 Axes>"
            ],
            "image/png": "[encoded data removed]"
          },
          "metadata": {
            "needs_background": "light"
          }
        }
      ]
    },
    {
      "cell_type": "code",
      "source": [],
      "metadata": {
        "id": "-zOB6poPOI5N"
      },
      "execution_count": null,
      "outputs": []
    },
    {
      "cell_type": "markdown",
      "source": [
        "# **Bivariate Analysis**"
      ],
      "metadata": {
        "id": "Izx_gsTXONa2"
      }
    },
    {
      "cell_type": "markdown",
      "source": [
        "***Viral Load***"
      ],
      "metadata": {
        "id": "ghB3bRR0Slbl"
      }
    },
    {
      "cell_type": "code",
      "source": [
        "sns.boxplot(y = \"viral load\" , x = \"sex\" , data =df)\n",
        "plt.show()"
      ],
      "metadata": {
        "colab": {
          "base_uri": "https://localhost:8080/",
          "height": 279
        },
        "id": "nejZi6xrOVGa",
        "outputId": "0ceedcad-f2d5-43b9-cc92-5e15e8aea304"
      },
      "execution_count": null,
      "outputs": [
        {
          "output_type": "display_data",
          "data": {
            "text/plain": [
              "<Figure size 432x288 with 1 Axes>"
            ],
            "image/png": "[encoded data removed]"
          },
          "metadata": {
            "needs_background": "light"
          }
        }
      ]
    },
    {
      "cell_type": "code",
      "source": [
        "sns.boxplot(y = \"viral load\" , x = \"smoker\" , data =df)\n",
        "plt.show()"
      ],
      "metadata": {
        "colab": {
          "base_uri": "https://localhost:8080/",
          "height": 279
        },
        "id": "v5SKOr1TSVup",
        "outputId": "42c9ae3d-f83b-40f9-fbbb-a9c91a0a1ae8"
      },
      "execution_count": null,
      "outputs": [
        {
          "output_type": "display_data",
          "data": {
            "text/plain": [
              "<Figure size 432x288 with 1 Axes>"
            ],
            "image/png": "[encoded data removed]"
          },
          "metadata": {
            "needs_background": "light"
          }
        }
      ]
    },
    {
      "cell_type": "code",
      "source": [
        "sns.boxplot(y = \"viral load\" , x = \"region\" , data =df)\n",
        "plt.show()"
      ],
      "metadata": {
        "colab": {
          "base_uri": "https://localhost:8080/",
          "height": 279
        },
        "id": "6CnrqBsISONU",
        "outputId": "b06134fc-c21d-47e2-fefe-c3c1b521553a"
      },
      "execution_count": null,
      "outputs": [
        {
          "output_type": "display_data",
          "data": {
            "text/plain": [
              "<Figure size 432x288 with 1 Axes>"
            ],
            "image/png": "[encoded data removed]"
          },
          "metadata": {
            "needs_background": "light"
          }
        }
      ]
    },
    {
      "cell_type": "code",
      "source": [
        "sns.boxplot(y = \"viral load\" , x = \"severity level\" , data =df)\n",
        "plt.show()"
      ],
      "metadata": {
        "colab": {
          "base_uri": "https://localhost:8080/",
          "height": 279
        },
        "id": "8i-AL5P9Sb_R",
        "outputId": "d4121173-37a5-4509-e4f6-ff4dd5fcf9dc"
      },
      "execution_count": null,
      "outputs": [
        {
          "output_type": "display_data",
          "data": {
            "text/plain": [
              "<Figure size 432x288 with 1 Axes>"
            ],
            "image/png": "[encoded data removed]"
          },
          "metadata": {
            "needs_background": "light"
          }
        }
      ]
    },
    {
      "cell_type": "markdown",
      "source": [
        "***Hospitalization Charges***"
      ],
      "metadata": {
        "id": "SzGkd-fPS-D6"
      }
    },
    {
      "cell_type": "code",
      "source": [
        "sns.boxplot(y = \"hospitalization charges\" , x = \"sex\" , data =df)\n",
        "plt.show()"
      ],
      "metadata": {
        "colab": {
          "base_uri": "https://localhost:8080/",
          "height": 279
        },
        "id": "ovdeAYc8ShuH",
        "outputId": "3de9c635-16a7-415c-a853-18dae2bfc76e"
      },
      "execution_count": null,
      "outputs": [
        {
          "output_type": "display_data",
          "data": {
            "text/plain": [
              "<Figure size 432x288 with 1 Axes>"
            ],
            "image/png": "[encoded data removed]"
          },
          "metadata": {
            "needs_background": "light"
          }
        }
      ]
    },
    {
      "cell_type": "code",
      "source": [
        "sns.boxplot(y = \"hospitalization charges\" , x = \"smoker\" , data =df)\n",
        "plt.show()"
      ],
      "metadata": {
        "colab": {
          "base_uri": "https://localhost:8080/",
          "height": 279
        },
        "id": "obRfUTfWTJMK",
        "outputId": "c8d90cc0-755d-40cb-fc3e-b47162a933a9"
      },
      "execution_count": null,
      "outputs": [
        {
          "output_type": "display_data",
          "data": {
            "text/plain": [
              "<Figure size 432x288 with 1 Axes>"
            ],
            "image/png": "[encoded data removed]"
          },
          "metadata": {
            "needs_background": "light"
          }
        }
      ]
    },
    {
      "cell_type": "code",
      "source": [
        "sns.boxplot(y = \"hospitalization charges\" , x = \"region\" , data =df)\n",
        "plt.show()"
      ],
      "metadata": {
        "colab": {
          "base_uri": "https://localhost:8080/",
          "height": 279
        },
        "id": "zsCRlQIGTL38",
        "outputId": "0d5916ba-e3ad-4e09-9be6-0674447fb723"
      },
      "execution_count": null,
      "outputs": [
        {
          "output_type": "display_data",
          "data": {
            "text/plain": [
              "<Figure size 432x288 with 1 Axes>"
            ],
            "image/png": "[encoded data removed]"
          },
          "metadata": {
            "needs_background": "light"
          }
        }
      ]
    },
    {
      "cell_type": "code",
      "source": [
        "sns.boxplot(y = \"hospitalization charges\" , x = \"severity level\" , data =df)\n",
        "plt.show()"
      ],
      "metadata": {
        "colab": {
          "base_uri": "https://localhost:8080/",
          "height": 279
        },
        "id": "3eskdVoZTMLl",
        "outputId": "66bb512a-c809-4612-fcc5-7c5306889a10"
      },
      "execution_count": null,
      "outputs": [
        {
          "output_type": "display_data",
          "data": {
            "text/plain": [
              "<Figure size 432x288 with 1 Axes>"
            ],
            "image/png": "[encoded data removed]"
          },
          "metadata": {
            "needs_background": "light"
          }
        }
      ]
    },
    {
      "cell_type": "markdown",
      "source": [
        "***Age***"
      ],
      "metadata": {
        "id": "ACRvXHDEVJLP"
      }
    },
    {
      "cell_type": "code",
      "source": [
        "sns.boxplot(y = \"age\" , x = \"sex\" , data =df)\n",
        "plt.show()"
      ],
      "metadata": {
        "colab": {
          "base_uri": "https://localhost:8080/",
          "height": 279
        },
        "id": "a6yNDOItTXrC",
        "outputId": "7b9c42c8-201f-4fa0-bed9-f03f8875a5e7"
      },
      "execution_count": null,
      "outputs": [
        {
          "output_type": "display_data",
          "data": {
            "text/plain": [
              "<Figure size 432x288 with 1 Axes>"
            ],
            "image/png": "[encoded data removed]"
          },
          "metadata": {
            "needs_background": "light"
          }
        }
      ]
    },
    {
      "cell_type": "code",
      "source": [
        "sns.boxplot(y = \"age\" , x = \"smoker\" , data =df)\n",
        "plt.show()"
      ],
      "metadata": {
        "colab": {
          "base_uri": "https://localhost:8080/",
          "height": 279
        },
        "id": "elzlL3YYVSfq",
        "outputId": "c6415ff1-be60-4c51-a86a-70fbdb67c842"
      },
      "execution_count": null,
      "outputs": [
        {
          "output_type": "display_data",
          "data": {
            "text/plain": [
              "<Figure size 432x288 with 1 Axes>"
            ],
            "image/png": "[encoded data removed]"
          },
          "metadata": {
            "needs_background": "light"
          }
        }
      ]
    },
    {
      "cell_type": "code",
      "source": [
        "sns.boxplot(y = \"age\" , x = \"region\" , data =df)\n",
        "plt.show()"
      ],
      "metadata": {
        "colab": {
          "base_uri": "https://localhost:8080/",
          "height": 279
        },
        "id": "fjHeHp_nVS9G",
        "outputId": "cbc928ba-cd76-4555-bbb8-9725b4f08516"
      },
      "execution_count": null,
      "outputs": [
        {
          "output_type": "display_data",
          "data": {
            "text/plain": [
              "<Figure size 432x288 with 1 Axes>"
            ],
            "image/png": "[encoded data removed]"
          },
          "metadata": {
            "needs_background": "light"
          }
        }
      ]
    },
    {
      "cell_type": "code",
      "source": [
        "sns.boxplot(y = \"age\" , x = \"severity level\" , data =df)\n",
        "plt.show()"
      ],
      "metadata": {
        "colab": {
          "base_uri": "https://localhost:8080/",
          "height": 279
        },
        "id": "jsKbysUBVTcl",
        "outputId": "78d9c969-89b1-4ea0-a471-2de5ea8b58a6"
      },
      "execution_count": null,
      "outputs": [
        {
          "output_type": "display_data",
          "data": {
            "text/plain": [
              "<Figure size 432x288 with 1 Axes>"
            ],
            "image/png": "[encoded data removed]"
          },
          "metadata": {
            "needs_background": "light"
          }
        }
      ]
    },
    {
      "cell_type": "code",
      "source": [],
      "metadata": {
        "id": "j6B2JGdyVT_3"
      },
      "execution_count": null,
      "outputs": []
    },
    {
      "cell_type": "markdown",
      "source": [
        "# ***Multivariate Analysis***"
      ],
      "metadata": {
        "id": "2OONyJDrcatp"
      }
    },
    {
      "cell_type": "code",
      "source": [
        "sns.heatmap(data =df.corr() , cmap = \"Blues\" , annot = True )"
      ],
      "metadata": {
        "colab": {
          "base_uri": "https://localhost:8080/",
          "height": 392
        },
        "id": "0RIM5BqXeYC-",
        "outputId": "87afff84-4f65-4216-d794-201855e0a350"
      },
      "execution_count": null,
      "outputs": [
        {
          "output_type": "execute_result",
          "data": {
            "text/plain": [
              "<matplotlib.axes._subplots.AxesSubplot at 0x7f67ef923970>"
            ]
          },
          "metadata": {},
          "execution_count": 55
        },
        {
          "output_type": "display_data",
          "data": {
            "text/plain": [
              "<Figure size 432x288 with 2 Axes>"
            ],
            "image/png": "[encoded data removed]"
          },
          "metadata": {
            "needs_background": "light"
          }
        }
      ]
    },
    {
      "cell_type": "markdown",
      "source": [
        "1. The relationship between the severity level and age is very low i.e. 0.042.\n",
        "2. The relationship between the hospitilization charges and age is high i.e. 0.3."
      ],
      "metadata": {
        "id": "mHDAQHKMMLS0"
      }
    },
    {
      "cell_type": "code",
      "source": [
        "sns.boxplot(y = \"hospitalization charges\" , x = \"severity level\" , data =df , hue = \"sex\")\n",
        "plt.show()"
      ],
      "metadata": {
        "colab": {
          "base_uri": "https://localhost:8080/",
          "height": 279
        },
        "id": "RlgfnCAFcj70",
        "outputId": "969a8124-819c-4059-eeab-fe4ee7e3f174"
      },
      "execution_count": null,
      "outputs": [
        {
          "output_type": "display_data",
          "data": {
            "text/plain": [
              "<Figure size 432x288 with 1 Axes>"
            ],
            "image/png": "[encoded data removed]"
          },
          "metadata": {
            "needs_background": "light"
          }
        }
      ]
    },
    {
      "cell_type": "code",
      "source": [
        "sns.boxplot(y = \"hospitalization charges\" , x = \"severity level\" , data =df , hue = \"smoker\")\n",
        "plt.show()"
      ],
      "metadata": {
        "colab": {
          "base_uri": "https://localhost:8080/",
          "height": 279
        },
        "id": "FAV09b_FdCv7",
        "outputId": "9fcf78bd-02c4-4918-a9ce-7e04bcbe0566"
      },
      "execution_count": null,
      "outputs": [
        {
          "output_type": "display_data",
          "data": {
            "text/plain": [
              "<Figure size 432x288 with 1 Axes>"
            ],
            "image/png": "[encoded data removed]"
          },
          "metadata": {
            "needs_background": "light"
          }
        }
      ]
    },
    {
      "cell_type": "code",
      "source": [
        "sns.boxplot(y = \"hospitalization charges\" , x = \"severity level\" , data =df , hue = \"region\")\n",
        "plt.show()"
      ],
      "metadata": {
        "colab": {
          "base_uri": "https://localhost:8080/",
          "height": 279
        },
        "id": "ZQFaqdvUdGZ-",
        "outputId": "ec5a2de2-e743-4dc7-b139-2d23e884ac3a"
      },
      "execution_count": null,
      "outputs": [
        {
          "output_type": "display_data",
          "data": {
            "text/plain": [
              "<Figure size 432x288 with 1 Axes>"
            ],
            "image/png": "[encoded data removed]"
          },
          "metadata": {
            "needs_background": "light"
          }
        }
      ]
    },
    {
      "cell_type": "code",
      "source": [
        "sns.boxplot(y = \"hospitalization charges\" , x = \"sex\" , data =df , hue = \"smoker\")\n",
        "plt.show()"
      ],
      "metadata": {
        "colab": {
          "base_uri": "https://localhost:8080/",
          "height": 279
        },
        "id": "Ep-6uhHUdLi1",
        "outputId": "94491e9d-fbf0-4b44-d92e-1e5699ada404"
      },
      "execution_count": null,
      "outputs": [
        {
          "output_type": "display_data",
          "data": {
            "text/plain": [
              "<Figure size 432x288 with 1 Axes>"
            ],
            "image/png": "[encoded data removed]"
          },
          "metadata": {
            "needs_background": "light"
          }
        }
      ]
    },
    {
      "cell_type": "code",
      "source": [
        "sns.boxplot(y = \"hospitalization charges\" , x = \"sex\" , data =df , hue = \"region\")\n",
        "plt.show()"
      ],
      "metadata": {
        "colab": {
          "base_uri": "https://localhost:8080/",
          "height": 279
        },
        "id": "Zzi_dYEFdW_O",
        "outputId": "ca92060c-f899-4fe2-9ddc-27911bd14c39"
      },
      "execution_count": null,
      "outputs": [
        {
          "output_type": "display_data",
          "data": {
            "text/plain": [
              "<Figure size 432x288 with 1 Axes>"
            ],
            "image/png": "[encoded data removed]"
          },
          "metadata": {
            "needs_background": "light"
          }
        }
      ]
    },
    {
      "cell_type": "code",
      "source": [
        "sns.boxplot(y = \"hospitalization charges\" , x = \"sex\" , data =df , hue = \"severity level\")\n",
        "plt.show()"
      ],
      "metadata": {
        "colab": {
          "base_uri": "https://localhost:8080/",
          "height": 279
        },
        "id": "C891XLhxdbSu",
        "outputId": "5dd02532-65a7-4dcc-e90b-78b31f3ed2ab"
      },
      "execution_count": null,
      "outputs": [
        {
          "output_type": "display_data",
          "data": {
            "text/plain": [
              "<Figure size 432x288 with 1 Axes>"
            ],
            "image/png": "[encoded data removed]"
          },
          "metadata": {
            "needs_background": "light"
          }
        }
      ]
    },
    {
      "cell_type": "code",
      "source": [
        "sns.boxplot(y = \"hospitalization charges\" , x = \"smoker\" , data =df , hue = \"sex\")\n",
        "plt.show()"
      ],
      "metadata": {
        "colab": {
          "base_uri": "https://localhost:8080/",
          "height": 279
        },
        "id": "ZHHxn-_Edped",
        "outputId": "debe4792-e30a-4a5e-d8b1-26d1384a385d"
      },
      "execution_count": null,
      "outputs": [
        {
          "output_type": "display_data",
          "data": {
            "text/plain": [
              "<Figure size 432x288 with 1 Axes>"
            ],
            "image/png": "[encoded data removed]"
          },
          "metadata": {
            "needs_background": "light"
          }
        }
      ]
    },
    {
      "cell_type": "code",
      "source": [
        "sns.boxplot(y = \"hospitalization charges\" , x = \"smoker\" , data =df , hue = \"region\")\n",
        "plt.show()"
      ],
      "metadata": {
        "colab": {
          "base_uri": "https://localhost:8080/",
          "height": 279
        },
        "id": "_Wsm1Cp9dzwV",
        "outputId": "7d8d1330-c314-47bd-f3ca-5721eba7040c"
      },
      "execution_count": null,
      "outputs": [
        {
          "output_type": "display_data",
          "data": {
            "text/plain": [
              "<Figure size 432x288 with 1 Axes>"
            ],
            "image/png": "[encoded data removed]"
          },
          "metadata": {
            "needs_background": "light"
          }
        }
      ]
    },
    {
      "cell_type": "code",
      "source": [
        "sns.boxplot(y = \"hospitalization charges\" , x = \"smoker\" , data =df , hue = \"severity level\")\n",
        "plt.show()"
      ],
      "metadata": {
        "colab": {
          "base_uri": "https://localhost:8080/",
          "height": 279
        },
        "id": "njHYNx37d3da",
        "outputId": "11208b6c-daa4-435b-b8c1-ab08bcb69763"
      },
      "execution_count": null,
      "outputs": [
        {
          "output_type": "display_data",
          "data": {
            "text/plain": [
              "<Figure size 432x288 with 1 Axes>"
            ],
            "image/png": "[encoded data removed]"
          },
          "metadata": {
            "needs_background": "light"
          }
        }
      ]
    },
    {
      "cell_type": "code",
      "source": [
        "sns.boxplot(y = \"hospitalization charges\" , x = \"region\" , data =df , hue = \"sex\")\n",
        "plt.show()"
      ],
      "metadata": {
        "colab": {
          "base_uri": "https://localhost:8080/",
          "height": 279
        },
        "id": "fO8Vew19d8Rn",
        "outputId": "cf0cb127-1e0b-48b6-d510-84348d072afc"
      },
      "execution_count": null,
      "outputs": [
        {
          "output_type": "display_data",
          "data": {
            "text/plain": [
              "<Figure size 432x288 with 1 Axes>"
            ],
            "image/png": "[encoded data removed]"
          },
          "metadata": {
            "needs_background": "light"
          }
        }
      ]
    },
    {
      "cell_type": "code",
      "source": [
        "sns.boxplot(y = \"hospitalization charges\" , x = \"region\" , data =df , hue = \"smoker\")\n",
        "plt.show()"
      ],
      "metadata": {
        "colab": {
          "base_uri": "https://localhost:8080/",
          "height": 279
        },
        "id": "P0jAW0q2eFG3",
        "outputId": "8477d3e3-538d-44bf-a906-b207c3b2276b"
      },
      "execution_count": null,
      "outputs": [
        {
          "output_type": "display_data",
          "data": {
            "text/plain": [
              "<Figure size 432x288 with 1 Axes>"
            ],
            "image/png": "[encoded data removed]"
          },
          "metadata": {
            "needs_background": "light"
          }
        }
      ]
    },
    {
      "cell_type": "code",
      "source": [
        "sns.boxplot(y = \"hospitalization charges\" , x = \"region\" , data =df , hue = \"severity level\")\n",
        "plt.show()"
      ],
      "metadata": {
        "colab": {
          "base_uri": "https://localhost:8080/",
          "height": 279
        },
        "id": "uD6TRikdeHxW",
        "outputId": "f84b1465-1265-41ab-adb5-37986598e05f"
      },
      "execution_count": null,
      "outputs": [
        {
          "output_type": "display_data",
          "data": {
            "text/plain": [
              "<Figure size 432x288 with 1 Axes>"
            ],
            "image/png": "[encoded data removed]"
          },
          "metadata": {
            "needs_background": "light"
          }
        }
      ]
    },
    {
      "cell_type": "code",
      "source": [],
      "metadata": {
        "id": "P5xBTLbDeMRD"
      },
      "execution_count": null,
      "outputs": []
    },
    {
      "cell_type": "markdown",
      "source": [
        "# **Range of Attributes**"
      ],
      "metadata": {
        "id": "nV2uXGtwfeNC"
      }
    },
    {
      "cell_type": "code",
      "source": [
        "df[\"age\"].min()"
      ],
      "metadata": {
        "colab": {
          "base_uri": "https://localhost:8080/"
        },
        "id": "IjLw7OxfeTd-",
        "outputId": "479886af-64c3-411a-ca82-608e01f8c114"
      },
      "execution_count": null,
      "outputs": [
        {
          "output_type": "execute_result",
          "data": {
            "text/plain": [
              "18"
            ]
          },
          "metadata": {},
          "execution_count": 68
        }
      ]
    },
    {
      "cell_type": "code",
      "source": [
        "df[\"age\"].max()"
      ],
      "metadata": {
        "colab": {
          "base_uri": "https://localhost:8080/"
        },
        "id": "t_eK2v74fpSQ",
        "outputId": "df287175-659f-4927-d2dc-eb78dea11140"
      },
      "execution_count": null,
      "outputs": [
        {
          "output_type": "execute_result",
          "data": {
            "text/plain": [
              "64"
            ]
          },
          "metadata": {},
          "execution_count": 69
        }
      ]
    },
    {
      "cell_type": "code",
      "source": [
        "df[\"viral load\"].min()"
      ],
      "metadata": {
        "colab": {
          "base_uri": "https://localhost:8080/"
        },
        "id": "QvJfNENtfrbm",
        "outputId": "d3833e1b-efb5-41ce-c916-b8bbff095f9b"
      },
      "execution_count": null,
      "outputs": [
        {
          "output_type": "execute_result",
          "data": {
            "text/plain": [
              "5.32"
            ]
          },
          "metadata": {},
          "execution_count": 70
        }
      ]
    },
    {
      "cell_type": "code",
      "source": [
        "df[\"viral load\"].max()"
      ],
      "metadata": {
        "colab": {
          "base_uri": "https://localhost:8080/"
        },
        "id": "CIj5-JSpfu3F",
        "outputId": "040a7994-3557-4a77-9613-8207219a39da"
      },
      "execution_count": null,
      "outputs": [
        {
          "output_type": "execute_result",
          "data": {
            "text/plain": [
              "17.71"
            ]
          },
          "metadata": {},
          "execution_count": 71
        }
      ]
    },
    {
      "cell_type": "code",
      "source": [
        "df[\"hospitalization charges\"].min()"
      ],
      "metadata": {
        "colab": {
          "base_uri": "https://localhost:8080/"
        },
        "id": "InTIGyskfw0I",
        "outputId": "f3fd46c0-b912-4492-9257-78cdec5ab0c0"
      },
      "execution_count": null,
      "outputs": [
        {
          "output_type": "execute_result",
          "data": {
            "text/plain": [
              "2805"
            ]
          },
          "metadata": {},
          "execution_count": 72
        }
      ]
    },
    {
      "cell_type": "code",
      "source": [
        "df[\"hospitalization charges\"].max()"
      ],
      "metadata": {
        "colab": {
          "base_uri": "https://localhost:8080/"
        },
        "id": "zYoM6g4Nf1uE",
        "outputId": "7007b35e-293f-4ad8-cb52-0f43c5da8742"
      },
      "execution_count": null,
      "outputs": [
        {
          "output_type": "execute_result",
          "data": {
            "text/plain": [
              "159426"
            ]
          },
          "metadata": {},
          "execution_count": 73
        }
      ]
    },
    {
      "cell_type": "code",
      "source": [],
      "metadata": {
        "id": "3fUPnD7ff4Q7"
      },
      "execution_count": null,
      "outputs": []
    },
    {
      "cell_type": "markdown",
      "source": [
        "# ***Outliers***"
      ],
      "metadata": {
        "id": "Y120l-tjf88b"
      }
    },
    {
      "cell_type": "markdown",
      "source": [
        " ***Hospitalization Charges***"
      ],
      "metadata": {
        "id": "Dr_c949ggKr5"
      }
    },
    {
      "cell_type": "code",
      "source": [
        "sns.boxplot(data = df , y = \"hospitalization charges\")"
      ],
      "metadata": {
        "colab": {
          "base_uri": "https://localhost:8080/",
          "height": 269
        },
        "id": "qAGqAluciz0C",
        "outputId": "1d4f9558-c9f6-45f6-ed8f-8cb5f961ee50"
      },
      "execution_count": null,
      "outputs": [
        {
          "output_type": "execute_result",
          "data": {
            "text/plain": [
              "<matplotlib.axes._subplots.AxesSubplot at 0x7f67eff57880>"
            ]
          },
          "metadata": {},
          "execution_count": 74
        },
        {
          "output_type": "display_data",
          "data": {
            "text/plain": [
              "<Figure size 432x288 with 1 Axes>"
            ],
            "image/png": "[encoded data removed]"
          },
          "metadata": {
            "needs_background": "light"
          }
        }
      ]
    },
    {
      "cell_type": "code",
      "source": [
        "df['hospitalization charges'].min()"
      ],
      "metadata": {
        "colab": {
          "base_uri": "https://localhost:8080/"
        },
        "id": "R-n9Vf2zgBLk",
        "outputId": "74fa4eb0-eb1b-4e97-8588-d047033e356b"
      },
      "execution_count": null,
      "outputs": [
        {
          "output_type": "execute_result",
          "data": {
            "text/plain": [
              "2805"
            ]
          },
          "metadata": {},
          "execution_count": 75
        }
      ]
    },
    {
      "cell_type": "code",
      "source": [
        "df['hospitalization charges'].max()"
      ],
      "metadata": {
        "colab": {
          "base_uri": "https://localhost:8080/"
        },
        "id": "A-zSGAh_gvt8",
        "outputId": "e1a8e6b7-68e0-4e9f-ee1b-045a9bac046a"
      },
      "execution_count": null,
      "outputs": [
        {
          "output_type": "execute_result",
          "data": {
            "text/plain": [
              "159426"
            ]
          },
          "metadata": {},
          "execution_count": 76
        }
      ]
    },
    {
      "cell_type": "code",
      "source": [
        "df['hospitalization charges'].mean()"
      ],
      "metadata": {
        "colab": {
          "base_uri": "https://localhost:8080/"
        },
        "id": "jHw4bh5mgxrh",
        "outputId": "1d0e4ec9-4906-445f-86c4-e8cf84e01a82"
      },
      "execution_count": null,
      "outputs": [
        {
          "output_type": "execute_result",
          "data": {
            "text/plain": [
              "33176.058295964125"
            ]
          },
          "metadata": {},
          "execution_count": 77
        }
      ]
    },
    {
      "cell_type": "code",
      "source": [
        "a = np.percentile(df[\"hospitalization charges\"] , 25)\n",
        "a"
      ],
      "metadata": {
        "colab": {
          "base_uri": "https://localhost:8080/"
        },
        "id": "KjY4et2sgzel",
        "outputId": "95ca193e-5abf-4845-f2f6-edf754a53a90"
      },
      "execution_count": null,
      "outputs": [
        {
          "output_type": "execute_result",
          "data": {
            "text/plain": [
              "11851.0"
            ]
          },
          "metadata": {},
          "execution_count": 78
        }
      ]
    },
    {
      "cell_type": "code",
      "source": [
        "b = np.percentile(df[\"hospitalization charges\"] , 50)\n",
        "b"
      ],
      "metadata": {
        "colab": {
          "base_uri": "https://localhost:8080/"
        },
        "id": "Bmq3mkV0g8vE",
        "outputId": "d98d04a3-6614-4881-99b4-927e2914f15b"
      },
      "execution_count": null,
      "outputs": [
        {
          "output_type": "execute_result",
          "data": {
            "text/plain": [
              "23455.0"
            ]
          },
          "metadata": {},
          "execution_count": 79
        }
      ]
    },
    {
      "cell_type": "code",
      "source": [
        "c = np.percentile(df[\"hospitalization charges\"] , 75)\n",
        "c"
      ],
      "metadata": {
        "colab": {
          "base_uri": "https://localhost:8080/"
        },
        "id": "FfqNxvYGhCqf",
        "outputId": "d9bdff49-c3ea-488a-d6fd-df930b27c5cd"
      },
      "execution_count": null,
      "outputs": [
        {
          "output_type": "execute_result",
          "data": {
            "text/plain": [
              "41599.5"
            ]
          },
          "metadata": {},
          "execution_count": 80
        }
      ]
    },
    {
      "cell_type": "code",
      "source": [
        "iqr = c-a\n",
        "iqr"
      ],
      "metadata": {
        "colab": {
          "base_uri": "https://localhost:8080/"
        },
        "id": "xiVedX2lhFMb",
        "outputId": "14d243db-87c9-404e-8b85-6d84e261a301"
      },
      "execution_count": null,
      "outputs": [
        {
          "output_type": "execute_result",
          "data": {
            "text/plain": [
              "29748.5"
            ]
          },
          "metadata": {},
          "execution_count": 81
        }
      ]
    },
    {
      "cell_type": "code",
      "source": [
        "lower = max((a-1.5*iqr) , 0)\n",
        "lower"
      ],
      "metadata": {
        "colab": {
          "base_uri": "https://localhost:8080/"
        },
        "id": "inH1oPSZhMEn",
        "outputId": "a2d55441-888b-4e46-c7fb-e35835667ef7"
      },
      "execution_count": null,
      "outputs": [
        {
          "output_type": "execute_result",
          "data": {
            "text/plain": [
              "0"
            ]
          },
          "metadata": {},
          "execution_count": 82
        }
      ]
    },
    {
      "cell_type": "code",
      "source": [
        "upper = (c + 1.5*iqr)\n",
        "upper"
      ],
      "metadata": {
        "colab": {
          "base_uri": "https://localhost:8080/"
        },
        "id": "mNee5-QxhVpY",
        "outputId": "2d70de21-c55f-4d99-d642-c7f5128006da"
      },
      "execution_count": null,
      "outputs": [
        {
          "output_type": "execute_result",
          "data": {
            "text/plain": [
              "86222.25"
            ]
          },
          "metadata": {},
          "execution_count": 83
        }
      ]
    },
    {
      "cell_type": "code",
      "source": [
        "outliers = df[(df[\"hospitalization charges\"] < lower) | (df[\"hospitalization charges\"] > upper)]\n",
        "len(outliers)"
      ],
      "metadata": {
        "colab": {
          "base_uri": "https://localhost:8080/"
        },
        "id": "qSMePJIAhgYV",
        "outputId": "fbe06683-ef25-4ce3-c2e8-ecf672cf5742"
      },
      "execution_count": null,
      "outputs": [
        {
          "output_type": "execute_result",
          "data": {
            "text/plain": [
              "139"
            ]
          },
          "metadata": {},
          "execution_count": 84
        }
      ]
    },
    {
      "cell_type": "code",
      "source": [
        "no_outliers = df[(df[\"hospitalization charges\"] >= lower) & (df[\"hospitalization charges\"] <= upper)]\n",
        "len(no_outliers)"
      ],
      "metadata": {
        "colab": {
          "base_uri": "https://localhost:8080/"
        },
        "id": "QSMsdYhwh1Df",
        "outputId": "765ef761-aee4-4b69-a565-7955e3f9b6ea"
      },
      "execution_count": null,
      "outputs": [
        {
          "output_type": "execute_result",
          "data": {
            "text/plain": [
              "1199"
            ]
          },
          "metadata": {},
          "execution_count": 85
        }
      ]
    },
    {
      "cell_type": "code",
      "source": [
        "percent_outliers = (len(outliers)/len(df))*100\n",
        "percent_outliers"
      ],
      "metadata": {
        "colab": {
          "base_uri": "https://localhost:8080/"
        },
        "id": "0oEjlnguiGE5",
        "outputId": "07884f1d-1543-4786-e4dd-6a1873ffe890"
      },
      "execution_count": null,
      "outputs": [
        {
          "output_type": "execute_result",
          "data": {
            "text/plain": [
              "10.388639760837071"
            ]
          },
          "metadata": {},
          "execution_count": 86
        }
      ]
    },
    {
      "cell_type": "code",
      "source": [
        "sns.boxplot(data = no_outliers , y = \"hospitalization charges\")"
      ],
      "metadata": {
        "colab": {
          "base_uri": "https://localhost:8080/",
          "height": 269
        },
        "id": "aNQMKD3ziW8j",
        "outputId": "1e848da4-4187-4412-89f8-189e69f7dfb8"
      },
      "execution_count": null,
      "outputs": [
        {
          "output_type": "execute_result",
          "data": {
            "text/plain": [
              "<matplotlib.axes._subplots.AxesSubplot at 0x7f67eff637c0>"
            ]
          },
          "metadata": {},
          "execution_count": 87
        },
        {
          "output_type": "display_data",
          "data": {
            "text/plain": [
              "<Figure size 432x288 with 1 Axes>"
            ],
            "image/png": "[encoded data removed]"
          },
          "metadata": {
            "needs_background": "light"
          }
        }
      ]
    },
    {
      "cell_type": "code",
      "source": [],
      "metadata": {
        "id": "-UrZaRP4imLO"
      },
      "execution_count": null,
      "outputs": []
    },
    {
      "cell_type": "markdown",
      "source": [
        " ***Viral Load***"
      ],
      "metadata": {
        "id": "bVD78gYEjb6M"
      }
    },
    {
      "cell_type": "code",
      "source": [
        "sns.boxplot(data = df , y = \"viral load\")"
      ],
      "metadata": {
        "colab": {
          "base_uri": "https://localhost:8080/",
          "height": 269
        },
        "outputId": "f31b1fdf-ff57-4f05-d915-bc262b7bd435",
        "id": "gP2dxL7wjb6N"
      },
      "execution_count": null,
      "outputs": [
        {
          "output_type": "execute_result",
          "data": {
            "text/plain": [
              "<matplotlib.axes._subplots.AxesSubplot at 0x7f67f0db3dc0>"
            ]
          },
          "metadata": {},
          "execution_count": 88
        },
        {
          "output_type": "display_data",
          "data": {
            "text/plain": [
              "<Figure size 432x288 with 1 Axes>"
            ],
            "image/png": "[encoded data removed]"
          },
          "metadata": {
            "needs_background": "light"
          }
        }
      ]
    },
    {
      "cell_type": "code",
      "source": [
        "df['viral load'].min()"
      ],
      "metadata": {
        "colab": {
          "base_uri": "https://localhost:8080/"
        },
        "outputId": "1e283428-09ba-425e-b888-f3448e7c923a",
        "id": "n10uvx2rjb6P"
      },
      "execution_count": null,
      "outputs": [
        {
          "output_type": "execute_result",
          "data": {
            "text/plain": [
              "5.32"
            ]
          },
          "metadata": {},
          "execution_count": 89
        }
      ]
    },
    {
      "cell_type": "code",
      "source": [
        "df['viral load'].max()"
      ],
      "metadata": {
        "colab": {
          "base_uri": "https://localhost:8080/"
        },
        "outputId": "d4127c31-67b3-4fca-a919-067c78aef26f",
        "id": "xrr9eOoQjb6P"
      },
      "execution_count": null,
      "outputs": [
        {
          "output_type": "execute_result",
          "data": {
            "text/plain": [
              "17.71"
            ]
          },
          "metadata": {},
          "execution_count": 90
        }
      ]
    },
    {
      "cell_type": "code",
      "source": [
        "df['viral load'].mean()"
      ],
      "metadata": {
        "colab": {
          "base_uri": "https://localhost:8080/"
        },
        "outputId": "918ca0aa-0cb1-43d9-9af4-7ffc7917c6fd",
        "id": "QYxh2YHCjb6Q"
      },
      "execution_count": null,
      "outputs": [
        {
          "output_type": "execute_result",
          "data": {
            "text/plain": [
              "10.221233183856503"
            ]
          },
          "metadata": {},
          "execution_count": 91
        }
      ]
    },
    {
      "cell_type": "code",
      "source": [
        "a = np.percentile(df[\"viral load\"] , 25)\n",
        "a"
      ],
      "metadata": {
        "colab": {
          "base_uri": "https://localhost:8080/"
        },
        "outputId": "6abbda67-fe21-427c-95ef-e60538e4686c",
        "id": "8LxV_pjFjb6R"
      },
      "execution_count": null,
      "outputs": [
        {
          "output_type": "execute_result",
          "data": {
            "text/plain": [
              "8.7625"
            ]
          },
          "metadata": {},
          "execution_count": 92
        }
      ]
    },
    {
      "cell_type": "code",
      "source": [
        "b = np.percentile(df[\"viral load\"] , 50)\n",
        "b"
      ],
      "metadata": {
        "colab": {
          "base_uri": "https://localhost:8080/"
        },
        "outputId": "3b398e3a-79bf-4835-ca67-0ee6242a1b57",
        "id": "d7LB8wIOjb6i"
      },
      "execution_count": null,
      "outputs": [
        {
          "output_type": "execute_result",
          "data": {
            "text/plain": [
              "10.13"
            ]
          },
          "metadata": {},
          "execution_count": 93
        }
      ]
    },
    {
      "cell_type": "code",
      "source": [
        "c = np.percentile(df[\"viral load\"] , 75)\n",
        "c"
      ],
      "metadata": {
        "colab": {
          "base_uri": "https://localhost:8080/"
        },
        "outputId": "ca985533-ccc2-42cb-f43c-3c80509d011c",
        "id": "Pl5RJYiwjb6j"
      },
      "execution_count": null,
      "outputs": [
        {
          "output_type": "execute_result",
          "data": {
            "text/plain": [
              "11.5675"
            ]
          },
          "metadata": {},
          "execution_count": 94
        }
      ]
    },
    {
      "cell_type": "code",
      "source": [
        "iqr = c-a\n",
        "iqr"
      ],
      "metadata": {
        "colab": {
          "base_uri": "https://localhost:8080/"
        },
        "outputId": "c6b5840d-c80e-414a-bbe2-4e45c2bce1c5",
        "id": "LJYCqZjNjb6l"
      },
      "execution_count": null,
      "outputs": [
        {
          "output_type": "execute_result",
          "data": {
            "text/plain": [
              "2.8050000000000015"
            ]
          },
          "metadata": {},
          "execution_count": 95
        }
      ]
    },
    {
      "cell_type": "code",
      "source": [
        "lower = max((a-1.5*iqr) , 0)\n",
        "lower"
      ],
      "metadata": {
        "colab": {
          "base_uri": "https://localhost:8080/"
        },
        "outputId": "a9d54498-3a91-4e0b-aedd-e82cd28ec603",
        "id": "f-z7DoTejb6m"
      },
      "execution_count": null,
      "outputs": [
        {
          "output_type": "execute_result",
          "data": {
            "text/plain": [
              "4.554999999999997"
            ]
          },
          "metadata": {},
          "execution_count": 96
        }
      ]
    },
    {
      "cell_type": "code",
      "source": [
        "upper = (c + 1.5*iqr)\n",
        "upper"
      ],
      "metadata": {
        "colab": {
          "base_uri": "https://localhost:8080/"
        },
        "outputId": "cbee9cf4-82eb-4f04-8337-62652997176b",
        "id": "9D5WWbtnjb6m"
      },
      "execution_count": null,
      "outputs": [
        {
          "output_type": "execute_result",
          "data": {
            "text/plain": [
              "15.775000000000002"
            ]
          },
          "metadata": {},
          "execution_count": 97
        }
      ]
    },
    {
      "cell_type": "code",
      "source": [
        "outliers = df[(df[\"viral load\"] < lower) | (df[\"viral load\"] > upper)]\n",
        "len(outliers)"
      ],
      "metadata": {
        "colab": {
          "base_uri": "https://localhost:8080/"
        },
        "outputId": "b454030f-6710-4add-824d-73bfb0cf5c63",
        "id": "JMfkr-JSjb6n"
      },
      "execution_count": null,
      "outputs": [
        {
          "output_type": "execute_result",
          "data": {
            "text/plain": [
              "9"
            ]
          },
          "metadata": {},
          "execution_count": 98
        }
      ]
    },
    {
      "cell_type": "code",
      "source": [
        "no_outliers = df[(df[\"viral load\"] >= lower) & (df[\"viral load\"] <= upper)]\n",
        "len(no_outliers)"
      ],
      "metadata": {
        "colab": {
          "base_uri": "https://localhost:8080/"
        },
        "outputId": "03bc8ff1-8335-4934-8538-e0ba2f9e68fc",
        "id": "2OBOviHrjb6n"
      },
      "execution_count": null,
      "outputs": [
        {
          "output_type": "execute_result",
          "data": {
            "text/plain": [
              "1329"
            ]
          },
          "metadata": {},
          "execution_count": 99
        }
      ]
    },
    {
      "cell_type": "code",
      "source": [
        "percent_outliers = (len(outliers)/len(df))*100\n",
        "percent_outliers"
      ],
      "metadata": {
        "colab": {
          "base_uri": "https://localhost:8080/"
        },
        "outputId": "142a5ec6-b258-4347-aead-4ca5d8b2ea8d",
        "id": "Sv9P3ljtjb6o"
      },
      "execution_count": null,
      "outputs": [
        {
          "output_type": "execute_result",
          "data": {
            "text/plain": [
              "0.672645739910314"
            ]
          },
          "metadata": {},
          "execution_count": 100
        }
      ]
    },
    {
      "cell_type": "code",
      "source": [
        "sns.boxplot(data = no_outliers , y = \"viral load\")"
      ],
      "metadata": {
        "colab": {
          "base_uri": "https://localhost:8080/",
          "height": 271
        },
        "outputId": "1b25b1c9-36d7-4f04-ce91-ab92019664a5",
        "id": "y0QoqBgCjb6o"
      },
      "execution_count": null,
      "outputs": [
        {
          "output_type": "execute_result",
          "data": {
            "text/plain": [
              "<matplotlib.axes._subplots.AxesSubplot at 0x7f67efd64a00>"
            ]
          },
          "metadata": {},
          "execution_count": 101
        },
        {
          "output_type": "display_data",
          "data": {
            "text/plain": [
              "<Figure size 432x288 with 1 Axes>"
            ],
            "image/png": "[encoded data removed]"
          },
          "metadata": {
            "needs_background": "light"
          }
        }
      ]
    },
    {
      "cell_type": "code",
      "source": [],
      "metadata": {
        "id": "UQHrja-1jb6p"
      },
      "execution_count": null,
      "outputs": []
    },
    {
      "cell_type": "markdown",
      "source": [
        "# ***Hypothesis Testing***"
      ],
      "metadata": {
        "id": "xL4e7NJxvBip"
      }
    },
    {
      "cell_type": "markdown",
      "source": [
        "# **1**"
      ],
      "metadata": {
        "id": "qKC1IKsSwiXy"
      }
    },
    {
      "cell_type": "code",
      "source": [
        "a = df[df[\"smoker\"] == \"yes\"]\n",
        "b = df[df[\"smoker\"] == \"no\"]"
      ],
      "metadata": {
        "id": "q-LxA5IxvFxb"
      },
      "execution_count": null,
      "outputs": []
    },
    {
      "cell_type": "code",
      "source": [
        "len(a)"
      ],
      "metadata": {
        "colab": {
          "base_uri": "https://localhost:8080/"
        },
        "id": "LP9YuR_d-iEN",
        "outputId": "4b6436f1-c949-46ba-9746-28f656cf6b33"
      },
      "execution_count": null,
      "outputs": [
        {
          "output_type": "execute_result",
          "data": {
            "text/plain": [
              "274"
            ]
          },
          "metadata": {},
          "execution_count": 103
        }
      ]
    },
    {
      "cell_type": "code",
      "source": [
        "print(a[\"hospitalization charges\"].min())\n",
        "print(a[\"hospitalization charges\"].max())"
      ],
      "metadata": {
        "colab": {
          "base_uri": "https://localhost:8080/"
        },
        "id": "qL4MKqF2xXss",
        "outputId": "64317874-f0df-401c-cb1e-04b72afdc928"
      },
      "execution_count": null,
      "outputs": [
        {
          "output_type": "stream",
          "name": "stdout",
          "text": [
            "32074\n",
            "159426\n"
          ]
        }
      ]
    },
    {
      "cell_type": "code",
      "source": [
        "print(b[\"hospitalization charges\"].min())\n",
        "print(b[\"hospitalization charges\"].max())"
      ],
      "metadata": {
        "colab": {
          "base_uri": "https://localhost:8080/"
        },
        "id": "aLBOo4ESxZu3",
        "outputId": "df749531-cfc1-48ea-9d24-c2bdd16072c5"
      },
      "execution_count": null,
      "outputs": [
        {
          "output_type": "stream",
          "name": "stdout",
          "text": [
            "2805\n",
            "92277\n"
          ]
        }
      ]
    },
    {
      "cell_type": "code",
      "source": [
        "a[\"hospitalization charges\"].mean()"
      ],
      "metadata": {
        "colab": {
          "base_uri": "https://localhost:8080/"
        },
        "id": "9hTFPrGZw1i7",
        "outputId": "a8ef731b-967d-48a1-9af6-6bc68fac70d8"
      },
      "execution_count": null,
      "outputs": [
        {
          "output_type": "execute_result",
          "data": {
            "text/plain": [
              "80125.57299270073"
            ]
          },
          "metadata": {},
          "execution_count": 106
        }
      ]
    },
    {
      "cell_type": "code",
      "source": [
        "b[\"hospitalization charges\"].mean()"
      ],
      "metadata": {
        "colab": {
          "base_uri": "https://localhost:8080/"
        },
        "id": "bm9qhgT9xUZ4",
        "outputId": "5e5212e1-1ef6-488d-f7ea-a702f3917507"
      },
      "execution_count": null,
      "outputs": [
        {
          "output_type": "execute_result",
          "data": {
            "text/plain": [
              "21085.6757518797"
            ]
          },
          "metadata": {},
          "execution_count": 107
        }
      ]
    },
    {
      "cell_type": "markdown",
      "source": [
        "***Null Hypothesis*** -  Hospitalization Charges of people who do smoking are equal to those who don't.\n",
        "\n",
        "***Alternate Hypothesis*** - Hospitalization Charges of people who do smoking are not equal to those who don't."
      ],
      "metadata": {
        "id": "1LRj6sNP3006"
      }
    },
    {
      "cell_type": "code",
      "source": [
        "ttest_ind (a[\"hospitalization charges\"] , b[\"hospitalization charges\"])"
      ],
      "metadata": {
        "colab": {
          "base_uri": "https://localhost:8080/"
        },
        "id": "zyAy3Lz8xeb3",
        "outputId": "40724c61-923f-4b44-ea52-795823288011"
      },
      "execution_count": null,
      "outputs": [
        {
          "output_type": "execute_result",
          "data": {
            "text/plain": [
              "Ttest_indResult(statistic=46.66489219013773, pvalue=8.275692527491989e-283)"
            ]
          },
          "metadata": {},
          "execution_count": 108
        }
      ]
    },
    {
      "cell_type": "markdown",
      "source": [
        "***Note -*** Reject the Null Hypothesis because p-value is very low. So, we can say that it is statistically significant at 99% Confidence also that means Hospitalization Charges of people who do smoking are not equal to those who don't."
      ],
      "metadata": {
        "id": "6-jQeasmtND8"
      }
    },
    {
      "cell_type": "markdown",
      "source": [
        "***Null Hypothesis*** -  Hospitalization Charges of people who do smoking are equal to those who don't.\n",
        "\n",
        "***Alternate Hypothesis*** - Hospitalization Charges of people who do smoking are greater than to those who don't."
      ],
      "metadata": {
        "id": "b2dbo99R2KjI"
      }
    },
    {
      "cell_type": "code",
      "source": [
        "ttest_ind (a[\"hospitalization charges\"] , b[\"hospitalization charges\"] , alternative = \"greater\")"
      ],
      "metadata": {
        "colab": {
          "base_uri": "https://localhost:8080/"
        },
        "id": "cOBfchsl1g33",
        "outputId": "db249ea3-9030-4e49-9280-ce98c600f780"
      },
      "execution_count": null,
      "outputs": [
        {
          "output_type": "execute_result",
          "data": {
            "text/plain": [
              "Ttest_indResult(statistic=46.66489219013773, pvalue=4.1378462637459944e-283)"
            ]
          },
          "metadata": {},
          "execution_count": 109
        }
      ]
    },
    {
      "cell_type": "markdown",
      "source": [
        "***Note -*** Reject the Null Hypothesis because p-value is very low. So, we can say that it is statistically significant at 99% Confidence also that means Hospitalization Charges of people who do smoking are greater than to those who don't."
      ],
      "metadata": {
        "id": "WFIQJjU3t3I2"
      }
    },
    {
      "cell_type": "markdown",
      "source": [
        "***Null Hypothesis*** -  Hospitalization Charges of people who do smoking are equal to those who don't.\n",
        "\n",
        "***Alternate Hypothesis*** - Hospitalization Charges of people who do smoking are less than to those who don't."
      ],
      "metadata": {
        "id": "zTSiQZMX2LT1"
      }
    },
    {
      "cell_type": "code",
      "source": [
        "ttest_ind (a[\"hospitalization charges\"] , b[\"hospitalization charges\"] , alternative = \"less\")"
      ],
      "metadata": {
        "colab": {
          "base_uri": "https://localhost:8080/"
        },
        "id": "iA3tLdzV1yfp",
        "outputId": "4d3f0fc5-552a-4bd6-c82c-7153dbe6fe8a"
      },
      "execution_count": null,
      "outputs": [
        {
          "output_type": "execute_result",
          "data": {
            "text/plain": [
              "Ttest_indResult(statistic=46.66489219013773, pvalue=1.0)"
            ]
          },
          "metadata": {},
          "execution_count": 110
        }
      ]
    },
    {
      "cell_type": "markdown",
      "source": [
        "***Note -*** Fail to Reject the Null Hypothesis because p-value is very High. So, we can say that it is not statistically significant at 95% Confidence also that means Hospitalization Charges of people who do smoking are equal to those who don't."
      ],
      "metadata": {
        "id": "kX6Ox54PuV1W"
      }
    },
    {
      "cell_type": "markdown",
      "source": [
        "# **2**"
      ],
      "metadata": {
        "id": "NFSJ5aHO2ae7"
      }
    },
    {
      "cell_type": "code",
      "source": [
        "x = df[df[\"sex\"] == \"male\"]\n",
        "y = df[df[\"sex\"] == \"female\"]"
      ],
      "metadata": {
        "id": "3x4YNM832ctS"
      },
      "execution_count": null,
      "outputs": []
    },
    {
      "cell_type": "code",
      "source": [
        "print(x[\"viral load\"].min())\n",
        "print(x[\"viral load\"].max())"
      ],
      "metadata": {
        "colab": {
          "base_uri": "https://localhost:8080/"
        },
        "id": "rd824DJo2n84",
        "outputId": "4174be8c-8898-4c88-dc28-a16a69039955"
      },
      "execution_count": null,
      "outputs": [
        {
          "output_type": "stream",
          "name": "stdout",
          "text": [
            "5.32\n",
            "17.71\n"
          ]
        }
      ]
    },
    {
      "cell_type": "code",
      "source": [
        "print(y[\"viral load\"].min())\n",
        "print(y[\"viral load\"].max())"
      ],
      "metadata": {
        "colab": {
          "base_uri": "https://localhost:8080/"
        },
        "id": "M1wgYhsI2668",
        "outputId": "86b45816-1430-4b81-8efe-b151ad4d285b"
      },
      "execution_count": null,
      "outputs": [
        {
          "output_type": "stream",
          "name": "stdout",
          "text": [
            "5.6\n",
            "16.02\n"
          ]
        }
      ]
    },
    {
      "cell_type": "code",
      "source": [
        "print(x[\"viral load\"].mean())\n"
      ],
      "metadata": {
        "colab": {
          "base_uri": "https://localhost:8080/"
        },
        "id": "4DEKqWv_3ik1",
        "outputId": "c27c0dec-83e0-41ed-e2f1-db42b04156c2"
      },
      "execution_count": null,
      "outputs": [
        {
          "output_type": "stream",
          "name": "stdout",
          "text": [
            "10.314423076923076\n"
          ]
        }
      ]
    },
    {
      "cell_type": "code",
      "source": [
        "print(y[\"viral load\"].mean())\n"
      ],
      "metadata": {
        "colab": {
          "base_uri": "https://localhost:8080/"
        },
        "id": "umNQeBWn3mUM",
        "outputId": "f1851ad9-2657-4adf-a636-fb11fb8fe620"
      },
      "execution_count": null,
      "outputs": [
        {
          "output_type": "stream",
          "name": "stdout",
          "text": [
            "10.12607250755287\n"
          ]
        }
      ]
    },
    {
      "cell_type": "markdown",
      "source": [
        "***Null Hypothesis*** -  Viral Load of Females is same from that of Males.\n",
        "\n",
        "***Alternate Hypothesis*** - Viral Load of Females is different from that of Males."
      ],
      "metadata": {
        "id": "DszaYigm337n"
      }
    },
    {
      "cell_type": "code",
      "source": [
        "ttest_ind(x[\"viral load\"] , y[\"viral load\"])"
      ],
      "metadata": {
        "colab": {
          "base_uri": "https://localhost:8080/"
        },
        "id": "bEIYM6mz4TNZ",
        "outputId": "1181de56-a1f6-49be-9353-4bb118af82fc"
      },
      "execution_count": null,
      "outputs": [
        {
          "output_type": "execute_result",
          "data": {
            "text/plain": [
              "Ttest_indResult(statistic=1.695711164450323, pvalue=0.0901735841670204)"
            ]
          },
          "metadata": {},
          "execution_count": 116
        }
      ]
    },
    {
      "cell_type": "markdown",
      "source": [
        "***Note -*** Reject the Null Hypothesis because p-value is very low. So, we can say that it is statistically significant at 95% confidence that means Viral Load of Females is different from that of Males."
      ],
      "metadata": {
        "id": "vsqnug1vvZia"
      }
    },
    {
      "cell_type": "markdown",
      "source": [
        "***Null Hypothesis*** -  Viral Load of Females is same from that of Males.\n",
        "\n",
        "***Alternate Hypothesis*** - Viral Load of Females is less than that of Males."
      ],
      "metadata": {
        "id": "M8oGwDO74P4n"
      }
    },
    {
      "cell_type": "code",
      "source": [
        "ttest_ind(x[\"viral load\"] , y[\"viral load\"] , alternative = \"greater\")"
      ],
      "metadata": {
        "colab": {
          "base_uri": "https://localhost:8080/"
        },
        "outputId": "7f24161c-483b-43bd-a62b-576411db3cd8",
        "id": "qUtxZGl84gTn"
      },
      "execution_count": null,
      "outputs": [
        {
          "output_type": "execute_result",
          "data": {
            "text/plain": [
              "Ttest_indResult(statistic=1.695711164450323, pvalue=0.0450867920835102)"
            ]
          },
          "metadata": {},
          "execution_count": 117
        }
      ]
    },
    {
      "cell_type": "markdown",
      "source": [
        "***Note -*** Reject the Null Hypothesis because p-value is low. So, we can say that it is statistically significant at 90% confidence that means Viral Load of Females is less than that of Males."
      ],
      "metadata": {
        "id": "8M52cFxixGEf"
      }
    },
    {
      "cell_type": "markdown",
      "source": [
        "***Null Hypothesis*** -  Viral Load of Females is same from that of Males.\n",
        "\n",
        "***Alternate Hypothesis*** - Viral Load of Females is greater than that of Males."
      ],
      "metadata": {
        "id": "k89DuHZB4QLk"
      }
    },
    {
      "cell_type": "code",
      "source": [
        "ttest_ind(x[\"viral load\"] , y[\"viral load\"] , alternative = \"less\")"
      ],
      "metadata": {
        "colab": {
          "base_uri": "https://localhost:8080/"
        },
        "outputId": "7adee18f-653e-4204-86f2-9f37d4c0ab18",
        "id": "zRkozZVO4lFg"
      },
      "execution_count": null,
      "outputs": [
        {
          "output_type": "execute_result",
          "data": {
            "text/plain": [
              "Ttest_indResult(statistic=1.695711164450323, pvalue=0.9549132079164898)"
            ]
          },
          "metadata": {},
          "execution_count": 118
        }
      ]
    },
    {
      "cell_type": "markdown",
      "source": [
        "***Note -*** Fail to Reject the Null Hypothesis because p-value is high. So, we can say that it is not statistically significant at 90% confidence that means Viral Load of Females is same from that of Males."
      ],
      "metadata": {
        "id": "N-jq1XQdxGyT"
      }
    },
    {
      "cell_type": "code",
      "source": [],
      "metadata": {
        "id": "sfNn2MPQ3rAD"
      },
      "execution_count": null,
      "outputs": []
    },
    {
      "cell_type": "markdown",
      "source": [
        "# **3**"
      ],
      "metadata": {
        "id": "MupvHgvB5Rgz"
      }
    },
    {
      "cell_type": "code",
      "source": [
        "smoker_region = pd.crosstab(index = df[\"smoker\"] , columns = df[\"region\"] , margins = True)\n",
        "smoker_region"
      ],
      "metadata": {
        "colab": {
          "base_uri": "https://localhost:8080/",
          "height": 175
        },
        "id": "28N9LVrh5TzC",
        "outputId": "1085d70f-4879-4740-acf5-c4f4f7fa5889"
      },
      "execution_count": null,
      "outputs": [
        {
          "output_type": "execute_result",
          "data": {
            "text/plain": [
              "region  northeast  northwest  southeast  southwest   All\n",
              "smoker                                                  \n",
              "no            257        267        273        267  1064\n",
              "yes            67         58         91         58   274\n",
              "All           324        325        364        325  1338"
            ],
            "text/html": [
              "\n",
              "  <div id=\"df-b3e6b7ee-0aeb-42f3-9a59-4b0eb6d47cbd\">\n",
              "    <div class=\"colab-df-container\">\n",
              "      <div>\n",
              "<style scoped>\n",
              "    .dataframe tbody tr th:only-of-type {\n",
              "        vertical-align: middle;\n",
              "    }\n",
              "\n",
              "    .dataframe tbody tr th {\n",
              "        vertical-align: top;\n",
              "    }\n",
              "\n",
              "    .dataframe thead th {\n",
              "        text-align: right;\n",
              "    }\n",
              "</style>\n",
              "<table border=\"1\" class=\"dataframe\">\n",
              "  <thead>\n",
              "    <tr style=\"text-align: right;\">\n",
              "      <th>region</th>\n",
              "      <th>northeast</th>\n",
              "      <th>northwest</th>\n",
              "      <th>southeast</th>\n",
              "      <th>southwest</th>\n",
              "      <th>All</th>\n",
              "    </tr>\n",
              "    <tr>\n",
              "      <th>smoker</th>\n",
              "      <th></th>\n",
              "      <th></th>\n",
              "      <th></th>\n",
              "      <th></th>\n",
              "      <th></th>\n",
              "    </tr>\n",
              "  </thead>\n",
              "  <tbody>\n",
              "    <tr>\n",
              "      <th>no</th>\n",
              "      <td>257</td>\n",
              "      <td>267</td>\n",
              "      <td>273</td>\n",
              "      <td>267</td>\n",
              "      <td>1064</td>\n",
              "    </tr>\n",
              "    <tr>\n",
              "      <th>yes</th>\n",
              "      <td>67</td>\n",
              "      <td>58</td>\n",
              "      <td>91</td>\n",
              "      <td>58</td>\n",
              "      <td>274</td>\n",
              "    </tr>\n",
              "    <tr>\n",
              "      <th>All</th>\n",
              "      <td>324</td>\n",
              "      <td>325</td>\n",
              "      <td>364</td>\n",
              "      <td>325</td>\n",
              "      <td>1338</td>\n",
              "    </tr>\n",
              "  </tbody>\n",
              "</table>\n",
              "</div>\n",
              "      <button class=\"colab-df-convert\" onclick=\"convertToInteractive('df-b3e6b7ee-0aeb-42f3-9a59-4b0eb6d47cbd')\"\n",
              "              title=\"Convert this dataframe to an interactive table.\"\n",
              "              style=\"display:none;\">\n",
              "        \n",
              "  <svg xmlns=\"http://www.w3.org/2000/svg\" height=\"24px\"viewBox=\"0 0 24 24\"\n",
              "       width=\"24px\">\n",
              "    <path d=\"M0 0h24v24H0V0z\" fill=\"none\"/>\n",
              "    <path d=\"M18.56 5.44l.94 2.06.94-2.06 2.06-.94-2.06-.94-.94-2.06-.94 2.06-2.06.94zm-11 1L8.5 8.5l.94-2.06 2.06-.94-2.06-.94L8.5 2.5l-.94 2.06-2.06.94zm10 10l.94 2.06.94-2.06 2.06-.94-2.06-.94-.94-2.06-.94 2.06-2.06.94z\"/><path d=\"M17.41 7.96l-1.37-1.37c-.4-.4-.92-.59-1.43-.59-.52 0-1.04.2-1.43.59L10.3 9.45l-7.72 7.72c-.78.78-.78 2.05 0 2.83L4 21.41c.39.39.9.59 1.41.59.51 0 1.02-.2 1.41-.59l7.78-7.78 2.81-2.81c.8-.78.8-2.07 0-2.86zM5.41 20L4 18.59l7.72-7.72 1.47 1.35L5.41 20z\"/>\n",
              "  </svg>\n",
              "      </button>\n",
              "      \n",
              "  <style>\n",
              "    .colab-df-container {\n",
              "      display:flex;\n",
              "      flex-wrap:wrap;\n",
              "      gap: 12px;\n",
              "    }\n",
              "\n",
              "    .colab-df-convert {\n",
              "      background-color: #E8F0FE;\n",
              "      border: none;\n",
              "      border-radius: 50%;\n",
              "      cursor: pointer;\n",
              "      display: none;\n",
              "      fill: #1967D2;\n",
              "      height: 32px;\n",
              "      padding: 0 0 0 0;\n",
              "      width: 32px;\n",
              "    }\n",
              "\n",
              "    .colab-df-convert:hover {\n",
              "      background-color: #E2EBFA;\n",
              "      box-shadow: 0px 1px 2px rgba(60, 64, 67, 0.3), 0px 1px 3px 1px rgba(60, 64, 67, 0.15);\n",
              "      fill: #174EA6;\n",
              "    }\n",
              "\n",
              "    [theme=dark] .colab-df-convert {\n",
              "      background-color: #3B4455;\n",
              "      fill: #D2E3FC;\n",
              "    }\n",
              "\n",
              "    [theme=dark] .colab-df-convert:hover {\n",
              "      background-color: #434B5C;\n",
              "      box-shadow: 0px 1px 3px 1px rgba(0, 0, 0, 0.15);\n",
              "      filter: drop-shadow(0px 1px 2px rgba(0, 0, 0, 0.3));\n",
              "      fill: #FFFFFF;\n",
              "    }\n",
              "  </style>\n",
              "\n",
              "      <script>\n",
              "        const buttonEl =\n",
              "          document.querySelector('#df-b3e6b7ee-0aeb-42f3-9a59-4b0eb6d47cbd button.colab-df-convert');\n",
              "        buttonEl.style.display =\n",
              "          google.colab.kernel.accessAllowed ? 'block' : 'none';\n",
              "\n",
              "        async function convertToInteractive(key) {\n",
              "          const element = document.querySelector('#df-b3e6b7ee-0aeb-42f3-9a59-4b0eb6d47cbd');\n",
              "          const dataTable =\n",
              "            await google.colab.kernel.invokeFunction('convertToInteractive',\n",
              "                                                     [key], {});\n",
              "          if (!dataTable) return;\n",
              "\n",
              "          const docLinkHtml = 'Like what you see? Visit the ' +\n",
              "            '<a target=\"_blank\" href=https://colab.research.google.com/notebooks/data_table.ipynb>data table notebook</a>'\n",
              "            + ' to learn more about interactive tables.';\n",
              "          element.innerHTML = '';\n",
              "          dataTable['output_type'] = 'display_data';\n",
              "          await google.colab.output.renderOutput(dataTable, element);\n",
              "          const docLink = document.createElement('div');\n",
              "          docLink.innerHTML = docLinkHtml;\n",
              "          element.appendChild(docLink);\n",
              "        }\n",
              "      </script>\n",
              "    </div>\n",
              "  </div>\n",
              "  "
            ]
          },
          "metadata": {},
          "execution_count": 119
        }
      ]
    },
    {
      "cell_type": "markdown",
      "source": [
        "***Null Hypothesis*** -  proportion of smoking is significantly similar across different regions.\n",
        "\n",
        "***Alternate Hypothesis*** - proportion of smoking is significantly different across different regions."
      ],
      "metadata": {
        "id": "TMQxThCX2Iq6"
      }
    },
    {
      "cell_type": "code",
      "source": [
        "chi2_contingency (smoker_region)"
      ],
      "metadata": {
        "colab": {
          "base_uri": "https://localhost:8080/"
        },
        "id": "BGzxldD150Ld",
        "outputId": "104a976a-c5b1-4d4f-9861-4b092620b1ea"
      },
      "execution_count": null,
      "outputs": [
        {
          "output_type": "execute_result",
          "data": {
            "text/plain": [
              "(7.343477761407069,\n",
              " 0.5000675325877666,\n",
              " 8,\n",
              " array([[ 257.65022422,  258.44544096,  289.45889387,  258.44544096,\n",
              "         1064.        ],\n",
              "        [  66.34977578,   66.55455904,   74.54110613,   66.55455904,\n",
              "          274.        ],\n",
              "        [ 324.        ,  325.        ,  364.        ,  325.        ,\n",
              "         1338.        ]]))"
            ]
          },
          "metadata": {},
          "execution_count": 120
        }
      ]
    },
    {
      "cell_type": "markdown",
      "source": [
        "***Note -*** Fail to Reject the Null Hypothesis because p-value is high. So, we can say that it is not statistically significant at 95% confidence that means proportion of smoking is significantly similar across different regions."
      ],
      "metadata": {
        "id": "FF_Ciwfj3LB2"
      }
    },
    {
      "cell_type": "code",
      "source": [],
      "metadata": {
        "id": "IPiQ9RpU6ASM"
      },
      "execution_count": null,
      "outputs": []
    },
    {
      "cell_type": "markdown",
      "source": [
        "# **4**"
      ],
      "metadata": {
        "id": "TN_ZJIDd6IIi"
      }
    },
    {
      "cell_type": "code",
      "source": [
        "x = df[df[\"sex\"] == \"female\"]\n",
        "y = df[df[\"sex\"] == \"male\"]"
      ],
      "metadata": {
        "id": "mSCF6D9q7J5p"
      },
      "execution_count": null,
      "outputs": []
    },
    {
      "cell_type": "code",
      "source": [
        "a = x[x[\"severity level\"] == 0][\"viral load\"]\n",
        "b = x[x[\"severity level\"] == 1][\"viral load\"]\n",
        "c = x[x[\"severity level\"] == 2][\"viral load\"]"
      ],
      "metadata": {
        "id": "b65O86QH6KgX"
      },
      "execution_count": null,
      "outputs": []
    },
    {
      "cell_type": "markdown",
      "source": [
        "***Null Hypothesis*** -  The mean viral load of women with 0 Severity level, 1 Severity level, and 2 Severity level are same.\n",
        "\n",
        "***Alternate Hypothesis*** - The mean viral load of women with 0 Severity level, 1 Severity level, and 2 Severity level are different.\n"
      ],
      "metadata": {
        "id": "ogn5kqY18wmD"
      }
    },
    {
      "cell_type": "code",
      "source": [
        "f_oneway(a , b , c)"
      ],
      "metadata": {
        "colab": {
          "base_uri": "https://localhost:8080/"
        },
        "id": "laRa-eAe7TAj",
        "outputId": "6b5c5c4b-4398-48ec-c532-a381fb255178"
      },
      "execution_count": null,
      "outputs": [
        {
          "output_type": "execute_result",
          "data": {
            "text/plain": [
              "F_onewayResult(statistic=0.3355061434584082, pvalue=0.7151189650367746)"
            ]
          },
          "metadata": {},
          "execution_count": 123
        }
      ]
    },
    {
      "cell_type": "markdown",
      "source": [
        "***Note -*** Fail to Reject the Null Hypothesis because p-value is high. So, we can say that it is not statistically significant at 95% confidence that means The mean viral load of women with 0 Severity level, 1 Severity level, and 2 Severity level are same."
      ],
      "metadata": {
        "id": "aEt7128u9fLY"
      }
    },
    {
      "cell_type": "code",
      "source": [
        "p = df[(df[\"sex\"] == \"female\") & (df[\"severity level\"] == 0)]\n",
        "q = df[(df[\"sex\"] == \"female\") & (df[\"severity level\"] == 1)]\n",
        "r = df[(df[\"sex\"] == \"female\") & (df[\"severity level\"] == 2)]"
      ],
      "metadata": {
        "id": "97mcXRit7_jJ"
      },
      "execution_count": null,
      "outputs": []
    },
    {
      "cell_type": "code",
      "source": [
        "print(p[\"viral load\"].mean())\n",
        "print(q[\"viral load\"].mean())\n",
        "print(r[\"viral load\"].mean())"
      ],
      "metadata": {
        "colab": {
          "base_uri": "https://localhost:8080/"
        },
        "id": "_pp7CixS8eWe",
        "outputId": "640018f7-8815-41f4-aa9e-cecba771b67f"
      },
      "execution_count": null,
      "outputs": [
        {
          "output_type": "stream",
          "name": "stdout",
          "text": [
            "10.120726643598616\n",
            "10.017468354430381\n",
            "10.216806722689073\n"
          ]
        }
      ]
    },
    {
      "cell_type": "code",
      "source": [],
      "metadata": {
        "id": "TOqd0ag680IZ"
      },
      "execution_count": null,
      "outputs": []
    },
    {
      "cell_type": "markdown",
      "source": [
        "# ***INSIGHTS***\n",
        "\n",
        "1. In this data there are 4  categorical columns i.e. sex, smoker, region, and severity level  and 3 numerical columns i.e. age ,viral load and Hospitalization Charges.\n",
        "2. Sex column has 2 unique values i.e. Male and Female.\n",
        "3. Smoker column has 2 unique values i.e. Yes and No.\n",
        "4. Region column has 4 unique values i.e. northeast, southeast, southwest, or northwest.\n",
        "5. Severity Level column has 6 unique values i.e. 0,1,2,3,4,5.\n",
        "6. Age column has range of 18 to 64.\n",
        "7. Viral Load column has range of 5.3 to 17.8.\n",
        "8. Hospitalization Charges has range of 2800 to 160000.\n",
        "9. Frequency of male and female is almost equal.\n",
        "10. Frequency of Non-Smoker is approximate 4 times of Smoker.\n",
        "11. Frequency of all 4 regions is approximately equal.\n",
        "12. Frequency of Severity Level 0 is highest i.e 574 and Severity Level 5 is lowest i.e 18\n",
        "13. In this data there is no null objects and length of the data is 1338.\n",
        "14. In this data no missing values present.\n",
        "15. 50% of the people age is 39.\n",
        "16. 50% of the people hospitalization charges is 23455.\n",
        "17. 50% of the people viral load is 10.13.\n",
        "18. Mean of the people hospitalization charges is 33176.\n",
        "19. Mean of the people viral load is 10.22.\n",
        "20. Mean of the people age is 39.\n",
        "21. The relationship between the severity level and age is very low i.e. 0.042.\n",
        "22. The relationship between the hospitilization charges and age is high i.e. 0.3.\n",
        "23. There are many outliers in hospitilization charges i.e. approx 10%.\n",
        "24. There are very less outliers in viral load i.e. less than 1%.\n",
        "25. We can prove that the Hospitalization charges of people who do smoking is greater than those who don't by using by using T-test Right tailed\n",
        "26. We can prove that the Viral Load of Females is different from that of Males by using T-test Two tailed.\n",
        "27. We can prove that the proportion of smoking is significantly different across different regions by using Chi-Square test.\n",
        "28. We can prove that the  mean viral load of women with 0 Severity level, 1 Severity level, and 2 Severity level are the same by using One way ANNOVA test."
      ],
      "metadata": {
        "id": "k73AVjLhDu1W"
      }
    },
    {
      "cell_type": "markdown",
      "source": [
        "# ***RECOMMENDATIONS***\n",
        "\n",
        "1. Mostly the people of age of 18 year is Smoker so that the hospitalization charge should be some discount so that it can be affordable.\n",
        "\n",
        "2. The hospitalization charge should be distributed according to the age so that the mostly people of different age will be affordable.\n",
        "\n",
        "3. The hospitalization charges of people who do smoking should be greater than non-smoking people and it should be affordable so that all smoking people will come for hospitalization.\n",
        "\n",
        "4. For Female the Hospitalization charges should be at some discount rate so that all smoker and non-smoker Female can be afford.\n",
        "\n",
        "5. Viral Load of Females is different from that of Males and the Hospitalization charges should be depend on the Viral load and Severity Level.\n",
        "\n",
        "\n"
      ],
      "metadata": {
        "id": "rWRpaAH6Nd_1"
      }
    }
  ]
}