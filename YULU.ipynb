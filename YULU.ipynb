{
  "nbformat": 4,
  "nbformat_minor": 0,
  "metadata": {
    "colab": {
      "provenance": [],
      "collapsed_sections": [
        "RYA9EqTwV9iE",
        "W63AfGkqWQ-_",
        "GAkbn0cxUliz",
        "BF5v6ublNzSc",
        "Ifbri62fQxlG",
        "UG8tn6H2RcLr",
        "O3Hp7JLIR_Nk",
        "Z1VDMo-fU0yI",
        "eE1nwgk9ZrgB",
        "aDS58pqZdy5e",
        "3gBoRhwZL5ML",
        "mpaSzU2mONGG"
      ],
      "authorship_tag": "ABX9TyP4RD1tsp/EJjENEUFw14ac",
      "include_colab_link": true
    },
    "kernelspec": {
      "name": "python3",
      "display_name": "Python 3"
    },
    "language_info": {
      "name": "python"
    }
  },
  "cells": [
    {
      "cell_type": "markdown",
      "metadata": {
        "id": "view-in-github",
        "colab_type": "text"
      },
      "source": [
        "<a href=\"https://colab.research.google.com/github/aayush1324/Scaler_DSML2022/blob/main/YULU.ipynb\" target=\"_parent\"><img src=\"https://colab.research.google.com/assets/colab-badge.svg\" alt=\"Open In Colab\"/></a>"
      ]
    },
    {
      "cell_type": "code",
      "source": [
        "import numpy as np\n",
        "import pandas as pd\n",
        "import seaborn as sns\n",
        "import matplotlib.pyplot as plt"
      ],
      "metadata": {
        "id": "vBBFI4SIDHhr"
      },
      "execution_count": 1,
      "outputs": []
    },
    {
      "cell_type": "code",
      "source": [
        "from scipy.stats import binom , norm , poisson , expon ,geom"
      ],
      "metadata": {
        "id": "_qv_vCWXew6x"
      },
      "execution_count": 2,
      "outputs": []
    },
    {
      "cell_type": "code",
      "source": [
        "from scipy.stats import ttest_ind , ttest_rel , f_oneway , kruskal\n",
        "from scipy.stats import norm , chi2 , f\n",
        "from scipy.stats import chi2_contingency , chisquare\n",
        "from scipy.stats import pearsonr , spearmanr\n",
        "from scipy.stats import kstest"
      ],
      "metadata": {
        "id": "nWr7p6zFe5no"
      },
      "execution_count": 3,
      "outputs": []
    },
    {
      "cell_type": "code",
      "source": [
        "! wget \"https://d2beiqkhq929f0.cloudfront.net/public_assets/assets/000/001/428/original/bike_sharing.csv?1642089089\" -O Yulu.csv"
      ],
      "metadata": {
        "colab": {
          "base_uri": "https://localhost:8080/",
          "height": 0
        },
        "id": "dUUa86MEFbjH",
        "outputId": "53cc0a1d-a2c3-4867-e10d-c6c0ed15ef83"
      },
      "execution_count": 4,
      "outputs": [
        {
          "output_type": "stream",
          "name": "stdout",
          "text": [
            "--2022-11-16 06:40:42--  https://d2beiqkhq929f0.cloudfront.net/public_assets/assets/000/001/428/original/bike_sharing.csv?1642089089\n",
            "Resolving d2beiqkhq929f0.cloudfront.net (d2beiqkhq929f0.cloudfront.net)... 99.84.170.67, 99.84.170.112, 99.84.170.22, ...\n",
            "Connecting to d2beiqkhq929f0.cloudfront.net (d2beiqkhq929f0.cloudfront.net)|99.84.170.67|:443... connected.\n",
            "HTTP request sent, awaiting response... 200 OK\n",
            "Length: 648353 (633K) [text/plain]\n",
            "Saving to: ‘Yulu.csv’\n",
            "\n",
            "Yulu.csv            100%[===================>] 633.16K   788KB/s    in 0.8s    \n",
            "\n",
            "2022-11-16 06:40:44 (788 KB/s) - ‘Yulu.csv’ saved [648353/648353]\n",
            "\n"
          ]
        }
      ]
    },
    {
      "cell_type": "code",
      "source": [
        "df = pd.read_csv(\"Yulu.csv\")"
      ],
      "metadata": {
        "id": "yutUjGdWDAvp"
      },
      "execution_count": 5,
      "outputs": []
    },
    {
      "cell_type": "code",
      "source": [
        "df.head()"
      ],
      "metadata": {
        "colab": {
          "base_uri": "https://localhost:8080/",
          "height": 206
        },
        "id": "hOmPMx2qDGPO",
        "outputId": "3260771c-9a1d-4ce6-b4ea-208bbda5c1f8"
      },
      "execution_count": 6,
      "outputs": [
        {
          "output_type": "execute_result",
          "data": {
            "text/plain": [
              "              datetime  season  holiday  workingday  weather  temp   atemp  \\\n",
              "0  2011-01-01 00:00:00       1        0           0        1  9.84  14.395   \n",
              "1  2011-01-01 01:00:00       1        0           0        1  9.02  13.635   \n",
              "2  2011-01-01 02:00:00       1        0           0        1  9.02  13.635   \n",
              "3  2011-01-01 03:00:00       1        0           0        1  9.84  14.395   \n",
              "4  2011-01-01 04:00:00       1        0           0        1  9.84  14.395   \n",
              "\n",
              "   humidity  windspeed  casual  registered  count  \n",
              "0        81        0.0       3          13     16  \n",
              "1        80        0.0       8          32     40  \n",
              "2        80        0.0       5          27     32  \n",
              "3        75        0.0       3          10     13  \n",
              "4        75        0.0       0           1      1  "
            ],
            "text/html": [
              "\n",
              "  <div id=\"df-63275f4f-8dcd-4d46-898a-bfd236b3a712\">\n",
              "    <div class=\"colab-df-container\">\n",
              "      <div>\n",
              "<style scoped>\n",
              "    .dataframe tbody tr th:only-of-type {\n",
              "        vertical-align: middle;\n",
              "    }\n",
              "\n",
              "    .dataframe tbody tr th {\n",
              "        vertical-align: top;\n",
              "    }\n",
              "\n",
              "    .dataframe thead th {\n",
              "        text-align: right;\n",
              "    }\n",
              "</style>\n",
              "<table border=\"1\" class=\"dataframe\">\n",
              "  <thead>\n",
              "    <tr style=\"text-align: right;\">\n",
              "      <th></th>\n",
              "      <th>datetime</th>\n",
              "      <th>season</th>\n",
              "      <th>holiday</th>\n",
              "      <th>workingday</th>\n",
              "      <th>weather</th>\n",
              "      <th>temp</th>\n",
              "      <th>atemp</th>\n",
              "      <th>humidity</th>\n",
              "      <th>windspeed</th>\n",
              "      <th>casual</th>\n",
              "      <th>registered</th>\n",
              "      <th>count</th>\n",
              "    </tr>\n",
              "  </thead>\n",
              "  <tbody>\n",
              "    <tr>\n",
              "      <th>0</th>\n",
              "      <td>2011-01-01 00:00:00</td>\n",
              "      <td>1</td>\n",
              "      <td>0</td>\n",
              "      <td>0</td>\n",
              "      <td>1</td>\n",
              "      <td>9.84</td>\n",
              "      <td>14.395</td>\n",
              "      <td>81</td>\n",
              "      <td>0.0</td>\n",
              "      <td>3</td>\n",
              "      <td>13</td>\n",
              "      <td>16</td>\n",
              "    </tr>\n",
              "    <tr>\n",
              "      <th>1</th>\n",
              "      <td>2011-01-01 01:00:00</td>\n",
              "      <td>1</td>\n",
              "      <td>0</td>\n",
              "      <td>0</td>\n",
              "      <td>1</td>\n",
              "      <td>9.02</td>\n",
              "      <td>13.635</td>\n",
              "      <td>80</td>\n",
              "      <td>0.0</td>\n",
              "      <td>8</td>\n",
              "      <td>32</td>\n",
              "      <td>40</td>\n",
              "    </tr>\n",
              "    <tr>\n",
              "      <th>2</th>\n",
              "      <td>2011-01-01 02:00:00</td>\n",
              "      <td>1</td>\n",
              "      <td>0</td>\n",
              "      <td>0</td>\n",
              "      <td>1</td>\n",
              "      <td>9.02</td>\n",
              "      <td>13.635</td>\n",
              "      <td>80</td>\n",
              "      <td>0.0</td>\n",
              "      <td>5</td>\n",
              "      <td>27</td>\n",
              "      <td>32</td>\n",
              "    </tr>\n",
              "    <tr>\n",
              "      <th>3</th>\n",
              "      <td>2011-01-01 03:00:00</td>\n",
              "      <td>1</td>\n",
              "      <td>0</td>\n",
              "      <td>0</td>\n",
              "      <td>1</td>\n",
              "      <td>9.84</td>\n",
              "      <td>14.395</td>\n",
              "      <td>75</td>\n",
              "      <td>0.0</td>\n",
              "      <td>3</td>\n",
              "      <td>10</td>\n",
              "      <td>13</td>\n",
              "    </tr>\n",
              "    <tr>\n",
              "      <th>4</th>\n",
              "      <td>2011-01-01 04:00:00</td>\n",
              "      <td>1</td>\n",
              "      <td>0</td>\n",
              "      <td>0</td>\n",
              "      <td>1</td>\n",
              "      <td>9.84</td>\n",
              "      <td>14.395</td>\n",
              "      <td>75</td>\n",
              "      <td>0.0</td>\n",
              "      <td>0</td>\n",
              "      <td>1</td>\n",
              "      <td>1</td>\n",
              "    </tr>\n",
              "  </tbody>\n",
              "</table>\n",
              "</div>\n",
              "      <button class=\"colab-df-convert\" onclick=\"convertToInteractive('df-63275f4f-8dcd-4d46-898a-bfd236b3a712')\"\n",
              "              title=\"Convert this dataframe to an interactive table.\"\n",
              "              style=\"display:none;\">\n",
              "        \n",
              "  <svg xmlns=\"http://www.w3.org/2000/svg\" height=\"24px\"viewBox=\"0 0 24 24\"\n",
              "       width=\"24px\">\n",
              "    <path d=\"M0 0h24v24H0V0z\" fill=\"none\"/>\n",
              "    <path d=\"M18.56 5.44l.94 2.06.94-2.06 2.06-.94-2.06-.94-.94-2.06-.94 2.06-2.06.94zm-11 1L8.5 8.5l.94-2.06 2.06-.94-2.06-.94L8.5 2.5l-.94 2.06-2.06.94zm10 10l.94 2.06.94-2.06 2.06-.94-2.06-.94-.94-2.06-.94 2.06-2.06.94z\"/><path d=\"M17.41 7.96l-1.37-1.37c-.4-.4-.92-.59-1.43-.59-.52 0-1.04.2-1.43.59L10.3 9.45l-7.72 7.72c-.78.78-.78 2.05 0 2.83L4 21.41c.39.39.9.59 1.41.59.51 0 1.02-.2 1.41-.59l7.78-7.78 2.81-2.81c.8-.78.8-2.07 0-2.86zM5.41 20L4 18.59l7.72-7.72 1.47 1.35L5.41 20z\"/>\n",
              "  </svg>\n",
              "      </button>\n",
              "      \n",
              "  <style>\n",
              "    .colab-df-container {\n",
              "      display:flex;\n",
              "      flex-wrap:wrap;\n",
              "      gap: 12px;\n",
              "    }\n",
              "\n",
              "    .colab-df-convert {\n",
              "      background-color: #E8F0FE;\n",
              "      border: none;\n",
              "      border-radius: 50%;\n",
              "      cursor: pointer;\n",
              "      display: none;\n",
              "      fill: #1967D2;\n",
              "      height: 32px;\n",
              "      padding: 0 0 0 0;\n",
              "      width: 32px;\n",
              "    }\n",
              "\n",
              "    .colab-df-convert:hover {\n",
              "      background-color: #E2EBFA;\n",
              "      box-shadow: 0px 1px 2px rgba(60, 64, 67, 0.3), 0px 1px 3px 1px rgba(60, 64, 67, 0.15);\n",
              "      fill: #174EA6;\n",
              "    }\n",
              "\n",
              "    [theme=dark] .colab-df-convert {\n",
              "      background-color: #3B4455;\n",
              "      fill: #D2E3FC;\n",
              "    }\n",
              "\n",
              "    [theme=dark] .colab-df-convert:hover {\n",
              "      background-color: #434B5C;\n",
              "      box-shadow: 0px 1px 3px 1px rgba(0, 0, 0, 0.15);\n",
              "      filter: drop-shadow(0px 1px 2px rgba(0, 0, 0, 0.3));\n",
              "      fill: #FFFFFF;\n",
              "    }\n",
              "  </style>\n",
              "\n",
              "      <script>\n",
              "        const buttonEl =\n",
              "          document.querySelector('#df-63275f4f-8dcd-4d46-898a-bfd236b3a712 button.colab-df-convert');\n",
              "        buttonEl.style.display =\n",
              "          google.colab.kernel.accessAllowed ? 'block' : 'none';\n",
              "\n",
              "        async function convertToInteractive(key) {\n",
              "          const element = document.querySelector('#df-63275f4f-8dcd-4d46-898a-bfd236b3a712');\n",
              "          const dataTable =\n",
              "            await google.colab.kernel.invokeFunction('convertToInteractive',\n",
              "                                                     [key], {});\n",
              "          if (!dataTable) return;\n",
              "\n",
              "          const docLinkHtml = 'Like what you see? Visit the ' +\n",
              "            '<a target=\"_blank\" href=https://colab.research.google.com/notebooks/data_table.ipynb>data table notebook</a>'\n",
              "            + ' to learn more about interactive tables.';\n",
              "          element.innerHTML = '';\n",
              "          dataTable['output_type'] = 'display_data';\n",
              "          await google.colab.output.renderOutput(dataTable, element);\n",
              "          const docLink = document.createElement('div');\n",
              "          docLink.innerHTML = docLinkHtml;\n",
              "          element.appendChild(docLink);\n",
              "        }\n",
              "      </script>\n",
              "    </div>\n",
              "  </div>\n",
              "  "
            ]
          },
          "metadata": {},
          "execution_count": 6
        }
      ]
    },
    {
      "cell_type": "code",
      "source": [
        "df.info()"
      ],
      "metadata": {
        "colab": {
          "base_uri": "https://localhost:8080/",
          "height": 0
        },
        "id": "7dg2jr6QDRps",
        "outputId": "3b98dddb-3335-4c81-e142-56b4f21bd045"
      },
      "execution_count": 7,
      "outputs": [
        {
          "output_type": "stream",
          "name": "stdout",
          "text": [
            "<class 'pandas.core.frame.DataFrame'>\n",
            "RangeIndex: 10886 entries, 0 to 10885\n",
            "Data columns (total 12 columns):\n",
            " #   Column      Non-Null Count  Dtype  \n",
            "---  ------      --------------  -----  \n",
            " 0   datetime    10886 non-null  object \n",
            " 1   season      10886 non-null  int64  \n",
            " 2   holiday     10886 non-null  int64  \n",
            " 3   workingday  10886 non-null  int64  \n",
            " 4   weather     10886 non-null  int64  \n",
            " 5   temp        10886 non-null  float64\n",
            " 6   atemp       10886 non-null  float64\n",
            " 7   humidity    10886 non-null  int64  \n",
            " 8   windspeed   10886 non-null  float64\n",
            " 9   casual      10886 non-null  int64  \n",
            " 10  registered  10886 non-null  int64  \n",
            " 11  count       10886 non-null  int64  \n",
            "dtypes: float64(3), int64(8), object(1)\n",
            "memory usage: 1020.7+ KB\n"
          ]
        }
      ]
    },
    {
      "cell_type": "code",
      "source": [
        "df.describe()"
      ],
      "metadata": {
        "colab": {
          "base_uri": "https://localhost:8080/",
          "height": 300
        },
        "id": "8X3adhqlFaMo",
        "outputId": "41a30ea5-9b22-4ccd-8c9b-c0cd02dd525c"
      },
      "execution_count": 8,
      "outputs": [
        {
          "output_type": "execute_result",
          "data": {
            "text/plain": [
              "             season       holiday    workingday       weather         temp  \\\n",
              "count  10886.000000  10886.000000  10886.000000  10886.000000  10886.00000   \n",
              "mean       2.506614      0.028569      0.680875      1.418427     20.23086   \n",
              "std        1.116174      0.166599      0.466159      0.633839      7.79159   \n",
              "min        1.000000      0.000000      0.000000      1.000000      0.82000   \n",
              "25%        2.000000      0.000000      0.000000      1.000000     13.94000   \n",
              "50%        3.000000      0.000000      1.000000      1.000000     20.50000   \n",
              "75%        4.000000      0.000000      1.000000      2.000000     26.24000   \n",
              "max        4.000000      1.000000      1.000000      4.000000     41.00000   \n",
              "\n",
              "              atemp      humidity     windspeed        casual    registered  \\\n",
              "count  10886.000000  10886.000000  10886.000000  10886.000000  10886.000000   \n",
              "mean      23.655084     61.886460     12.799395     36.021955    155.552177   \n",
              "std        8.474601     19.245033      8.164537     49.960477    151.039033   \n",
              "min        0.760000      0.000000      0.000000      0.000000      0.000000   \n",
              "25%       16.665000     47.000000      7.001500      4.000000     36.000000   \n",
              "50%       24.240000     62.000000     12.998000     17.000000    118.000000   \n",
              "75%       31.060000     77.000000     16.997900     49.000000    222.000000   \n",
              "max       45.455000    100.000000     56.996900    367.000000    886.000000   \n",
              "\n",
              "              count  \n",
              "count  10886.000000  \n",
              "mean     191.574132  \n",
              "std      181.144454  \n",
              "min        1.000000  \n",
              "25%       42.000000  \n",
              "50%      145.000000  \n",
              "75%      284.000000  \n",
              "max      977.000000  "
            ],
            "text/html": [
              "\n",
              "  <div id=\"df-5d848535-525f-4ad3-ac2a-df4e543503eb\">\n",
              "    <div class=\"colab-df-container\">\n",
              "      <div>\n",
              "<style scoped>\n",
              "    .dataframe tbody tr th:only-of-type {\n",
              "        vertical-align: middle;\n",
              "    }\n",
              "\n",
              "    .dataframe tbody tr th {\n",
              "        vertical-align: top;\n",
              "    }\n",
              "\n",
              "    .dataframe thead th {\n",
              "        text-align: right;\n",
              "    }\n",
              "</style>\n",
              "<table border=\"1\" class=\"dataframe\">\n",
              "  <thead>\n",
              "    <tr style=\"text-align: right;\">\n",
              "      <th></th>\n",
              "      <th>season</th>\n",
              "      <th>holiday</th>\n",
              "      <th>workingday</th>\n",
              "      <th>weather</th>\n",
              "      <th>temp</th>\n",
              "      <th>atemp</th>\n",
              "      <th>humidity</th>\n",
              "      <th>windspeed</th>\n",
              "      <th>casual</th>\n",
              "      <th>registered</th>\n",
              "      <th>count</th>\n",
              "    </tr>\n",
              "  </thead>\n",
              "  <tbody>\n",
              "    <tr>\n",
              "      <th>count</th>\n",
              "      <td>10886.000000</td>\n",
              "      <td>10886.000000</td>\n",
              "      <td>10886.000000</td>\n",
              "      <td>10886.000000</td>\n",
              "      <td>10886.00000</td>\n",
              "      <td>10886.000000</td>\n",
              "      <td>10886.000000</td>\n",
              "      <td>10886.000000</td>\n",
              "      <td>10886.000000</td>\n",
              "      <td>10886.000000</td>\n",
              "      <td>10886.000000</td>\n",
              "    </tr>\n",
              "    <tr>\n",
              "      <th>mean</th>\n",
              "      <td>2.506614</td>\n",
              "      <td>0.028569</td>\n",
              "      <td>0.680875</td>\n",
              "      <td>1.418427</td>\n",
              "      <td>20.23086</td>\n",
              "      <td>23.655084</td>\n",
              "      <td>61.886460</td>\n",
              "      <td>12.799395</td>\n",
              "      <td>36.021955</td>\n",
              "      <td>155.552177</td>\n",
              "      <td>191.574132</td>\n",
              "    </tr>\n",
              "    <tr>\n",
              "      <th>std</th>\n",
              "      <td>1.116174</td>\n",
              "      <td>0.166599</td>\n",
              "      <td>0.466159</td>\n",
              "      <td>0.633839</td>\n",
              "      <td>7.79159</td>\n",
              "      <td>8.474601</td>\n",
              "      <td>19.245033</td>\n",
              "      <td>8.164537</td>\n",
              "      <td>49.960477</td>\n",
              "      <td>151.039033</td>\n",
              "      <td>181.144454</td>\n",
              "    </tr>\n",
              "    <tr>\n",
              "      <th>min</th>\n",
              "      <td>1.000000</td>\n",
              "      <td>0.000000</td>\n",
              "      <td>0.000000</td>\n",
              "      <td>1.000000</td>\n",
              "      <td>0.82000</td>\n",
              "      <td>0.760000</td>\n",
              "      <td>0.000000</td>\n",
              "      <td>0.000000</td>\n",
              "      <td>0.000000</td>\n",
              "      <td>0.000000</td>\n",
              "      <td>1.000000</td>\n",
              "    </tr>\n",
              "    <tr>\n",
              "      <th>25%</th>\n",
              "      <td>2.000000</td>\n",
              "      <td>0.000000</td>\n",
              "      <td>0.000000</td>\n",
              "      <td>1.000000</td>\n",
              "      <td>13.94000</td>\n",
              "      <td>16.665000</td>\n",
              "      <td>47.000000</td>\n",
              "      <td>7.001500</td>\n",
              "      <td>4.000000</td>\n",
              "      <td>36.000000</td>\n",
              "      <td>42.000000</td>\n",
              "    </tr>\n",
              "    <tr>\n",
              "      <th>50%</th>\n",
              "      <td>3.000000</td>\n",
              "      <td>0.000000</td>\n",
              "      <td>1.000000</td>\n",
              "      <td>1.000000</td>\n",
              "      <td>20.50000</td>\n",
              "      <td>24.240000</td>\n",
              "      <td>62.000000</td>\n",
              "      <td>12.998000</td>\n",
              "      <td>17.000000</td>\n",
              "      <td>118.000000</td>\n",
              "      <td>145.000000</td>\n",
              "    </tr>\n",
              "    <tr>\n",
              "      <th>75%</th>\n",
              "      <td>4.000000</td>\n",
              "      <td>0.000000</td>\n",
              "      <td>1.000000</td>\n",
              "      <td>2.000000</td>\n",
              "      <td>26.24000</td>\n",
              "      <td>31.060000</td>\n",
              "      <td>77.000000</td>\n",
              "      <td>16.997900</td>\n",
              "      <td>49.000000</td>\n",
              "      <td>222.000000</td>\n",
              "      <td>284.000000</td>\n",
              "    </tr>\n",
              "    <tr>\n",
              "      <th>max</th>\n",
              "      <td>4.000000</td>\n",
              "      <td>1.000000</td>\n",
              "      <td>1.000000</td>\n",
              "      <td>4.000000</td>\n",
              "      <td>41.00000</td>\n",
              "      <td>45.455000</td>\n",
              "      <td>100.000000</td>\n",
              "      <td>56.996900</td>\n",
              "      <td>367.000000</td>\n",
              "      <td>886.000000</td>\n",
              "      <td>977.000000</td>\n",
              "    </tr>\n",
              "  </tbody>\n",
              "</table>\n",
              "</div>\n",
              "      <button class=\"colab-df-convert\" onclick=\"convertToInteractive('df-5d848535-525f-4ad3-ac2a-df4e543503eb')\"\n",
              "              title=\"Convert this dataframe to an interactive table.\"\n",
              "              style=\"display:none;\">\n",
              "        \n",
              "  <svg xmlns=\"http://www.w3.org/2000/svg\" height=\"24px\"viewBox=\"0 0 24 24\"\n",
              "       width=\"24px\">\n",
              "    <path d=\"M0 0h24v24H0V0z\" fill=\"none\"/>\n",
              "    <path d=\"M18.56 5.44l.94 2.06.94-2.06 2.06-.94-2.06-.94-.94-2.06-.94 2.06-2.06.94zm-11 1L8.5 8.5l.94-2.06 2.06-.94-2.06-.94L8.5 2.5l-.94 2.06-2.06.94zm10 10l.94 2.06.94-2.06 2.06-.94-2.06-.94-.94-2.06-.94 2.06-2.06.94z\"/><path d=\"M17.41 7.96l-1.37-1.37c-.4-.4-.92-.59-1.43-.59-.52 0-1.04.2-1.43.59L10.3 9.45l-7.72 7.72c-.78.78-.78 2.05 0 2.83L4 21.41c.39.39.9.59 1.41.59.51 0 1.02-.2 1.41-.59l7.78-7.78 2.81-2.81c.8-.78.8-2.07 0-2.86zM5.41 20L4 18.59l7.72-7.72 1.47 1.35L5.41 20z\"/>\n",
              "  </svg>\n",
              "      </button>\n",
              "      \n",
              "  <style>\n",
              "    .colab-df-container {\n",
              "      display:flex;\n",
              "      flex-wrap:wrap;\n",
              "      gap: 12px;\n",
              "    }\n",
              "\n",
              "    .colab-df-convert {\n",
              "      background-color: #E8F0FE;\n",
              "      border: none;\n",
              "      border-radius: 50%;\n",
              "      cursor: pointer;\n",
              "      display: none;\n",
              "      fill: #1967D2;\n",
              "      height: 32px;\n",
              "      padding: 0 0 0 0;\n",
              "      width: 32px;\n",
              "    }\n",
              "\n",
              "    .colab-df-convert:hover {\n",
              "      background-color: #E2EBFA;\n",
              "      box-shadow: 0px 1px 2px rgba(60, 64, 67, 0.3), 0px 1px 3px 1px rgba(60, 64, 67, 0.15);\n",
              "      fill: #174EA6;\n",
              "    }\n",
              "\n",
              "    [theme=dark] .colab-df-convert {\n",
              "      background-color: #3B4455;\n",
              "      fill: #D2E3FC;\n",
              "    }\n",
              "\n",
              "    [theme=dark] .colab-df-convert:hover {\n",
              "      background-color: #434B5C;\n",
              "      box-shadow: 0px 1px 3px 1px rgba(0, 0, 0, 0.15);\n",
              "      filter: drop-shadow(0px 1px 2px rgba(0, 0, 0, 0.3));\n",
              "      fill: #FFFFFF;\n",
              "    }\n",
              "  </style>\n",
              "\n",
              "      <script>\n",
              "        const buttonEl =\n",
              "          document.querySelector('#df-5d848535-525f-4ad3-ac2a-df4e543503eb button.colab-df-convert');\n",
              "        buttonEl.style.display =\n",
              "          google.colab.kernel.accessAllowed ? 'block' : 'none';\n",
              "\n",
              "        async function convertToInteractive(key) {\n",
              "          const element = document.querySelector('#df-5d848535-525f-4ad3-ac2a-df4e543503eb');\n",
              "          const dataTable =\n",
              "            await google.colab.kernel.invokeFunction('convertToInteractive',\n",
              "                                                     [key], {});\n",
              "          if (!dataTable) return;\n",
              "\n",
              "          const docLinkHtml = 'Like what you see? Visit the ' +\n",
              "            '<a target=\"_blank\" href=https://colab.research.google.com/notebooks/data_table.ipynb>data table notebook</a>'\n",
              "            + ' to learn more about interactive tables.';\n",
              "          element.innerHTML = '';\n",
              "          dataTable['output_type'] = 'display_data';\n",
              "          await google.colab.output.renderOutput(dataTable, element);\n",
              "          const docLink = document.createElement('div');\n",
              "          docLink.innerHTML = docLinkHtml;\n",
              "          element.appendChild(docLink);\n",
              "        }\n",
              "      </script>\n",
              "    </div>\n",
              "  </div>\n",
              "  "
            ]
          },
          "metadata": {},
          "execution_count": 8
        }
      ]
    },
    {
      "cell_type": "code",
      "source": [
        "df.describe(include = object)"
      ],
      "metadata": {
        "colab": {
          "base_uri": "https://localhost:8080/",
          "height": 175
        },
        "id": "NESL6LBDFpTV",
        "outputId": "a839a80c-2e92-464c-da4b-da77b022219a"
      },
      "execution_count": 9,
      "outputs": [
        {
          "output_type": "execute_result",
          "data": {
            "text/plain": [
              "                   datetime\n",
              "count                 10886\n",
              "unique                10886\n",
              "top     2011-01-01 00:00:00\n",
              "freq                      1"
            ],
            "text/html": [
              "\n",
              "  <div id=\"df-c0380487-e452-47e6-8ba1-1a88cee0e04b\">\n",
              "    <div class=\"colab-df-container\">\n",
              "      <div>\n",
              "<style scoped>\n",
              "    .dataframe tbody tr th:only-of-type {\n",
              "        vertical-align: middle;\n",
              "    }\n",
              "\n",
              "    .dataframe tbody tr th {\n",
              "        vertical-align: top;\n",
              "    }\n",
              "\n",
              "    .dataframe thead th {\n",
              "        text-align: right;\n",
              "    }\n",
              "</style>\n",
              "<table border=\"1\" class=\"dataframe\">\n",
              "  <thead>\n",
              "    <tr style=\"text-align: right;\">\n",
              "      <th></th>\n",
              "      <th>datetime</th>\n",
              "    </tr>\n",
              "  </thead>\n",
              "  <tbody>\n",
              "    <tr>\n",
              "      <th>count</th>\n",
              "      <td>10886</td>\n",
              "    </tr>\n",
              "    <tr>\n",
              "      <th>unique</th>\n",
              "      <td>10886</td>\n",
              "    </tr>\n",
              "    <tr>\n",
              "      <th>top</th>\n",
              "      <td>2011-01-01 00:00:00</td>\n",
              "    </tr>\n",
              "    <tr>\n",
              "      <th>freq</th>\n",
              "      <td>1</td>\n",
              "    </tr>\n",
              "  </tbody>\n",
              "</table>\n",
              "</div>\n",
              "      <button class=\"colab-df-convert\" onclick=\"convertToInteractive('df-c0380487-e452-47e6-8ba1-1a88cee0e04b')\"\n",
              "              title=\"Convert this dataframe to an interactive table.\"\n",
              "              style=\"display:none;\">\n",
              "        \n",
              "  <svg xmlns=\"http://www.w3.org/2000/svg\" height=\"24px\"viewBox=\"0 0 24 24\"\n",
              "       width=\"24px\">\n",
              "    <path d=\"M0 0h24v24H0V0z\" fill=\"none\"/>\n",
              "    <path d=\"M18.56 5.44l.94 2.06.94-2.06 2.06-.94-2.06-.94-.94-2.06-.94 2.06-2.06.94zm-11 1L8.5 8.5l.94-2.06 2.06-.94-2.06-.94L8.5 2.5l-.94 2.06-2.06.94zm10 10l.94 2.06.94-2.06 2.06-.94-2.06-.94-.94-2.06-.94 2.06-2.06.94z\"/><path d=\"M17.41 7.96l-1.37-1.37c-.4-.4-.92-.59-1.43-.59-.52 0-1.04.2-1.43.59L10.3 9.45l-7.72 7.72c-.78.78-.78 2.05 0 2.83L4 21.41c.39.39.9.59 1.41.59.51 0 1.02-.2 1.41-.59l7.78-7.78 2.81-2.81c.8-.78.8-2.07 0-2.86zM5.41 20L4 18.59l7.72-7.72 1.47 1.35L5.41 20z\"/>\n",
              "  </svg>\n",
              "      </button>\n",
              "      \n",
              "  <style>\n",
              "    .colab-df-container {\n",
              "      display:flex;\n",
              "      flex-wrap:wrap;\n",
              "      gap: 12px;\n",
              "    }\n",
              "\n",
              "    .colab-df-convert {\n",
              "      background-color: #E8F0FE;\n",
              "      border: none;\n",
              "      border-radius: 50%;\n",
              "      cursor: pointer;\n",
              "      display: none;\n",
              "      fill: #1967D2;\n",
              "      height: 32px;\n",
              "      padding: 0 0 0 0;\n",
              "      width: 32px;\n",
              "    }\n",
              "\n",
              "    .colab-df-convert:hover {\n",
              "      background-color: #E2EBFA;\n",
              "      box-shadow: 0px 1px 2px rgba(60, 64, 67, 0.3), 0px 1px 3px 1px rgba(60, 64, 67, 0.15);\n",
              "      fill: #174EA6;\n",
              "    }\n",
              "\n",
              "    [theme=dark] .colab-df-convert {\n",
              "      background-color: #3B4455;\n",
              "      fill: #D2E3FC;\n",
              "    }\n",
              "\n",
              "    [theme=dark] .colab-df-convert:hover {\n",
              "      background-color: #434B5C;\n",
              "      box-shadow: 0px 1px 3px 1px rgba(0, 0, 0, 0.15);\n",
              "      filter: drop-shadow(0px 1px 2px rgba(0, 0, 0, 0.3));\n",
              "      fill: #FFFFFF;\n",
              "    }\n",
              "  </style>\n",
              "\n",
              "      <script>\n",
              "        const buttonEl =\n",
              "          document.querySelector('#df-c0380487-e452-47e6-8ba1-1a88cee0e04b button.colab-df-convert');\n",
              "        buttonEl.style.display =\n",
              "          google.colab.kernel.accessAllowed ? 'block' : 'none';\n",
              "\n",
              "        async function convertToInteractive(key) {\n",
              "          const element = document.querySelector('#df-c0380487-e452-47e6-8ba1-1a88cee0e04b');\n",
              "          const dataTable =\n",
              "            await google.colab.kernel.invokeFunction('convertToInteractive',\n",
              "                                                     [key], {});\n",
              "          if (!dataTable) return;\n",
              "\n",
              "          const docLinkHtml = 'Like what you see? Visit the ' +\n",
              "            '<a target=\"_blank\" href=https://colab.research.google.com/notebooks/data_table.ipynb>data table notebook</a>'\n",
              "            + ' to learn more about interactive tables.';\n",
              "          element.innerHTML = '';\n",
              "          dataTable['output_type'] = 'display_data';\n",
              "          await google.colab.output.renderOutput(dataTable, element);\n",
              "          const docLink = document.createElement('div');\n",
              "          docLink.innerHTML = docLinkHtml;\n",
              "          element.appendChild(docLink);\n",
              "        }\n",
              "      </script>\n",
              "    </div>\n",
              "  </div>\n",
              "  "
            ]
          },
          "metadata": {},
          "execution_count": 9
        }
      ]
    },
    {
      "cell_type": "code",
      "source": [
        "len(df)"
      ],
      "metadata": {
        "colab": {
          "base_uri": "https://localhost:8080/",
          "height": 0
        },
        "id": "kKwcplcWVKO8",
        "outputId": "d12be015-d9e0-44d2-9363-05e2f408e23e"
      },
      "execution_count": 10,
      "outputs": [
        {
          "output_type": "execute_result",
          "data": {
            "text/plain": [
              "10886"
            ]
          },
          "metadata": {},
          "execution_count": 10
        }
      ]
    },
    {
      "cell_type": "code",
      "source": [
        "df.shape"
      ],
      "metadata": {
        "colab": {
          "base_uri": "https://localhost:8080/",
          "height": 0
        },
        "id": "XAkKAk35VMyZ",
        "outputId": "0138c150-7204-4462-ac0c-60cc0774c4e1"
      },
      "execution_count": 11,
      "outputs": [
        {
          "output_type": "execute_result",
          "data": {
            "text/plain": [
              "(10886, 12)"
            ]
          },
          "metadata": {},
          "execution_count": 11
        }
      ]
    },
    {
      "cell_type": "code",
      "source": [
        "df.dtypes"
      ],
      "metadata": {
        "colab": {
          "base_uri": "https://localhost:8080/",
          "height": 0
        },
        "id": "G_2o_R-fVQlf",
        "outputId": "70964f5b-6831-4786-f5ac-ec9640560411"
      },
      "execution_count": 12,
      "outputs": [
        {
          "output_type": "execute_result",
          "data": {
            "text/plain": [
              "datetime       object\n",
              "season          int64\n",
              "holiday         int64\n",
              "workingday      int64\n",
              "weather         int64\n",
              "temp          float64\n",
              "atemp         float64\n",
              "humidity        int64\n",
              "windspeed     float64\n",
              "casual          int64\n",
              "registered      int64\n",
              "count           int64\n",
              "dtype: object"
            ]
          },
          "metadata": {},
          "execution_count": 12
        }
      ]
    },
    {
      "cell_type": "code",
      "source": [
        "df.isnull().sum()"
      ],
      "metadata": {
        "colab": {
          "base_uri": "https://localhost:8080/",
          "height": 0
        },
        "id": "7LVWKFodF0Xc",
        "outputId": "c16985f6-7e64-4467-bf26-ffb3f730370d"
      },
      "execution_count": 13,
      "outputs": [
        {
          "output_type": "execute_result",
          "data": {
            "text/plain": [
              "datetime      0\n",
              "season        0\n",
              "holiday       0\n",
              "workingday    0\n",
              "weather       0\n",
              "temp          0\n",
              "atemp         0\n",
              "humidity      0\n",
              "windspeed     0\n",
              "casual        0\n",
              "registered    0\n",
              "count         0\n",
              "dtype: int64"
            ]
          },
          "metadata": {},
          "execution_count": 13
        }
      ]
    },
    {
      "cell_type": "markdown",
      "source": [
        "***Conversion*** From Integer to Categorical Feature of 4 Columns such as :-\n",
        "\n",
        "1. Season\n",
        "2. Holiday\n",
        "3. Weather\n",
        "4. WorkingDay"
      ],
      "metadata": {
        "id": "veoVlwPjiKxi"
      }
    },
    {
      "cell_type": "code",
      "source": [
        "df[\"season\"] = df[\"season\"].astype('category')"
      ],
      "metadata": {
        "id": "wEFfc9UHezHH"
      },
      "execution_count": 164,
      "outputs": []
    },
    {
      "cell_type": "code",
      "source": [
        "df[\"holiday\"] = df[\"holiday\"].astype('category')"
      ],
      "metadata": {
        "id": "THMGQd7vgBin"
      },
      "execution_count": 166,
      "outputs": []
    },
    {
      "cell_type": "code",
      "source": [
        "df[\"workingday\"] = df[\"workingday\"].astype('category')"
      ],
      "metadata": {
        "id": "c_VuO5rSgBru"
      },
      "execution_count": 170,
      "outputs": []
    },
    {
      "cell_type": "code",
      "source": [
        "df[\"weather\"] = df[\"weather\"].astype('category')"
      ],
      "metadata": {
        "id": "DNfUzI18gBz3"
      },
      "execution_count": 168,
      "outputs": []
    },
    {
      "cell_type": "code",
      "source": [
        "df.dtypes"
      ],
      "metadata": {
        "colab": {
          "base_uri": "https://localhost:8080/",
          "height": 0
        },
        "id": "F-AeGsdYgmIw",
        "outputId": "ebab75f8-12ee-4b7c-df10-b5edd7850eb4"
      },
      "execution_count": 171,
      "outputs": [
        {
          "output_type": "execute_result",
          "data": {
            "text/plain": [
              "datetime        object\n",
              "season        category\n",
              "holiday       category\n",
              "workingday    category\n",
              "weather       category\n",
              "temp           float64\n",
              "atemp          float64\n",
              "humidity         int64\n",
              "windspeed      float64\n",
              "casual           int64\n",
              "registered       int64\n",
              "count            int64\n",
              "dtype: object"
            ]
          },
          "metadata": {},
          "execution_count": 171
        }
      ]
    },
    {
      "cell_type": "markdown",
      "source": [
        "***Categorical Features***\n",
        "\n",
        "1. Season\n",
        "2. Holiday\n",
        "3. Working Day\n",
        "4. Weather\n",
        "5. Datetime"
      ],
      "metadata": {
        "id": "TENxebEGIkrF"
      }
    },
    {
      "cell_type": "markdown",
      "source": [
        "***Numerical Features***\n",
        "\n",
        "1. Count\n",
        "2. Temp\n",
        "3. aTemp\n",
        "4. Humidity\n",
        "5. Windspeed\n",
        "6. Casual\n",
        "7. Registered"
      ],
      "metadata": {
        "id": "ESgEixKcI6ZA"
      }
    },
    {
      "cell_type": "markdown",
      "source": [
        "# **Value** Counts "
      ],
      "metadata": {
        "id": "RYA9EqTwV9iE"
      }
    },
    {
      "cell_type": "code",
      "source": [
        "df[\"season\"].value_counts()"
      ],
      "metadata": {
        "colab": {
          "base_uri": "https://localhost:8080/",
          "height": 0
        },
        "id": "4-vJ7IYEF_lm",
        "outputId": "8d554fb3-8d3d-4185-8799-b879f7bc4f6c"
      },
      "execution_count": 14,
      "outputs": [
        {
          "output_type": "execute_result",
          "data": {
            "text/plain": [
              "4    2734\n",
              "2    2733\n",
              "3    2733\n",
              "1    2686\n",
              "Name: season, dtype: int64"
            ]
          },
          "metadata": {},
          "execution_count": 14
        }
      ]
    },
    {
      "cell_type": "code",
      "source": [
        "df[\"holiday\"].value_counts()"
      ],
      "metadata": {
        "colab": {
          "base_uri": "https://localhost:8080/",
          "height": 0
        },
        "id": "kd928I7NHXDz",
        "outputId": "bca3ba7d-5f2d-467a-88e3-b783c8bed777"
      },
      "execution_count": 15,
      "outputs": [
        {
          "output_type": "execute_result",
          "data": {
            "text/plain": [
              "0    10575\n",
              "1      311\n",
              "Name: holiday, dtype: int64"
            ]
          },
          "metadata": {},
          "execution_count": 15
        }
      ]
    },
    {
      "cell_type": "code",
      "source": [
        "df[\"workingday\"].value_counts()"
      ],
      "metadata": {
        "colab": {
          "base_uri": "https://localhost:8080/",
          "height": 0
        },
        "id": "hUxZzs2eHeHB",
        "outputId": "95f06f11-bbd8-4bae-f553-8d126b720913"
      },
      "execution_count": 16,
      "outputs": [
        {
          "output_type": "execute_result",
          "data": {
            "text/plain": [
              "1    7412\n",
              "0    3474\n",
              "Name: workingday, dtype: int64"
            ]
          },
          "metadata": {},
          "execution_count": 16
        }
      ]
    },
    {
      "cell_type": "code",
      "source": [
        "df[\"weather\"].value_counts()"
      ],
      "metadata": {
        "colab": {
          "base_uri": "https://localhost:8080/",
          "height": 0
        },
        "id": "Y_MrrXN7Hkmv",
        "outputId": "11821f66-9ed1-4a56-f60b-a8664a478606"
      },
      "execution_count": 17,
      "outputs": [
        {
          "output_type": "execute_result",
          "data": {
            "text/plain": [
              "1    7192\n",
              "2    2834\n",
              "3     859\n",
              "4       1\n",
              "Name: weather, dtype: int64"
            ]
          },
          "metadata": {},
          "execution_count": 17
        }
      ]
    },
    {
      "cell_type": "code",
      "source": [
        "df[\"temp\"].value_counts().sort_index()"
      ],
      "metadata": {
        "colab": {
          "base_uri": "https://localhost:8080/",
          "height": 0
        },
        "id": "swyXEhfnWw2q",
        "outputId": "140c9e39-b491-4f21-980a-8661b569ed36"
      },
      "execution_count": 173,
      "outputs": [
        {
          "output_type": "execute_result",
          "data": {
            "text/plain": [
              "0.82       7\n",
              "1.64       2\n",
              "2.46       5\n",
              "3.28      11\n",
              "4.10      44\n",
              "4.92      60\n",
              "5.74     107\n",
              "6.56     146\n",
              "7.38     106\n",
              "8.20     229\n",
              "9.02     248\n",
              "9.84     294\n",
              "10.66    332\n",
              "11.48    181\n",
              "12.30    385\n",
              "13.12    356\n",
              "13.94    413\n",
              "14.76    467\n",
              "15.58    255\n",
              "16.40    400\n",
              "17.22    356\n",
              "18.04    328\n",
              "18.86    406\n",
              "19.68    170\n",
              "20.50    327\n",
              "21.32    362\n",
              "22.14    403\n",
              "22.96    395\n",
              "23.78    203\n",
              "24.60    390\n",
              "25.42    403\n",
              "26.24    453\n",
              "27.06    394\n",
              "27.88    224\n",
              "28.70    427\n",
              "29.52    353\n",
              "30.34    299\n",
              "31.16    242\n",
              "31.98     98\n",
              "32.80    202\n",
              "33.62    130\n",
              "34.44     80\n",
              "35.26     76\n",
              "36.08     23\n",
              "36.90     46\n",
              "37.72     34\n",
              "38.54      7\n",
              "39.36      6\n",
              "41.00      1\n",
              "Name: temp, dtype: int64"
            ]
          },
          "metadata": {},
          "execution_count": 173
        }
      ]
    },
    {
      "cell_type": "code",
      "source": [
        "df[\"atemp\"].value_counts().sort_index()"
      ],
      "metadata": {
        "colab": {
          "base_uri": "https://localhost:8080/",
          "height": 0
        },
        "id": "lDJZO15LWw-e",
        "outputId": "4f29325b-91da-47b5-e264-52350efec15e"
      },
      "execution_count": 174,
      "outputs": [
        {
          "output_type": "execute_result",
          "data": {
            "text/plain": [
              "0.760       2\n",
              "1.515       1\n",
              "2.275       7\n",
              "3.030       7\n",
              "3.790      16\n",
              "4.545      11\n",
              "5.305      25\n",
              "6.060      73\n",
              "6.820      63\n",
              "7.575      75\n",
              "8.335      63\n",
              "9.090     107\n",
              "9.850     127\n",
              "10.605    166\n",
              "11.365    271\n",
              "12.120    195\n",
              "12.880    247\n",
              "13.635    237\n",
              "14.395    269\n",
              "15.150    338\n",
              "15.910    254\n",
              "16.665    381\n",
              "17.425    314\n",
              "18.180    123\n",
              "18.940     45\n",
              "19.695    255\n",
              "20.455    400\n",
              "21.210    356\n",
              "21.970    328\n",
              "22.725    406\n",
              "23.485    170\n",
              "24.240    327\n",
              "25.000    365\n",
              "25.760    423\n",
              "26.515    395\n",
              "27.275    282\n",
              "28.030     80\n",
              "28.790    175\n",
              "29.545    257\n",
              "30.305    350\n",
              "31.060    671\n",
              "31.820    299\n",
              "32.575    272\n",
              "33.335    364\n",
              "34.090    224\n",
              "34.850    283\n",
              "35.605    159\n",
              "36.365    123\n",
              "37.120    118\n",
              "37.880     97\n",
              "38.635     74\n",
              "39.395     67\n",
              "40.150     45\n",
              "40.910     39\n",
              "41.665     23\n",
              "42.425     24\n",
              "43.180      7\n",
              "43.940      7\n",
              "44.695      3\n",
              "45.455      1\n",
              "Name: atemp, dtype: int64"
            ]
          },
          "metadata": {},
          "execution_count": 174
        }
      ]
    },
    {
      "cell_type": "code",
      "source": [
        "df[\"humidity\"].value_counts().sort_index()"
      ],
      "metadata": {
        "colab": {
          "base_uri": "https://localhost:8080/",
          "height": 0
        },
        "id": "CevOTP5vWxH1",
        "outputId": "0e986f89-f1c4-4a72-8e71-7e65112f29e6"
      },
      "execution_count": 176,
      "outputs": [
        {
          "output_type": "execute_result",
          "data": {
            "text/plain": [
              "0       22\n",
              "8        1\n",
              "10       1\n",
              "12       1\n",
              "13       1\n",
              "      ... \n",
              "93     205\n",
              "94     324\n",
              "96       1\n",
              "97       1\n",
              "100    148\n",
              "Name: humidity, Length: 89, dtype: int64"
            ]
          },
          "metadata": {},
          "execution_count": 176
        }
      ]
    },
    {
      "cell_type": "code",
      "source": [
        "df[\"windspeed\"].value_counts().sort_index()"
      ],
      "metadata": {
        "colab": {
          "base_uri": "https://localhost:8080/",
          "height": 0
        },
        "id": "yEnFFwOFWxSw",
        "outputId": "f1373ec0-78d3-4420-ca48-39052adca73b"
      },
      "execution_count": 177,
      "outputs": [
        {
          "output_type": "execute_result",
          "data": {
            "text/plain": [
              "0.0000     1313\n",
              "6.0032      872\n",
              "7.0015     1034\n",
              "8.9981     1120\n",
              "11.0014    1057\n",
              "12.9980    1042\n",
              "15.0013     961\n",
              "16.9979     824\n",
              "19.0012     676\n",
              "19.9995     492\n",
              "22.0028     372\n",
              "23.9994     274\n",
              "26.0027     235\n",
              "27.9993     187\n",
              "30.0026     111\n",
              "31.0009      89\n",
              "32.9975      80\n",
              "35.0008      58\n",
              "36.9974      22\n",
              "39.0007      27\n",
              "40.9973      11\n",
              "43.0006      12\n",
              "43.9989       8\n",
              "46.0022       3\n",
              "47.9988       2\n",
              "50.0021       1\n",
              "51.9987       1\n",
              "56.9969       2\n",
              "Name: windspeed, dtype: int64"
            ]
          },
          "metadata": {},
          "execution_count": 177
        }
      ]
    },
    {
      "cell_type": "code",
      "source": [
        "df[\"casual\"].value_counts()"
      ],
      "metadata": {
        "colab": {
          "base_uri": "https://localhost:8080/",
          "height": 0
        },
        "id": "8ydQsfr5Wxdr",
        "outputId": "9a4328bd-cbbd-4a2a-a400-19275eaa39f2"
      },
      "execution_count": 192,
      "outputs": [
        {
          "output_type": "execute_result",
          "data": {
            "text/plain": [
              "0      986\n",
              "1      667\n",
              "2      487\n",
              "3      438\n",
              "4      354\n",
              "      ... \n",
              "332      1\n",
              "361      1\n",
              "356      1\n",
              "331      1\n",
              "304      1\n",
              "Name: casual, Length: 309, dtype: int64"
            ]
          },
          "metadata": {},
          "execution_count": 192
        }
      ]
    },
    {
      "cell_type": "code",
      "source": [
        "df[\"registered\"].value_counts()"
      ],
      "metadata": {
        "colab": {
          "base_uri": "https://localhost:8080/",
          "height": 0
        },
        "id": "5cwkoybRWxoB",
        "outputId": "7a8823cf-acae-40b6-dcaa-459a1b1ac433"
      },
      "execution_count": 191,
      "outputs": [
        {
          "output_type": "execute_result",
          "data": {
            "text/plain": [
              "3      195\n",
              "4      190\n",
              "5      177\n",
              "6      155\n",
              "2      150\n",
              "      ... \n",
              "570      1\n",
              "422      1\n",
              "678      1\n",
              "565      1\n",
              "636      1\n",
              "Name: registered, Length: 731, dtype: int64"
            ]
          },
          "metadata": {},
          "execution_count": 191
        }
      ]
    },
    {
      "cell_type": "code",
      "source": [
        "df[\"count\"].value_counts()"
      ],
      "metadata": {
        "colab": {
          "base_uri": "https://localhost:8080/",
          "height": 0
        },
        "id": "GyUk0ijMWx0d",
        "outputId": "284bde9d-6f29-46f8-af48-62c6a04300ba"
      },
      "execution_count": 190,
      "outputs": [
        {
          "output_type": "execute_result",
          "data": {
            "text/plain": [
              "5      169\n",
              "4      149\n",
              "3      144\n",
              "6      135\n",
              "2      132\n",
              "      ... \n",
              "801      1\n",
              "629      1\n",
              "825      1\n",
              "589      1\n",
              "636      1\n",
              "Name: count, Length: 822, dtype: int64"
            ]
          },
          "metadata": {},
          "execution_count": 190
        }
      ]
    },
    {
      "cell_type": "markdown",
      "source": [
        "***Range***\n",
        "\n",
        "1. Maximum Value of Temperature in Celsius is 41 and Minimum is 1.\n",
        "2. Maximum Value of Feeling Temperature in Celsius is 46 and Minimum is 3.\n",
        "3. Maximum Value of Humidity is 100 and Minimum is 0.\n",
        "4. Maximum Value of WindSpeed is 57 and Minimum is 0.\n",
        "5. Maximum Value of count of casual users is 367 and Minimum is 0.\n",
        "6. Maximum Value of count of registered users is 886 and Minimum is 0\n",
        "7. Maximum Value of count of total rental bikes including both casual and registered is 977 and Minimum is 1."
      ],
      "metadata": {
        "id": "YOp-fKHkpFk7"
      }
    },
    {
      "cell_type": "markdown",
      "source": [
        "# **Unique** Values"
      ],
      "metadata": {
        "id": "W63AfGkqWQ-_"
      }
    },
    {
      "cell_type": "code",
      "source": [
        "df[\"season\"].nunique()"
      ],
      "metadata": {
        "colab": {
          "base_uri": "https://localhost:8080/",
          "height": 0
        },
        "id": "OBfRPBp4WZeq",
        "outputId": "8b886344-b274-437c-860b-9fea645f3733"
      },
      "execution_count": 25,
      "outputs": [
        {
          "output_type": "execute_result",
          "data": {
            "text/plain": [
              "4"
            ]
          },
          "metadata": {},
          "execution_count": 25
        }
      ]
    },
    {
      "cell_type": "code",
      "source": [
        "df[\"holiday\"].nunique()"
      ],
      "metadata": {
        "colab": {
          "base_uri": "https://localhost:8080/",
          "height": 0
        },
        "id": "ggVhmq2rWZxP",
        "outputId": "76b034f7-c528-472e-a944-55e2e6ad4b65"
      },
      "execution_count": 26,
      "outputs": [
        {
          "output_type": "execute_result",
          "data": {
            "text/plain": [
              "2"
            ]
          },
          "metadata": {},
          "execution_count": 26
        }
      ]
    },
    {
      "cell_type": "code",
      "source": [
        "df[\"workingday\"].nunique()"
      ],
      "metadata": {
        "colab": {
          "base_uri": "https://localhost:8080/",
          "height": 0
        },
        "id": "mj2zaA2zWZ_N",
        "outputId": "bc2fd42f-7900-4911-c53d-70c35b8f3d74"
      },
      "execution_count": 27,
      "outputs": [
        {
          "output_type": "execute_result",
          "data": {
            "text/plain": [
              "2"
            ]
          },
          "metadata": {},
          "execution_count": 27
        }
      ]
    },
    {
      "cell_type": "code",
      "source": [
        "df[\"weather\"].nunique()"
      ],
      "metadata": {
        "colab": {
          "base_uri": "https://localhost:8080/",
          "height": 0
        },
        "id": "TZj6Nr5_WaLI",
        "outputId": "57f395eb-f261-44a1-cc4a-274a0253d7be"
      },
      "execution_count": 28,
      "outputs": [
        {
          "output_type": "execute_result",
          "data": {
            "text/plain": [
              "4"
            ]
          },
          "metadata": {},
          "execution_count": 28
        }
      ]
    },
    {
      "cell_type": "code",
      "source": [
        "df[\"temp\"].nunique()"
      ],
      "metadata": {
        "colab": {
          "base_uri": "https://localhost:8080/",
          "height": 0
        },
        "id": "fst503PmHm_V",
        "outputId": "9ba028f8-5e2e-4fac-eae7-ff6e4a41caef"
      },
      "execution_count": 29,
      "outputs": [
        {
          "output_type": "execute_result",
          "data": {
            "text/plain": [
              "49"
            ]
          },
          "metadata": {},
          "execution_count": 29
        }
      ]
    },
    {
      "cell_type": "code",
      "source": [
        "df[\"atemp\"].nunique()"
      ],
      "metadata": {
        "colab": {
          "base_uri": "https://localhost:8080/",
          "height": 0
        },
        "id": "2chnxETFHqvO",
        "outputId": "ba0629c3-fccb-4a6d-c42e-394836873942"
      },
      "execution_count": 30,
      "outputs": [
        {
          "output_type": "execute_result",
          "data": {
            "text/plain": [
              "60"
            ]
          },
          "metadata": {},
          "execution_count": 30
        }
      ]
    },
    {
      "cell_type": "code",
      "source": [
        "df[\"humidity\"].nunique()"
      ],
      "metadata": {
        "colab": {
          "base_uri": "https://localhost:8080/",
          "height": 0
        },
        "id": "A9C-XqzaHvxb",
        "outputId": "5821d8d0-5b26-4ec8-872b-942658e7528c"
      },
      "execution_count": 31,
      "outputs": [
        {
          "output_type": "execute_result",
          "data": {
            "text/plain": [
              "89"
            ]
          },
          "metadata": {},
          "execution_count": 31
        }
      ]
    },
    {
      "cell_type": "code",
      "source": [
        "df[\"windspeed\"].nunique()"
      ],
      "metadata": {
        "colab": {
          "base_uri": "https://localhost:8080/",
          "height": 0
        },
        "id": "MJNvRIEqICPO",
        "outputId": "3c673024-23b1-4da3-b6ab-05161c0dd01a"
      },
      "execution_count": 32,
      "outputs": [
        {
          "output_type": "execute_result",
          "data": {
            "text/plain": [
              "28"
            ]
          },
          "metadata": {},
          "execution_count": 32
        }
      ]
    },
    {
      "cell_type": "code",
      "source": [
        "df[\"casual\"].nunique()"
      ],
      "metadata": {
        "colab": {
          "base_uri": "https://localhost:8080/",
          "height": 0
        },
        "id": "G_kjP0vbIGUC",
        "outputId": "7f5a8a89-b5ed-4b94-90c2-89bf25c88296"
      },
      "execution_count": 33,
      "outputs": [
        {
          "output_type": "execute_result",
          "data": {
            "text/plain": [
              "309"
            ]
          },
          "metadata": {},
          "execution_count": 33
        }
      ]
    },
    {
      "cell_type": "code",
      "source": [
        "df[\"registered\"].nunique()"
      ],
      "metadata": {
        "colab": {
          "base_uri": "https://localhost:8080/",
          "height": 0
        },
        "id": "uChZusZLIL0g",
        "outputId": "00920b15-d43d-46a7-a4d7-5cbb174091c3"
      },
      "execution_count": 34,
      "outputs": [
        {
          "output_type": "execute_result",
          "data": {
            "text/plain": [
              "731"
            ]
          },
          "metadata": {},
          "execution_count": 34
        }
      ]
    },
    {
      "cell_type": "code",
      "source": [
        "df[\"count\"].nunique()"
      ],
      "metadata": {
        "colab": {
          "base_uri": "https://localhost:8080/",
          "height": 0
        },
        "id": "4d3rXHGOIOvl",
        "outputId": "f5b5f167-1f4d-400f-b971-4cfb0a368f20"
      },
      "execution_count": 35,
      "outputs": [
        {
          "output_type": "execute_result",
          "data": {
            "text/plain": [
              "822"
            ]
          },
          "metadata": {},
          "execution_count": 35
        }
      ]
    },
    {
      "cell_type": "code",
      "source": [
        "df[\"datetime\"].nunique()"
      ],
      "metadata": {
        "colab": {
          "base_uri": "https://localhost:8080/",
          "height": 0
        },
        "id": "1fPsbAtqIQpS",
        "outputId": "5da01a78-ccac-4ee8-956c-21c1b9a4e4df"
      },
      "execution_count": 36,
      "outputs": [
        {
          "output_type": "execute_result",
          "data": {
            "text/plain": [
              "10886"
            ]
          },
          "metadata": {},
          "execution_count": 36
        }
      ]
    },
    {
      "cell_type": "markdown",
      "source": [
        "***Insights***\n",
        "\n",
        "1. In the given data there are 4 types of Season such as :-\n",
        "\n",
        "a: spring, \n",
        "\n",
        "b: summer, \n",
        "\n",
        "c: fall, \n",
        "\n",
        "d: winter\n",
        "\n",
        "\n",
        "2. In the given data there are 4 types of Weather such as :-\n",
        "\n",
        "a: Clear, Few clouds, partly cloudy, partly cloudy\n",
        "\n",
        "b: Mist + Cloudy, Mist + Broken clouds, Mist + Few clouds, Mist\n",
        "\n",
        "c: Light Snow, Light Rain + Thunderstorm + Scattered clouds, Light Rain + Scattered clouds\n",
        "\n",
        "d: Heavy Rain + Ice Pallets + Thunderstorm + Mist, Snow + Fog\n"
      ],
      "metadata": {
        "id": "qQW6mXzOlZJ7"
      }
    },
    {
      "cell_type": "markdown",
      "source": [
        "# **Univariate** Analaysis"
      ],
      "metadata": {
        "id": "GAkbn0cxUliz"
      }
    },
    {
      "cell_type": "code",
      "source": [
        "sns.countplot(x = \"season\" , data=df)\n",
        "plt.show()"
      ],
      "metadata": {
        "colab": {
          "base_uri": "https://localhost:8080/",
          "height": 279
        },
        "id": "sq0UwBHkIytK",
        "outputId": "85d2e91e-9e48-4985-ea21-bf6741afa75d"
      },
      "execution_count": 37,
      "outputs": [
        {
          "output_type": "display_data",
          "data": {
            "text/plain": [
              "<Figure size 432x288 with 1 Axes>"
            ],
            "image/png": "[encoded data removed]"
          },
          "metadata": {
            "needs_background": "light"
          }
        }
      ]
    },
    {
      "cell_type": "code",
      "source": [
        "sns.countplot(x = \"holiday\" , data=df)\n",
        "plt.show()\n"
      ],
      "metadata": {
        "colab": {
          "base_uri": "https://localhost:8080/",
          "height": 279
        },
        "id": "vz24YiPRJ3zq",
        "outputId": "be7ce8b3-1a30-4726-9b2b-e626eb7da07e"
      },
      "execution_count": 38,
      "outputs": [
        {
          "output_type": "display_data",
          "data": {
            "text/plain": [
              "<Figure size 432x288 with 1 Axes>"
            ],
            "image/png": "[encoded data removed]"
          },
          "metadata": {
            "needs_background": "light"
          }
        }
      ]
    },
    {
      "cell_type": "code",
      "source": [
        "sns.countplot(x = \"workingday\" , data=df)\n",
        "plt.show()"
      ],
      "metadata": {
        "colab": {
          "base_uri": "https://localhost:8080/",
          "height": 279
        },
        "id": "QDiqOLKvKEIw",
        "outputId": "52a9f601-9595-4724-e803-68fb528cf5de"
      },
      "execution_count": 39,
      "outputs": [
        {
          "output_type": "display_data",
          "data": {
            "text/plain": [
              "<Figure size 432x288 with 1 Axes>"
            ],
            "image/png": "[encoded data removed]"
          },
          "metadata": {
            "needs_background": "light"
          }
        }
      ]
    },
    {
      "cell_type": "code",
      "source": [
        "sns.countplot(x = \"weather\" , data=df)\n",
        "plt.show()"
      ],
      "metadata": {
        "colab": {
          "base_uri": "https://localhost:8080/",
          "height": 279
        },
        "id": "4_o9vv8EKQhB",
        "outputId": "a50a6036-5bdb-4731-fdf3-4a8999469ab3"
      },
      "execution_count": 40,
      "outputs": [
        {
          "output_type": "display_data",
          "data": {
            "text/plain": [
              "<Figure size 432x288 with 1 Axes>"
            ],
            "image/png": "[encoded data removed]"
          },
          "metadata": {
            "needs_background": "light"
          }
        }
      ]
    },
    {
      "cell_type": "markdown",
      "source": [
        "***Insights***\n",
        "\n",
        "1. There are 4 types of season such as :- (1: spring, 2: summer, 3: fall, 4: winter) which occur approximate equal times according to the given data.\n",
        "2. There are 4 types of Weather in which weather type-1 occur mostly times and weather type-2 occur rarely times according to the given data.\n",
        "3. According to the given data holiday occur only 2% \n",
        "4. According to the given data WorkingDay is approximately 2 times of Non-WorkingDay.\n"
      ],
      "metadata": {
        "id": "DV7axFqgizUa"
      }
    },
    {
      "cell_type": "code",
      "source": [
        "sns.boxplot(y=\"humidity\" , data=df)\n",
        "plt.show()"
      ],
      "metadata": {
        "colab": {
          "base_uri": "https://localhost:8080/",
          "height": 252
        },
        "id": "8u6EiPcaKTX6",
        "outputId": "405a327c-93e8-4eac-81da-9455b89dad42"
      },
      "execution_count": 41,
      "outputs": [
        {
          "output_type": "display_data",
          "data": {
            "text/plain": [
              "<Figure size 432x288 with 1 Axes>"
            ],
            "image/png": "[encoded data removed]"
          },
          "metadata": {
            "needs_background": "light"
          }
        }
      ]
    },
    {
      "cell_type": "code",
      "source": [
        "sns.boxplot(y=\"windspeed\" , data=df)\n",
        "plt.show()"
      ],
      "metadata": {
        "colab": {
          "base_uri": "https://localhost:8080/",
          "height": 252
        },
        "id": "mgJ25V3aKyLl",
        "outputId": "683d7f27-b471-4a20-a453-722fef688c34"
      },
      "execution_count": 42,
      "outputs": [
        {
          "output_type": "display_data",
          "data": {
            "text/plain": [
              "<Figure size 432x288 with 1 Axes>"
            ],
            "image/png": "[encoded data removed]"
          },
          "metadata": {
            "needs_background": "light"
          }
        }
      ]
    },
    {
      "cell_type": "code",
      "source": [
        "sns.boxplot(y=\"temp\" , data=df)\n",
        "plt.show()"
      ],
      "metadata": {
        "colab": {
          "base_uri": "https://localhost:8080/",
          "height": 252
        },
        "id": "YH5xSrcULock",
        "outputId": "e1f939a2-8b3a-4704-bd6b-d72d99c12f4f"
      },
      "execution_count": 43,
      "outputs": [
        {
          "output_type": "display_data",
          "data": {
            "text/plain": [
              "<Figure size 432x288 with 1 Axes>"
            ],
            "image/png": "[encoded data removed]"
          },
          "metadata": {
            "needs_background": "light"
          }
        }
      ]
    },
    {
      "cell_type": "code",
      "source": [
        "sns.boxplot(y=\"atemp\" , data=df)\n",
        "plt.show()"
      ],
      "metadata": {
        "colab": {
          "base_uri": "https://localhost:8080/",
          "height": 252
        },
        "id": "Gc1a4nPtMVDd",
        "outputId": "fe06c523-7bd1-4846-fd8e-5e35c67c77bc"
      },
      "execution_count": 44,
      "outputs": [
        {
          "output_type": "display_data",
          "data": {
            "text/plain": [
              "<Figure size 432x288 with 1 Axes>"
            ],
            "image/png": "[encoded data removed]"
          },
          "metadata": {
            "needs_background": "light"
          }
        }
      ]
    },
    {
      "cell_type": "code",
      "source": [
        "sns.boxplot(y=\"count\" , data=df)\n",
        "plt.show()"
      ],
      "metadata": {
        "colab": {
          "base_uri": "https://localhost:8080/",
          "height": 252
        },
        "id": "FKqOXAMMMXkL",
        "outputId": "d9c21d07-4f45-4b19-bbe6-2387b4a93b07"
      },
      "execution_count": 45,
      "outputs": [
        {
          "output_type": "display_data",
          "data": {
            "text/plain": [
              "<Figure size 432x288 with 1 Axes>"
            ],
            "image/png": "[encoded data removed]"
          },
          "metadata": {
            "needs_background": "light"
          }
        }
      ]
    },
    {
      "cell_type": "code",
      "source": [
        "sns.boxplot(y=\"registered\" , data=df)\n",
        "plt.show()"
      ],
      "metadata": {
        "colab": {
          "base_uri": "https://localhost:8080/",
          "height": 252
        },
        "id": "mrV1GCRWMa6B",
        "outputId": "5db9bde8-e4fb-4c89-df17-eacffd7e7394"
      },
      "execution_count": 46,
      "outputs": [
        {
          "output_type": "display_data",
          "data": {
            "text/plain": [
              "<Figure size 432x288 with 1 Axes>"
            ],
            "image/png": "[encoded data removed]"
          },
          "metadata": {
            "needs_background": "light"
          }
        }
      ]
    },
    {
      "cell_type": "code",
      "source": [
        "sns.boxplot(y=\"casual\" , data=df)\n",
        "plt.show()"
      ],
      "metadata": {
        "colab": {
          "base_uri": "https://localhost:8080/",
          "height": 252
        },
        "id": "N5FBu8DRMdia",
        "outputId": "55d7d3ae-9f2a-4c09-fa8b-f9a9f134a294"
      },
      "execution_count": 47,
      "outputs": [
        {
          "output_type": "display_data",
          "data": {
            "text/plain": [
              "<Figure size 432x288 with 1 Axes>"
            ],
            "image/png": "[encoded data removed]"
          },
          "metadata": {
            "needs_background": "light"
          }
        }
      ]
    },
    {
      "cell_type": "code",
      "source": [
        "sns.histplot(x = \"count\" , data=df , bins=50)\n",
        "plt.show()"
      ],
      "metadata": {
        "colab": {
          "base_uri": "https://localhost:8080/",
          "height": 279
        },
        "id": "dly_U_qjMhpd",
        "outputId": "d3b0f746-1d40-4e47-c097-fa5f426f5bc3"
      },
      "execution_count": 189,
      "outputs": [
        {
          "output_type": "display_data",
          "data": {
            "text/plain": [
              "<Figure size 432x288 with 1 Axes>"
            ],
            "image/png": "[encoded data removed]"
          },
          "metadata": {
            "needs_background": "light"
          }
        }
      ]
    },
    {
      "cell_type": "code",
      "source": [
        "sns.histplot(x = \"casual\" , data=df , bins = 50)\n",
        "plt.show()"
      ],
      "metadata": {
        "colab": {
          "base_uri": "https://localhost:8080/",
          "height": 279
        },
        "id": "aD8OfplYYBhY",
        "outputId": "23c96fb5-7739-4d08-d804-0527273bdf40"
      },
      "execution_count": 49,
      "outputs": [
        {
          "output_type": "display_data",
          "data": {
            "text/plain": [
              "<Figure size 432x288 with 1 Axes>"
            ],
            "image/png": "[encoded data removed]"
          },
          "metadata": {
            "needs_background": "light"
          }
        }
      ]
    },
    {
      "cell_type": "code",
      "source": [
        "sns.histplot(x = \"registered\" , data = df , bins = 50)\n",
        "plt.show()"
      ],
      "metadata": {
        "colab": {
          "base_uri": "https://localhost:8080/",
          "height": 279
        },
        "id": "j8g6UxYhYCvH",
        "outputId": "55ff66c5-a58e-498b-a8ae-d43fd8354708"
      },
      "execution_count": 50,
      "outputs": [
        {
          "output_type": "display_data",
          "data": {
            "text/plain": [
              "<Figure size 432x288 with 1 Axes>"
            ],
            "image/png": "[encoded data removed]"
          },
          "metadata": {
            "needs_background": "light"
          }
        }
      ]
    },
    {
      "cell_type": "markdown",
      "source": [
        "***Comments***\n",
        "\n",
        "1. From the Histogram plot of COUNT of TOTAL RENTAL BIKES including both casual and registered are Right-Skewed Normal Distributed curve in which \"5\" COUNT of TOTAL RENTAL BIKES maximum times occur i.e 169 times.\n",
        "\n",
        "2. From the Histogram plot of COUNT of REGISTERED USERS are Right-Skewed Normal Distributed curve in which \"3\" COUNT of REGISTERED USERS maximum times occuri.e 195 times.\n",
        "\n",
        "3. From the Histogram plot of COUNT of CASUAL USERS are Right-Skewed Normal Distributed curve in which \"0\" COUNT of CASUAL USERS maximum times occur i.e 986 times."
      ],
      "metadata": {
        "id": "6uLhwwKEpm77"
      }
    },
    {
      "cell_type": "markdown",
      "source": [
        "**Outliers**\n",
        "\n",
        "1. Windspeed\n",
        "2. Count\n",
        "3. Casual\n",
        "4. Registered"
      ],
      "metadata": {
        "id": "GkNbha85Ng0g"
      }
    },
    {
      "cell_type": "markdown",
      "source": [
        "***Range***\n",
        "\n",
        "1. Maximum Value of Temperature in Celsius is 41 and Minimum is 1.\n",
        "2. Maximum Value of Feeling Temperature in Celsius is 46 and Minimum is 3.\n",
        "3. Maximum Value of Humidity is 100 and Minimum is 0.\n",
        "4. Maximum Value of WindSpeed is 57 and Minimum is 0.\n",
        "5. Maximum Value of count of casual users is 367 and Minimum is 0.\n",
        "6. Maximum Value of count of registered users is 886 and Minimum is 0\n",
        "7. Maximum Value of count of total rental bikes including both casual and registered is 977 and Minimum is 1."
      ],
      "metadata": {
        "id": "rXFxcPhNmZrZ"
      }
    },
    {
      "cell_type": "code",
      "source": [],
      "metadata": {
        "id": "K7jAmEfsUvds"
      },
      "execution_count": 50,
      "outputs": []
    },
    {
      "cell_type": "markdown",
      "source": [
        "# ***Windspeed*** Outliers"
      ],
      "metadata": {
        "id": "BF5v6ublNzSc"
      }
    },
    {
      "cell_type": "code",
      "source": [
        "df[\"windspeed\"].mean()"
      ],
      "metadata": {
        "colab": {
          "base_uri": "https://localhost:8080/",
          "height": 0
        },
        "id": "RuLg42Nhz3ba",
        "outputId": "e3dad762-3b95-4d81-ce3e-cd184b4424ba"
      },
      "execution_count": 193,
      "outputs": [
        {
          "output_type": "execute_result",
          "data": {
            "text/plain": [
              "12.7993954069447"
            ]
          },
          "metadata": {},
          "execution_count": 193
        }
      ]
    },
    {
      "cell_type": "code",
      "source": [
        "a = np.percentile(df[\"windspeed\"] , 25)\n",
        "a"
      ],
      "metadata": {
        "colab": {
          "base_uri": "https://localhost:8080/",
          "height": 0
        },
        "id": "SWHyCew0MvRh",
        "outputId": "123a7720-b3ca-4e47-9d1a-568eabb433d0"
      },
      "execution_count": 51,
      "outputs": [
        {
          "output_type": "execute_result",
          "data": {
            "text/plain": [
              "7.0015"
            ]
          },
          "metadata": {},
          "execution_count": 51
        }
      ]
    },
    {
      "cell_type": "code",
      "source": [
        "b = np.percentile(df[\"windspeed\"] , 50)\n",
        "b"
      ],
      "metadata": {
        "colab": {
          "base_uri": "https://localhost:8080/",
          "height": 0
        },
        "id": "tqad4zB7N-kT",
        "outputId": "3d7bb5e6-f4e4-493c-debf-469c18866d3a"
      },
      "execution_count": 52,
      "outputs": [
        {
          "output_type": "execute_result",
          "data": {
            "text/plain": [
              "12.998"
            ]
          },
          "metadata": {},
          "execution_count": 52
        }
      ]
    },
    {
      "cell_type": "code",
      "source": [
        "c = np.percentile(df[\"windspeed\"] , 75)\n",
        "c"
      ],
      "metadata": {
        "colab": {
          "base_uri": "https://localhost:8080/",
          "height": 0
        },
        "id": "Typ4zHjhONLw",
        "outputId": "b2654ef3-8b9b-4b88-d6ef-1a84442849e2"
      },
      "execution_count": 53,
      "outputs": [
        {
          "output_type": "execute_result",
          "data": {
            "text/plain": [
              "16.9979"
            ]
          },
          "metadata": {},
          "execution_count": 53
        }
      ]
    },
    {
      "cell_type": "code",
      "source": [
        "iqr = c-a\n",
        "iqr"
      ],
      "metadata": {
        "colab": {
          "base_uri": "https://localhost:8080/",
          "height": 0
        },
        "id": "9oxc8V4fOQ29",
        "outputId": "8f6c8066-90c1-4027-f844-305387ac3ff6"
      },
      "execution_count": 54,
      "outputs": [
        {
          "output_type": "execute_result",
          "data": {
            "text/plain": [
              "9.996400000000001"
            ]
          },
          "metadata": {},
          "execution_count": 54
        }
      ]
    },
    {
      "cell_type": "code",
      "source": [
        "lower = max((a-1.5*iqr) , 0)\n",
        "lower"
      ],
      "metadata": {
        "colab": {
          "base_uri": "https://localhost:8080/",
          "height": 0
        },
        "id": "CQviTUxqOWKE",
        "outputId": "2561e726-3ef1-4563-d95e-5e7b4febf594"
      },
      "execution_count": 55,
      "outputs": [
        {
          "output_type": "execute_result",
          "data": {
            "text/plain": [
              "0"
            ]
          },
          "metadata": {},
          "execution_count": 55
        }
      ]
    },
    {
      "cell_type": "code",
      "source": [
        "upper = (c+1.5*iqr)\n",
        "upper"
      ],
      "metadata": {
        "colab": {
          "base_uri": "https://localhost:8080/",
          "height": 0
        },
        "id": "hFWltJ9COfan",
        "outputId": "5dfebd8b-216f-4e56-e766-a1d6798d6228"
      },
      "execution_count": 56,
      "outputs": [
        {
          "output_type": "execute_result",
          "data": {
            "text/plain": [
              "31.992500000000003"
            ]
          },
          "metadata": {},
          "execution_count": 56
        }
      ]
    },
    {
      "cell_type": "code",
      "source": [
        "outlier = df[(df[\"windspeed\"] < lower) | (df[\"windspeed\"] > upper)]\n",
        "len(outlier)"
      ],
      "metadata": {
        "colab": {
          "base_uri": "https://localhost:8080/",
          "height": 0
        },
        "id": "KeL9mW12OlS1",
        "outputId": "5367f83c-0784-4920-919d-3a370273cce7"
      },
      "execution_count": 57,
      "outputs": [
        {
          "output_type": "execute_result",
          "data": {
            "text/plain": [
              "227"
            ]
          },
          "metadata": {},
          "execution_count": 57
        }
      ]
    },
    {
      "cell_type": "code",
      "source": [
        "no_outlier = df[(df[\"windspeed\"] >= lower) & (df[\"windspeed\"] <= upper)]\n",
        "len(no_outlier)"
      ],
      "metadata": {
        "colab": {
          "base_uri": "https://localhost:8080/",
          "height": 0
        },
        "id": "Tycrv-6zPErx",
        "outputId": "9fd7ba10-2376-47eb-a05a-0ff55672271f"
      },
      "execution_count": 58,
      "outputs": [
        {
          "output_type": "execute_result",
          "data": {
            "text/plain": [
              "10659"
            ]
          },
          "metadata": {},
          "execution_count": 58
        }
      ]
    },
    {
      "cell_type": "code",
      "source": [
        "percent_outlier = (len(outlier)/len(df))*100\n",
        "percent_outlier"
      ],
      "metadata": {
        "colab": {
          "base_uri": "https://localhost:8080/",
          "height": 0
        },
        "id": "A7U7pd7oPfzz",
        "outputId": "545070ef-814e-4543-b410-4757ec29ae82"
      },
      "execution_count": 59,
      "outputs": [
        {
          "output_type": "execute_result",
          "data": {
            "text/plain": [
              "2.085247106375161"
            ]
          },
          "metadata": {},
          "execution_count": 59
        }
      ]
    },
    {
      "cell_type": "code",
      "source": [
        "sns.boxplot(y = \"windspeed\" , data = no_outlier)\n",
        "plt.show()"
      ],
      "metadata": {
        "colab": {
          "base_uri": "https://localhost:8080/",
          "height": 252
        },
        "id": "mmqcgOmvP5hT",
        "outputId": "5724dcaa-9ed8-4940-e99f-ba9cf2df2740"
      },
      "execution_count": 60,
      "outputs": [
        {
          "output_type": "display_data",
          "data": {
            "text/plain": [
              "<Figure size 432x288 with 1 Axes>"
            ],
            "image/png": "[encoded data removed]"
          },
          "metadata": {
            "needs_background": "light"
          }
        }
      ]
    },
    {
      "cell_type": "code",
      "source": [],
      "metadata": {
        "id": "FyJHmW-iQhee"
      },
      "execution_count": 60,
      "outputs": []
    },
    {
      "cell_type": "markdown",
      "source": [
        "***Insights***\n",
        "\n",
        "1. Minimum value of windspeed is 0.\n",
        "2. Maximum value of windspeed is 32.\n",
        "3. Median value of windspeed is 13.\n",
        "4. Mean value of windspeed is approx 13.\n",
        "5. The value of windspeed above 32 is Outliers.\n",
        "6. There is total 2% of Outliers in windspeed."
      ],
      "metadata": {
        "id": "xIJOgLYuy8Cb"
      }
    },
    {
      "cell_type": "markdown",
      "source": [
        "# **Count** Outliers"
      ],
      "metadata": {
        "id": "Ifbri62fQxlG"
      }
    },
    {
      "cell_type": "code",
      "source": [
        "df[\"count\"].mean()"
      ],
      "metadata": {
        "colab": {
          "base_uri": "https://localhost:8080/",
          "height": 0
        },
        "id": "nraOn5q005im",
        "outputId": "b0e7df07-80ba-4139-97a8-584b63172448"
      },
      "execution_count": 195,
      "outputs": [
        {
          "output_type": "execute_result",
          "data": {
            "text/plain": [
              "191.57413191254824"
            ]
          },
          "metadata": {},
          "execution_count": 195
        }
      ]
    },
    {
      "cell_type": "code",
      "source": [
        "a = np.percentile(df[\"count\"] , 25)\n",
        "a"
      ],
      "metadata": {
        "colab": {
          "base_uri": "https://localhost:8080/",
          "height": 0
        },
        "outputId": "44a6141d-18c5-4c33-af75-5261a7ee65bd",
        "id": "FF3EM6_ZQxlH"
      },
      "execution_count": 61,
      "outputs": [
        {
          "output_type": "execute_result",
          "data": {
            "text/plain": [
              "42.0"
            ]
          },
          "metadata": {},
          "execution_count": 61
        }
      ]
    },
    {
      "cell_type": "code",
      "source": [
        "b = np.percentile(df[\"count\"] , 50)\n",
        "b"
      ],
      "metadata": {
        "colab": {
          "base_uri": "https://localhost:8080/",
          "height": 0
        },
        "outputId": "57dc5daa-89f2-4e37-8604-2a107501f8b2",
        "id": "jOxKaSkQQxlI"
      },
      "execution_count": 62,
      "outputs": [
        {
          "output_type": "execute_result",
          "data": {
            "text/plain": [
              "145.0"
            ]
          },
          "metadata": {},
          "execution_count": 62
        }
      ]
    },
    {
      "cell_type": "code",
      "source": [
        "c = np.percentile(df[\"count\"] , 75)\n",
        "c"
      ],
      "metadata": {
        "colab": {
          "base_uri": "https://localhost:8080/",
          "height": 0
        },
        "outputId": "b3b80bb1-3ee2-4bbb-9e9c-48de052e7831",
        "id": "BfnSgs-PQxlJ"
      },
      "execution_count": 63,
      "outputs": [
        {
          "output_type": "execute_result",
          "data": {
            "text/plain": [
              "284.0"
            ]
          },
          "metadata": {},
          "execution_count": 63
        }
      ]
    },
    {
      "cell_type": "code",
      "source": [
        "iqr = c-a\n",
        "iqr"
      ],
      "metadata": {
        "colab": {
          "base_uri": "https://localhost:8080/",
          "height": 0
        },
        "outputId": "8e5ae644-2f8b-4d29-acac-e7d0ef797e57",
        "id": "sSjFHoPxQxlJ"
      },
      "execution_count": 64,
      "outputs": [
        {
          "output_type": "execute_result",
          "data": {
            "text/plain": [
              "242.0"
            ]
          },
          "metadata": {},
          "execution_count": 64
        }
      ]
    },
    {
      "cell_type": "code",
      "source": [
        "lower = max((a-1.5*iqr) , 0)\n",
        "lower"
      ],
      "metadata": {
        "colab": {
          "base_uri": "https://localhost:8080/",
          "height": 0
        },
        "outputId": "d2433317-a8c2-4265-eaba-7bfa81f6cdda",
        "id": "KVDiDb3uQxlK"
      },
      "execution_count": 65,
      "outputs": [
        {
          "output_type": "execute_result",
          "data": {
            "text/plain": [
              "0"
            ]
          },
          "metadata": {},
          "execution_count": 65
        }
      ]
    },
    {
      "cell_type": "code",
      "source": [
        "upper = (c+1.5*iqr)\n",
        "upper"
      ],
      "metadata": {
        "colab": {
          "base_uri": "https://localhost:8080/",
          "height": 0
        },
        "outputId": "86eaf895-c94f-4f83-b70f-0dbd85c27bc8",
        "id": "fUXdoUEoQxlK"
      },
      "execution_count": 66,
      "outputs": [
        {
          "output_type": "execute_result",
          "data": {
            "text/plain": [
              "647.0"
            ]
          },
          "metadata": {},
          "execution_count": 66
        }
      ]
    },
    {
      "cell_type": "code",
      "source": [
        "outlier = df[(df[\"count\"] < lower) | (df[\"count\"] > upper)]\n",
        "len(outlier)"
      ],
      "metadata": {
        "colab": {
          "base_uri": "https://localhost:8080/",
          "height": 0
        },
        "outputId": "1b0eaaab-8a78-434b-df84-1e30a25fa246",
        "id": "UYEF-cVjQxlL"
      },
      "execution_count": 67,
      "outputs": [
        {
          "output_type": "execute_result",
          "data": {
            "text/plain": [
              "300"
            ]
          },
          "metadata": {},
          "execution_count": 67
        }
      ]
    },
    {
      "cell_type": "code",
      "source": [
        "no_outlier = df[(df[\"count\"] >= lower) & (df[\"count\"] <= upper)]\n",
        "len(no_outlier)"
      ],
      "metadata": {
        "colab": {
          "base_uri": "https://localhost:8080/",
          "height": 0
        },
        "outputId": "53664c97-725f-48cb-8199-d25fc302730c",
        "id": "qG0kMpuKQxlM"
      },
      "execution_count": 68,
      "outputs": [
        {
          "output_type": "execute_result",
          "data": {
            "text/plain": [
              "10586"
            ]
          },
          "metadata": {},
          "execution_count": 68
        }
      ]
    },
    {
      "cell_type": "code",
      "source": [
        "percent_outlier = (len(outlier)/len(df))*100\n",
        "percent_outlier"
      ],
      "metadata": {
        "colab": {
          "base_uri": "https://localhost:8080/",
          "height": 0
        },
        "outputId": "c347167a-333e-4044-ca64-48f9bf17b9d7",
        "id": "YfC1bATdQxlN"
      },
      "execution_count": 69,
      "outputs": [
        {
          "output_type": "execute_result",
          "data": {
            "text/plain": [
              "2.75583318023149"
            ]
          },
          "metadata": {},
          "execution_count": 69
        }
      ]
    },
    {
      "cell_type": "code",
      "source": [
        "sns.boxplot(y = \"count\" , data = no_outlier)\n",
        "plt.show()"
      ],
      "metadata": {
        "colab": {
          "base_uri": "https://localhost:8080/",
          "height": 252
        },
        "outputId": "fac10315-30cb-40cc-e498-3839f020a09f",
        "id": "KxaoBPPkQxlN"
      },
      "execution_count": 70,
      "outputs": [
        {
          "output_type": "display_data",
          "data": {
            "text/plain": [
              "<Figure size 432x288 with 1 Axes>"
            ],
            "image/png": "[encoded data removed]"
          },
          "metadata": {
            "needs_background": "light"
          }
        }
      ]
    },
    {
      "cell_type": "code",
      "source": [],
      "metadata": {
        "id": "iPn8jpPFQxlN"
      },
      "execution_count": 70,
      "outputs": []
    },
    {
      "cell_type": "markdown",
      "source": [
        "***Insights***\n",
        "\n",
        "1. Minimum value of COUNT is 0.\n",
        "2. Maximum value of COUNT is 647.\n",
        "3. Median value of COUNT is 145.\n",
        "4. Mean value of COUNT is approx 192.\n",
        "5. The value of COUNT above 647 is Outliers.\n",
        "6. There is total 2.75% of Outliers in COUNT."
      ],
      "metadata": {
        "id": "0H2_akeH0Kbz"
      }
    },
    {
      "cell_type": "markdown",
      "source": [
        "# **Casual** Outliers"
      ],
      "metadata": {
        "id": "UG8tn6H2RcLr"
      }
    },
    {
      "cell_type": "code",
      "source": [
        "df[\"casual\"].mean()"
      ],
      "metadata": {
        "colab": {
          "base_uri": "https://localhost:8080/",
          "height": 0
        },
        "id": "3yG8qvxW1CqE",
        "outputId": "758a63f2-42cf-4bd2-c02d-00a2f6fe1e5b"
      },
      "execution_count": 196,
      "outputs": [
        {
          "output_type": "execute_result",
          "data": {
            "text/plain": [
              "36.02195480433584"
            ]
          },
          "metadata": {},
          "execution_count": 196
        }
      ]
    },
    {
      "cell_type": "code",
      "source": [
        "a = np.percentile(df[\"casual\"] , 25)\n",
        "a"
      ],
      "metadata": {
        "colab": {
          "base_uri": "https://localhost:8080/",
          "height": 0
        },
        "outputId": "9089e144-927e-44ca-c581-d944ff60e3b0",
        "id": "2kw6orOFRcL1"
      },
      "execution_count": 71,
      "outputs": [
        {
          "output_type": "execute_result",
          "data": {
            "text/plain": [
              "4.0"
            ]
          },
          "metadata": {},
          "execution_count": 71
        }
      ]
    },
    {
      "cell_type": "code",
      "source": [
        "b = np.percentile(df[\"casual\"] , 50)\n",
        "b"
      ],
      "metadata": {
        "colab": {
          "base_uri": "https://localhost:8080/",
          "height": 0
        },
        "outputId": "0ccd4668-7469-40b3-fc46-c68b76963412",
        "id": "nGG9uopvRcL1"
      },
      "execution_count": 72,
      "outputs": [
        {
          "output_type": "execute_result",
          "data": {
            "text/plain": [
              "17.0"
            ]
          },
          "metadata": {},
          "execution_count": 72
        }
      ]
    },
    {
      "cell_type": "code",
      "source": [
        "c = np.percentile(df[\"casual\"] , 75)\n",
        "c"
      ],
      "metadata": {
        "colab": {
          "base_uri": "https://localhost:8080/",
          "height": 0
        },
        "outputId": "1a74c677-f5af-4db2-adf9-cf38ddef3402",
        "id": "VTRyZv-yRcL2"
      },
      "execution_count": 73,
      "outputs": [
        {
          "output_type": "execute_result",
          "data": {
            "text/plain": [
              "49.0"
            ]
          },
          "metadata": {},
          "execution_count": 73
        }
      ]
    },
    {
      "cell_type": "code",
      "source": [
        "iqr = c-a\n",
        "iqr"
      ],
      "metadata": {
        "colab": {
          "base_uri": "https://localhost:8080/",
          "height": 0
        },
        "outputId": "60bb6669-9cc2-41d4-dfde-47927ef4565f",
        "id": "yDmrdP8mRcL2"
      },
      "execution_count": 74,
      "outputs": [
        {
          "output_type": "execute_result",
          "data": {
            "text/plain": [
              "45.0"
            ]
          },
          "metadata": {},
          "execution_count": 74
        }
      ]
    },
    {
      "cell_type": "code",
      "source": [
        "lower = max((a-1.5*iqr) , 0)\n",
        "lower"
      ],
      "metadata": {
        "colab": {
          "base_uri": "https://localhost:8080/",
          "height": 0
        },
        "outputId": "4e77e4b4-785a-478e-c715-73cf206c583b",
        "id": "qBeYjWpiRcL2"
      },
      "execution_count": 75,
      "outputs": [
        {
          "output_type": "execute_result",
          "data": {
            "text/plain": [
              "0"
            ]
          },
          "metadata": {},
          "execution_count": 75
        }
      ]
    },
    {
      "cell_type": "code",
      "source": [
        "upper = (c+1.5*iqr)\n",
        "upper"
      ],
      "metadata": {
        "colab": {
          "base_uri": "https://localhost:8080/",
          "height": 0
        },
        "outputId": "45bf72d3-0cef-4a08-a9c6-12b2adbbafcc",
        "id": "kkp70bsVRcL2"
      },
      "execution_count": 76,
      "outputs": [
        {
          "output_type": "execute_result",
          "data": {
            "text/plain": [
              "116.5"
            ]
          },
          "metadata": {},
          "execution_count": 76
        }
      ]
    },
    {
      "cell_type": "code",
      "source": [
        "outlier = df[(df[\"casual\"] < lower) | (df[\"casual\"] > upper)]\n",
        "len(outlier)"
      ],
      "metadata": {
        "colab": {
          "base_uri": "https://localhost:8080/",
          "height": 0
        },
        "outputId": "3d138ff0-35f9-4d84-fdc8-3f5f45bd21d9",
        "id": "Wh4hRA78RcL2"
      },
      "execution_count": 77,
      "outputs": [
        {
          "output_type": "execute_result",
          "data": {
            "text/plain": [
              "749"
            ]
          },
          "metadata": {},
          "execution_count": 77
        }
      ]
    },
    {
      "cell_type": "code",
      "source": [
        "no_outlier = df[(df[\"casual\"] >= lower) & (df[\"casual\"] <= upper)]\n",
        "len(no_outlier)"
      ],
      "metadata": {
        "colab": {
          "base_uri": "https://localhost:8080/",
          "height": 0
        },
        "outputId": "ee4a8efb-c98b-48f8-934a-35631aae2069",
        "id": "2dXW2VLERcL3"
      },
      "execution_count": 78,
      "outputs": [
        {
          "output_type": "execute_result",
          "data": {
            "text/plain": [
              "10137"
            ]
          },
          "metadata": {},
          "execution_count": 78
        }
      ]
    },
    {
      "cell_type": "code",
      "source": [
        "percent_outlier = (len(outlier)/len(df))*100\n",
        "percent_outlier"
      ],
      "metadata": {
        "colab": {
          "base_uri": "https://localhost:8080/",
          "height": 0
        },
        "outputId": "1c8fb657-8a0c-427d-972f-3ac6e7d05867",
        "id": "a3mgouVHRcL3"
      },
      "execution_count": 79,
      "outputs": [
        {
          "output_type": "execute_result",
          "data": {
            "text/plain": [
              "6.880396839977953"
            ]
          },
          "metadata": {},
          "execution_count": 79
        }
      ]
    },
    {
      "cell_type": "code",
      "source": [
        "sns.boxplot(y = \"casual\" , data = no_outlier)\n",
        "plt.show()"
      ],
      "metadata": {
        "colab": {
          "base_uri": "https://localhost:8080/",
          "height": 253
        },
        "outputId": "e7ed41e1-1ee1-47a6-ab97-c454a6c854c7",
        "id": "oMg1G5I8RcL4"
      },
      "execution_count": 80,
      "outputs": [
        {
          "output_type": "display_data",
          "data": {
            "text/plain": [
              "<Figure size 432x288 with 1 Axes>"
            ],
            "image/png": "[encoded data removed]"
          },
          "metadata": {
            "needs_background": "light"
          }
        }
      ]
    },
    {
      "cell_type": "code",
      "source": [],
      "metadata": {
        "id": "A_vLJ3ViRcL4"
      },
      "execution_count": 80,
      "outputs": []
    },
    {
      "cell_type": "markdown",
      "source": [
        "***Insights***\n",
        "\n",
        "1. Minimum value of Casual Users is 0.\n",
        "2. Maximum value of Casual Users is 117.\n",
        "3. Median value of Casual Users is 17.\n",
        "4. Mean value of Casual Users is approx 36.\n",
        "5. The value of Casual Users above 117 is Outliers.\n",
        "6. There is total 7% of Outliers in Casual Users."
      ],
      "metadata": {
        "id": "Bdlm1_f30yxO"
      }
    },
    {
      "cell_type": "markdown",
      "source": [
        "# **Registered** Outliers"
      ],
      "metadata": {
        "id": "O3Hp7JLIR_Nk"
      }
    },
    {
      "cell_type": "code",
      "source": [
        "df[\"registered\"].mean()"
      ],
      "metadata": {
        "colab": {
          "base_uri": "https://localhost:8080/",
          "height": 0
        },
        "id": "H3SHF1D-15GM",
        "outputId": "b2ad499e-4298-4a48-b072-bf888cfe7b15"
      },
      "execution_count": 197,
      "outputs": [
        {
          "output_type": "execute_result",
          "data": {
            "text/plain": [
              "155.5521771082124"
            ]
          },
          "metadata": {},
          "execution_count": 197
        }
      ]
    },
    {
      "cell_type": "code",
      "source": [
        "a = np.percentile(df[\"registered\"] , 25)\n",
        "a"
      ],
      "metadata": {
        "colab": {
          "base_uri": "https://localhost:8080/",
          "height": 0
        },
        "outputId": "e1a3ee25-6753-409e-ffcc-4782bb78b8cd",
        "id": "upo8-3euR_Nw"
      },
      "execution_count": 81,
      "outputs": [
        {
          "output_type": "execute_result",
          "data": {
            "text/plain": [
              "36.0"
            ]
          },
          "metadata": {},
          "execution_count": 81
        }
      ]
    },
    {
      "cell_type": "code",
      "source": [
        "b = np.percentile(df[\"registered\"] , 50)\n",
        "b"
      ],
      "metadata": {
        "colab": {
          "base_uri": "https://localhost:8080/",
          "height": 0
        },
        "outputId": "93a75fdb-a9cc-4a2a-ff3f-dfcc8c8ff4e6",
        "id": "-kOW1P_OR_Nx"
      },
      "execution_count": 82,
      "outputs": [
        {
          "output_type": "execute_result",
          "data": {
            "text/plain": [
              "118.0"
            ]
          },
          "metadata": {},
          "execution_count": 82
        }
      ]
    },
    {
      "cell_type": "code",
      "source": [
        "c = np.percentile(df[\"registered\"] , 75)\n",
        "c"
      ],
      "metadata": {
        "colab": {
          "base_uri": "https://localhost:8080/",
          "height": 0
        },
        "outputId": "91a2d1cd-f217-4f8d-d603-68745bec2a16",
        "id": "R-A86yypR_Nx"
      },
      "execution_count": 83,
      "outputs": [
        {
          "output_type": "execute_result",
          "data": {
            "text/plain": [
              "222.0"
            ]
          },
          "metadata": {},
          "execution_count": 83
        }
      ]
    },
    {
      "cell_type": "code",
      "source": [
        "iqr = c-a\n",
        "iqr"
      ],
      "metadata": {
        "colab": {
          "base_uri": "https://localhost:8080/",
          "height": 0
        },
        "outputId": "fef552cf-43cb-4f81-bacf-6fefe41ba485",
        "id": "jPQUUQrbR_Nx"
      },
      "execution_count": 84,
      "outputs": [
        {
          "output_type": "execute_result",
          "data": {
            "text/plain": [
              "186.0"
            ]
          },
          "metadata": {},
          "execution_count": 84
        }
      ]
    },
    {
      "cell_type": "code",
      "source": [
        "lower = max((a-1.5*iqr) , 0)\n",
        "lower"
      ],
      "metadata": {
        "colab": {
          "base_uri": "https://localhost:8080/",
          "height": 0
        },
        "outputId": "96215fdb-4ccb-433e-cc44-a009b7760c7a",
        "id": "jkHnhMayR_Ny"
      },
      "execution_count": 85,
      "outputs": [
        {
          "output_type": "execute_result",
          "data": {
            "text/plain": [
              "0"
            ]
          },
          "metadata": {},
          "execution_count": 85
        }
      ]
    },
    {
      "cell_type": "code",
      "source": [
        "upper = (c+1.5*iqr)\n",
        "upper"
      ],
      "metadata": {
        "colab": {
          "base_uri": "https://localhost:8080/",
          "height": 0
        },
        "outputId": "fc6d202a-1c8f-4361-86a9-6e05ff7e2bda",
        "id": "3W5-9kJlR_Ny"
      },
      "execution_count": 86,
      "outputs": [
        {
          "output_type": "execute_result",
          "data": {
            "text/plain": [
              "501.0"
            ]
          },
          "metadata": {},
          "execution_count": 86
        }
      ]
    },
    {
      "cell_type": "code",
      "source": [
        "outlier = df[(df[\"registered\"] < lower) | (df[\"registered\"] > upper)]\n",
        "len(outlier)"
      ],
      "metadata": {
        "colab": {
          "base_uri": "https://localhost:8080/",
          "height": 0
        },
        "outputId": "c7b69e15-328a-4ec3-af8c-87fbded949a3",
        "id": "TEKC2kv3R_Ny"
      },
      "execution_count": 87,
      "outputs": [
        {
          "output_type": "execute_result",
          "data": {
            "text/plain": [
              "423"
            ]
          },
          "metadata": {},
          "execution_count": 87
        }
      ]
    },
    {
      "cell_type": "code",
      "source": [
        "no_outlier = df[(df[\"registered\"] >= lower) & (df[\"registered\"] <= upper)]\n",
        "len(no_outlier)"
      ],
      "metadata": {
        "colab": {
          "base_uri": "https://localhost:8080/",
          "height": 0
        },
        "outputId": "cc5004e9-28a0-4fc0-80e0-4f60368e761f",
        "id": "kIGR3VYjR_Ny"
      },
      "execution_count": 88,
      "outputs": [
        {
          "output_type": "execute_result",
          "data": {
            "text/plain": [
              "10463"
            ]
          },
          "metadata": {},
          "execution_count": 88
        }
      ]
    },
    {
      "cell_type": "code",
      "source": [
        "percent_outlier = (len(outlier)/len(df))*100\n",
        "percent_outlier"
      ],
      "metadata": {
        "colab": {
          "base_uri": "https://localhost:8080/",
          "height": 0
        },
        "outputId": "153cf72f-3cd4-4320-fde7-85fb2f829357",
        "id": "SI31qIZaR_Ny"
      },
      "execution_count": 89,
      "outputs": [
        {
          "output_type": "execute_result",
          "data": {
            "text/plain": [
              "3.885724784126401"
            ]
          },
          "metadata": {},
          "execution_count": 89
        }
      ]
    },
    {
      "cell_type": "code",
      "source": [
        "sns.boxplot(y = \"registered\" , data = no_outlier)\n",
        "plt.show()"
      ],
      "metadata": {
        "colab": {
          "base_uri": "https://localhost:8080/",
          "height": 252
        },
        "outputId": "8719c5c8-f5b8-4b3e-a981-ec0f9a04d17b",
        "id": "KqKGbz8SR_Nz"
      },
      "execution_count": 90,
      "outputs": [
        {
          "output_type": "display_data",
          "data": {
            "text/plain": [
              "<Figure size 432x288 with 1 Axes>"
            ],
            "image/png": "[encoded data removed]"
          },
          "metadata": {
            "needs_background": "light"
          }
        }
      ]
    },
    {
      "cell_type": "code",
      "source": [],
      "metadata": {
        "id": "Wsx_r172R_Nz"
      },
      "execution_count": 90,
      "outputs": []
    },
    {
      "cell_type": "markdown",
      "source": [
        "***Insights***\n",
        "\n",
        "1. Minimum value of Registered Users is 0.\n",
        "2. Maximum value of Registered Users is 501.\n",
        "3. Median value of Registered Users is 118.\n",
        "4. Mean value of Registered Users is approx 156.\n",
        "5. The value of Registered Users above 501 is Outliers.\n",
        "6. There is total 4% of Outliers in Registered Users."
      ],
      "metadata": {
        "id": "5tPcEhDS006R"
      }
    },
    {
      "cell_type": "markdown",
      "source": [
        "# **Bivariate** Analysis"
      ],
      "metadata": {
        "id": "Z1VDMo-fU0yI"
      }
    },
    {
      "cell_type": "code",
      "source": [
        "sns.boxplot(x = \"season\" , data = df , y = \"count\")\n",
        "plt.show()"
      ],
      "metadata": {
        "colab": {
          "base_uri": "https://localhost:8080/",
          "height": 279
        },
        "id": "Q1LBz6icU5tO",
        "outputId": "08c7f77c-8d50-4aa2-bce9-1616dbaebf60"
      },
      "execution_count": 91,
      "outputs": [
        {
          "output_type": "display_data",
          "data": {
            "text/plain": [
              "<Figure size 432x288 with 1 Axes>"
            ],
            "image/png": "[encoded data removed]"
          },
          "metadata": {
            "needs_background": "light"
          }
        }
      ]
    },
    {
      "cell_type": "code",
      "source": [
        "sns.boxplot(x = \"holiday\" , data = df , y = \"count\")\n",
        "plt.show()"
      ],
      "metadata": {
        "colab": {
          "base_uri": "https://localhost:8080/",
          "height": 279
        },
        "id": "qYz5mAbTYoL4",
        "outputId": "371a73ee-eed8-4967-b674-d5fc8aa827dd"
      },
      "execution_count": 92,
      "outputs": [
        {
          "output_type": "display_data",
          "data": {
            "text/plain": [
              "<Figure size 432x288 with 1 Axes>"
            ],
            "image/png": "[encoded data removed]"
          },
          "metadata": {
            "needs_background": "light"
          }
        }
      ]
    },
    {
      "cell_type": "code",
      "source": [
        "sns.boxplot(x = \"workingday\" , data = df , y = \"count\")\n",
        "plt.show()"
      ],
      "metadata": {
        "colab": {
          "base_uri": "https://localhost:8080/",
          "height": 279
        },
        "id": "w8Snur6kY-rE",
        "outputId": "fedbc016-63ce-4d28-8ef4-69868e374cb5"
      },
      "execution_count": 93,
      "outputs": [
        {
          "output_type": "display_data",
          "data": {
            "text/plain": [
              "<Figure size 432x288 with 1 Axes>"
            ],
            "image/png": "[encoded data removed]"
          },
          "metadata": {
            "needs_background": "light"
          }
        }
      ]
    },
    {
      "cell_type": "code",
      "source": [
        "sns.boxplot(x = \"weather\" , data = df , y = \"count\")\n",
        "plt.show()"
      ],
      "metadata": {
        "colab": {
          "base_uri": "https://localhost:8080/",
          "height": 279
        },
        "id": "xl1tMTGcZMTm",
        "outputId": "0c117eb4-e8fb-4c1b-a3b1-f0f66c7fffc8"
      },
      "execution_count": 94,
      "outputs": [
        {
          "output_type": "display_data",
          "data": {
            "text/plain": [
              "<Figure size 432x288 with 1 Axes>"
            ],
            "image/png": "[encoded data removed]"
          },
          "metadata": {
            "needs_background": "light"
          }
        }
      ]
    },
    {
      "cell_type": "markdown",
      "source": [
        "***Comments***\n",
        "\n",
        "1. In Season and Count , the **Mean and Median** value of Count of total rental bikes including both casual and registered is Maximum in Season-3 and Minimum in Season-1.\n",
        "\n",
        "2. In Holiday and Count , the **Mean and Median** value of Count of total rental bikes including both casual and registered is almost equal in Holiday and Non-Holiday types.\n",
        "\n",
        "3. In Working-Day and Count , the **Mean and Median** value of Count of total rental bikes including both casual and registered is slightly larger in Working Day wrt Non-Working Day.\n",
        "\n",
        "4. In Weather and Count , the **Mean and Median** value of Count of total rental bikes including both casual and registered is Maximum in Weather type-1 and Minimum in Weather type-4."
      ],
      "metadata": {
        "id": "pfMg2qNA26QE"
      }
    },
    {
      "cell_type": "code",
      "source": [],
      "metadata": {
        "id": "KtcCZ9TPZUNd"
      },
      "execution_count": 94,
      "outputs": []
    },
    {
      "cell_type": "markdown",
      "source": [
        "# **Multivariate** Analysis"
      ],
      "metadata": {
        "id": "eE1nwgk9ZrgB"
      }
    },
    {
      "cell_type": "code",
      "source": [
        "sns.heatmap(data = df.corr() , annot = False )\n",
        "plt.show()"
      ],
      "metadata": {
        "colab": {
          "base_uri": "https://localhost:8080/",
          "height": 313
        },
        "id": "wOXrMgICZwRi",
        "outputId": "73cb3f75-00b3-433d-c7d1-bf851bbfdb61"
      },
      "execution_count": 199,
      "outputs": [
        {
          "output_type": "display_data",
          "data": {
            "text/plain": [
              "<Figure size 432x288 with 2 Axes>"
            ],
            "image/png": "[encoded data removed]"
          },
          "metadata": {
            "needs_background": "light"
          }
        }
      ]
    },
    {
      "cell_type": "markdown",
      "source": [
        "**Comments**\n",
        "\n",
        "1. Temp and aTemp is dependent on each other i.e. it is highly cor-related.\n",
        "2. Count and Registered is dependent on each other i.e. it is highly cor-related.\n",
        "3. Count and Casual is dependent on each other but it is lightly cor-related.\n",
        "4. Humidity is Negatively cor-related with Casual , Registered , Count and Windspeed"
      ],
      "metadata": {
        "id": "GYQTl7d-5eHj"
      }
    },
    {
      "cell_type": "code",
      "source": [
        "sns.boxplot(x = \"season\" , y = \"count\" , data = df , hue = \"workingday\")\n",
        "plt.show()"
      ],
      "metadata": {
        "colab": {
          "base_uri": "https://localhost:8080/",
          "height": 279
        },
        "id": "hdJm4mi9Z0jD",
        "outputId": "fd61933e-f32e-4f9d-cc1e-efd639f3ba68"
      },
      "execution_count": 96,
      "outputs": [
        {
          "output_type": "display_data",
          "data": {
            "text/plain": [
              "<Figure size 432x288 with 1 Axes>"
            ],
            "image/png": "[encoded data removed]"
          },
          "metadata": {
            "needs_background": "light"
          }
        }
      ]
    },
    {
      "cell_type": "code",
      "source": [
        "sns.boxplot(x = \"season\" , y = \"count\" , data = df , hue = \"holiday\")\n",
        "plt.show()"
      ],
      "metadata": {
        "colab": {
          "base_uri": "https://localhost:8080/",
          "height": 279
        },
        "id": "V8LrZXmYbkJs",
        "outputId": "8dd967f3-3476-483c-ac1c-ef23e7a8f2a9"
      },
      "execution_count": 97,
      "outputs": [
        {
          "output_type": "display_data",
          "data": {
            "text/plain": [
              "<Figure size 432x288 with 1 Axes>"
            ],
            "image/png": "[encoded data removed]"
          },
          "metadata": {
            "needs_background": "light"
          }
        }
      ]
    },
    {
      "cell_type": "code",
      "source": [
        "sns.boxplot(x = \"season\" , y = \"count\" , data = df , hue = \"weather\")\n",
        "plt.show()"
      ],
      "metadata": {
        "colab": {
          "base_uri": "https://localhost:8080/",
          "height": 279
        },
        "id": "TPHjFzZ2bpTq",
        "outputId": "0b61ad0d-2a42-4e5d-cde0-97e76e1f41da"
      },
      "execution_count": 98,
      "outputs": [
        {
          "output_type": "display_data",
          "data": {
            "text/plain": [
              "<Figure size 432x288 with 1 Axes>"
            ],
            "image/png": "[encoded data removed]"
          },
          "metadata": {
            "needs_background": "light"
          }
        }
      ]
    },
    {
      "cell_type": "code",
      "source": [],
      "metadata": {
        "id": "MvjjLe8Tbser"
      },
      "execution_count": 98,
      "outputs": []
    },
    {
      "cell_type": "markdown",
      "source": [
        "***Comments***\n",
        "\n",
        "1. In Season and Count the **Mean and Median** of Count of total rental bikes including both casual and registered is slightly greater for Working day in all 4 seasons wrt Non-Workingday\n",
        "\n",
        "2. In Season and Count the **Mean and Median** of Count of total rental bikes including both casual and registered is slightly lesser for Holiday in all 4 seasons wrt Non-Holiday.\n",
        "\n",
        "3. In Season and Count the **Mean and Median** of Count of total rental bikes including both casual and registered is slightly greater for Weather type-1 in all 4 seasons and very low for Weather type-4 in all 4 seasons"
      ],
      "metadata": {
        "id": "oe40ZIJg7rET"
      }
    },
    {
      "cell_type": "code",
      "source": [
        "sns.boxplot(x = \"weather\" , y = \"count\" , data = df , hue = \"workingday\")\n",
        "plt.show()"
      ],
      "metadata": {
        "colab": {
          "base_uri": "https://localhost:8080/",
          "height": 279
        },
        "id": "qQamwsl1bx1l",
        "outputId": "e1153272-c79f-4977-8fc2-2423a343a7c6"
      },
      "execution_count": 99,
      "outputs": [
        {
          "output_type": "display_data",
          "data": {
            "text/plain": [
              "<Figure size 432x288 with 1 Axes>"
            ],
            "image/png": "[encoded data removed]"
          },
          "metadata": {
            "needs_background": "light"
          }
        }
      ]
    },
    {
      "cell_type": "code",
      "source": [
        "sns.boxplot(x = \"weather\" , y = \"count\" , data = df , hue = \"holiday\")\n",
        "plt.show()"
      ],
      "metadata": {
        "colab": {
          "base_uri": "https://localhost:8080/",
          "height": 279
        },
        "id": "xuvjQOhkb1BC",
        "outputId": "7432de66-dc86-428d-fba7-13399cf4d518"
      },
      "execution_count": 100,
      "outputs": [
        {
          "output_type": "display_data",
          "data": {
            "text/plain": [
              "<Figure size 432x288 with 1 Axes>"
            ],
            "image/png": "[encoded data removed]"
          },
          "metadata": {
            "needs_background": "light"
          }
        }
      ]
    },
    {
      "cell_type": "code",
      "source": [
        "sns.boxplot(x = \"weather\" , y = \"count\" , data = df , hue = \"season\")\n",
        "plt.show()"
      ],
      "metadata": {
        "colab": {
          "base_uri": "https://localhost:8080/",
          "height": 279
        },
        "id": "8rGHWIEPb5nB",
        "outputId": "64e4a066-f6d8-4fdb-d458-7e30d2cea82e"
      },
      "execution_count": 101,
      "outputs": [
        {
          "output_type": "display_data",
          "data": {
            "text/plain": [
              "<Figure size 432x288 with 1 Axes>"
            ],
            "image/png": "[encoded data removed]"
          },
          "metadata": {
            "needs_background": "light"
          }
        }
      ]
    },
    {
      "cell_type": "markdown",
      "source": [
        "***Comments***\n",
        "\n",
        "1. In Weather and Count the **Mean and Median** of Count of total rental bikes including both casual and registered is slightly greater for Working day in all 4 Weathers wrt Non-Workingday\n",
        "\n",
        "2. In  Weather and Count the **Mean and Median** of Count of total rental bikes including both casual and registered is slightly lesser for Holiday in all 4 Weather wrt Non-Holiday.\n",
        "\n",
        "3. In Season and Count the **Mean and Median** of Count of total rental bikes including both casual and registered is slightly greater for Season type-3 in all 4 Weathers and very low for Season type-1 in all 4 Weathers"
      ],
      "metadata": {
        "id": "59KRTkVJ9_h_"
      }
    },
    {
      "cell_type": "code",
      "source": [
        "sns.boxplot(x = \"workingday\" , y = \"count\" , data = df , hue = \"season\")\n",
        "plt.show()"
      ],
      "metadata": {
        "colab": {
          "base_uri": "https://localhost:8080/",
          "height": 279
        },
        "id": "8bWtEhf9cHE2",
        "outputId": "9155b186-c20b-4b50-df05-7608a8e39c9f"
      },
      "execution_count": 102,
      "outputs": [
        {
          "output_type": "display_data",
          "data": {
            "text/plain": [
              "<Figure size 432x288 with 1 Axes>"
            ],
            "image/png": "[encoded data removed]"
          },
          "metadata": {
            "needs_background": "light"
          }
        }
      ]
    },
    {
      "cell_type": "code",
      "source": [
        "sns.boxplot(x = \"workingday\" , y = \"count\" , data = df , hue = \"weather\")\n",
        "plt.show()"
      ],
      "metadata": {
        "colab": {
          "base_uri": "https://localhost:8080/",
          "height": 279
        },
        "id": "QZgE5qcTcWU-",
        "outputId": "5cd2ca82-7b15-4ed4-c2fa-0257393afe6a"
      },
      "execution_count": 103,
      "outputs": [
        {
          "output_type": "display_data",
          "data": {
            "text/plain": [
              "<Figure size 432x288 with 1 Axes>"
            ],
            "image/png": "[encoded data removed]"
          },
          "metadata": {
            "needs_background": "light"
          }
        }
      ]
    },
    {
      "cell_type": "code",
      "source": [
        "sns.boxplot(x = \"workingday\" , y = \"count\" , data = df , hue = \"holiday\")\n",
        "plt.show()"
      ],
      "metadata": {
        "colab": {
          "base_uri": "https://localhost:8080/",
          "height": 279
        },
        "id": "1mfMp3PdcZUp",
        "outputId": "4c00a109-c4fd-4fb7-d297-a779f37497b2"
      },
      "execution_count": 104,
      "outputs": [
        {
          "output_type": "display_data",
          "data": {
            "text/plain": [
              "<Figure size 432x288 with 1 Axes>"
            ],
            "image/png": "[encoded data removed]"
          },
          "metadata": {
            "needs_background": "light"
          }
        }
      ]
    },
    {
      "cell_type": "markdown",
      "source": [
        "***Comments***\n",
        "\n",
        "1. In Working-Day and Count the **Mean and Median** of Count of total rental bikes including both casual and registered is slightly greater for Season type-3 in Working and Non-WorkingDay and very low for Season type-1 in Working and Non-WorkingDay\n",
        "\n",
        "2. In  Working-Day  and Count the **Mean and Median** of Count of total rental bikes including both casual and registered is slightly greater for Weather type-1 in Working and Non-WorkingDay and very low for Weather type-4 in Working and Non-WorkingDay\n",
        "\n",
        "3. In Working-Day and Count the **Mean and Median** of Count of total rental bikes including both casual and registered is almost equal for Holiday and Non-Holiday in WorkingDay and Non-WorkingDay."
      ],
      "metadata": {
        "id": "7adoqDcw-uXF"
      }
    },
    {
      "cell_type": "code",
      "source": [],
      "metadata": {
        "id": "JYblwWGxcenc"
      },
      "execution_count": 104,
      "outputs": []
    },
    {
      "cell_type": "code",
      "source": [
        "sns.boxplot(x = \"holiday\" , y = \"count\" , data = df , hue = \"season\")\n",
        "plt.show()"
      ],
      "metadata": {
        "colab": {
          "base_uri": "https://localhost:8080/",
          "height": 279
        },
        "id": "5kkXKq6rchov",
        "outputId": "6818ed22-3ff1-4c6f-9c0b-4e3d9afa6e41"
      },
      "execution_count": 105,
      "outputs": [
        {
          "output_type": "display_data",
          "data": {
            "text/plain": [
              "<Figure size 432x288 with 1 Axes>"
            ],
            "image/png": "[encoded data removed]"
          },
          "metadata": {
            "needs_background": "light"
          }
        }
      ]
    },
    {
      "cell_type": "code",
      "source": [
        "sns.boxplot(x = \"holiday\" , y = \"count\" , data = df , hue = \"weather\")\n",
        "plt.show()"
      ],
      "metadata": {
        "colab": {
          "base_uri": "https://localhost:8080/",
          "height": 279
        },
        "id": "fzej9S96cj69",
        "outputId": "33a693ba-fcf5-431f-b81b-90c6a7de21fd"
      },
      "execution_count": 106,
      "outputs": [
        {
          "output_type": "display_data",
          "data": {
            "text/plain": [
              "<Figure size 432x288 with 1 Axes>"
            ],
            "image/png": "[encoded data removed]"
          },
          "metadata": {
            "needs_background": "light"
          }
        }
      ]
    },
    {
      "cell_type": "code",
      "source": [
        "sns.boxplot(x = \"holiday\" , y = \"count\" , data = df , hue = \"workingday\")\n",
        "plt.show()"
      ],
      "metadata": {
        "colab": {
          "base_uri": "https://localhost:8080/",
          "height": 279
        },
        "id": "tcUlhf2scns4",
        "outputId": "b63ac103-0857-4253-e425-7cfc86816477"
      },
      "execution_count": 107,
      "outputs": [
        {
          "output_type": "display_data",
          "data": {
            "text/plain": [
              "<Figure size 432x288 with 1 Axes>"
            ],
            "image/png": "[encoded data removed]"
          },
          "metadata": {
            "needs_background": "light"
          }
        }
      ]
    },
    {
      "cell_type": "markdown",
      "source": [
        "***Comments***\n",
        "\n",
        "1. In Holiday and Count the **Mean and Median** of Count of total rental bikes including both casual and registered is slightly greater for Season type-3 in Holiday and Non-Holiday and very low for Season type-1 in Holiday and Non-Holiday\n",
        "\n",
        "2. In  Holiday  and Count the **Mean and Median** of Count of total rental bikes including both casual and registered is slightly greater for Weather type-1 in Holiday and Non-Holiday and very low for Weather type-4 in Holiday and Non-Holiday\n",
        "\n",
        "3. In Holiday and Count the **Mean and Median** of Count of total rental bikes including both casual and registered is almost equal for WorkingDay and Non-WorkingDay in Holiday and Non-Holiday. "
      ],
      "metadata": {
        "id": "YtxsKuImHaU8"
      }
    },
    {
      "cell_type": "code",
      "source": [],
      "metadata": {
        "id": "mBSszG2Rcr72"
      },
      "execution_count": 107,
      "outputs": []
    },
    {
      "cell_type": "markdown",
      "source": [
        "# **Chi-Square** Test"
      ],
      "metadata": {
        "id": "aDS58pqZdy5e"
      }
    },
    {
      "cell_type": "code",
      "source": [
        "chi2.ppf(q = .90 , df = 1)"
      ],
      "metadata": {
        "colab": {
          "base_uri": "https://localhost:8080/",
          "height": 0
        },
        "id": "drThtLQSkttG",
        "outputId": "3bfa2fd8-8f7a-4b11-e3bc-bb1ae49b953b"
      },
      "execution_count": 108,
      "outputs": [
        {
          "output_type": "execute_result",
          "data": {
            "text/plain": [
              "2.705543454095404"
            ]
          },
          "metadata": {},
          "execution_count": 108
        }
      ]
    },
    {
      "cell_type": "code",
      "source": [
        "chi2.ppf(q = .90 , df = 3)"
      ],
      "metadata": {
        "colab": {
          "base_uri": "https://localhost:8080/",
          "height": 0
        },
        "id": "_rs82fuqijuY",
        "outputId": "6edc88e5-643a-4b5b-d90a-04b35426a4ff"
      },
      "execution_count": 109,
      "outputs": [
        {
          "output_type": "execute_result",
          "data": {
            "text/plain": [
              "6.251388631170325"
            ]
          },
          "metadata": {},
          "execution_count": 109
        }
      ]
    },
    {
      "cell_type": "code",
      "source": [
        "chi2.ppf(q = .90 , df = 9)"
      ],
      "metadata": {
        "colab": {
          "base_uri": "https://localhost:8080/",
          "height": 0
        },
        "id": "CIHijw_qktv_",
        "outputId": "887b980d-961c-4063-a04a-3c37e8c61388"
      },
      "execution_count": 110,
      "outputs": [
        {
          "output_type": "execute_result",
          "data": {
            "text/plain": [
              "14.683656573259837"
            ]
          },
          "metadata": {},
          "execution_count": 110
        }
      ]
    },
    {
      "cell_type": "code",
      "source": [
        "chi2.ppf(q = .95 , df = 1)"
      ],
      "metadata": {
        "colab": {
          "base_uri": "https://localhost:8080/",
          "height": 0
        },
        "id": "4L7FOlh9ktzg",
        "outputId": "5749d9de-6cae-4f15-9b5a-2db51b6ca07f"
      },
      "execution_count": 153,
      "outputs": [
        {
          "output_type": "execute_result",
          "data": {
            "text/plain": [
              "3.841458820694124"
            ]
          },
          "metadata": {},
          "execution_count": 153
        }
      ]
    },
    {
      "cell_type": "code",
      "source": [
        "chi2.ppf(q = .95 , df = 3)"
      ],
      "metadata": {
        "colab": {
          "base_uri": "https://localhost:8080/",
          "height": 0
        },
        "id": "3Bc6jbg6inH0",
        "outputId": "ea7d2df8-0d40-4b2c-b92f-eb36125c496a"
      },
      "execution_count": 154,
      "outputs": [
        {
          "output_type": "execute_result",
          "data": {
            "text/plain": [
              "7.814727903251179"
            ]
          },
          "metadata": {},
          "execution_count": 154
        }
      ]
    },
    {
      "cell_type": "code",
      "source": [
        "chi2.ppf(q = .95 , df = 9)"
      ],
      "metadata": {
        "colab": {
          "base_uri": "https://localhost:8080/",
          "height": 0
        },
        "id": "yIs5_uvnkt4D",
        "outputId": "74bd4aeb-dd9d-451d-d839-7850cd453af7"
      },
      "execution_count": 155,
      "outputs": [
        {
          "output_type": "execute_result",
          "data": {
            "text/plain": [
              "16.918977604620448"
            ]
          },
          "metadata": {},
          "execution_count": 155
        }
      ]
    },
    {
      "cell_type": "code",
      "source": [
        "chi2.ppf(q = .99 , df = 1)"
      ],
      "metadata": {
        "colab": {
          "base_uri": "https://localhost:8080/",
          "height": 0
        },
        "id": "xvVA7Q0fkt62",
        "outputId": "7af1a101-93fb-4889-e9d4-c1b7591fa2c5"
      },
      "execution_count": 114,
      "outputs": [
        {
          "output_type": "execute_result",
          "data": {
            "text/plain": [
              "6.6348966010212145"
            ]
          },
          "metadata": {},
          "execution_count": 114
        }
      ]
    },
    {
      "cell_type": "code",
      "source": [
        "chi2.ppf(q = .99 , df = 3)"
      ],
      "metadata": {
        "colab": {
          "base_uri": "https://localhost:8080/",
          "height": 0
        },
        "id": "1NlM7n3LixBg",
        "outputId": "549287d7-afaa-4d18-8855-ac969e8608d3"
      },
      "execution_count": 115,
      "outputs": [
        {
          "output_type": "execute_result",
          "data": {
            "text/plain": [
              "11.344866730144373"
            ]
          },
          "metadata": {},
          "execution_count": 115
        }
      ]
    },
    {
      "cell_type": "code",
      "source": [
        "chi2.ppf(q = .99 , df = 9)"
      ],
      "metadata": {
        "colab": {
          "base_uri": "https://localhost:8080/",
          "height": 0
        },
        "id": "_zgAnX1vkt9h",
        "outputId": "31737fa1-1da9-4e7f-fc10-efdb1e0be867"
      },
      "execution_count": 116,
      "outputs": [
        {
          "output_type": "execute_result",
          "data": {
            "text/plain": [
              "21.665994333461924"
            ]
          },
          "metadata": {},
          "execution_count": 116
        }
      ]
    },
    {
      "cell_type": "markdown",
      "source": [
        "***Season_Weather***"
      ],
      "metadata": {
        "id": "6b3BJ89Q2uqK"
      }
    },
    {
      "cell_type": "markdown",
      "source": [
        "***Null Hypothesis*** - Season and Weather are independent.\n",
        "\n",
        "***Alternate Hypothesis*** - Season and Weather are dependent."
      ],
      "metadata": {
        "id": "f6EG6mGjYdU6"
      }
    },
    {
      "cell_type": "code",
      "source": [
        "season_weather = pd.crosstab(index = df[\"season\"] , columns = df[\"weather\"] , margins = True)\n",
        "season_weather"
      ],
      "metadata": {
        "colab": {
          "base_uri": "https://localhost:8080/",
          "height": 237
        },
        "id": "Bniw29EDd3sB",
        "outputId": "a358481e-fc01-4c4c-8aad-e078ad507034"
      },
      "execution_count": 117,
      "outputs": [
        {
          "output_type": "execute_result",
          "data": {
            "text/plain": [
              "weather     1     2    3  4    All\n",
              "season                            \n",
              "1        1759   715  211  1   2686\n",
              "2        1801   708  224  0   2733\n",
              "3        1930   604  199  0   2733\n",
              "4        1702   807  225  0   2734\n",
              "All      7192  2834  859  1  10886"
            ],
            "text/html": [
              "\n",
              "  <div id=\"df-6d108f9e-f993-4db9-b8b7-d5ef67254e85\">\n",
              "    <div class=\"colab-df-container\">\n",
              "      <div>\n",
              "<style scoped>\n",
              "    .dataframe tbody tr th:only-of-type {\n",
              "        vertical-align: middle;\n",
              "    }\n",
              "\n",
              "    .dataframe tbody tr th {\n",
              "        vertical-align: top;\n",
              "    }\n",
              "\n",
              "    .dataframe thead th {\n",
              "        text-align: right;\n",
              "    }\n",
              "</style>\n",
              "<table border=\"1\" class=\"dataframe\">\n",
              "  <thead>\n",
              "    <tr style=\"text-align: right;\">\n",
              "      <th>weather</th>\n",
              "      <th>1</th>\n",
              "      <th>2</th>\n",
              "      <th>3</th>\n",
              "      <th>4</th>\n",
              "      <th>All</th>\n",
              "    </tr>\n",
              "    <tr>\n",
              "      <th>season</th>\n",
              "      <th></th>\n",
              "      <th></th>\n",
              "      <th></th>\n",
              "      <th></th>\n",
              "      <th></th>\n",
              "    </tr>\n",
              "  </thead>\n",
              "  <tbody>\n",
              "    <tr>\n",
              "      <th>1</th>\n",
              "      <td>1759</td>\n",
              "      <td>715</td>\n",
              "      <td>211</td>\n",
              "      <td>1</td>\n",
              "      <td>2686</td>\n",
              "    </tr>\n",
              "    <tr>\n",
              "      <th>2</th>\n",
              "      <td>1801</td>\n",
              "      <td>708</td>\n",
              "      <td>224</td>\n",
              "      <td>0</td>\n",
              "      <td>2733</td>\n",
              "    </tr>\n",
              "    <tr>\n",
              "      <th>3</th>\n",
              "      <td>1930</td>\n",
              "      <td>604</td>\n",
              "      <td>199</td>\n",
              "      <td>0</td>\n",
              "      <td>2733</td>\n",
              "    </tr>\n",
              "    <tr>\n",
              "      <th>4</th>\n",
              "      <td>1702</td>\n",
              "      <td>807</td>\n",
              "      <td>225</td>\n",
              "      <td>0</td>\n",
              "      <td>2734</td>\n",
              "    </tr>\n",
              "    <tr>\n",
              "      <th>All</th>\n",
              "      <td>7192</td>\n",
              "      <td>2834</td>\n",
              "      <td>859</td>\n",
              "      <td>1</td>\n",
              "      <td>10886</td>\n",
              "    </tr>\n",
              "  </tbody>\n",
              "</table>\n",
              "</div>\n",
              "      <button class=\"colab-df-convert\" onclick=\"convertToInteractive('df-6d108f9e-f993-4db9-b8b7-d5ef67254e85')\"\n",
              "              title=\"Convert this dataframe to an interactive table.\"\n",
              "              style=\"display:none;\">\n",
              "        \n",
              "  <svg xmlns=\"http://www.w3.org/2000/svg\" height=\"24px\"viewBox=\"0 0 24 24\"\n",
              "       width=\"24px\">\n",
              "    <path d=\"M0 0h24v24H0V0z\" fill=\"none\"/>\n",
              "    <path d=\"M18.56 5.44l.94 2.06.94-2.06 2.06-.94-2.06-.94-.94-2.06-.94 2.06-2.06.94zm-11 1L8.5 8.5l.94-2.06 2.06-.94-2.06-.94L8.5 2.5l-.94 2.06-2.06.94zm10 10l.94 2.06.94-2.06 2.06-.94-2.06-.94-.94-2.06-.94 2.06-2.06.94z\"/><path d=\"M17.41 7.96l-1.37-1.37c-.4-.4-.92-.59-1.43-.59-.52 0-1.04.2-1.43.59L10.3 9.45l-7.72 7.72c-.78.78-.78 2.05 0 2.83L4 21.41c.39.39.9.59 1.41.59.51 0 1.02-.2 1.41-.59l7.78-7.78 2.81-2.81c.8-.78.8-2.07 0-2.86zM5.41 20L4 18.59l7.72-7.72 1.47 1.35L5.41 20z\"/>\n",
              "  </svg>\n",
              "      </button>\n",
              "      \n",
              "  <style>\n",
              "    .colab-df-container {\n",
              "      display:flex;\n",
              "      flex-wrap:wrap;\n",
              "      gap: 12px;\n",
              "    }\n",
              "\n",
              "    .colab-df-convert {\n",
              "      background-color: #E8F0FE;\n",
              "      border: none;\n",
              "      border-radius: 50%;\n",
              "      cursor: pointer;\n",
              "      display: none;\n",
              "      fill: #1967D2;\n",
              "      height: 32px;\n",
              "      padding: 0 0 0 0;\n",
              "      width: 32px;\n",
              "    }\n",
              "\n",
              "    .colab-df-convert:hover {\n",
              "      background-color: #E2EBFA;\n",
              "      box-shadow: 0px 1px 2px rgba(60, 64, 67, 0.3), 0px 1px 3px 1px rgba(60, 64, 67, 0.15);\n",
              "      fill: #174EA6;\n",
              "    }\n",
              "\n",
              "    [theme=dark] .colab-df-convert {\n",
              "      background-color: #3B4455;\n",
              "      fill: #D2E3FC;\n",
              "    }\n",
              "\n",
              "    [theme=dark] .colab-df-convert:hover {\n",
              "      background-color: #434B5C;\n",
              "      box-shadow: 0px 1px 3px 1px rgba(0, 0, 0, 0.15);\n",
              "      filter: drop-shadow(0px 1px 2px rgba(0, 0, 0, 0.3));\n",
              "      fill: #FFFFFF;\n",
              "    }\n",
              "  </style>\n",
              "\n",
              "      <script>\n",
              "        const buttonEl =\n",
              "          document.querySelector('#df-6d108f9e-f993-4db9-b8b7-d5ef67254e85 button.colab-df-convert');\n",
              "        buttonEl.style.display =\n",
              "          google.colab.kernel.accessAllowed ? 'block' : 'none';\n",
              "\n",
              "        async function convertToInteractive(key) {\n",
              "          const element = document.querySelector('#df-6d108f9e-f993-4db9-b8b7-d5ef67254e85');\n",
              "          const dataTable =\n",
              "            await google.colab.kernel.invokeFunction('convertToInteractive',\n",
              "                                                     [key], {});\n",
              "          if (!dataTable) return;\n",
              "\n",
              "          const docLinkHtml = 'Like what you see? Visit the ' +\n",
              "            '<a target=\"_blank\" href=https://colab.research.google.com/notebooks/data_table.ipynb>data table notebook</a>'\n",
              "            + ' to learn more about interactive tables.';\n",
              "          element.innerHTML = '';\n",
              "          dataTable['output_type'] = 'display_data';\n",
              "          await google.colab.output.renderOutput(dataTable, element);\n",
              "          const docLink = document.createElement('div');\n",
              "          docLink.innerHTML = docLinkHtml;\n",
              "          element.appendChild(docLink);\n",
              "        }\n",
              "      </script>\n",
              "    </div>\n",
              "  </div>\n",
              "  "
            ]
          },
          "metadata": {},
          "execution_count": 117
        }
      ]
    },
    {
      "cell_type": "code",
      "source": [
        "chi2_contingency(season_weather)"
      ],
      "metadata": {
        "colab": {
          "base_uri": "https://localhost:8080/",
          "height": 0
        },
        "id": "Hryv5GoreUdc",
        "outputId": "68c26692-ad32-403a-91cc-a2e950106e63"
      },
      "execution_count": 118,
      "outputs": [
        {
          "output_type": "execute_result",
          "data": {
            "text/plain": [
              "(49.15865559689363,\n",
              " 3.1185273325126814e-05,\n",
              " 16,\n",
              " array([[1.77454639e+03, 6.99258130e+02, 2.11948742e+02, 2.46738931e-01,\n",
              "         2.68600000e+03],\n",
              "        [1.80559765e+03, 7.11493845e+02, 2.15657450e+02, 2.51056403e-01,\n",
              "         2.73300000e+03],\n",
              "        [1.80559765e+03, 7.11493845e+02, 2.15657450e+02, 2.51056403e-01,\n",
              "         2.73300000e+03],\n",
              "        [1.80625831e+03, 7.11754180e+02, 2.15736359e+02, 2.51148264e-01,\n",
              "         2.73400000e+03],\n",
              "        [7.19200000e+03, 2.83400000e+03, 8.59000000e+02, 1.00000000e+00,\n",
              "         1.08860000e+04]]))"
            ]
          },
          "metadata": {},
          "execution_count": 118
        }
      ]
    },
    {
      "cell_type": "markdown",
      "source": [
        "***Note*** - Reject Null Hypothesis because P-value is very low that means it is Statistcally Significant at 99% Confidence. So, Season and Weather are Dependent to each other"
      ],
      "metadata": {
        "id": "we8wmFS1lvsn"
      }
    },
    {
      "cell_type": "markdown",
      "source": [
        "***Season_WorkingDay***"
      ],
      "metadata": {
        "id": "VDVxrNyW21W4"
      }
    },
    {
      "cell_type": "markdown",
      "source": [
        "***Null Hypothesis*** - Season and WorkingDay are independent.\n",
        "\n",
        "***Alternate Hypothesis*** - Season and WorkingDay are dependent."
      ],
      "metadata": {
        "id": "h36sLEBNZ4jK"
      }
    },
    {
      "cell_type": "code",
      "source": [
        "season_workingday = pd.crosstab(index = df[\"season\"] , columns = df[\"workingday\"] , margins = True)\n",
        "season_workingday"
      ],
      "metadata": {
        "colab": {
          "base_uri": "https://localhost:8080/",
          "height": 237
        },
        "id": "fekxozXjghlj",
        "outputId": "1d6581e9-0e53-4eea-ca4d-ab80464850e8"
      },
      "execution_count": 119,
      "outputs": [
        {
          "output_type": "execute_result",
          "data": {
            "text/plain": [
              "workingday     0     1    All\n",
              "season                       \n",
              "1            858  1828   2686\n",
              "2            840  1893   2733\n",
              "3            888  1845   2733\n",
              "4            888  1846   2734\n",
              "All         3474  7412  10886"
            ],
            "text/html": [
              "\n",
              "  <div id=\"df-b66a1f82-b6f8-4204-b867-f956a29bf65e\">\n",
              "    <div class=\"colab-df-container\">\n",
              "      <div>\n",
              "<style scoped>\n",
              "    .dataframe tbody tr th:only-of-type {\n",
              "        vertical-align: middle;\n",
              "    }\n",
              "\n",
              "    .dataframe tbody tr th {\n",
              "        vertical-align: top;\n",
              "    }\n",
              "\n",
              "    .dataframe thead th {\n",
              "        text-align: right;\n",
              "    }\n",
              "</style>\n",
              "<table border=\"1\" class=\"dataframe\">\n",
              "  <thead>\n",
              "    <tr style=\"text-align: right;\">\n",
              "      <th>workingday</th>\n",
              "      <th>0</th>\n",
              "      <th>1</th>\n",
              "      <th>All</th>\n",
              "    </tr>\n",
              "    <tr>\n",
              "      <th>season</th>\n",
              "      <th></th>\n",
              "      <th></th>\n",
              "      <th></th>\n",
              "    </tr>\n",
              "  </thead>\n",
              "  <tbody>\n",
              "    <tr>\n",
              "      <th>1</th>\n",
              "      <td>858</td>\n",
              "      <td>1828</td>\n",
              "      <td>2686</td>\n",
              "    </tr>\n",
              "    <tr>\n",
              "      <th>2</th>\n",
              "      <td>840</td>\n",
              "      <td>1893</td>\n",
              "      <td>2733</td>\n",
              "    </tr>\n",
              "    <tr>\n",
              "      <th>3</th>\n",
              "      <td>888</td>\n",
              "      <td>1845</td>\n",
              "      <td>2733</td>\n",
              "    </tr>\n",
              "    <tr>\n",
              "      <th>4</th>\n",
              "      <td>888</td>\n",
              "      <td>1846</td>\n",
              "      <td>2734</td>\n",
              "    </tr>\n",
              "    <tr>\n",
              "      <th>All</th>\n",
              "      <td>3474</td>\n",
              "      <td>7412</td>\n",
              "      <td>10886</td>\n",
              "    </tr>\n",
              "  </tbody>\n",
              "</table>\n",
              "</div>\n",
              "      <button class=\"colab-df-convert\" onclick=\"convertToInteractive('df-b66a1f82-b6f8-4204-b867-f956a29bf65e')\"\n",
              "              title=\"Convert this dataframe to an interactive table.\"\n",
              "              style=\"display:none;\">\n",
              "        \n",
              "  <svg xmlns=\"http://www.w3.org/2000/svg\" height=\"24px\"viewBox=\"0 0 24 24\"\n",
              "       width=\"24px\">\n",
              "    <path d=\"M0 0h24v24H0V0z\" fill=\"none\"/>\n",
              "    <path d=\"M18.56 5.44l.94 2.06.94-2.06 2.06-.94-2.06-.94-.94-2.06-.94 2.06-2.06.94zm-11 1L8.5 8.5l.94-2.06 2.06-.94-2.06-.94L8.5 2.5l-.94 2.06-2.06.94zm10 10l.94 2.06.94-2.06 2.06-.94-2.06-.94-.94-2.06-.94 2.06-2.06.94z\"/><path d=\"M17.41 7.96l-1.37-1.37c-.4-.4-.92-.59-1.43-.59-.52 0-1.04.2-1.43.59L10.3 9.45l-7.72 7.72c-.78.78-.78 2.05 0 2.83L4 21.41c.39.39.9.59 1.41.59.51 0 1.02-.2 1.41-.59l7.78-7.78 2.81-2.81c.8-.78.8-2.07 0-2.86zM5.41 20L4 18.59l7.72-7.72 1.47 1.35L5.41 20z\"/>\n",
              "  </svg>\n",
              "      </button>\n",
              "      \n",
              "  <style>\n",
              "    .colab-df-container {\n",
              "      display:flex;\n",
              "      flex-wrap:wrap;\n",
              "      gap: 12px;\n",
              "    }\n",
              "\n",
              "    .colab-df-convert {\n",
              "      background-color: #E8F0FE;\n",
              "      border: none;\n",
              "      border-radius: 50%;\n",
              "      cursor: pointer;\n",
              "      display: none;\n",
              "      fill: #1967D2;\n",
              "      height: 32px;\n",
              "      padding: 0 0 0 0;\n",
              "      width: 32px;\n",
              "    }\n",
              "\n",
              "    .colab-df-convert:hover {\n",
              "      background-color: #E2EBFA;\n",
              "      box-shadow: 0px 1px 2px rgba(60, 64, 67, 0.3), 0px 1px 3px 1px rgba(60, 64, 67, 0.15);\n",
              "      fill: #174EA6;\n",
              "    }\n",
              "\n",
              "    [theme=dark] .colab-df-convert {\n",
              "      background-color: #3B4455;\n",
              "      fill: #D2E3FC;\n",
              "    }\n",
              "\n",
              "    [theme=dark] .colab-df-convert:hover {\n",
              "      background-color: #434B5C;\n",
              "      box-shadow: 0px 1px 3px 1px rgba(0, 0, 0, 0.15);\n",
              "      filter: drop-shadow(0px 1px 2px rgba(0, 0, 0, 0.3));\n",
              "      fill: #FFFFFF;\n",
              "    }\n",
              "  </style>\n",
              "\n",
              "      <script>\n",
              "        const buttonEl =\n",
              "          document.querySelector('#df-b66a1f82-b6f8-4204-b867-f956a29bf65e button.colab-df-convert');\n",
              "        buttonEl.style.display =\n",
              "          google.colab.kernel.accessAllowed ? 'block' : 'none';\n",
              "\n",
              "        async function convertToInteractive(key) {\n",
              "          const element = document.querySelector('#df-b66a1f82-b6f8-4204-b867-f956a29bf65e');\n",
              "          const dataTable =\n",
              "            await google.colab.kernel.invokeFunction('convertToInteractive',\n",
              "                                                     [key], {});\n",
              "          if (!dataTable) return;\n",
              "\n",
              "          const docLinkHtml = 'Like what you see? Visit the ' +\n",
              "            '<a target=\"_blank\" href=https://colab.research.google.com/notebooks/data_table.ipynb>data table notebook</a>'\n",
              "            + ' to learn more about interactive tables.';\n",
              "          element.innerHTML = '';\n",
              "          dataTable['output_type'] = 'display_data';\n",
              "          await google.colab.output.renderOutput(dataTable, element);\n",
              "          const docLink = document.createElement('div');\n",
              "          docLink.innerHTML = docLinkHtml;\n",
              "          element.appendChild(docLink);\n",
              "        }\n",
              "      </script>\n",
              "    </div>\n",
              "  </div>\n",
              "  "
            ]
          },
          "metadata": {},
          "execution_count": 119
        }
      ]
    },
    {
      "cell_type": "code",
      "source": [
        "chi2_contingency(season_workingday)"
      ],
      "metadata": {
        "colab": {
          "base_uri": "https://localhost:8080/",
          "height": 0
        },
        "id": "uTqyvRe-j88R",
        "outputId": "12b17731-7075-4ea3-e83a-90446e7101a5"
      },
      "execution_count": 120,
      "outputs": [
        {
          "output_type": "execute_result",
          "data": {
            "text/plain": [
              "(2.5708953973429574,\n",
              " 0.9583429307736173,\n",
              " 8,\n",
              " array([[  857.17104538,  1828.82895462,  2686.        ],\n",
              "        [  872.16994305,  1860.83005695,  2733.        ],\n",
              "        [  872.16994305,  1860.83005695,  2733.        ],\n",
              "        [  872.48906853,  1861.51093147,  2734.        ],\n",
              "        [ 3474.        ,  7412.        , 10886.        ]]))"
            ]
          },
          "metadata": {},
          "execution_count": 120
        }
      ]
    },
    {
      "cell_type": "markdown",
      "source": [
        "***Note*** - Fail to Reject Null Hypothesis because P-value is very high that means it is NOT Statistcally Significant at 90% Confidence also. So, Season and WorkingDay are Independent to each other."
      ],
      "metadata": {
        "id": "CUWyAfo0kO6o"
      }
    },
    {
      "cell_type": "markdown",
      "source": [
        "***Season_Holiday***"
      ],
      "metadata": {
        "id": "b3Y4Fode29SY"
      }
    },
    {
      "cell_type": "markdown",
      "source": [
        "***Null Hypothesis*** - Season and Holiday are independent.\n",
        "\n",
        "***Alternate Hypothesis*** - Season and Holiday are dependent."
      ],
      "metadata": {
        "id": "HV7X--AsaUrp"
      }
    },
    {
      "cell_type": "code",
      "source": [
        "season_holiday = pd.crosstab(index = df[\"season\"] , columns = df[\"holiday\"] , margins = True)\n",
        "season_holiday"
      ],
      "metadata": {
        "colab": {
          "base_uri": "https://localhost:8080/",
          "height": 237
        },
        "id": "ak6Ux_VNkKDs",
        "outputId": "c12852ad-50ea-4dc7-fbca-e7d1ce9122b7"
      },
      "execution_count": 121,
      "outputs": [
        {
          "output_type": "execute_result",
          "data": {
            "text/plain": [
              "holiday      0    1    All\n",
              "season                    \n",
              "1         2615   71   2686\n",
              "2         2685   48   2733\n",
              "3         2637   96   2733\n",
              "4         2638   96   2734\n",
              "All      10575  311  10886"
            ],
            "text/html": [
              "\n",
              "  <div id=\"df-62ceaca8-b543-43e3-81c1-cfa200517897\">\n",
              "    <div class=\"colab-df-container\">\n",
              "      <div>\n",
              "<style scoped>\n",
              "    .dataframe tbody tr th:only-of-type {\n",
              "        vertical-align: middle;\n",
              "    }\n",
              "\n",
              "    .dataframe tbody tr th {\n",
              "        vertical-align: top;\n",
              "    }\n",
              "\n",
              "    .dataframe thead th {\n",
              "        text-align: right;\n",
              "    }\n",
              "</style>\n",
              "<table border=\"1\" class=\"dataframe\">\n",
              "  <thead>\n",
              "    <tr style=\"text-align: right;\">\n",
              "      <th>holiday</th>\n",
              "      <th>0</th>\n",
              "      <th>1</th>\n",
              "      <th>All</th>\n",
              "    </tr>\n",
              "    <tr>\n",
              "      <th>season</th>\n",
              "      <th></th>\n",
              "      <th></th>\n",
              "      <th></th>\n",
              "    </tr>\n",
              "  </thead>\n",
              "  <tbody>\n",
              "    <tr>\n",
              "      <th>1</th>\n",
              "      <td>2615</td>\n",
              "      <td>71</td>\n",
              "      <td>2686</td>\n",
              "    </tr>\n",
              "    <tr>\n",
              "      <th>2</th>\n",
              "      <td>2685</td>\n",
              "      <td>48</td>\n",
              "      <td>2733</td>\n",
              "    </tr>\n",
              "    <tr>\n",
              "      <th>3</th>\n",
              "      <td>2637</td>\n",
              "      <td>96</td>\n",
              "      <td>2733</td>\n",
              "    </tr>\n",
              "    <tr>\n",
              "      <th>4</th>\n",
              "      <td>2638</td>\n",
              "      <td>96</td>\n",
              "      <td>2734</td>\n",
              "    </tr>\n",
              "    <tr>\n",
              "      <th>All</th>\n",
              "      <td>10575</td>\n",
              "      <td>311</td>\n",
              "      <td>10886</td>\n",
              "    </tr>\n",
              "  </tbody>\n",
              "</table>\n",
              "</div>\n",
              "      <button class=\"colab-df-convert\" onclick=\"convertToInteractive('df-62ceaca8-b543-43e3-81c1-cfa200517897')\"\n",
              "              title=\"Convert this dataframe to an interactive table.\"\n",
              "              style=\"display:none;\">\n",
              "        \n",
              "  <svg xmlns=\"http://www.w3.org/2000/svg\" height=\"24px\"viewBox=\"0 0 24 24\"\n",
              "       width=\"24px\">\n",
              "    <path d=\"M0 0h24v24H0V0z\" fill=\"none\"/>\n",
              "    <path d=\"M18.56 5.44l.94 2.06.94-2.06 2.06-.94-2.06-.94-.94-2.06-.94 2.06-2.06.94zm-11 1L8.5 8.5l.94-2.06 2.06-.94-2.06-.94L8.5 2.5l-.94 2.06-2.06.94zm10 10l.94 2.06.94-2.06 2.06-.94-2.06-.94-.94-2.06-.94 2.06-2.06.94z\"/><path d=\"M17.41 7.96l-1.37-1.37c-.4-.4-.92-.59-1.43-.59-.52 0-1.04.2-1.43.59L10.3 9.45l-7.72 7.72c-.78.78-.78 2.05 0 2.83L4 21.41c.39.39.9.59 1.41.59.51 0 1.02-.2 1.41-.59l7.78-7.78 2.81-2.81c.8-.78.8-2.07 0-2.86zM5.41 20L4 18.59l7.72-7.72 1.47 1.35L5.41 20z\"/>\n",
              "  </svg>\n",
              "      </button>\n",
              "      \n",
              "  <style>\n",
              "    .colab-df-container {\n",
              "      display:flex;\n",
              "      flex-wrap:wrap;\n",
              "      gap: 12px;\n",
              "    }\n",
              "\n",
              "    .colab-df-convert {\n",
              "      background-color: #E8F0FE;\n",
              "      border: none;\n",
              "      border-radius: 50%;\n",
              "      cursor: pointer;\n",
              "      display: none;\n",
              "      fill: #1967D2;\n",
              "      height: 32px;\n",
              "      padding: 0 0 0 0;\n",
              "      width: 32px;\n",
              "    }\n",
              "\n",
              "    .colab-df-convert:hover {\n",
              "      background-color: #E2EBFA;\n",
              "      box-shadow: 0px 1px 2px rgba(60, 64, 67, 0.3), 0px 1px 3px 1px rgba(60, 64, 67, 0.15);\n",
              "      fill: #174EA6;\n",
              "    }\n",
              "\n",
              "    [theme=dark] .colab-df-convert {\n",
              "      background-color: #3B4455;\n",
              "      fill: #D2E3FC;\n",
              "    }\n",
              "\n",
              "    [theme=dark] .colab-df-convert:hover {\n",
              "      background-color: #434B5C;\n",
              "      box-shadow: 0px 1px 3px 1px rgba(0, 0, 0, 0.15);\n",
              "      filter: drop-shadow(0px 1px 2px rgba(0, 0, 0, 0.3));\n",
              "      fill: #FFFFFF;\n",
              "    }\n",
              "  </style>\n",
              "\n",
              "      <script>\n",
              "        const buttonEl =\n",
              "          document.querySelector('#df-62ceaca8-b543-43e3-81c1-cfa200517897 button.colab-df-convert');\n",
              "        buttonEl.style.display =\n",
              "          google.colab.kernel.accessAllowed ? 'block' : 'none';\n",
              "\n",
              "        async function convertToInteractive(key) {\n",
              "          const element = document.querySelector('#df-62ceaca8-b543-43e3-81c1-cfa200517897');\n",
              "          const dataTable =\n",
              "            await google.colab.kernel.invokeFunction('convertToInteractive',\n",
              "                                                     [key], {});\n",
              "          if (!dataTable) return;\n",
              "\n",
              "          const docLinkHtml = 'Like what you see? Visit the ' +\n",
              "            '<a target=\"_blank\" href=https://colab.research.google.com/notebooks/data_table.ipynb>data table notebook</a>'\n",
              "            + ' to learn more about interactive tables.';\n",
              "          element.innerHTML = '';\n",
              "          dataTable['output_type'] = 'display_data';\n",
              "          await google.colab.output.renderOutput(dataTable, element);\n",
              "          const docLink = document.createElement('div');\n",
              "          docLink.innerHTML = docLinkHtml;\n",
              "          element.appendChild(docLink);\n",
              "        }\n",
              "      </script>\n",
              "    </div>\n",
              "  </div>\n",
              "  "
            ]
          },
          "metadata": {},
          "execution_count": 121
        }
      ]
    },
    {
      "cell_type": "code",
      "source": [
        "chi2_contingency(season_holiday)"
      ],
      "metadata": {
        "colab": {
          "base_uri": "https://localhost:8080/",
          "height": 0
        },
        "id": "CFvvwYjIkhen",
        "outputId": "d0bf021b-a098-49d4-b620-b77b482a5a26"
      },
      "execution_count": 122,
      "outputs": [
        {
          "output_type": "execute_result",
          "data": {
            "text/plain": [
              "(20.82338817816167,\n",
              " 0.0076316771368387095,\n",
              " 8,\n",
              " array([[ 2609.26419254,    76.73580746,  2686.        ],\n",
              "        [ 2654.92145875,    78.07854125,  2733.        ],\n",
              "        [ 2654.92145875,    78.07854125,  2733.        ],\n",
              "        [ 2655.89288995,    78.10711005,  2734.        ],\n",
              "        [10575.        ,   311.        , 10886.        ]]))"
            ]
          },
          "metadata": {},
          "execution_count": 122
        }
      ]
    },
    {
      "cell_type": "markdown",
      "source": [
        "***Note*** - Reject Null Hypothesis because P-value is very low that means it is Statistcally Significant at 99% Confidence. So, Season and Holiday are Dependent to each other."
      ],
      "metadata": {
        "id": "mm6pCGs2mqQd"
      }
    },
    {
      "cell_type": "markdown",
      "source": [
        "***WorkingDay_Holiday***"
      ],
      "metadata": {
        "id": "haWzQBWQ3HQB"
      }
    },
    {
      "cell_type": "markdown",
      "source": [
        "***Null Hypothesis*** - WorkingDay and Holiday are independent.\n",
        "\n",
        "***Alternate Hypothesis*** - WorkingDay and Holiday are dependent."
      ],
      "metadata": {
        "id": "KtqRscQJason"
      }
    },
    {
      "cell_type": "code",
      "source": [
        "workingday_holiday = pd.crosstab(index = df[\"workingday\"] , columns = df[\"holiday\"] , margins = True)\n",
        "workingday_holiday"
      ],
      "metadata": {
        "colab": {
          "base_uri": "https://localhost:8080/",
          "height": 175
        },
        "id": "tJIuwVTAkmeA",
        "outputId": "2c7e5e5e-85d2-42af-a782-8bfed9cef61e"
      },
      "execution_count": 123,
      "outputs": [
        {
          "output_type": "execute_result",
          "data": {
            "text/plain": [
              "holiday         0    1    All\n",
              "workingday                   \n",
              "0            3163  311   3474\n",
              "1            7412    0   7412\n",
              "All         10575  311  10886"
            ],
            "text/html": [
              "\n",
              "  <div id=\"df-c808da34-7545-4123-bc2f-f3e04e205419\">\n",
              "    <div class=\"colab-df-container\">\n",
              "      <div>\n",
              "<style scoped>\n",
              "    .dataframe tbody tr th:only-of-type {\n",
              "        vertical-align: middle;\n",
              "    }\n",
              "\n",
              "    .dataframe tbody tr th {\n",
              "        vertical-align: top;\n",
              "    }\n",
              "\n",
              "    .dataframe thead th {\n",
              "        text-align: right;\n",
              "    }\n",
              "</style>\n",
              "<table border=\"1\" class=\"dataframe\">\n",
              "  <thead>\n",
              "    <tr style=\"text-align: right;\">\n",
              "      <th>holiday</th>\n",
              "      <th>0</th>\n",
              "      <th>1</th>\n",
              "      <th>All</th>\n",
              "    </tr>\n",
              "    <tr>\n",
              "      <th>workingday</th>\n",
              "      <th></th>\n",
              "      <th></th>\n",
              "      <th></th>\n",
              "    </tr>\n",
              "  </thead>\n",
              "  <tbody>\n",
              "    <tr>\n",
              "      <th>0</th>\n",
              "      <td>3163</td>\n",
              "      <td>311</td>\n",
              "      <td>3474</td>\n",
              "    </tr>\n",
              "    <tr>\n",
              "      <th>1</th>\n",
              "      <td>7412</td>\n",
              "      <td>0</td>\n",
              "      <td>7412</td>\n",
              "    </tr>\n",
              "    <tr>\n",
              "      <th>All</th>\n",
              "      <td>10575</td>\n",
              "      <td>311</td>\n",
              "      <td>10886</td>\n",
              "    </tr>\n",
              "  </tbody>\n",
              "</table>\n",
              "</div>\n",
              "      <button class=\"colab-df-convert\" onclick=\"convertToInteractive('df-c808da34-7545-4123-bc2f-f3e04e205419')\"\n",
              "              title=\"Convert this dataframe to an interactive table.\"\n",
              "              style=\"display:none;\">\n",
              "        \n",
              "  <svg xmlns=\"http://www.w3.org/2000/svg\" height=\"24px\"viewBox=\"0 0 24 24\"\n",
              "       width=\"24px\">\n",
              "    <path d=\"M0 0h24v24H0V0z\" fill=\"none\"/>\n",
              "    <path d=\"M18.56 5.44l.94 2.06.94-2.06 2.06-.94-2.06-.94-.94-2.06-.94 2.06-2.06.94zm-11 1L8.5 8.5l.94-2.06 2.06-.94-2.06-.94L8.5 2.5l-.94 2.06-2.06.94zm10 10l.94 2.06.94-2.06 2.06-.94-2.06-.94-.94-2.06-.94 2.06-2.06.94z\"/><path d=\"M17.41 7.96l-1.37-1.37c-.4-.4-.92-.59-1.43-.59-.52 0-1.04.2-1.43.59L10.3 9.45l-7.72 7.72c-.78.78-.78 2.05 0 2.83L4 21.41c.39.39.9.59 1.41.59.51 0 1.02-.2 1.41-.59l7.78-7.78 2.81-2.81c.8-.78.8-2.07 0-2.86zM5.41 20L4 18.59l7.72-7.72 1.47 1.35L5.41 20z\"/>\n",
              "  </svg>\n",
              "      </button>\n",
              "      \n",
              "  <style>\n",
              "    .colab-df-container {\n",
              "      display:flex;\n",
              "      flex-wrap:wrap;\n",
              "      gap: 12px;\n",
              "    }\n",
              "\n",
              "    .colab-df-convert {\n",
              "      background-color: #E8F0FE;\n",
              "      border: none;\n",
              "      border-radius: 50%;\n",
              "      cursor: pointer;\n",
              "      display: none;\n",
              "      fill: #1967D2;\n",
              "      height: 32px;\n",
              "      padding: 0 0 0 0;\n",
              "      width: 32px;\n",
              "    }\n",
              "\n",
              "    .colab-df-convert:hover {\n",
              "      background-color: #E2EBFA;\n",
              "      box-shadow: 0px 1px 2px rgba(60, 64, 67, 0.3), 0px 1px 3px 1px rgba(60, 64, 67, 0.15);\n",
              "      fill: #174EA6;\n",
              "    }\n",
              "\n",
              "    [theme=dark] .colab-df-convert {\n",
              "      background-color: #3B4455;\n",
              "      fill: #D2E3FC;\n",
              "    }\n",
              "\n",
              "    [theme=dark] .colab-df-convert:hover {\n",
              "      background-color: #434B5C;\n",
              "      box-shadow: 0px 1px 3px 1px rgba(0, 0, 0, 0.15);\n",
              "      filter: drop-shadow(0px 1px 2px rgba(0, 0, 0, 0.3));\n",
              "      fill: #FFFFFF;\n",
              "    }\n",
              "  </style>\n",
              "\n",
              "      <script>\n",
              "        const buttonEl =\n",
              "          document.querySelector('#df-c808da34-7545-4123-bc2f-f3e04e205419 button.colab-df-convert');\n",
              "        buttonEl.style.display =\n",
              "          google.colab.kernel.accessAllowed ? 'block' : 'none';\n",
              "\n",
              "        async function convertToInteractive(key) {\n",
              "          const element = document.querySelector('#df-c808da34-7545-4123-bc2f-f3e04e205419');\n",
              "          const dataTable =\n",
              "            await google.colab.kernel.invokeFunction('convertToInteractive',\n",
              "                                                     [key], {});\n",
              "          if (!dataTable) return;\n",
              "\n",
              "          const docLinkHtml = 'Like what you see? Visit the ' +\n",
              "            '<a target=\"_blank\" href=https://colab.research.google.com/notebooks/data_table.ipynb>data table notebook</a>'\n",
              "            + ' to learn more about interactive tables.';\n",
              "          element.innerHTML = '';\n",
              "          dataTable['output_type'] = 'display_data';\n",
              "          await google.colab.output.renderOutput(dataTable, element);\n",
              "          const docLink = document.createElement('div');\n",
              "          docLink.innerHTML = docLinkHtml;\n",
              "          element.appendChild(docLink);\n",
              "        }\n",
              "      </script>\n",
              "    </div>\n",
              "  </div>\n",
              "  "
            ]
          },
          "metadata": {},
          "execution_count": 123
        }
      ]
    },
    {
      "cell_type": "code",
      "source": [
        "chi2_contingency(workingday_holiday)"
      ],
      "metadata": {
        "colab": {
          "base_uri": "https://localhost:8080/",
          "height": 0
        },
        "id": "fEdFUFG8nEQg",
        "outputId": "794c1c82-1950-4a72-b74e-63313d7a4113"
      },
      "execution_count": 124,
      "outputs": [
        {
          "output_type": "execute_result",
          "data": {
            "text/plain": [
              "(683.0522708237211,\n",
              " 1.628462190086869e-146,\n",
              " 4,\n",
              " array([[ 3374.75197501,    99.24802499,  3474.        ],\n",
              "        [ 7200.24802499,   211.75197501,  7412.        ],\n",
              "        [10575.        ,   311.        , 10886.        ]]))"
            ]
          },
          "metadata": {},
          "execution_count": 124
        }
      ]
    },
    {
      "cell_type": "markdown",
      "source": [
        "***Note*** - Reject Null Hypothesis because P-value is very low that means it is Statistcally Significant at 99% Confidence. So, WorkingDay and Holiday are Dependent to each other."
      ],
      "metadata": {
        "id": "loDnDR4fnuIe"
      }
    },
    {
      "cell_type": "markdown",
      "source": [
        "***WorkingDay_Weather***"
      ],
      "metadata": {
        "id": "Wq_Fggkl3MRU"
      }
    },
    {
      "cell_type": "markdown",
      "source": [
        "***Null Hypothesis*** - WorkingDay and Weather are independent.\n",
        "\n",
        "***Alternate Hypothesis*** - WorkingDay and Weather are dependent."
      ],
      "metadata": {
        "id": "4UorNrMUa87z"
      }
    },
    {
      "cell_type": "code",
      "source": [
        "workingday_weather = pd.crosstab(index = df[\"workingday\"] , columns = df[\"weather\"] , margins = True)\n",
        "workingday_weather"
      ],
      "metadata": {
        "colab": {
          "base_uri": "https://localhost:8080/",
          "height": 175
        },
        "id": "V18tvSkbnLcx",
        "outputId": "1fa804d4-ca8f-456d-f501-9beb4683e3dc"
      },
      "execution_count": 125,
      "outputs": [
        {
          "output_type": "execute_result",
          "data": {
            "text/plain": [
              "weather        1     2    3  4    All\n",
              "workingday                           \n",
              "0           2353   897  224  0   3474\n",
              "1           4839  1937  635  1   7412\n",
              "All         7192  2834  859  1  10886"
            ],
            "text/html": [
              "\n",
              "  <div id=\"df-e46deb99-4afe-4ea7-845a-06898b03f935\">\n",
              "    <div class=\"colab-df-container\">\n",
              "      <div>\n",
              "<style scoped>\n",
              "    .dataframe tbody tr th:only-of-type {\n",
              "        vertical-align: middle;\n",
              "    }\n",
              "\n",
              "    .dataframe tbody tr th {\n",
              "        vertical-align: top;\n",
              "    }\n",
              "\n",
              "    .dataframe thead th {\n",
              "        text-align: right;\n",
              "    }\n",
              "</style>\n",
              "<table border=\"1\" class=\"dataframe\">\n",
              "  <thead>\n",
              "    <tr style=\"text-align: right;\">\n",
              "      <th>weather</th>\n",
              "      <th>1</th>\n",
              "      <th>2</th>\n",
              "      <th>3</th>\n",
              "      <th>4</th>\n",
              "      <th>All</th>\n",
              "    </tr>\n",
              "    <tr>\n",
              "      <th>workingday</th>\n",
              "      <th></th>\n",
              "      <th></th>\n",
              "      <th></th>\n",
              "      <th></th>\n",
              "      <th></th>\n",
              "    </tr>\n",
              "  </thead>\n",
              "  <tbody>\n",
              "    <tr>\n",
              "      <th>0</th>\n",
              "      <td>2353</td>\n",
              "      <td>897</td>\n",
              "      <td>224</td>\n",
              "      <td>0</td>\n",
              "      <td>3474</td>\n",
              "    </tr>\n",
              "    <tr>\n",
              "      <th>1</th>\n",
              "      <td>4839</td>\n",
              "      <td>1937</td>\n",
              "      <td>635</td>\n",
              "      <td>1</td>\n",
              "      <td>7412</td>\n",
              "    </tr>\n",
              "    <tr>\n",
              "      <th>All</th>\n",
              "      <td>7192</td>\n",
              "      <td>2834</td>\n",
              "      <td>859</td>\n",
              "      <td>1</td>\n",
              "      <td>10886</td>\n",
              "    </tr>\n",
              "  </tbody>\n",
              "</table>\n",
              "</div>\n",
              "      <button class=\"colab-df-convert\" onclick=\"convertToInteractive('df-e46deb99-4afe-4ea7-845a-06898b03f935')\"\n",
              "              title=\"Convert this dataframe to an interactive table.\"\n",
              "              style=\"display:none;\">\n",
              "        \n",
              "  <svg xmlns=\"http://www.w3.org/2000/svg\" height=\"24px\"viewBox=\"0 0 24 24\"\n",
              "       width=\"24px\">\n",
              "    <path d=\"M0 0h24v24H0V0z\" fill=\"none\"/>\n",
              "    <path d=\"M18.56 5.44l.94 2.06.94-2.06 2.06-.94-2.06-.94-.94-2.06-.94 2.06-2.06.94zm-11 1L8.5 8.5l.94-2.06 2.06-.94-2.06-.94L8.5 2.5l-.94 2.06-2.06.94zm10 10l.94 2.06.94-2.06 2.06-.94-2.06-.94-.94-2.06-.94 2.06-2.06.94z\"/><path d=\"M17.41 7.96l-1.37-1.37c-.4-.4-.92-.59-1.43-.59-.52 0-1.04.2-1.43.59L10.3 9.45l-7.72 7.72c-.78.78-.78 2.05 0 2.83L4 21.41c.39.39.9.59 1.41.59.51 0 1.02-.2 1.41-.59l7.78-7.78 2.81-2.81c.8-.78.8-2.07 0-2.86zM5.41 20L4 18.59l7.72-7.72 1.47 1.35L5.41 20z\"/>\n",
              "  </svg>\n",
              "      </button>\n",
              "      \n",
              "  <style>\n",
              "    .colab-df-container {\n",
              "      display:flex;\n",
              "      flex-wrap:wrap;\n",
              "      gap: 12px;\n",
              "    }\n",
              "\n",
              "    .colab-df-convert {\n",
              "      background-color: #E8F0FE;\n",
              "      border: none;\n",
              "      border-radius: 50%;\n",
              "      cursor: pointer;\n",
              "      display: none;\n",
              "      fill: #1967D2;\n",
              "      height: 32px;\n",
              "      padding: 0 0 0 0;\n",
              "      width: 32px;\n",
              "    }\n",
              "\n",
              "    .colab-df-convert:hover {\n",
              "      background-color: #E2EBFA;\n",
              "      box-shadow: 0px 1px 2px rgba(60, 64, 67, 0.3), 0px 1px 3px 1px rgba(60, 64, 67, 0.15);\n",
              "      fill: #174EA6;\n",
              "    }\n",
              "\n",
              "    [theme=dark] .colab-df-convert {\n",
              "      background-color: #3B4455;\n",
              "      fill: #D2E3FC;\n",
              "    }\n",
              "\n",
              "    [theme=dark] .colab-df-convert:hover {\n",
              "      background-color: #434B5C;\n",
              "      box-shadow: 0px 1px 3px 1px rgba(0, 0, 0, 0.15);\n",
              "      filter: drop-shadow(0px 1px 2px rgba(0, 0, 0, 0.3));\n",
              "      fill: #FFFFFF;\n",
              "    }\n",
              "  </style>\n",
              "\n",
              "      <script>\n",
              "        const buttonEl =\n",
              "          document.querySelector('#df-e46deb99-4afe-4ea7-845a-06898b03f935 button.colab-df-convert');\n",
              "        buttonEl.style.display =\n",
              "          google.colab.kernel.accessAllowed ? 'block' : 'none';\n",
              "\n",
              "        async function convertToInteractive(key) {\n",
              "          const element = document.querySelector('#df-e46deb99-4afe-4ea7-845a-06898b03f935');\n",
              "          const dataTable =\n",
              "            await google.colab.kernel.invokeFunction('convertToInteractive',\n",
              "                                                     [key], {});\n",
              "          if (!dataTable) return;\n",
              "\n",
              "          const docLinkHtml = 'Like what you see? Visit the ' +\n",
              "            '<a target=\"_blank\" href=https://colab.research.google.com/notebooks/data_table.ipynb>data table notebook</a>'\n",
              "            + ' to learn more about interactive tables.';\n",
              "          element.innerHTML = '';\n",
              "          dataTable['output_type'] = 'display_data';\n",
              "          await google.colab.output.renderOutput(dataTable, element);\n",
              "          const docLink = document.createElement('div');\n",
              "          docLink.innerHTML = docLinkHtml;\n",
              "          element.appendChild(docLink);\n",
              "        }\n",
              "      </script>\n",
              "    </div>\n",
              "  </div>\n",
              "  "
            ]
          },
          "metadata": {},
          "execution_count": 125
        }
      ]
    },
    {
      "cell_type": "code",
      "source": [
        "chi2_contingency(workingday_weather)"
      ],
      "metadata": {
        "colab": {
          "base_uri": "https://localhost:8080/",
          "height": 0
        },
        "id": "JOsQZ7vhoAjj",
        "outputId": "a59ed088-080b-4ddc-f88d-97f235d4deee"
      },
      "execution_count": 126,
      "outputs": [
        {
          "output_type": "execute_result",
          "data": {
            "text/plain": [
              "(16.162518725276595,\n",
              " 0.04011216628542262,\n",
              " 8,\n",
              " array([[2.29515047e+03, 9.04401617e+02, 2.74128789e+02, 3.19125482e-01,\n",
              "         3.47400000e+03],\n",
              "        [4.89684953e+03, 1.92959838e+03, 5.84871211e+02, 6.80874518e-01,\n",
              "         7.41200000e+03],\n",
              "        [7.19200000e+03, 2.83400000e+03, 8.59000000e+02, 1.00000000e+00,\n",
              "         1.08860000e+04]]))"
            ]
          },
          "metadata": {},
          "execution_count": 126
        }
      ]
    },
    {
      "cell_type": "markdown",
      "source": [
        "***Note*** - Reject Null Hypothesis because P-value is very low that means it is Statistcally Significant at 95% Confidence. So, WorkingDay and Weather are Dependent to each other."
      ],
      "metadata": {
        "id": "Rpzso3Y7oGmQ"
      }
    },
    {
      "cell_type": "markdown",
      "source": [
        "***Holiday_Weather***"
      ],
      "metadata": {
        "id": "gAQTh9ks3YDp"
      }
    },
    {
      "cell_type": "markdown",
      "source": [
        "***Null Hypothesis*** - Holiday and Weather are independent.\n",
        "\n",
        "***Alternate Hypothesis*** - Holiday and Weather are dependent."
      ],
      "metadata": {
        "id": "eB7t0KNlbQri"
      }
    },
    {
      "cell_type": "code",
      "source": [
        "holiday_weather = pd.crosstab(index = df[\"holiday\"] , columns = df[\"weather\"] , margins = True)\n",
        "holiday_weather"
      ],
      "metadata": {
        "colab": {
          "base_uri": "https://localhost:8080/",
          "height": 175
        },
        "id": "MmVUX3QenTh9",
        "outputId": "8c236be0-d02a-4267-e07a-a9b6c83e5e35"
      },
      "execution_count": 127,
      "outputs": [
        {
          "output_type": "execute_result",
          "data": {
            "text/plain": [
              "weather     1     2    3  4    All\n",
              "holiday                           \n",
              "0        6988  2742  844  1  10575\n",
              "1         204    92   15  0    311\n",
              "All      7192  2834  859  1  10886"
            ],
            "text/html": [
              "\n",
              "  <div id=\"df-42dcd2cb-8957-48b2-b7df-5981b2be51d1\">\n",
              "    <div class=\"colab-df-container\">\n",
              "      <div>\n",
              "<style scoped>\n",
              "    .dataframe tbody tr th:only-of-type {\n",
              "        vertical-align: middle;\n",
              "    }\n",
              "\n",
              "    .dataframe tbody tr th {\n",
              "        vertical-align: top;\n",
              "    }\n",
              "\n",
              "    .dataframe thead th {\n",
              "        text-align: right;\n",
              "    }\n",
              "</style>\n",
              "<table border=\"1\" class=\"dataframe\">\n",
              "  <thead>\n",
              "    <tr style=\"text-align: right;\">\n",
              "      <th>weather</th>\n",
              "      <th>1</th>\n",
              "      <th>2</th>\n",
              "      <th>3</th>\n",
              "      <th>4</th>\n",
              "      <th>All</th>\n",
              "    </tr>\n",
              "    <tr>\n",
              "      <th>holiday</th>\n",
              "      <th></th>\n",
              "      <th></th>\n",
              "      <th></th>\n",
              "      <th></th>\n",
              "      <th></th>\n",
              "    </tr>\n",
              "  </thead>\n",
              "  <tbody>\n",
              "    <tr>\n",
              "      <th>0</th>\n",
              "      <td>6988</td>\n",
              "      <td>2742</td>\n",
              "      <td>844</td>\n",
              "      <td>1</td>\n",
              "      <td>10575</td>\n",
              "    </tr>\n",
              "    <tr>\n",
              "      <th>1</th>\n",
              "      <td>204</td>\n",
              "      <td>92</td>\n",
              "      <td>15</td>\n",
              "      <td>0</td>\n",
              "      <td>311</td>\n",
              "    </tr>\n",
              "    <tr>\n",
              "      <th>All</th>\n",
              "      <td>7192</td>\n",
              "      <td>2834</td>\n",
              "      <td>859</td>\n",
              "      <td>1</td>\n",
              "      <td>10886</td>\n",
              "    </tr>\n",
              "  </tbody>\n",
              "</table>\n",
              "</div>\n",
              "      <button class=\"colab-df-convert\" onclick=\"convertToInteractive('df-42dcd2cb-8957-48b2-b7df-5981b2be51d1')\"\n",
              "              title=\"Convert this dataframe to an interactive table.\"\n",
              "              style=\"display:none;\">\n",
              "        \n",
              "  <svg xmlns=\"http://www.w3.org/2000/svg\" height=\"24px\"viewBox=\"0 0 24 24\"\n",
              "       width=\"24px\">\n",
              "    <path d=\"M0 0h24v24H0V0z\" fill=\"none\"/>\n",
              "    <path d=\"M18.56 5.44l.94 2.06.94-2.06 2.06-.94-2.06-.94-.94-2.06-.94 2.06-2.06.94zm-11 1L8.5 8.5l.94-2.06 2.06-.94-2.06-.94L8.5 2.5l-.94 2.06-2.06.94zm10 10l.94 2.06.94-2.06 2.06-.94-2.06-.94-.94-2.06-.94 2.06-2.06.94z\"/><path d=\"M17.41 7.96l-1.37-1.37c-.4-.4-.92-.59-1.43-.59-.52 0-1.04.2-1.43.59L10.3 9.45l-7.72 7.72c-.78.78-.78 2.05 0 2.83L4 21.41c.39.39.9.59 1.41.59.51 0 1.02-.2 1.41-.59l7.78-7.78 2.81-2.81c.8-.78.8-2.07 0-2.86zM5.41 20L4 18.59l7.72-7.72 1.47 1.35L5.41 20z\"/>\n",
              "  </svg>\n",
              "      </button>\n",
              "      \n",
              "  <style>\n",
              "    .colab-df-container {\n",
              "      display:flex;\n",
              "      flex-wrap:wrap;\n",
              "      gap: 12px;\n",
              "    }\n",
              "\n",
              "    .colab-df-convert {\n",
              "      background-color: #E8F0FE;\n",
              "      border: none;\n",
              "      border-radius: 50%;\n",
              "      cursor: pointer;\n",
              "      display: none;\n",
              "      fill: #1967D2;\n",
              "      height: 32px;\n",
              "      padding: 0 0 0 0;\n",
              "      width: 32px;\n",
              "    }\n",
              "\n",
              "    .colab-df-convert:hover {\n",
              "      background-color: #E2EBFA;\n",
              "      box-shadow: 0px 1px 2px rgba(60, 64, 67, 0.3), 0px 1px 3px 1px rgba(60, 64, 67, 0.15);\n",
              "      fill: #174EA6;\n",
              "    }\n",
              "\n",
              "    [theme=dark] .colab-df-convert {\n",
              "      background-color: #3B4455;\n",
              "      fill: #D2E3FC;\n",
              "    }\n",
              "\n",
              "    [theme=dark] .colab-df-convert:hover {\n",
              "      background-color: #434B5C;\n",
              "      box-shadow: 0px 1px 3px 1px rgba(0, 0, 0, 0.15);\n",
              "      filter: drop-shadow(0px 1px 2px rgba(0, 0, 0, 0.3));\n",
              "      fill: #FFFFFF;\n",
              "    }\n",
              "  </style>\n",
              "\n",
              "      <script>\n",
              "        const buttonEl =\n",
              "          document.querySelector('#df-42dcd2cb-8957-48b2-b7df-5981b2be51d1 button.colab-df-convert');\n",
              "        buttonEl.style.display =\n",
              "          google.colab.kernel.accessAllowed ? 'block' : 'none';\n",
              "\n",
              "        async function convertToInteractive(key) {\n",
              "          const element = document.querySelector('#df-42dcd2cb-8957-48b2-b7df-5981b2be51d1');\n",
              "          const dataTable =\n",
              "            await google.colab.kernel.invokeFunction('convertToInteractive',\n",
              "                                                     [key], {});\n",
              "          if (!dataTable) return;\n",
              "\n",
              "          const docLinkHtml = 'Like what you see? Visit the ' +\n",
              "            '<a target=\"_blank\" href=https://colab.research.google.com/notebooks/data_table.ipynb>data table notebook</a>'\n",
              "            + ' to learn more about interactive tables.';\n",
              "          element.innerHTML = '';\n",
              "          dataTable['output_type'] = 'display_data';\n",
              "          await google.colab.output.renderOutput(dataTable, element);\n",
              "          const docLink = document.createElement('div');\n",
              "          docLink.innerHTML = docLinkHtml;\n",
              "          element.appendChild(docLink);\n",
              "        }\n",
              "      </script>\n",
              "    </div>\n",
              "  </div>\n",
              "  "
            ]
          },
          "metadata": {},
          "execution_count": 127
        }
      ]
    },
    {
      "cell_type": "code",
      "source": [
        "chi2_contingency(holiday_weather)"
      ],
      "metadata": {
        "colab": {
          "base_uri": "https://localhost:8080/",
          "height": 0
        },
        "id": "16r0cJH4niqv",
        "outputId": "80f3b2da-0681-4181-9322-716291fdc16a"
      },
      "execution_count": 128,
      "outputs": [
        {
          "output_type": "execute_result",
          "data": {
            "text/plain": [
              "(5.406882723976633,\n",
              " 0.7133333220493984,\n",
              " 8,\n",
              " array([[6.98653316e+03, 2.75303601e+03, 8.34459397e+02, 9.71431196e-01,\n",
              "         1.05750000e+04],\n",
              "        [2.05466838e+02, 8.09639904e+01, 2.45406026e+01, 2.85688040e-02,\n",
              "         3.11000000e+02],\n",
              "        [7.19200000e+03, 2.83400000e+03, 8.59000000e+02, 1.00000000e+00,\n",
              "         1.08860000e+04]]))"
            ]
          },
          "metadata": {},
          "execution_count": 128
        }
      ]
    },
    {
      "cell_type": "markdown",
      "source": [
        "***Note*** - Fail to Reject Null Hypothesis because P-value is very high that means it is NOT Statistcally Significant at 90% Confidence also. So, Holiday and Weather are Independent to each other."
      ],
      "metadata": {
        "id": "mR7TWll-n0Dh"
      }
    },
    {
      "cell_type": "markdown",
      "source": [
        "# **ANNOVA**"
      ],
      "metadata": {
        "id": "3gBoRhwZL5ML"
      }
    },
    {
      "cell_type": "markdown",
      "source": [
        "***Season***"
      ],
      "metadata": {
        "id": "g8Mg3c3PQL-V"
      }
    },
    {
      "cell_type": "markdown",
      "source": [
        "***Null Hypothesis*** -  No. of cycles rented is similar for All 4 different Season.\n",
        "\n",
        "***Alternate Hypothesis*** - No. of cycles rented is different for  All 4 different Season."
      ],
      "metadata": {
        "id": "HTcCec6fSQyJ"
      }
    },
    {
      "cell_type": "code",
      "source": [
        "a = df[df[\"season\"] == 1][\"count\"]\n",
        "b = df[df[\"season\"] == 2][\"count\"]\n",
        "c = df[df[\"season\"] == 3][\"count\"]\n",
        "d = df[df[\"season\"] == 4][\"count\"]"
      ],
      "metadata": {
        "id": "kn7yz10DL9Bg"
      },
      "execution_count": 129,
      "outputs": []
    },
    {
      "cell_type": "code",
      "source": [
        "f_oneway(a,b,c,d)"
      ],
      "metadata": {
        "colab": {
          "base_uri": "https://localhost:8080/",
          "height": 0
        },
        "id": "SlPZCc3rNFs2",
        "outputId": "10ef739c-ee98-4b4c-d1f6-9b6a28ee6316"
      },
      "execution_count": 130,
      "outputs": [
        {
          "output_type": "execute_result",
          "data": {
            "text/plain": [
              "F_onewayResult(statistic=236.94671081032106, pvalue=6.164843386499654e-149)"
            ]
          },
          "metadata": {},
          "execution_count": 130
        }
      ]
    },
    {
      "cell_type": "markdown",
      "source": [
        "***Note*** - Reject Null Hypothesis that means it is Statistically Significant at 99% Confidence because P-value is ver low i.e. No. of cycles rented is similar for All 4 different Season."
      ],
      "metadata": {
        "id": "fQCnxSAKNSJd"
      }
    },
    {
      "cell_type": "markdown",
      "source": [
        "***Weather***"
      ],
      "metadata": {
        "id": "-6hsNpD5QO-D"
      }
    },
    {
      "cell_type": "markdown",
      "source": [
        "***Null Hypothesis*** -  No. of cycles rented is similar for All 4 different Weather.\n",
        "\n",
        "***Alternate Hypothesis*** - No. of cycles rented is different for  All 4 different Weather."
      ],
      "metadata": {
        "id": "GsNvBhQ5TiaW"
      }
    },
    {
      "cell_type": "code",
      "source": [
        "w = df[df[\"weather\"] == 1][\"count\"]\n",
        "x = df[df[\"weather\"] == 2][\"count\"]\n",
        "y = df[df[\"weather\"] == 3][\"count\"]\n",
        "z = df[df[\"weather\"] == 4][\"count\"]"
      ],
      "metadata": {
        "id": "vw5PdmMaNtd1"
      },
      "execution_count": 131,
      "outputs": []
    },
    {
      "cell_type": "code",
      "source": [
        "f_oneway(w,x,y,z)"
      ],
      "metadata": {
        "colab": {
          "base_uri": "https://localhost:8080/",
          "height": 0
        },
        "id": "PpOvp66mNOM6",
        "outputId": "83d8b4a6-51a8-4529-f662-c35bbb098987"
      },
      "execution_count": 132,
      "outputs": [
        {
          "output_type": "execute_result",
          "data": {
            "text/plain": [
              "F_onewayResult(statistic=65.53024112793271, pvalue=5.482069475935669e-42)"
            ]
          },
          "metadata": {},
          "execution_count": 132
        }
      ]
    },
    {
      "cell_type": "markdown",
      "source": [
        "***Note*** - Reject Null Hypothesis that means it is Statistically Significant at 99% Confidence because P-value is very low i.e. No. of cycles rented is similar for All 4 different Weather."
      ],
      "metadata": {
        "id": "WqHtqLXRN8KP"
      }
    },
    {
      "cell_type": "markdown",
      "source": [
        "# **2-Sample  T-test** "
      ],
      "metadata": {
        "id": "mpaSzU2mONGG"
      }
    },
    {
      "cell_type": "markdown",
      "source": [
        "**Holiday**"
      ],
      "metadata": {
        "id": "4zyCoLTVSJtG"
      }
    },
    {
      "cell_type": "code",
      "source": [
        "df.groupby([\"holiday\"])[\"count\"].mean()"
      ],
      "metadata": {
        "colab": {
          "base_uri": "https://localhost:8080/",
          "height": 0
        },
        "id": "iLaFxYWqQQl7",
        "outputId": "2c353f34-2365-4b9f-c4c0-9b3c14a79e77"
      },
      "execution_count": 133,
      "outputs": [
        {
          "output_type": "execute_result",
          "data": {
            "text/plain": [
              "holiday\n",
              "0    191.741655\n",
              "1    185.877814\n",
              "Name: count, dtype: float64"
            ]
          },
          "metadata": {},
          "execution_count": 133
        }
      ]
    },
    {
      "cell_type": "code",
      "source": [
        "df.groupby([\"holiday\"])[\"count\"].std()"
      ],
      "metadata": {
        "colab": {
          "base_uri": "https://localhost:8080/",
          "height": 0
        },
        "outputId": "21b752fa-2cbc-4b6d-ab58-46504651df6a",
        "id": "xhdXqAnTQg0W"
      },
      "execution_count": 134,
      "outputs": [
        {
          "output_type": "execute_result",
          "data": {
            "text/plain": [
              "holiday\n",
              "0    181.513131\n",
              "1    168.300531\n",
              "Name: count, dtype: float64"
            ]
          },
          "metadata": {},
          "execution_count": 134
        }
      ]
    },
    {
      "cell_type": "code",
      "source": [
        "df.groupby([\"holiday\"])[\"count\"].max()"
      ],
      "metadata": {
        "colab": {
          "base_uri": "https://localhost:8080/",
          "height": 0
        },
        "outputId": "73372ed0-1f13-41f7-9a87-7c3f197e2134",
        "id": "AfoJXo9fQlgC"
      },
      "execution_count": 135,
      "outputs": [
        {
          "output_type": "execute_result",
          "data": {
            "text/plain": [
              "holiday\n",
              "0    977\n",
              "1    712\n",
              "Name: count, dtype: int64"
            ]
          },
          "metadata": {},
          "execution_count": 135
        }
      ]
    },
    {
      "cell_type": "code",
      "source": [
        "df.groupby([\"holiday\"])[\"count\"].min()"
      ],
      "metadata": {
        "colab": {
          "base_uri": "https://localhost:8080/",
          "height": 0
        },
        "outputId": "c19bbc8b-9ed0-4ee9-af68-a86683bf0db8",
        "id": "tR1mSoe-QrUP"
      },
      "execution_count": 136,
      "outputs": [
        {
          "output_type": "execute_result",
          "data": {
            "text/plain": [
              "holiday\n",
              "0    1\n",
              "1    1\n",
              "Name: count, dtype: int64"
            ]
          },
          "metadata": {},
          "execution_count": 136
        }
      ]
    },
    {
      "cell_type": "code",
      "source": [
        "yes_holiday = df[df[\"holiday\"] == 1]\n",
        "not_holiday = df[df[\"holiday\"] == 0]"
      ],
      "metadata": {
        "id": "lYRvNljSOftZ"
      },
      "execution_count": 137,
      "outputs": []
    },
    {
      "cell_type": "markdown",
      "source": [
        "***Null Hypothesis*** -  Mean of Count of Holiday and Non-Holiday is assume equal i.e. M1 = M2\n",
        "\n",
        "***Alternate Hypothesis*** - Mean of Count of Holiday and Non-Holiday is assume NOT equal i.e. M1 != M2"
      ],
      "metadata": {
        "id": "XaRVhKzNLXSp"
      }
    },
    {
      "cell_type": "code",
      "source": [
        "ttest_ind(yes_holiday[\"count\"] , not_holiday[\"count\"])"
      ],
      "metadata": {
        "colab": {
          "base_uri": "https://localhost:8080/",
          "height": 0
        },
        "id": "ZdPxeI7YPM81",
        "outputId": "2f24721d-6754-4b23-babb-f4996c884c9d"
      },
      "execution_count": 138,
      "outputs": [
        {
          "output_type": "execute_result",
          "data": {
            "text/plain": [
              "Ttest_indResult(statistic=-0.5626388963477119, pvalue=0.5736923883271103)"
            ]
          },
          "metadata": {},
          "execution_count": 138
        }
      ]
    },
    {
      "cell_type": "markdown",
      "source": [
        "***Note*** - Fail to Reject Null Hypothesis because P-value is High. So, we can say it is not statistically significant at 90% Confidence also that means Mean of Count of Holiday and Non-Holiday is equal i.e M1 = M2\n"
      ],
      "metadata": {
        "id": "_fH2ECMcQ6yJ"
      }
    },
    {
      "cell_type": "markdown",
      "source": [
        "***Null Hypothesis*** -  Mean of Count of Holiday and Non-Holiday is assume equal i.e. M1 = M2\n",
        "\n",
        "***Alternate Hypothesis*** - Mean of Count of Holiday is greater than Non-Holiday  i.e. M1 > M2"
      ],
      "metadata": {
        "id": "BgSHv0btNDBw"
      }
    },
    {
      "cell_type": "code",
      "source": [
        "ttest_ind(yes_holiday[\"count\"] , not_holiday[\"count\"] , alternative = \"greater\")"
      ],
      "metadata": {
        "colab": {
          "base_uri": "https://localhost:8080/",
          "height": 0
        },
        "id": "MIbLjFV-RQDc",
        "outputId": "063a5490-18b9-407a-9bf7-686f2da1474b"
      },
      "execution_count": 140,
      "outputs": [
        {
          "output_type": "execute_result",
          "data": {
            "text/plain": [
              "Ttest_indResult(statistic=-0.5626388963477119, pvalue=0.7131538058364448)"
            ]
          },
          "metadata": {},
          "execution_count": 140
        }
      ]
    },
    {
      "cell_type": "markdown",
      "source": [
        "***Note*** - Fail to Reject Null Hypothesis because P-value is High. So, we can say that it is not statistically significant at 90% Confidence also that means Mean of Count of Holiday and Non-Holiday is equal i.e M1 = M2"
      ],
      "metadata": {
        "id": "CaTQbCyIT5sY"
      }
    },
    {
      "cell_type": "markdown",
      "source": [
        "***Null Hypothesis*** -  Mean of Count of Holiday and Non-Holiday is assume equal i.e. M1 = M2\n",
        "\n",
        "***Alternate Hypothesis*** - Mean of Count of Holiday is lesser than Non-Holiday  i.e. M1 < M2"
      ],
      "metadata": {
        "id": "gI3SQzA4NixT"
      }
    },
    {
      "cell_type": "code",
      "source": [
        "ttest_ind(yes_holiday[\"count\"] , not_holiday[\"count\"] , alternative = \"less\")"
      ],
      "metadata": {
        "colab": {
          "base_uri": "https://localhost:8080/",
          "height": 0
        },
        "id": "l3o2O4ubRiW5",
        "outputId": "c2d829dd-2d04-4180-eb7a-91d94eeaf91c"
      },
      "execution_count": 141,
      "outputs": [
        {
          "output_type": "execute_result",
          "data": {
            "text/plain": [
              "Ttest_indResult(statistic=-0.5626388963477119, pvalue=0.28684619416355517)"
            ]
          },
          "metadata": {},
          "execution_count": 141
        }
      ]
    },
    {
      "cell_type": "markdown",
      "source": [
        "***Note*** - Fail to Reject Null Hypothesis because P-value is High. So, we can say that it is not statistically significant at 90% Confidence also that means Mean of Count of Holiday and Non-Holiday is equal i.e M1 = M2"
      ],
      "metadata": {
        "id": "CRrfOtHET6cL"
      }
    },
    {
      "cell_type": "markdown",
      "source": [
        "**Working Day**"
      ],
      "metadata": {
        "id": "0vx5suFaSOO4"
      }
    },
    {
      "cell_type": "code",
      "source": [
        "df.groupby([\"workingday\"])[\"count\"].mean()"
      ],
      "metadata": {
        "colab": {
          "base_uri": "https://localhost:8080/",
          "height": 0
        },
        "id": "MarfmK2ZSSU7",
        "outputId": "b50ac866-c03c-4256-f67f-cc833c4058d4"
      },
      "execution_count": 142,
      "outputs": [
        {
          "output_type": "execute_result",
          "data": {
            "text/plain": [
              "workingday\n",
              "0    188.506621\n",
              "1    193.011873\n",
              "Name: count, dtype: float64"
            ]
          },
          "metadata": {},
          "execution_count": 142
        }
      ]
    },
    {
      "cell_type": "code",
      "source": [
        "df.groupby([\"workingday\"])[\"count\"].std()"
      ],
      "metadata": {
        "colab": {
          "base_uri": "https://localhost:8080/",
          "height": 0
        },
        "id": "7drrUhLpSXoo",
        "outputId": "4b18cc27-48e2-456b-f518-ba3c8ec85d0f"
      },
      "execution_count": 143,
      "outputs": [
        {
          "output_type": "execute_result",
          "data": {
            "text/plain": [
              "workingday\n",
              "0    173.724015\n",
              "1    184.513659\n",
              "Name: count, dtype: float64"
            ]
          },
          "metadata": {},
          "execution_count": 143
        }
      ]
    },
    {
      "cell_type": "code",
      "source": [
        "df.groupby([\"workingday\"])[\"count\"].min()"
      ],
      "metadata": {
        "colab": {
          "base_uri": "https://localhost:8080/",
          "height": 0
        },
        "id": "J_ztcvOkScEE",
        "outputId": "72d282a1-ab15-481d-a38b-7e9ec2f311fc"
      },
      "execution_count": 144,
      "outputs": [
        {
          "output_type": "execute_result",
          "data": {
            "text/plain": [
              "workingday\n",
              "0    1\n",
              "1    1\n",
              "Name: count, dtype: int64"
            ]
          },
          "metadata": {},
          "execution_count": 144
        }
      ]
    },
    {
      "cell_type": "code",
      "source": [
        "df.groupby([\"workingday\"])[\"count\"].max()"
      ],
      "metadata": {
        "colab": {
          "base_uri": "https://localhost:8080/",
          "height": 0
        },
        "id": "dt99Wo9lSe5Q",
        "outputId": "16d25d6b-d4cb-4d4d-f3e6-6157f87066e9"
      },
      "execution_count": 145,
      "outputs": [
        {
          "output_type": "execute_result",
          "data": {
            "text/plain": [
              "workingday\n",
              "0    783\n",
              "1    977\n",
              "Name: count, dtype: int64"
            ]
          },
          "metadata": {},
          "execution_count": 145
        }
      ]
    },
    {
      "cell_type": "code",
      "source": [
        "workingday = df[df[\"workingday\"] == 1]\n",
        "weekendday = df[df[\"workingday\"] == 0]"
      ],
      "metadata": {
        "id": "wMrQEQV_SfTi"
      },
      "execution_count": 146,
      "outputs": []
    },
    {
      "cell_type": "markdown",
      "source": [
        "***Null Hypothesis*** -  Mean of Count of WorkingDay and WeekendDay is assume equal i.e. M1 = M2\n",
        "\n",
        "***Alternate Hypothesis*** - Mean of Count of WorkingDay and WeekendDay is assume NOT equal i.e. M1 != M2"
      ],
      "metadata": {
        "id": "64VJvyEePMPg"
      }
    },
    {
      "cell_type": "code",
      "source": [
        "ttest_ind(workingday[\"count\"] , weekendday[\"count\"])"
      ],
      "metadata": {
        "colab": {
          "base_uri": "https://localhost:8080/",
          "height": 0
        },
        "id": "lpxJtf-JSv31",
        "outputId": "2e32797b-e3da-4eaa-f18f-d9c92cf3ad97"
      },
      "execution_count": 147,
      "outputs": [
        {
          "output_type": "execute_result",
          "data": {
            "text/plain": [
              "Ttest_indResult(statistic=1.2096277376026694, pvalue=0.22644804226361348)"
            ]
          },
          "metadata": {},
          "execution_count": 147
        }
      ]
    },
    {
      "cell_type": "markdown",
      "source": [
        "**Note** - Fail to Reject Null Hypothesis because P-value is High. So, we can say that it is not statistically significant at 90% Confidence also that means Mean of Count of WorkingDay and WeekendDay is equal i.e M1 = M2"
      ],
      "metadata": {
        "id": "YYWsz6JGTMH4"
      }
    },
    {
      "cell_type": "markdown",
      "source": [
        "***Null Hypothesis*** -  Mean of Count of WorkingDay and WeekendDay is assume equal i.e. M1 = M2\n",
        "\n",
        "***Alternate Hypothesis*** - Mean of Count of WorkingDay is greater than WeekendDay  i.e. M1 > M2"
      ],
      "metadata": {
        "id": "iV22K10UP1qM"
      }
    },
    {
      "cell_type": "code",
      "source": [
        "ttest_ind(workingday[\"count\"] , weekendday[\"count\"] , alternative = \"greater\")"
      ],
      "metadata": {
        "colab": {
          "base_uri": "https://localhost:8080/",
          "height": 0
        },
        "id": "i_hMMEoMTCn1",
        "outputId": "b4a57db5-206e-47d6-b146-8a9199c7a5f6"
      },
      "execution_count": 149,
      "outputs": [
        {
          "output_type": "execute_result",
          "data": {
            "text/plain": [
              "Ttest_indResult(statistic=1.2096277376026694, pvalue=0.11322402113180674)"
            ]
          },
          "metadata": {},
          "execution_count": 149
        }
      ]
    },
    {
      "cell_type": "markdown",
      "source": [
        "**Note** - Fail to Reject Null Hypothesis because P-value is High. So, we can say that it is not statistically significant at 90% Confidence also that means Mean of Count of WorkingDay and WeekendDay is equal i.e M1 = M2"
      ],
      "metadata": {
        "id": "ZcffiXaAT9Ho"
      }
    },
    {
      "cell_type": "markdown",
      "source": [
        "***Null Hypothesis*** -  Mean of Count of WorkingDay and WeekendDay is assume equal i.e. M1 = M2\n",
        "\n",
        "***Alternate Hypothesis*** - Mean of Count of WorkingDay is lesser than WeekendDay  i.e. M1 < M2"
      ],
      "metadata": {
        "id": "AgpaMJolQejq"
      }
    },
    {
      "cell_type": "code",
      "source": [
        "ttest_ind(workingday[\"count\"] , weekendday[\"count\"] , alternative = \"less\")"
      ],
      "metadata": {
        "colab": {
          "base_uri": "https://localhost:8080/",
          "height": 0
        },
        "id": "blpd0TBKTy-s",
        "outputId": "6ba6310b-1b51-4397-b14c-8235dc5c0d01"
      },
      "execution_count": 150,
      "outputs": [
        {
          "output_type": "execute_result",
          "data": {
            "text/plain": [
              "Ttest_indResult(statistic=1.2096277376026694, pvalue=0.8867759788681933)"
            ]
          },
          "metadata": {},
          "execution_count": 150
        }
      ]
    },
    {
      "cell_type": "markdown",
      "source": [
        "**Note** - Fail to Reject Null Hypothesis because P-value is High. So, we can say that it is not statistically significant at 90% Confidence also that means Mean of Count of WorkingDay and WeekendDay is equal i.e M1 = M2"
      ],
      "metadata": {
        "id": "SgjRvg36T9kZ"
      }
    }
  ]
}